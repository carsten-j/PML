{
 "cells": [
  {
   "cell_type": "markdown",
   "metadata": {},
   "source": [
    "https://stats.stackexchange.com/questions/437365/pyro-gaussian-processes-regression-achieves-a-low-error-but-then-always-outputs\n",
    "\n",
    "https://docs.gpytorch.ai/en/stable/index.html"
   ]
  },
  {
   "cell_type": "code",
   "execution_count": null,
   "metadata": {},
   "outputs": [],
   "source": [
    "import matplotlib.pyplot as plt\n",
    "import numpy as np\n",
    "import pyro\n",
    "import pyro.contrib.gp as gp\n",
    "import pyro.distributions as dist\n",
    "import torch\n",
    "\n",
    "# pyro.set_rng_seed(98728292)\n"
   ]
  },
  {
   "cell_type": "markdown",
   "metadata": {},
   "source": [
    "# ToDo\n",
    "\n",
    "* Replace g \n",
    "* Replace gen_data\n",
    "* Replace neg_log_likelihood and check Oswin notes\n",
    "* Funktion til at plotte GP med test, trainign, mean og variance\n",
    "\n",
    "* Change kernel to linear + periodic\n",
    "* Check if loss calculation is the same as getting mu and cov from model."
   ]
  },
  {
   "cell_type": "code",
   "execution_count": null,
   "metadata": {},
   "outputs": [],
   "source": [
    "def g(x):\n",
    "    return -(torch.sin(6 * np.pi * x) ** 2) + 6 * x**2 - 5 * x**4 + 3 / 2\n"
   ]
  },
  {
   "cell_type": "code",
   "execution_count": null,
   "metadata": {},
   "outputs": [],
   "source": [
    "def gen_data():\n",
    "    l = 30\n",
    "    x = (torch.arange(1, l + 1) - 1) / (l - 1)\n",
    "    y = g(x) + np.sqrt(0.01) * torch.randn(len(x))\n",
    "    permutation = torch.randperm(len(x))\n",
    "    x_shuffle = x[permutation]\n",
    "    y_shuffle = y[permutation]\n",
    "    x_train = x_shuffle[:20]\n",
    "    y_train = y_shuffle[:20]\n",
    "    x_eval = x_shuffle[20:]\n",
    "    y_eval = y_shuffle[20:]\n",
    "    return x_train, y_train, x_eval, y_eval\n"
   ]
  },
  {
   "cell_type": "code",
   "execution_count": null,
   "metadata": {},
   "outputs": [],
   "source": [
    "def neg_log_likelihood(x, y, GP):\n",
    "    kernel = GP.kernel\n",
    "    noise_y = GP.noise\n",
    "    n = len(y)\n",
    "    K = kernel.forward(x)\n",
    "    like1 = 1 / 2 * y @ torch.linalg.inv(noise_y * torch.eye(n) + K) @ y\n",
    "    like2 = 1 / 2 * torch.log(torch.linalg.det(noise_y * torch.eye(n) + K))\n",
    "    like3 = n / 2 * torch.log(2 * torch.tensor(np.pi))\n",
    "    return like1 + like2 + like3\n"
   ]
  },
  {
   "cell_type": "code",
   "execution_count": null,
   "metadata": {},
   "outputs": [],
   "source": [
    "def neg_likelihood_prior_joint(x, y, GP, priors):\n",
    "    params = [\n",
    "        GP.noise,\n",
    "        kernel.kern0.lengthscale,\n",
    "        kernel.kern0.variance,\n",
    "        kernel.kern1.variance,\n",
    "        kernel.kern1.period,\n",
    "        kernel.kern1.lengthscale,\n",
    "    ]\n",
    "    neg_likelihood = neg_log_likelihood(x, y, GP)\n",
    "    log_prob_prior = torch.tensor(0.0)\n",
    "    for dist, value in zip(priors, params):\n",
    "        log_prob_prior += dist.log_prob(value)\n",
    "    return neg_likelihood - log_prob_prior\n"
   ]
  },
  {
   "cell_type": "markdown",
   "metadata": {},
   "source": [
    "## Plot of generating function $g$"
   ]
  },
  {
   "cell_type": "code",
   "execution_count": null,
   "metadata": {},
   "outputs": [],
   "source": [
    "# Plot of data generating function\n",
    "\n",
    "# fig, ax = plt.subplots(figsize=(10,5))\n",
    "\n",
    "xs = torch.linspace(0, 1.0, 500)\n",
    "ys = g(xs)\n",
    "plt.plot(xs, ys)\n"
   ]
  },
  {
   "cell_type": "markdown",
   "metadata": {},
   "source": [
    "## Perform GP regression with chosen kernel\n",
    "\n",
    "Note this is done for a fixed set of kernel parameters."
   ]
  },
  {
   "cell_type": "code",
   "execution_count": null,
   "metadata": {},
   "outputs": [],
   "source": [
    "x_train, y_train, x_test, y_test = gen_data()\n",
    "\n",
    "# Defining our kernel to draw samples\n",
    "rbf = gp.kernels.RBF(\n",
    "    input_dim=1, variance=torch.tensor(1.0), lengthscale=torch.tensor(0.9)\n",
    ")\n",
    "periodic = gp.kernels.Periodic(\n",
    "    input_dim=1,\n",
    "    period=torch.tensor(0.5),\n",
    "    lengthscale=torch.tensor(1.0),\n",
    "    variance=torch.tensor(1.0),\n",
    ")\n",
    "kernel = gp.kernels.Sum(kern0=rbf, kern1=periodic)\n",
    "gpr = gp.models.GPRegression(x_train, y_train, kernel=kernel, noise=torch.tensor(0.01))\n",
    "\n",
    "# Samples from the GP\n",
    "n_samples = 5\n",
    "n_points = 500\n",
    "xs = torch.linspace(0.0, 1.0, n_points)\n",
    "cov = kernel.forward(xs)\n",
    "samples = dist.MultivariateNormal(\n",
    "    torch.zeros(n_points),\n",
    "    covariance_matrix=cov\n",
    "    + torch.diag(torch.ones(n_points) * 0.0001),  ## ToDo should noise be added here?\n",
    ").sample(sample_shape=(n_samples,))\n",
    "\n",
    "# fig, ax = plt.subplots(figsize=(10,5))\n",
    "\n",
    "for s in samples:\n",
    "    plt.plot(xs, s)\n",
    "# plt.savefig(\"B1_GP_samples.png\")\n"
   ]
  },
  {
   "cell_type": "code",
   "execution_count": null,
   "metadata": {},
   "outputs": [],
   "source": [
    "# Just a quick\n",
    "\n",
    "with torch.no_grad():\n",
    "    mean, cov = gpr(xs, noiseless=False)\n",
    "\n",
    "# fig, ax = plt.subplots(figsize=(10,5))\n",
    "plt.scatter(x_train, y_train)\n",
    "plt.plot(xs, mean)\n",
    "plt.plot(xs, ys)\n",
    "plt.fill_between(\n",
    "    xs,\n",
    "    mean + torch.sqrt(cov) * 2.0,\n",
    "    mean - torch.sqrt(cov) * 2.0,\n",
    "    color=\"blue\",\n",
    "    alpha=0.1,\n",
    "    label=\"95% CI\",\n",
    ")\n"
   ]
  },
  {
   "cell_type": "markdown",
   "metadata": {},
   "source": [
    "## use gradient descent to find optimal hyperparameters $\\theta$"
   ]
  },
  {
   "cell_type": "code",
   "execution_count": null,
   "metadata": {},
   "outputs": [],
   "source": [
    "losses_list = []\n",
    "neg_likelihood_prior_joints_list = []\n",
    "test_loglikelihoods = []\n",
    "GPRs = []\n",
    "# rbf_lengthscale_MAPs = []\n",
    "# rbf_variance_MAPs = []\n",
    "# periodic_period_MAPs = []\n",
    "# periodic_lengthscale_MAPs = []\n",
    "# periodic_variance_MAPs = []\n",
    "# noise_MAPs = []\n",
    "generated_data_list = []\n",
    "\n",
    "smoke_test = True\n",
    "iterations = 20 if not smoke_test else 2\n",
    "\n",
    "for i in range(iterations):\n",
    "    print(\"Beginning iteration\", i)\n",
    "    pyro.clear_param_store()\n",
    "    x_train, y_train, x_test, y_test = gen_data()\n",
    "    generated_data_list.append((x_train, y_train, x_test, y_test))\n",
    "\n",
    "    # Defining our kernels and GP-model\n",
    "    rbf = gp.kernels.RBF(\n",
    "        input_dim=1, variance=torch.tensor(1.0), lengthscale=torch.tensor(0.9)\n",
    "    )\n",
    "    periodic = gp.kernels.Periodic(\n",
    "        input_dim=1,\n",
    "        period=torch.tensor(0.5),\n",
    "        lengthscale=torch.tensor(1.0),\n",
    "        variance=torch.tensor(1.0),\n",
    "    )\n",
    "    kernel = gp.kernels.Sum(kern0=rbf, kern1=periodic)\n",
    "    gpr = gp.models.GPRegression(\n",
    "        x_train, y_train, kernel=kernel, noise=torch.tensor(0.01)\n",
    "    )\n",
    "\n",
    "    # Putting priors on our kernel parameters\n",
    "    gpr.kernel.kern0.lengthscale = pyro.nn.PyroSample(dist.LogNormal(0.0, 1.0))\n",
    "    gpr.kernel.kern0.variance = pyro.nn.PyroSample(dist.LogNormal(1.0, 1.0))\n",
    "    gpr.kernel.kern1.period = pyro.nn.PyroSample(dist.Exponential(4.0))\n",
    "    gpr.kernel.kern1.lengthscale = pyro.nn.PyroSample(dist.LogNormal(0.0, 1.0))\n",
    "    gpr.kernel.kern1.variance = pyro.nn.PyroSample(dist.LogNormal(1.0, 1.0))\n",
    "    gpr.noise = pyro.nn.PyroSample(dist.Gamma(1.0, 1.0))  # Hvad er dette noise til?\n",
    "    priors = [  # disse kan defineres udenfor loop\n",
    "        dist.Gamma(1, 1),\n",
    "        dist.LogNormal(0, 1),\n",
    "        dist.LogNormal(1, 1),\n",
    "        dist.LogNormal(1, 1),\n",
    "        dist.Exponential(4.0),\n",
    "        dist.LogNormal(0, 1),\n",
    "    ]\n",
    "\n",
    "    # SVI with delta distribution as guide\n",
    "    optimizer = torch.optim.Adam(gpr.parameters(), lr=0.001)\n",
    "    loss_fn = pyro.infer.Trace_ELBO().differentiable_loss  # ToDO er der andre loss fns\n",
    "    losses = []\n",
    "    neg_likelihood_prior_joints = []\n",
    "    num_steps = 3000\n",
    "    for i in range(num_steps):  # Brug tqdm\n",
    "        optimizer.zero_grad()\n",
    "        loss = loss_fn(gpr.model, gpr.guide)\n",
    "        loss.backward()\n",
    "        optimizer.step()\n",
    "        losses.append(loss.item())\n",
    "\n",
    "        gpr.set_mode(\"guide\")\n",
    "        neg_likelihood_prior_joints.append(\n",
    "            neg_likelihood_prior_joint(x_train, y_train, gpr, priors).detach().numpy()\n",
    "        )\n",
    "        gpr.set_mode(\"model\")\n",
    "\n",
    "    gpr.set_mode(\"guide\")\n",
    "    losses_list.append(losses)\n",
    "    neg_likelihood_prior_joints_list.append(neg_likelihood_prior_joints)\n",
    "    test_loglikelihoods.append(-neg_log_likelihood(x_test, y_test, gpr))\n",
    "    # rbf_lengthscale_MAPs.append(gpr.kernel.kern0.lengthscale)\n",
    "    # rbf_variance_MAPs.append(gpr.kernel.kern0.variance)\n",
    "    # periodic_period_MAPs.append(gpr.kernel.kern1.period)\n",
    "    # periodic_lengthscale_MAPs.append(gpr.kernel.kern1.lengthscale)\n",
    "    # periodic_variance_MAPs.append(gpr.kernel.kern1.variance)\n",
    "    # noise_MAPs.append(gpr.noise)\n",
    "    GPRs.append(gpr)\n"
   ]
  },
  {
   "cell_type": "code",
   "execution_count": null,
   "metadata": {},
   "outputs": [],
   "source": [
    "plt.figure()\n",
    "plt.xlabel(\"Training steps\")\n",
    "plt.ylabel(\"Loss\")\n",
    "for l in losses_list:\n",
    "    plt.plot(l)\n",
    "\n",
    "# plt.savefig('B1_loss.png')\n"
   ]
  },
  {
   "cell_type": "code",
   "execution_count": null,
   "metadata": {},
   "outputs": [],
   "source": [
    "plt.figure()\n",
    "plt.xlabel(\"Training steps\")\n",
    "plt.ylabel(r\"$-log(p(y, \\theta | X))$\")\n",
    "for l in neg_likelihood_prior_joints_list:\n",
    "    plt.plot(l)\n",
    "\n",
    "# plt.savefig('B1_neg_likelihood_joints.png')\n"
   ]
  },
  {
   "cell_type": "code",
   "execution_count": null,
   "metadata": {},
   "outputs": [],
   "source": [
    "[x.detach().item() for x in test_loglikelihoods]\n",
    "\n",
    "\n",
    "plt.boxplot([x.detach().item() for x in test_loglikelihoods])\n",
    "\n",
    "\n",
    "# Måske histogrammer af MAPs"
   ]
  },
  {
   "cell_type": "code",
   "execution_count": null,
   "metadata": {},
   "outputs": [],
   "source": [
    "for i, gauss_p in enumerate(GPRs):\n",
    "    pyro.clear_param_store()\n",
    "    gauss_p.set_mode(\"guide\")\n",
    "    with torch.no_grad():\n",
    "        mean, cov = gauss_p(xs, noiseless=False)\n",
    "    plt.figure()\n",
    "    plt.scatter(  # ToDo -  Træk ud som funktion\n",
    "        generated_data_list[i][0],\n",
    "        generated_data_list[i][1],\n",
    "        color=\"blue\",\n",
    "        label=\"Train data\",\n",
    "    )  # plot train data\n",
    "    plt.scatter(\n",
    "        generated_data_list[i][2],\n",
    "        generated_data_list[i][3],\n",
    "        color=\"red\",\n",
    "        label=\"Test data\",\n",
    "    )  # plot test data\n",
    "    plt.plot(xs, mean, color=\"blue\", label=\"Prediction mean\")  # plot mean\n",
    "    plt.plot(xs, ys, color=\"orange\", label=r\"$g(x)$\")  # plot g(x)\n",
    "    plt.fill_between(\n",
    "        xs,\n",
    "        mean + torch.sqrt(cov) * 1.95,\n",
    "        mean - torch.sqrt(cov) * 1.95,\n",
    "        color=\"blue\",\n",
    "        alpha=0.1,\n",
    "        label=\"Prediction variance\",\n",
    "    )  # plot var\n",
    "    plt.legend()\n",
    "    if i == 6:\n",
    "        plt.savefig(\"GP_MAP_fit.png\")\n",
    "\n",
    "\n",
    "# Example of train data\n",
    "# plt.scatter(generated_data_list[0][0], generated_data_list[0][1])\n"
   ]
  },
  {
   "cell_type": "code",
   "execution_count": null,
   "metadata": {},
   "outputs": [],
   "source": [
    "GPRs[0].set_mode(\"guide\")\n",
    "print(GPRs[0].kernel.kern0.lengthscale)\n",
    "print(GPRs[0].kernel.kern0.variance)\n",
    "print(GPRs[0].kernel.kern1.period)\n",
    "print(GPRs[0].kernel.kern1.lengthscale)\n",
    "print(GPRs[0].kernel.kern1.variance)\n"
   ]
  }
 ],
 "metadata": {
  "language_info": {
   "name": "python"
  }
 },
 "nbformat": 4,
 "nbformat_minor": 2
}
