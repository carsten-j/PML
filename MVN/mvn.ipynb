{
 "cells": [
  {
   "cell_type": "code",
   "execution_count": null,
   "metadata": {},
   "outputs": [],
   "source": [
    "https://mmuratarat.github.io/2019-10-05/univariate-multivariate_gaussian\n",
    "https://gregorygundersen.com/blog/2020/12/29/multivariate-skew-normal/\n",
    "http://www.statsathome.com/2018/10/27/sampling-from-the-singular-normal/#fnref2\n",
    "https://rinterested.github.io/statistics/multivariate_gaussian.html\n",
    "https://cocalc.com/share/public_paths/7557a5ac1c870f1ec8f01271959b16b49df9d087/05-Multivariate-Gaussians.ipynb\n",
    "\n",
    "https://github.com/peterroelants/peterroelants.github.io/blob/main/notebooks/misc/multivariate-normal-primer.ipynb\n",
    "https://gestalt.ink/gaussians#sources-and-other-materials"
   ]
  }
 ],
 "metadata": {
  "language_info": {
   "name": "python"
  }
 },
 "nbformat": 4,
 "nbformat_minor": 2
}
