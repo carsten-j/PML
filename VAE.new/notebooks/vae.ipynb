{
 "cells": [
  {
   "cell_type": "code",
   "execution_count": 1,
   "metadata": {},
   "outputs": [],
   "source": [
    "import time\n",
    "\n",
    "import matplotlib.pyplot as plt\n",
    "import numpy as np\n",
    "import torch\n",
    "import torch.distributions as tdist\n",
    "import torch.utils.data\n",
    "import torchvision\n",
    "from torch import nn, optim\n",
    "from torch.nn import functional as F\n",
    "from torchvision import datasets\n",
    "from torchvision.transforms import v2\n",
    "from torchvision.utils import save_image\n",
    "from tqdm import tqdm"
   ]
  },
  {
   "cell_type": "code",
   "execution_count": 31,
   "metadata": {},
   "outputs": [],
   "source": [
    "class VAE(nn.Module):\n",
    "    def __init__(self, latent_dim=2, distribution=\"bernoulli\"):\n",
    "        super(VAE, self).__init__()\n",
    "        self.latent_dim = latent_dim\n",
    "        self.distribution = distribution\n",
    "\n",
    "        # Encoder network\n",
    "        # Convolutional layers for Encoder\n",
    "        self.conv1 = nn.Conv2d(\n",
    "            1, 32, kernel_size=4, stride=2, padding=1\n",
    "        )  # Input: (batch, 1, 28, 28) -> Output: (batch, 32, 14, 14)\n",
    "        self.conv2 = nn.Conv2d(\n",
    "            32, 64, kernel_size=4, stride=2, padding=1\n",
    "        )  # Input: (batch, 32, 14, 14) -> Output: (batch, 64, 7, 7)\n",
    "        # Fully connected layers to produce mu and logvar\n",
    "        self.fc_mu = nn.Linear(64 * 7 * 7, latent_dim)\n",
    "        self.fc_logvar = nn.Linear(64 * 7 * 7, latent_dim)\n",
    "\n",
    "        # Decoder network\n",
    "        # Fully connected layer\n",
    "        self.fc = nn.Linear(latent_dim, 64 * 7 * 7)\n",
    "        # Transposed convolutional layers\n",
    "        self.deconv1 = nn.ConvTranspose2d(\n",
    "            64, 32, kernel_size=4, stride=2, padding=1\n",
    "        )  # Input: (batch, 64, 7, 7) -> Output: (batch, 32, 14, 14)\n",
    "        self.deconv2 = nn.ConvTranspose2d(\n",
    "            32, 1, kernel_size=4, stride=2, padding=1\n",
    "        )  # Input: (batch, 32, 14, 14) -> Output: (batch, 1, 28, 28)\n",
    "\n",
    "        self.deconv3 = nn.ConvTranspose2d(\n",
    "            32, 2, kernel_size=4, stride=2, padding=1\n",
    "        )  # Input: (batch, 32, 14, 14) -> Output: (batch, 1, 28, 28)\n",
    "\n",
    "    def encode(self, x):\n",
    "        x = F.relu(self.conv1(x))\n",
    "        x = F.relu(self.conv2(x))\n",
    "        x = x.view(x.size(0), -1)  # Flatten\n",
    "        mu = self.fc_mu(x)\n",
    "        logvar = self.fc_logvar(x)\n",
    "        return mu, logvar\n",
    "\n",
    "    def reparameterize(self, mu, logvar):\n",
    "        std = torch.exp(0.5 * logvar)  # Standard deviation\n",
    "        eps = torch.randn_like(std)  # Random tensor with same shape as std\n",
    "        return mu + eps * std  # Reparameterization trick\n",
    "\n",
    "    def decode(self, z):\n",
    "        x = F.relu(self.fc(z))\n",
    "        x = x.view(-1, 64, 7, 7)  # Reshape\n",
    "        x = F.relu(self.deconv1(x))\n",
    "\n",
    "        if self.distribution != \"gaussian_with_learned_variance\":\n",
    "            x = self.deconv2(x)\n",
    "            return torch.sigmoid(x)\n",
    "        else:\n",
    "            output = self.deconv3(x)\n",
    "            # Split the output into mean and log-variance\n",
    "            mu_x = output[:, 0, :, :]  # Mean of reconstructed image\n",
    "            logvar_x = output[:, 1, :, :]  # Log-variance of reconstructed image\n",
    "            return (torch.sigmoid(mu_x), F.softplus(logvar_x))\n",
    "\n",
    "    def forward(self, x):\n",
    "        mu, logvar = self.encode(x)\n",
    "        z = self.reparameterize(mu, logvar)\n",
    "        recon = self.decode(z)\n",
    "        return recon, mu, logvar"
   ]
  },
  {
   "cell_type": "code",
   "execution_count": 3,
   "metadata": {},
   "outputs": [],
   "source": [
    "# https://github.com/Robert-Aduviri/Continuous-Bernoulli-VAE\n",
    "def sumlogC(x, eps=1e-5):\n",
    "    \"\"\"\n",
    "    Numerically stable implementation of\n",
    "    sum of logarithm of Continous Bernoulli\n",
    "    constant C, using Taylor 2nd degree approximation\n",
    "\n",
    "    Parameter\n",
    "    ----------\n",
    "    x : Tensor of dimensions (batch_size, dim)\n",
    "        x takes values in (0,1)\n",
    "    \"\"\"\n",
    "    x = torch.clamp(x, eps, 1.0 - eps)\n",
    "    mask = torch.abs(x - 0.5).ge(eps)\n",
    "    far = torch.masked_select(x, mask)\n",
    "    close = torch.masked_select(x, ~mask)\n",
    "    far_values = torch.log((torch.log(1.0 - far) - torch.log(far)).div(1.0 - 2.0 * far))\n",
    "    close_values = torch.log(torch.tensor((2.0))) + torch.log(\n",
    "        1.0 + torch.pow(1.0 - 2.0 * close, 2) / 3.0\n",
    "    )\n",
    "    return far_values.sum() + close_values.sum()\n"
   ]
  },
  {
   "cell_type": "code",
   "execution_count": 4,
   "metadata": {},
   "outputs": [],
   "source": [
    "def sumlogC_optimized(x, eps=1e-5):\n",
    "    \"\"\"\n",
    "    Optimized numerically stable implementation of\n",
    "    sum of logarithm of Continuous Bernoulli constant C,\n",
    "    using Taylor 2nd degree approximation.\n",
    "\n",
    "    Parameters\n",
    "    ----------\n",
    "    x : Tensor of dimensions (batch_size, dim)\n",
    "        x takes values in (0,1)\n",
    "    eps : float, optional\n",
    "        Small value to prevent numerical instability near 0 and 1\n",
    "    \"\"\"\n",
    "    # Clamp x to avoid issues with log(0)\n",
    "    x = torch.clamp(x, eps, 1.0 - eps)\n",
    "\n",
    "    # Compute mask for elements far from 0.5\n",
    "    mask = torch.abs(x - 0.5) >= eps\n",
    "\n",
    "    # Precompute constants\n",
    "    log2 = torch.log(torch.tensor(2.0))\n",
    "    one_minus_2x = 1.0 - 2.0 * x\n",
    "\n",
    "    # Compute 'far_values' for elements where |x - 0.5| >= eps\n",
    "    numerator = torch.log1p(-x) - torch.log(x)  # log(1 - x) - log(x)\n",
    "    denominator = one_minus_2x\n",
    "    far_values = torch.log(numerator / denominator)\n",
    "\n",
    "    # Compute 'close_values' using Taylor approximation for elements where |x - 0.5| < eps\n",
    "    close_values = log2 + torch.log(1.0 + (one_minus_2x**2) / 3.0)\n",
    "\n",
    "    # Use torch.where to select appropriate values based on the mask\n",
    "    values = torch.where(mask, far_values, close_values)\n",
    "\n",
    "    # Return the sum of values\n",
    "    return values.sum()\n"
   ]
  },
  {
   "cell_type": "code",
   "execution_count": 5,
   "metadata": {},
   "outputs": [],
   "source": [
    "# this can be used for VAE2, VAE20, CBVAE_Mean\n",
    "def vae_loss(recon_x, x, mu, logvar):\n",
    "    BCE = F.binary_cross_entropy(recon_x, x, reduction=\"sum\")\n",
    "    KLD = -0.5 * torch.sum(1 + logvar - mu.pow(2) - logvar.exp())\n",
    "    # logC = sumlogC(recon_x)\n",
    "    return BCE + KLD  # , logC\n"
   ]
  },
  {
   "cell_type": "code",
   "execution_count": 6,
   "metadata": {},
   "outputs": [],
   "source": [
    "def vae2_loss(recon_x, x, mu, logvar):\n",
    "    BCE = F.binary_cross_entropy(recon_x, x, reduction=\"sum\")\n",
    "    KLD = -0.5 * torch.sum(1 + logvar - mu.pow(2) - logvar.exp())\n",
    "    return BCE, KLD\n"
   ]
  },
  {
   "cell_type": "code",
   "execution_count": 7,
   "metadata": {},
   "outputs": [],
   "source": [
    "def KL_divergence(mu, logvar):\n",
    "    q_z = tdist.Normal(loc=mu, scale=(0.5 * logvar).exp())\n",
    "    p_z = tdist.Normal(loc=torch.zeros_like(mu), scale=torch.ones_like(logvar))\n",
    "    KLD = tdist.kl_divergence(q_z, p_z).sum()\n",
    "    return KLD\n"
   ]
  },
  {
   "cell_type": "code",
   "execution_count": 8,
   "metadata": {},
   "outputs": [],
   "source": [
    "def cb_lambda_loss(recon_x, x, mu, logvar):\n",
    "    tmp = tdist.ContinuousBernoulli(probs=recon_x)\n",
    "    recon_x = tmp.mean\n",
    "    BCE = F.binary_cross_entropy(recon_x, x, reduction=\"sum\")\n",
    "    KLD = -0.5 * torch.sum(1 + logvar - mu.pow(2) - logvar.exp())\n",
    "    logC = sumlogC(recon_x)\n",
    "    return BCE + KLD + logC\n"
   ]
  },
  {
   "cell_type": "code",
   "execution_count": 9,
   "metadata": {},
   "outputs": [],
   "source": [
    "def gaussian_loss(recon_x, x, mu, logvar):\n",
    "    batch_size = x.size(0)\n",
    "    # Flatten recon_x and x to [batch_size, 784]\n",
    "    recon_x = recon_x.view(batch_size, -1)\n",
    "    x = x.view(batch_size, -1)\n",
    "\n",
    "    # Reconstruction loss (assuming a fixed variance, can use MSE)\n",
    "    MSE = F.mse_loss(recon_x, x, reduction=\"sum\")\n",
    "    # MSE /= batch_size  # Normalize by batch size\n",
    "\n",
    "    KLD = -0.5 * torch.sum(1 + logvar - mu.pow(2) - logvar.exp())\n",
    "    return MSE + KLD"
   ]
  },
  {
   "cell_type": "code",
   "execution_count": 10,
   "metadata": {},
   "outputs": [],
   "source": [
    "# def loss_cont_gaussian(recon_x, x, mu, logvar):\n",
    "#     \"\"\"\n",
    "#     Loss function for Gaussian vae\n",
    "#     Described by https://github.com/atinghosh/VAE-pytorch/blob/master/VAE_CNN_Gaussianloss.py\n",
    "#     \"\"\"\n",
    "#     # x = x.view(-1, 784)\n",
    "#     mu_x, sigma = recon_x\n",
    "#     GLL = torch.sum(torch.log(sigma)) + 0.5 * torch.sum(((x - mu_x) / sigma).pow(2))\n",
    "#     KLD = -0.5 * torch.sum(1 + logvar - mu.pow(2) - logvar.exp())\n",
    "#     return KLD + GLL"
   ]
  },
  {
   "cell_type": "code",
   "execution_count": 29,
   "metadata": {},
   "outputs": [],
   "source": [
    "def reconstruction_loss(x_reconstructed_mu, x_reconstructed_logvar, x_true):\n",
    "    # x_true: [batch_size, height, width]\n",
    "    # x_reconstructed_mu: [batch_size, height, width]\n",
    "    # x_reconstructed_logvar: [batch_size, height, width]\n",
    "\n",
    "    # Flatten the images\n",
    "    x_true = x_true.view(x_true.size(0), -1)\n",
    "    x_reconstructed_mu = x_reconstructed_mu.view(x_reconstructed_mu.size(0), -1)\n",
    "    x_reconstructed_logvar = x_reconstructed_logvar.view(\n",
    "        x_reconstructed_logvar.size(0), -1\n",
    "    )\n",
    "\n",
    "    # Compute the negative log-likelihood\n",
    "    recon_loss = 0.5 * torch.sum(\n",
    "        x_reconstructed_logvar\n",
    "        + ((x_true - x_reconstructed_mu) ** 2) / torch.exp(x_reconstructed_logvar)\n",
    "        + torch.log(torch.tensor(2) * torch.pi),  # Sum over pixels\n",
    "    )\n",
    "    return recon_loss  # Mean over the batch\n",
    "\n",
    "\n",
    "def kl_divergence(mu_z, logvar_z):\n",
    "    # mu_z and logvar_z are of shape [batch_size, latent_dim]\n",
    "    kl_div = -0.5 * torch.sum(1 + logvar_z - mu_z.pow(2) - logvar_z.exp())\n",
    "    return kl_div  # Mean over the batch\n",
    "\n",
    "\n",
    "def loss_cont_gaussian(recon_x, x_true, mu_z, logvar_z):\n",
    "    x_reconstructed_mu, x_reconstructed_logvar = recon_x\n",
    "    recon_loss = reconstruction_loss(x_reconstructed_mu, x_reconstructed_logvar, x_true)\n",
    "    kl_loss = kl_divergence(mu_z, logvar_z)\n",
    "    return recon_loss + kl_loss"
   ]
  },
  {
   "cell_type": "code",
   "execution_count": 12,
   "metadata": {},
   "outputs": [],
   "source": [
    "def beta_loss(alphas, betas, x, mu, logvar, beta_reg):\n",
    "    x = x.view(-1, 784)\n",
    "    recon_dist = tdist.Beta(alphas, betas)\n",
    "    recon_x = recon_dist.mean\n",
    "    recon_x = recon_x.view(-1, 784)\n",
    "    BCE = F.binary_cross_entropy(recon_x, x, reduction=\"sum\")\n",
    "    KLD = -0.5 * torch.sum(1 + logvar - mu.pow(2) - logvar.exp())\n",
    "    return BCE + KLD  # + logC\n"
   ]
  },
  {
   "cell_type": "code",
   "execution_count": 13,
   "metadata": {},
   "outputs": [],
   "source": [
    "def loss_fct(recon_x, x, mu, logvar, distribution):\n",
    "    if distribution == \"bernoulli\":\n",
    "        return vae_loss(recon_x, x, mu, logvar)\n",
    "    elif distribution == \"continuous_bernoulli\":\n",
    "        return cb_lambda_loss(recon_x, x, mu, logvar)\n",
    "    elif distribution == \"gaussian\":\n",
    "        return gaussian_loss(recon_x, x, mu, logvar)\n",
    "    elif distribution == \"gaussian_with_learned_variance\":\n",
    "        return loss_cont_gaussian(recon_x, x, mu, logvar)"
   ]
  },
  {
   "cell_type": "code",
   "execution_count": 14,
   "metadata": {},
   "outputs": [],
   "source": [
    "EPOCHS = 100\n",
    "BATCH_SIZE = 128\n",
    "\n",
    "torch.manual_seed(1);\n"
   ]
  },
  {
   "cell_type": "markdown",
   "metadata": {},
   "source": [
    "## Check for GPU or MPS availability. Use CPU if neither is available\n"
   ]
  },
  {
   "cell_type": "code",
   "execution_count": 15,
   "metadata": {},
   "outputs": [
    {
     "name": "stdout",
     "output_type": "stream",
     "text": [
      "Using device: mps\n"
     ]
    }
   ],
   "source": [
    "device = torch.device(\n",
    "    \"cuda\"\n",
    "    if torch.cuda.is_available()\n",
    "    else \"mps\"\n",
    "    if torch.backends.mps.is_available()\n",
    "    else \"cpu\"\n",
    ")\n",
    "print(f\"Using device: {device}\")\n"
   ]
  },
  {
   "cell_type": "code",
   "execution_count": 16,
   "metadata": {},
   "outputs": [],
   "source": [
    "transform = v2.Compose([v2.ToImage(), v2.ToDtype(torch.float32, scale=True)])\n",
    "\n",
    "\n",
    "train_loader = torch.utils.data.DataLoader(\n",
    "    datasets.MNIST(\"../data\", train=True, download=True, transform=transform),\n",
    "    batch_size=BATCH_SIZE,\n",
    "    shuffle=True,\n",
    ")\n",
    "test_loader = torch.utils.data.DataLoader(\n",
    "    datasets.MNIST(\"../data\", train=False, transform=transform),\n",
    "    batch_size=BATCH_SIZE,\n",
    "    shuffle=False,\n",
    ")\n"
   ]
  },
  {
   "cell_type": "code",
   "execution_count": 17,
   "metadata": {},
   "outputs": [],
   "source": [
    "def train(model, optimizer, loss_fn, epoch, distribution):\n",
    "    model.train()\n",
    "    train_loss = 0\n",
    "    for _, (data, _) in enumerate(\n",
    "        tqdm(\n",
    "            train_loader,\n",
    "            desc=f\"Distribution: {distribution} - Training Epoch {epoch}/{EPOCHS}\",\n",
    "        )\n",
    "    ):\n",
    "        data = data.to(device)\n",
    "        optimizer.zero_grad()\n",
    "        recon_batch, mu, logvar = model(data)\n",
    "        loss = loss_fn(recon_batch, data, mu, logvar, distribution)\n",
    "        loss.backward()\n",
    "        train_loss += loss.item()\n",
    "        optimizer.step()\n",
    "\n",
    "    train_loss /= len(train_loader.dataset)\n",
    "    print(f\"Epoch: {epoch} Average loss: {train_loss:.4f}\")\n"
   ]
  },
  {
   "cell_type": "code",
   "execution_count": 18,
   "metadata": {},
   "outputs": [],
   "source": [
    "def test(model, loss_fn, epoch, distribution):\n",
    "    model.eval()\n",
    "    test_loss = 0\n",
    "\n",
    "    with torch.no_grad():\n",
    "        for i, (data, _) in enumerate(\n",
    "            tqdm(\n",
    "                test_loader,\n",
    "                desc=f\"Distribution: {distribution} - Test Epoch {epoch}/{EPOCHS}\",\n",
    "            )\n",
    "        ):\n",
    "            data = data.to(device)\n",
    "\n",
    "            recon_batch, mu, logvar = model(data)\n",
    "            loss = loss_fn(recon_batch, data, mu, logvar, distribution)\n",
    "            test_loss += loss\n",
    "\n",
    "            if i == 0:\n",
    "                n = min(data.size(0), 8)\n",
    "                if distribution == \"gaussian_with_learned_variance\":\n",
    "                    recon_batch = recon_batch[0]\n",
    "                recon_batch = recon_batch.view(128, 1, 28, 28)\n",
    "                comparison = torch.cat([data[:n], recon_batch[:n]])\n",
    "\n",
    "                save_image(\n",
    "                    comparison.cpu(),\n",
    "                    f\"../images/{model.distribution}/reconstruction_\"\n",
    "                    + str(epoch)\n",
    "                    + \".png\",\n",
    "                    nrow=n,\n",
    "                )\n",
    "\n",
    "    test_loss /= len(test_loader.dataset)\n",
    "    print(f\"Test set loss: {test_loss:.4f}\")\n"
   ]
  },
  {
   "cell_type": "code",
   "execution_count": 19,
   "metadata": {},
   "outputs": [],
   "source": [
    "latent_dim = 2\n"
   ]
  },
  {
   "cell_type": "code",
   "execution_count": 32,
   "metadata": {},
   "outputs": [
    {
     "name": "stderr",
     "output_type": "stream",
     "text": [
      "Distribution: gaussian_with_learned_variance - Training Epoch 1/100: 100%|██████████| 469/469 [00:06<00:00, 74.12it/s]\n"
     ]
    },
    {
     "name": "stdout",
     "output_type": "stream",
     "text": [
      "Epoch: 1 Average loss: 756.9374\n"
     ]
    },
    {
     "name": "stderr",
     "output_type": "stream",
     "text": [
      "Distribution: gaussian_with_learned_variance - Test Epoch 1/100: 100%|██████████| 79/79 [00:00<00:00, 171.20it/s]\n"
     ]
    },
    {
     "name": "stdout",
     "output_type": "stream",
     "text": [
      "Test set loss: 745.1084\n"
     ]
    },
    {
     "name": "stderr",
     "output_type": "stream",
     "text": [
      "Distribution: gaussian_with_learned_variance - Training Epoch 2/100: 100%|██████████| 469/469 [00:06<00:00, 78.11it/s]\n"
     ]
    },
    {
     "name": "stdout",
     "output_type": "stream",
     "text": [
      "Epoch: 2 Average loss: 744.0123\n"
     ]
    },
    {
     "name": "stderr",
     "output_type": "stream",
     "text": [
      "Distribution: gaussian_with_learned_variance - Test Epoch 2/100: 100%|██████████| 79/79 [00:00<00:00, 184.38it/s]\n"
     ]
    },
    {
     "name": "stdout",
     "output_type": "stream",
     "text": [
      "Test set loss: 743.4658\n"
     ]
    },
    {
     "name": "stderr",
     "output_type": "stream",
     "text": [
      "Distribution: gaussian_with_learned_variance - Training Epoch 3/100: 100%|██████████| 469/469 [00:06<00:00, 76.02it/s]\n"
     ]
    },
    {
     "name": "stdout",
     "output_type": "stream",
     "text": [
      "Epoch: 3 Average loss: 743.2239\n"
     ]
    },
    {
     "name": "stderr",
     "output_type": "stream",
     "text": [
      "Distribution: gaussian_with_learned_variance - Test Epoch 3/100: 100%|██████████| 79/79 [00:00<00:00, 171.68it/s]\n"
     ]
    },
    {
     "name": "stdout",
     "output_type": "stream",
     "text": [
      "Test set loss: 743.0280\n"
     ]
    },
    {
     "name": "stderr",
     "output_type": "stream",
     "text": [
      "Distribution: gaussian_with_learned_variance - Training Epoch 4/100: 100%|██████████| 469/469 [00:06<00:00, 75.51it/s]\n"
     ]
    },
    {
     "name": "stdout",
     "output_type": "stream",
     "text": [
      "Epoch: 4 Average loss: 742.9330\n"
     ]
    },
    {
     "name": "stderr",
     "output_type": "stream",
     "text": [
      "Distribution: gaussian_with_learned_variance - Test Epoch 4/100: 100%|██████████| 79/79 [00:00<00:00, 174.38it/s]\n"
     ]
    },
    {
     "name": "stdout",
     "output_type": "stream",
     "text": [
      "Test set loss: 742.8679\n"
     ]
    },
    {
     "name": "stderr",
     "output_type": "stream",
     "text": [
      "Distribution: gaussian_with_learned_variance - Training Epoch 5/100: 100%|██████████| 469/469 [00:06<00:00, 75.22it/s]\n"
     ]
    },
    {
     "name": "stdout",
     "output_type": "stream",
     "text": [
      "Epoch: 5 Average loss: 742.7264\n"
     ]
    },
    {
     "name": "stderr",
     "output_type": "stream",
     "text": [
      "Distribution: gaussian_with_learned_variance - Test Epoch 5/100: 100%|██████████| 79/79 [00:00<00:00, 179.94it/s]\n"
     ]
    },
    {
     "name": "stdout",
     "output_type": "stream",
     "text": [
      "Test set loss: 742.9114\n"
     ]
    },
    {
     "name": "stderr",
     "output_type": "stream",
     "text": [
      "Distribution: gaussian_with_learned_variance - Training Epoch 6/100: 100%|██████████| 469/469 [00:06<00:00, 73.48it/s]\n"
     ]
    },
    {
     "name": "stdout",
     "output_type": "stream",
     "text": [
      "Epoch: 6 Average loss: 742.5686\n"
     ]
    },
    {
     "name": "stderr",
     "output_type": "stream",
     "text": [
      "Distribution: gaussian_with_learned_variance - Test Epoch 6/100: 100%|██████████| 79/79 [00:00<00:00, 163.88it/s]\n"
     ]
    },
    {
     "name": "stdout",
     "output_type": "stream",
     "text": [
      "Test set loss: 742.5195\n"
     ]
    },
    {
     "name": "stderr",
     "output_type": "stream",
     "text": [
      "Distribution: gaussian_with_learned_variance - Training Epoch 7/100: 100%|██████████| 469/469 [00:06<00:00, 74.58it/s]\n"
     ]
    },
    {
     "name": "stdout",
     "output_type": "stream",
     "text": [
      "Epoch: 7 Average loss: 742.4168\n"
     ]
    },
    {
     "name": "stderr",
     "output_type": "stream",
     "text": [
      "Distribution: gaussian_with_learned_variance - Test Epoch 7/100: 100%|██████████| 79/79 [00:00<00:00, 183.11it/s]\n"
     ]
    },
    {
     "name": "stdout",
     "output_type": "stream",
     "text": [
      "Test set loss: 742.3929\n"
     ]
    },
    {
     "name": "stderr",
     "output_type": "stream",
     "text": [
      "Distribution: gaussian_with_learned_variance - Training Epoch 8/100: 100%|██████████| 469/469 [00:06<00:00, 74.69it/s]\n"
     ]
    },
    {
     "name": "stdout",
     "output_type": "stream",
     "text": [
      "Epoch: 8 Average loss: 742.3105\n"
     ]
    },
    {
     "name": "stderr",
     "output_type": "stream",
     "text": [
      "Distribution: gaussian_with_learned_variance - Test Epoch 8/100: 100%|██████████| 79/79 [00:00<00:00, 171.73it/s]\n"
     ]
    },
    {
     "name": "stdout",
     "output_type": "stream",
     "text": [
      "Test set loss: 742.2642\n"
     ]
    },
    {
     "name": "stderr",
     "output_type": "stream",
     "text": [
      "Distribution: gaussian_with_learned_variance - Training Epoch 9/100: 100%|██████████| 469/469 [00:06<00:00, 76.28it/s]\n"
     ]
    },
    {
     "name": "stdout",
     "output_type": "stream",
     "text": [
      "Epoch: 9 Average loss: 742.2200\n"
     ]
    },
    {
     "name": "stderr",
     "output_type": "stream",
     "text": [
      "Distribution: gaussian_with_learned_variance - Test Epoch 9/100: 100%|██████████| 79/79 [00:00<00:00, 182.71it/s]\n"
     ]
    },
    {
     "name": "stdout",
     "output_type": "stream",
     "text": [
      "Test set loss: 742.1639\n"
     ]
    },
    {
     "name": "stderr",
     "output_type": "stream",
     "text": [
      "Distribution: gaussian_with_learned_variance - Training Epoch 10/100: 100%|██████████| 469/469 [00:06<00:00, 77.13it/s]\n"
     ]
    },
    {
     "name": "stdout",
     "output_type": "stream",
     "text": [
      "Epoch: 10 Average loss: 742.1303\n"
     ]
    },
    {
     "name": "stderr",
     "output_type": "stream",
     "text": [
      "Distribution: gaussian_with_learned_variance - Test Epoch 10/100: 100%|██████████| 79/79 [00:00<00:00, 184.64it/s]\n"
     ]
    },
    {
     "name": "stdout",
     "output_type": "stream",
     "text": [
      "Test set loss: 742.0744\n"
     ]
    },
    {
     "name": "stderr",
     "output_type": "stream",
     "text": [
      "Distribution: gaussian_with_learned_variance - Training Epoch 11/100: 100%|██████████| 469/469 [00:06<00:00, 76.80it/s]\n"
     ]
    },
    {
     "name": "stdout",
     "output_type": "stream",
     "text": [
      "Epoch: 11 Average loss: 742.0512\n"
     ]
    },
    {
     "name": "stderr",
     "output_type": "stream",
     "text": [
      "Distribution: gaussian_with_learned_variance - Test Epoch 11/100: 100%|██████████| 79/79 [00:00<00:00, 179.43it/s]\n"
     ]
    },
    {
     "name": "stdout",
     "output_type": "stream",
     "text": [
      "Test set loss: 742.0356\n"
     ]
    },
    {
     "name": "stderr",
     "output_type": "stream",
     "text": [
      "Distribution: gaussian_with_learned_variance - Training Epoch 12/100: 100%|██████████| 469/469 [00:06<00:00, 77.14it/s]\n"
     ]
    },
    {
     "name": "stdout",
     "output_type": "stream",
     "text": [
      "Epoch: 12 Average loss: 741.9861\n"
     ]
    },
    {
     "name": "stderr",
     "output_type": "stream",
     "text": [
      "Distribution: gaussian_with_learned_variance - Test Epoch 12/100: 100%|██████████| 79/79 [00:00<00:00, 171.06it/s]\n"
     ]
    },
    {
     "name": "stdout",
     "output_type": "stream",
     "text": [
      "Test set loss: 741.9844\n"
     ]
    },
    {
     "name": "stderr",
     "output_type": "stream",
     "text": [
      "Distribution: gaussian_with_learned_variance - Training Epoch 13/100: 100%|██████████| 469/469 [00:06<00:00, 76.34it/s]\n"
     ]
    },
    {
     "name": "stdout",
     "output_type": "stream",
     "text": [
      "Epoch: 13 Average loss: 741.9108\n"
     ]
    },
    {
     "name": "stderr",
     "output_type": "stream",
     "text": [
      "Distribution: gaussian_with_learned_variance - Test Epoch 13/100: 100%|██████████| 79/79 [00:00<00:00, 180.10it/s]\n"
     ]
    },
    {
     "name": "stdout",
     "output_type": "stream",
     "text": [
      "Test set loss: 741.8463\n"
     ]
    },
    {
     "name": "stderr",
     "output_type": "stream",
     "text": [
      "Distribution: gaussian_with_learned_variance - Training Epoch 14/100: 100%|██████████| 469/469 [00:06<00:00, 77.27it/s]\n"
     ]
    },
    {
     "name": "stdout",
     "output_type": "stream",
     "text": [
      "Epoch: 14 Average loss: 741.8601\n"
     ]
    },
    {
     "name": "stderr",
     "output_type": "stream",
     "text": [
      "Distribution: gaussian_with_learned_variance - Test Epoch 14/100: 100%|██████████| 79/79 [00:00<00:00, 178.04it/s]\n"
     ]
    },
    {
     "name": "stdout",
     "output_type": "stream",
     "text": [
      "Test set loss: 741.8000\n"
     ]
    },
    {
     "name": "stderr",
     "output_type": "stream",
     "text": [
      "Distribution: gaussian_with_learned_variance - Training Epoch 15/100: 100%|██████████| 469/469 [00:06<00:00, 76.99it/s]\n"
     ]
    },
    {
     "name": "stdout",
     "output_type": "stream",
     "text": [
      "Epoch: 15 Average loss: 741.8149\n"
     ]
    },
    {
     "name": "stderr",
     "output_type": "stream",
     "text": [
      "Distribution: gaussian_with_learned_variance - Test Epoch 15/100: 100%|██████████| 79/79 [00:00<00:00, 179.35it/s]\n"
     ]
    },
    {
     "name": "stdout",
     "output_type": "stream",
     "text": [
      "Test set loss: 741.7931\n"
     ]
    },
    {
     "name": "stderr",
     "output_type": "stream",
     "text": [
      "Distribution: gaussian_with_learned_variance - Training Epoch 16/100: 100%|██████████| 469/469 [00:06<00:00, 77.23it/s]\n"
     ]
    },
    {
     "name": "stdout",
     "output_type": "stream",
     "text": [
      "Epoch: 16 Average loss: 741.7880\n"
     ]
    },
    {
     "name": "stderr",
     "output_type": "stream",
     "text": [
      "Distribution: gaussian_with_learned_variance - Test Epoch 16/100: 100%|██████████| 79/79 [00:00<00:00, 172.47it/s]\n"
     ]
    },
    {
     "name": "stdout",
     "output_type": "stream",
     "text": [
      "Test set loss: 741.8387\n"
     ]
    },
    {
     "name": "stderr",
     "output_type": "stream",
     "text": [
      "Distribution: gaussian_with_learned_variance - Training Epoch 17/100: 100%|██████████| 469/469 [00:06<00:00, 76.38it/s]\n"
     ]
    },
    {
     "name": "stdout",
     "output_type": "stream",
     "text": [
      "Epoch: 17 Average loss: 741.7433\n"
     ]
    },
    {
     "name": "stderr",
     "output_type": "stream",
     "text": [
      "Distribution: gaussian_with_learned_variance - Test Epoch 17/100: 100%|██████████| 79/79 [00:00<00:00, 179.84it/s]\n"
     ]
    },
    {
     "name": "stdout",
     "output_type": "stream",
     "text": [
      "Test set loss: 741.7525\n"
     ]
    },
    {
     "name": "stderr",
     "output_type": "stream",
     "text": [
      "Distribution: gaussian_with_learned_variance - Training Epoch 18/100: 100%|██████████| 469/469 [00:06<00:00, 76.60it/s]\n"
     ]
    },
    {
     "name": "stdout",
     "output_type": "stream",
     "text": [
      "Epoch: 18 Average loss: 741.7062\n"
     ]
    },
    {
     "name": "stderr",
     "output_type": "stream",
     "text": [
      "Distribution: gaussian_with_learned_variance - Test Epoch 18/100: 100%|██████████| 79/79 [00:00<00:00, 180.84it/s]\n"
     ]
    },
    {
     "name": "stdout",
     "output_type": "stream",
     "text": [
      "Test set loss: 741.7421\n"
     ]
    },
    {
     "name": "stderr",
     "output_type": "stream",
     "text": [
      "Distribution: gaussian_with_learned_variance - Training Epoch 19/100: 100%|██████████| 469/469 [00:06<00:00, 76.88it/s]\n"
     ]
    },
    {
     "name": "stdout",
     "output_type": "stream",
     "text": [
      "Epoch: 19 Average loss: 741.6688\n"
     ]
    },
    {
     "name": "stderr",
     "output_type": "stream",
     "text": [
      "Distribution: gaussian_with_learned_variance - Test Epoch 19/100: 100%|██████████| 79/79 [00:00<00:00, 179.71it/s]\n"
     ]
    },
    {
     "name": "stdout",
     "output_type": "stream",
     "text": [
      "Test set loss: 741.6716\n"
     ]
    },
    {
     "name": "stderr",
     "output_type": "stream",
     "text": [
      "Distribution: gaussian_with_learned_variance - Training Epoch 20/100: 100%|██████████| 469/469 [00:06<00:00, 75.93it/s]\n"
     ]
    },
    {
     "name": "stdout",
     "output_type": "stream",
     "text": [
      "Epoch: 20 Average loss: 741.6295\n"
     ]
    },
    {
     "name": "stderr",
     "output_type": "stream",
     "text": [
      "Distribution: gaussian_with_learned_variance - Test Epoch 20/100: 100%|██████████| 79/79 [00:00<00:00, 171.31it/s]\n"
     ]
    },
    {
     "name": "stdout",
     "output_type": "stream",
     "text": [
      "Test set loss: 741.7161\n"
     ]
    },
    {
     "name": "stderr",
     "output_type": "stream",
     "text": [
      "Distribution: gaussian_with_learned_variance - Training Epoch 21/100: 100%|██████████| 469/469 [00:06<00:00, 76.13it/s]\n"
     ]
    },
    {
     "name": "stdout",
     "output_type": "stream",
     "text": [
      "Epoch: 21 Average loss: 741.6036\n"
     ]
    },
    {
     "name": "stderr",
     "output_type": "stream",
     "text": [
      "Distribution: gaussian_with_learned_variance - Test Epoch 21/100: 100%|██████████| 79/79 [00:00<00:00, 180.29it/s]\n"
     ]
    },
    {
     "name": "stdout",
     "output_type": "stream",
     "text": [
      "Test set loss: 741.6151\n"
     ]
    },
    {
     "name": "stderr",
     "output_type": "stream",
     "text": [
      "Distribution: gaussian_with_learned_variance - Training Epoch 22/100: 100%|██████████| 469/469 [00:06<00:00, 75.01it/s]\n"
     ]
    },
    {
     "name": "stdout",
     "output_type": "stream",
     "text": [
      "Epoch: 22 Average loss: 741.5766\n"
     ]
    },
    {
     "name": "stderr",
     "output_type": "stream",
     "text": [
      "Distribution: gaussian_with_learned_variance - Test Epoch 22/100: 100%|██████████| 79/79 [00:00<00:00, 179.34it/s]\n"
     ]
    },
    {
     "name": "stdout",
     "output_type": "stream",
     "text": [
      "Test set loss: 741.5806\n"
     ]
    },
    {
     "name": "stderr",
     "output_type": "stream",
     "text": [
      "Distribution: gaussian_with_learned_variance - Training Epoch 23/100: 100%|██████████| 469/469 [00:06<00:00, 75.36it/s]\n"
     ]
    },
    {
     "name": "stdout",
     "output_type": "stream",
     "text": [
      "Epoch: 23 Average loss: 741.5481\n"
     ]
    },
    {
     "name": "stderr",
     "output_type": "stream",
     "text": [
      "Distribution: gaussian_with_learned_variance - Test Epoch 23/100: 100%|██████████| 79/79 [00:00<00:00, 168.39it/s]\n"
     ]
    },
    {
     "name": "stdout",
     "output_type": "stream",
     "text": [
      "Test set loss: 741.5732\n"
     ]
    },
    {
     "name": "stderr",
     "output_type": "stream",
     "text": [
      "Distribution: gaussian_with_learned_variance - Training Epoch 24/100: 100%|██████████| 469/469 [00:06<00:00, 75.97it/s]\n"
     ]
    },
    {
     "name": "stdout",
     "output_type": "stream",
     "text": [
      "Epoch: 24 Average loss: 741.5190\n"
     ]
    },
    {
     "name": "stderr",
     "output_type": "stream",
     "text": [
      "Distribution: gaussian_with_learned_variance - Test Epoch 24/100: 100%|██████████| 79/79 [00:00<00:00, 170.37it/s]\n"
     ]
    },
    {
     "name": "stdout",
     "output_type": "stream",
     "text": [
      "Test set loss: 741.6365\n"
     ]
    },
    {
     "name": "stderr",
     "output_type": "stream",
     "text": [
      "Distribution: gaussian_with_learned_variance - Training Epoch 25/100: 100%|██████████| 469/469 [00:06<00:00, 76.73it/s]\n"
     ]
    },
    {
     "name": "stdout",
     "output_type": "stream",
     "text": [
      "Epoch: 25 Average loss: 741.5071\n"
     ]
    },
    {
     "name": "stderr",
     "output_type": "stream",
     "text": [
      "Distribution: gaussian_with_learned_variance - Test Epoch 25/100: 100%|██████████| 79/79 [00:00<00:00, 178.62it/s]\n"
     ]
    },
    {
     "name": "stdout",
     "output_type": "stream",
     "text": [
      "Test set loss: 741.5998\n"
     ]
    },
    {
     "name": "stderr",
     "output_type": "stream",
     "text": [
      "Distribution: gaussian_with_learned_variance - Training Epoch 26/100: 100%|██████████| 469/469 [00:06<00:00, 75.42it/s]\n"
     ]
    },
    {
     "name": "stdout",
     "output_type": "stream",
     "text": [
      "Epoch: 26 Average loss: 741.4864\n"
     ]
    },
    {
     "name": "stderr",
     "output_type": "stream",
     "text": [
      "Distribution: gaussian_with_learned_variance - Test Epoch 26/100: 100%|██████████| 79/79 [00:00<00:00, 179.20it/s]\n"
     ]
    },
    {
     "name": "stdout",
     "output_type": "stream",
     "text": [
      "Test set loss: 741.5357\n"
     ]
    },
    {
     "name": "stderr",
     "output_type": "stream",
     "text": [
      "Distribution: gaussian_with_learned_variance - Training Epoch 27/100: 100%|██████████| 469/469 [00:06<00:00, 76.04it/s]\n"
     ]
    },
    {
     "name": "stdout",
     "output_type": "stream",
     "text": [
      "Epoch: 27 Average loss: 741.4647\n"
     ]
    },
    {
     "name": "stderr",
     "output_type": "stream",
     "text": [
      "Distribution: gaussian_with_learned_variance - Test Epoch 27/100: 100%|██████████| 79/79 [00:00<00:00, 179.31it/s]\n"
     ]
    },
    {
     "name": "stdout",
     "output_type": "stream",
     "text": [
      "Test set loss: 741.6572\n"
     ]
    },
    {
     "name": "stderr",
     "output_type": "stream",
     "text": [
      "Distribution: gaussian_with_learned_variance - Training Epoch 28/100: 100%|██████████| 469/469 [00:06<00:00, 76.27it/s]\n"
     ]
    },
    {
     "name": "stdout",
     "output_type": "stream",
     "text": [
      "Epoch: 28 Average loss: 741.4296\n"
     ]
    },
    {
     "name": "stderr",
     "output_type": "stream",
     "text": [
      "Distribution: gaussian_with_learned_variance - Test Epoch 28/100: 100%|██████████| 79/79 [00:00<00:00, 169.30it/s]\n"
     ]
    },
    {
     "name": "stdout",
     "output_type": "stream",
     "text": [
      "Test set loss: 741.5220\n"
     ]
    },
    {
     "name": "stderr",
     "output_type": "stream",
     "text": [
      "Distribution: gaussian_with_learned_variance - Training Epoch 29/100: 100%|██████████| 469/469 [00:06<00:00, 75.36it/s]\n"
     ]
    },
    {
     "name": "stdout",
     "output_type": "stream",
     "text": [
      "Epoch: 29 Average loss: 741.3994\n"
     ]
    },
    {
     "name": "stderr",
     "output_type": "stream",
     "text": [
      "Distribution: gaussian_with_learned_variance - Test Epoch 29/100: 100%|██████████| 79/79 [00:00<00:00, 178.47it/s]\n"
     ]
    },
    {
     "name": "stdout",
     "output_type": "stream",
     "text": [
      "Test set loss: 741.4515\n"
     ]
    },
    {
     "name": "stderr",
     "output_type": "stream",
     "text": [
      "Distribution: gaussian_with_learned_variance - Training Epoch 30/100: 100%|██████████| 469/469 [00:06<00:00, 74.56it/s]\n"
     ]
    },
    {
     "name": "stdout",
     "output_type": "stream",
     "text": [
      "Epoch: 30 Average loss: 741.3942\n"
     ]
    },
    {
     "name": "stderr",
     "output_type": "stream",
     "text": [
      "Distribution: gaussian_with_learned_variance - Test Epoch 30/100: 100%|██████████| 79/79 [00:00<00:00, 179.40it/s]\n"
     ]
    },
    {
     "name": "stdout",
     "output_type": "stream",
     "text": [
      "Test set loss: 741.4938\n"
     ]
    },
    {
     "name": "stderr",
     "output_type": "stream",
     "text": [
      "Distribution: gaussian_with_learned_variance - Training Epoch 31/100: 100%|██████████| 469/469 [00:06<00:00, 75.33it/s]\n"
     ]
    },
    {
     "name": "stdout",
     "output_type": "stream",
     "text": [
      "Epoch: 31 Average loss: 741.3890\n"
     ]
    },
    {
     "name": "stderr",
     "output_type": "stream",
     "text": [
      "Distribution: gaussian_with_learned_variance - Test Epoch 31/100: 100%|██████████| 79/79 [00:00<00:00, 179.16it/s]\n"
     ]
    },
    {
     "name": "stdout",
     "output_type": "stream",
     "text": [
      "Test set loss: 741.4991\n"
     ]
    },
    {
     "name": "stderr",
     "output_type": "stream",
     "text": [
      "Distribution: gaussian_with_learned_variance - Training Epoch 32/100: 100%|██████████| 469/469 [00:06<00:00, 74.74it/s]\n"
     ]
    },
    {
     "name": "stdout",
     "output_type": "stream",
     "text": [
      "Epoch: 32 Average loss: 741.3571\n"
     ]
    },
    {
     "name": "stderr",
     "output_type": "stream",
     "text": [
      "Distribution: gaussian_with_learned_variance - Test Epoch 32/100: 100%|██████████| 79/79 [00:00<00:00, 178.58it/s]\n"
     ]
    },
    {
     "name": "stdout",
     "output_type": "stream",
     "text": [
      "Test set loss: 741.4562\n"
     ]
    },
    {
     "name": "stderr",
     "output_type": "stream",
     "text": [
      "Distribution: gaussian_with_learned_variance - Training Epoch 33/100: 100%|██████████| 469/469 [00:06<00:00, 75.04it/s]\n"
     ]
    },
    {
     "name": "stdout",
     "output_type": "stream",
     "text": [
      "Epoch: 33 Average loss: 741.3585\n"
     ]
    },
    {
     "name": "stderr",
     "output_type": "stream",
     "text": [
      "Distribution: gaussian_with_learned_variance - Test Epoch 33/100: 100%|██████████| 79/79 [00:00<00:00, 179.16it/s]\n"
     ]
    },
    {
     "name": "stdout",
     "output_type": "stream",
     "text": [
      "Test set loss: 741.4440\n"
     ]
    },
    {
     "name": "stderr",
     "output_type": "stream",
     "text": [
      "Distribution: gaussian_with_learned_variance - Training Epoch 34/100: 100%|██████████| 469/469 [00:06<00:00, 74.75it/s]\n"
     ]
    },
    {
     "name": "stdout",
     "output_type": "stream",
     "text": [
      "Epoch: 34 Average loss: 741.3345\n"
     ]
    },
    {
     "name": "stderr",
     "output_type": "stream",
     "text": [
      "Distribution: gaussian_with_learned_variance - Test Epoch 34/100: 100%|██████████| 79/79 [00:00<00:00, 171.14it/s]\n"
     ]
    },
    {
     "name": "stdout",
     "output_type": "stream",
     "text": [
      "Test set loss: 741.4656\n"
     ]
    },
    {
     "name": "stderr",
     "output_type": "stream",
     "text": [
      "Distribution: gaussian_with_learned_variance - Training Epoch 35/100: 100%|██████████| 469/469 [00:06<00:00, 74.71it/s]\n"
     ]
    },
    {
     "name": "stdout",
     "output_type": "stream",
     "text": [
      "Epoch: 35 Average loss: 741.3296\n"
     ]
    },
    {
     "name": "stderr",
     "output_type": "stream",
     "text": [
      "Distribution: gaussian_with_learned_variance - Test Epoch 35/100: 100%|██████████| 79/79 [00:00<00:00, 178.05it/s]\n"
     ]
    },
    {
     "name": "stdout",
     "output_type": "stream",
     "text": [
      "Test set loss: 741.4578\n"
     ]
    },
    {
     "name": "stderr",
     "output_type": "stream",
     "text": [
      "Distribution: gaussian_with_learned_variance - Training Epoch 36/100: 100%|██████████| 469/469 [00:06<00:00, 74.89it/s]\n"
     ]
    },
    {
     "name": "stdout",
     "output_type": "stream",
     "text": [
      "Epoch: 36 Average loss: 741.3046\n"
     ]
    },
    {
     "name": "stderr",
     "output_type": "stream",
     "text": [
      "Distribution: gaussian_with_learned_variance - Test Epoch 36/100: 100%|██████████| 79/79 [00:00<00:00, 176.41it/s]\n"
     ]
    },
    {
     "name": "stdout",
     "output_type": "stream",
     "text": [
      "Test set loss: 741.4200\n"
     ]
    },
    {
     "name": "stderr",
     "output_type": "stream",
     "text": [
      "Distribution: gaussian_with_learned_variance - Training Epoch 37/100: 100%|██████████| 469/469 [00:06<00:00, 76.15it/s]\n"
     ]
    },
    {
     "name": "stdout",
     "output_type": "stream",
     "text": [
      "Epoch: 37 Average loss: 741.3026\n"
     ]
    },
    {
     "name": "stderr",
     "output_type": "stream",
     "text": [
      "Distribution: gaussian_with_learned_variance - Test Epoch 37/100: 100%|██████████| 79/79 [00:00<00:00, 178.39it/s]\n"
     ]
    },
    {
     "name": "stdout",
     "output_type": "stream",
     "text": [
      "Test set loss: 741.4355\n"
     ]
    },
    {
     "name": "stderr",
     "output_type": "stream",
     "text": [
      "Distribution: gaussian_with_learned_variance - Training Epoch 38/100: 100%|██████████| 469/469 [00:06<00:00, 75.62it/s]\n"
     ]
    },
    {
     "name": "stdout",
     "output_type": "stream",
     "text": [
      "Epoch: 38 Average loss: 741.2763\n"
     ]
    },
    {
     "name": "stderr",
     "output_type": "stream",
     "text": [
      "Distribution: gaussian_with_learned_variance - Test Epoch 38/100: 100%|██████████| 79/79 [00:00<00:00, 163.19it/s]\n"
     ]
    },
    {
     "name": "stdout",
     "output_type": "stream",
     "text": [
      "Test set loss: 741.3597\n"
     ]
    },
    {
     "name": "stderr",
     "output_type": "stream",
     "text": [
      "Distribution: gaussian_with_learned_variance - Training Epoch 39/100: 100%|██████████| 469/469 [00:06<00:00, 75.87it/s]\n"
     ]
    },
    {
     "name": "stdout",
     "output_type": "stream",
     "text": [
      "Epoch: 39 Average loss: 741.2735\n"
     ]
    },
    {
     "name": "stderr",
     "output_type": "stream",
     "text": [
      "Distribution: gaussian_with_learned_variance - Test Epoch 39/100: 100%|██████████| 79/79 [00:00<00:00, 179.06it/s]\n"
     ]
    },
    {
     "name": "stdout",
     "output_type": "stream",
     "text": [
      "Test set loss: 741.3813\n"
     ]
    },
    {
     "name": "stderr",
     "output_type": "stream",
     "text": [
      "Distribution: gaussian_with_learned_variance - Training Epoch 40/100: 100%|██████████| 469/469 [00:06<00:00, 76.14it/s]\n"
     ]
    },
    {
     "name": "stdout",
     "output_type": "stream",
     "text": [
      "Epoch: 40 Average loss: 741.2457\n"
     ]
    },
    {
     "name": "stderr",
     "output_type": "stream",
     "text": [
      "Distribution: gaussian_with_learned_variance - Test Epoch 40/100: 100%|██████████| 79/79 [00:00<00:00, 179.66it/s]\n"
     ]
    },
    {
     "name": "stdout",
     "output_type": "stream",
     "text": [
      "Test set loss: 741.3766\n"
     ]
    },
    {
     "name": "stderr",
     "output_type": "stream",
     "text": [
      "Distribution: gaussian_with_learned_variance - Training Epoch 41/100: 100%|██████████| 469/469 [00:06<00:00, 75.60it/s]\n"
     ]
    },
    {
     "name": "stdout",
     "output_type": "stream",
     "text": [
      "Epoch: 41 Average loss: 741.2468\n"
     ]
    },
    {
     "name": "stderr",
     "output_type": "stream",
     "text": [
      "Distribution: gaussian_with_learned_variance - Test Epoch 41/100: 100%|██████████| 79/79 [00:00<00:00, 177.43it/s]\n"
     ]
    },
    {
     "name": "stdout",
     "output_type": "stream",
     "text": [
      "Test set loss: 741.4499\n"
     ]
    },
    {
     "name": "stderr",
     "output_type": "stream",
     "text": [
      "Distribution: gaussian_with_learned_variance - Training Epoch 42/100: 100%|██████████| 469/469 [00:06<00:00, 76.01it/s]\n"
     ]
    },
    {
     "name": "stdout",
     "output_type": "stream",
     "text": [
      "Epoch: 42 Average loss: 741.2276\n"
     ]
    },
    {
     "name": "stderr",
     "output_type": "stream",
     "text": [
      "Distribution: gaussian_with_learned_variance - Test Epoch 42/100: 100%|██████████| 79/79 [00:00<00:00, 170.94it/s]\n"
     ]
    },
    {
     "name": "stdout",
     "output_type": "stream",
     "text": [
      "Test set loss: 741.3417\n"
     ]
    },
    {
     "name": "stderr",
     "output_type": "stream",
     "text": [
      "Distribution: gaussian_with_learned_variance - Training Epoch 43/100: 100%|██████████| 469/469 [00:06<00:00, 75.05it/s]\n"
     ]
    },
    {
     "name": "stdout",
     "output_type": "stream",
     "text": [
      "Epoch: 43 Average loss: 741.2260\n"
     ]
    },
    {
     "name": "stderr",
     "output_type": "stream",
     "text": [
      "Distribution: gaussian_with_learned_variance - Test Epoch 43/100: 100%|██████████| 79/79 [00:00<00:00, 179.31it/s]\n"
     ]
    },
    {
     "name": "stdout",
     "output_type": "stream",
     "text": [
      "Test set loss: 741.3214\n"
     ]
    },
    {
     "name": "stderr",
     "output_type": "stream",
     "text": [
      "Distribution: gaussian_with_learned_variance - Training Epoch 44/100: 100%|██████████| 469/469 [00:06<00:00, 75.77it/s]\n"
     ]
    },
    {
     "name": "stdout",
     "output_type": "stream",
     "text": [
      "Epoch: 44 Average loss: 741.2278\n"
     ]
    },
    {
     "name": "stderr",
     "output_type": "stream",
     "text": [
      "Distribution: gaussian_with_learned_variance - Test Epoch 44/100: 100%|██████████| 79/79 [00:00<00:00, 178.89it/s]\n"
     ]
    },
    {
     "name": "stdout",
     "output_type": "stream",
     "text": [
      "Test set loss: 741.3666\n"
     ]
    },
    {
     "name": "stderr",
     "output_type": "stream",
     "text": [
      "Distribution: gaussian_with_learned_variance - Training Epoch 45/100: 100%|██████████| 469/469 [00:06<00:00, 75.06it/s]\n"
     ]
    },
    {
     "name": "stdout",
     "output_type": "stream",
     "text": [
      "Epoch: 45 Average loss: 741.2077\n"
     ]
    },
    {
     "name": "stderr",
     "output_type": "stream",
     "text": [
      "Distribution: gaussian_with_learned_variance - Test Epoch 45/100: 100%|██████████| 79/79 [00:00<00:00, 179.58it/s]\n"
     ]
    },
    {
     "name": "stdout",
     "output_type": "stream",
     "text": [
      "Test set loss: 741.3406\n"
     ]
    },
    {
     "name": "stderr",
     "output_type": "stream",
     "text": [
      "Distribution: gaussian_with_learned_variance - Training Epoch 46/100: 100%|██████████| 469/469 [00:06<00:00, 75.74it/s]\n"
     ]
    },
    {
     "name": "stdout",
     "output_type": "stream",
     "text": [
      "Epoch: 46 Average loss: 741.1845\n"
     ]
    },
    {
     "name": "stderr",
     "output_type": "stream",
     "text": [
      "Distribution: gaussian_with_learned_variance - Test Epoch 46/100: 100%|██████████| 79/79 [00:00<00:00, 171.23it/s]\n"
     ]
    },
    {
     "name": "stdout",
     "output_type": "stream",
     "text": [
      "Test set loss: 741.3866\n"
     ]
    },
    {
     "name": "stderr",
     "output_type": "stream",
     "text": [
      "Distribution: gaussian_with_learned_variance - Training Epoch 47/100: 100%|██████████| 469/469 [00:06<00:00, 75.86it/s]\n"
     ]
    },
    {
     "name": "stdout",
     "output_type": "stream",
     "text": [
      "Epoch: 47 Average loss: 741.1927\n"
     ]
    },
    {
     "name": "stderr",
     "output_type": "stream",
     "text": [
      "Distribution: gaussian_with_learned_variance - Test Epoch 47/100: 100%|██████████| 79/79 [00:00<00:00, 177.16it/s]\n"
     ]
    },
    {
     "name": "stdout",
     "output_type": "stream",
     "text": [
      "Test set loss: 741.3299\n"
     ]
    },
    {
     "name": "stderr",
     "output_type": "stream",
     "text": [
      "Distribution: gaussian_with_learned_variance - Training Epoch 48/100: 100%|██████████| 469/469 [00:06<00:00, 75.23it/s]\n"
     ]
    },
    {
     "name": "stdout",
     "output_type": "stream",
     "text": [
      "Epoch: 48 Average loss: 741.1777\n"
     ]
    },
    {
     "name": "stderr",
     "output_type": "stream",
     "text": [
      "Distribution: gaussian_with_learned_variance - Test Epoch 48/100: 100%|██████████| 79/79 [00:00<00:00, 178.64it/s]\n"
     ]
    },
    {
     "name": "stdout",
     "output_type": "stream",
     "text": [
      "Test set loss: 741.4684\n"
     ]
    },
    {
     "name": "stderr",
     "output_type": "stream",
     "text": [
      "Distribution: gaussian_with_learned_variance - Training Epoch 49/100: 100%|██████████| 469/469 [00:06<00:00, 75.44it/s]\n"
     ]
    },
    {
     "name": "stdout",
     "output_type": "stream",
     "text": [
      "Epoch: 49 Average loss: 741.1488\n"
     ]
    },
    {
     "name": "stderr",
     "output_type": "stream",
     "text": [
      "Distribution: gaussian_with_learned_variance - Test Epoch 49/100: 100%|██████████| 79/79 [00:00<00:00, 179.07it/s]\n"
     ]
    },
    {
     "name": "stdout",
     "output_type": "stream",
     "text": [
      "Test set loss: 741.4274\n"
     ]
    },
    {
     "name": "stderr",
     "output_type": "stream",
     "text": [
      "Distribution: gaussian_with_learned_variance - Training Epoch 50/100: 100%|██████████| 469/469 [00:06<00:00, 74.39it/s]\n"
     ]
    },
    {
     "name": "stdout",
     "output_type": "stream",
     "text": [
      "Epoch: 50 Average loss: 741.1533\n"
     ]
    },
    {
     "name": "stderr",
     "output_type": "stream",
     "text": [
      "Distribution: gaussian_with_learned_variance - Test Epoch 50/100: 100%|██████████| 79/79 [00:00<00:00, 169.69it/s]\n"
     ]
    },
    {
     "name": "stdout",
     "output_type": "stream",
     "text": [
      "Test set loss: 741.3480\n"
     ]
    },
    {
     "name": "stderr",
     "output_type": "stream",
     "text": [
      "Distribution: gaussian_with_learned_variance - Training Epoch 51/100: 100%|██████████| 469/469 [00:06<00:00, 75.19it/s]\n"
     ]
    },
    {
     "name": "stdout",
     "output_type": "stream",
     "text": [
      "Epoch: 51 Average loss: 741.1426\n"
     ]
    },
    {
     "name": "stderr",
     "output_type": "stream",
     "text": [
      "Distribution: gaussian_with_learned_variance - Test Epoch 51/100: 100%|██████████| 79/79 [00:00<00:00, 180.06it/s]\n"
     ]
    },
    {
     "name": "stdout",
     "output_type": "stream",
     "text": [
      "Test set loss: 741.3556\n"
     ]
    },
    {
     "name": "stderr",
     "output_type": "stream",
     "text": [
      "Distribution: gaussian_with_learned_variance - Training Epoch 52/100: 100%|██████████| 469/469 [00:06<00:00, 74.96it/s]\n"
     ]
    },
    {
     "name": "stdout",
     "output_type": "stream",
     "text": [
      "Epoch: 52 Average loss: 741.1385\n"
     ]
    },
    {
     "name": "stderr",
     "output_type": "stream",
     "text": [
      "Distribution: gaussian_with_learned_variance - Test Epoch 52/100: 100%|██████████| 79/79 [00:00<00:00, 177.63it/s]\n"
     ]
    },
    {
     "name": "stdout",
     "output_type": "stream",
     "text": [
      "Test set loss: 741.3126\n"
     ]
    },
    {
     "name": "stderr",
     "output_type": "stream",
     "text": [
      "Distribution: gaussian_with_learned_variance - Training Epoch 53/100: 100%|██████████| 469/469 [00:06<00:00, 75.23it/s]\n"
     ]
    },
    {
     "name": "stdout",
     "output_type": "stream",
     "text": [
      "Epoch: 53 Average loss: 741.1355\n"
     ]
    },
    {
     "name": "stderr",
     "output_type": "stream",
     "text": [
      "Distribution: gaussian_with_learned_variance - Test Epoch 53/100: 100%|██████████| 79/79 [00:00<00:00, 177.87it/s]\n"
     ]
    },
    {
     "name": "stdout",
     "output_type": "stream",
     "text": [
      "Test set loss: 741.3570\n"
     ]
    },
    {
     "name": "stderr",
     "output_type": "stream",
     "text": [
      "Distribution: gaussian_with_learned_variance - Training Epoch 54/100: 100%|██████████| 469/469 [00:06<00:00, 75.24it/s]\n"
     ]
    },
    {
     "name": "stdout",
     "output_type": "stream",
     "text": [
      "Epoch: 54 Average loss: 741.1251\n"
     ]
    },
    {
     "name": "stderr",
     "output_type": "stream",
     "text": [
      "Distribution: gaussian_with_learned_variance - Test Epoch 54/100: 100%|██████████| 79/79 [00:00<00:00, 170.15it/s]\n"
     ]
    },
    {
     "name": "stdout",
     "output_type": "stream",
     "text": [
      "Test set loss: 741.3733\n"
     ]
    },
    {
     "name": "stderr",
     "output_type": "stream",
     "text": [
      "Distribution: gaussian_with_learned_variance - Training Epoch 55/100: 100%|██████████| 469/469 [00:06<00:00, 74.73it/s]\n"
     ]
    },
    {
     "name": "stdout",
     "output_type": "stream",
     "text": [
      "Epoch: 55 Average loss: 741.1091\n"
     ]
    },
    {
     "name": "stderr",
     "output_type": "stream",
     "text": [
      "Distribution: gaussian_with_learned_variance - Test Epoch 55/100: 100%|██████████| 79/79 [00:00<00:00, 178.86it/s]\n"
     ]
    },
    {
     "name": "stdout",
     "output_type": "stream",
     "text": [
      "Test set loss: 741.3764\n"
     ]
    },
    {
     "name": "stderr",
     "output_type": "stream",
     "text": [
      "Distribution: gaussian_with_learned_variance - Training Epoch 56/100: 100%|██████████| 469/469 [00:06<00:00, 76.07it/s]\n"
     ]
    },
    {
     "name": "stdout",
     "output_type": "stream",
     "text": [
      "Epoch: 56 Average loss: 741.1287\n"
     ]
    },
    {
     "name": "stderr",
     "output_type": "stream",
     "text": [
      "Distribution: gaussian_with_learned_variance - Test Epoch 56/100: 100%|██████████| 79/79 [00:00<00:00, 171.84it/s]\n"
     ]
    },
    {
     "name": "stdout",
     "output_type": "stream",
     "text": [
      "Test set loss: 741.3113\n"
     ]
    },
    {
     "name": "stderr",
     "output_type": "stream",
     "text": [
      "Distribution: gaussian_with_learned_variance - Training Epoch 57/100: 100%|██████████| 469/469 [00:06<00:00, 74.88it/s]\n"
     ]
    },
    {
     "name": "stdout",
     "output_type": "stream",
     "text": [
      "Epoch: 57 Average loss: 741.0894\n"
     ]
    },
    {
     "name": "stderr",
     "output_type": "stream",
     "text": [
      "Distribution: gaussian_with_learned_variance - Test Epoch 57/100: 100%|██████████| 79/79 [00:00<00:00, 180.91it/s]\n"
     ]
    },
    {
     "name": "stdout",
     "output_type": "stream",
     "text": [
      "Test set loss: 741.3408\n"
     ]
    },
    {
     "name": "stderr",
     "output_type": "stream",
     "text": [
      "Distribution: gaussian_with_learned_variance - Training Epoch 58/100: 100%|██████████| 469/469 [00:06<00:00, 74.39it/s]\n"
     ]
    },
    {
     "name": "stdout",
     "output_type": "stream",
     "text": [
      "Epoch: 58 Average loss: 741.0931\n"
     ]
    },
    {
     "name": "stderr",
     "output_type": "stream",
     "text": [
      "Distribution: gaussian_with_learned_variance - Test Epoch 58/100: 100%|██████████| 79/79 [00:00<00:00, 169.93it/s]\n"
     ]
    },
    {
     "name": "stdout",
     "output_type": "stream",
     "text": [
      "Test set loss: 741.2712\n"
     ]
    },
    {
     "name": "stderr",
     "output_type": "stream",
     "text": [
      "Distribution: gaussian_with_learned_variance - Training Epoch 59/100: 100%|██████████| 469/469 [00:06<00:00, 74.85it/s]\n"
     ]
    },
    {
     "name": "stdout",
     "output_type": "stream",
     "text": [
      "Epoch: 59 Average loss: 741.0770\n"
     ]
    },
    {
     "name": "stderr",
     "output_type": "stream",
     "text": [
      "Distribution: gaussian_with_learned_variance - Test Epoch 59/100: 100%|██████████| 79/79 [00:00<00:00, 178.73it/s]\n"
     ]
    },
    {
     "name": "stdout",
     "output_type": "stream",
     "text": [
      "Test set loss: 741.3384\n"
     ]
    },
    {
     "name": "stderr",
     "output_type": "stream",
     "text": [
      "Distribution: gaussian_with_learned_variance - Training Epoch 60/100: 100%|██████████| 469/469 [00:06<00:00, 75.14it/s]\n"
     ]
    },
    {
     "name": "stdout",
     "output_type": "stream",
     "text": [
      "Epoch: 60 Average loss: 741.0752\n"
     ]
    },
    {
     "name": "stderr",
     "output_type": "stream",
     "text": [
      "Distribution: gaussian_with_learned_variance - Test Epoch 60/100: 100%|██████████| 79/79 [00:00<00:00, 178.21it/s]\n"
     ]
    },
    {
     "name": "stdout",
     "output_type": "stream",
     "text": [
      "Test set loss: 741.3214\n"
     ]
    },
    {
     "name": "stderr",
     "output_type": "stream",
     "text": [
      "Distribution: gaussian_with_learned_variance - Training Epoch 61/100: 100%|██████████| 469/469 [00:06<00:00, 74.70it/s]\n"
     ]
    },
    {
     "name": "stdout",
     "output_type": "stream",
     "text": [
      "Epoch: 61 Average loss: 741.0717\n"
     ]
    },
    {
     "name": "stderr",
     "output_type": "stream",
     "text": [
      "Distribution: gaussian_with_learned_variance - Test Epoch 61/100: 100%|██████████| 79/79 [00:00<00:00, 178.60it/s]\n"
     ]
    },
    {
     "name": "stdout",
     "output_type": "stream",
     "text": [
      "Test set loss: 741.2888\n"
     ]
    },
    {
     "name": "stderr",
     "output_type": "stream",
     "text": [
      "Distribution: gaussian_with_learned_variance - Training Epoch 62/100: 100%|██████████| 469/469 [00:06<00:00, 75.22it/s]\n"
     ]
    },
    {
     "name": "stdout",
     "output_type": "stream",
     "text": [
      "Epoch: 62 Average loss: 741.0693\n"
     ]
    },
    {
     "name": "stderr",
     "output_type": "stream",
     "text": [
      "Distribution: gaussian_with_learned_variance - Test Epoch 62/100: 100%|██████████| 79/79 [00:00<00:00, 170.74it/s]\n"
     ]
    },
    {
     "name": "stdout",
     "output_type": "stream",
     "text": [
      "Test set loss: 741.4750\n"
     ]
    },
    {
     "name": "stderr",
     "output_type": "stream",
     "text": [
      "Distribution: gaussian_with_learned_variance - Training Epoch 63/100: 100%|██████████| 469/469 [00:06<00:00, 75.15it/s]\n"
     ]
    },
    {
     "name": "stdout",
     "output_type": "stream",
     "text": [
      "Epoch: 63 Average loss: 741.0595\n"
     ]
    },
    {
     "name": "stderr",
     "output_type": "stream",
     "text": [
      "Distribution: gaussian_with_learned_variance - Test Epoch 63/100: 100%|██████████| 79/79 [00:00<00:00, 177.06it/s]\n"
     ]
    },
    {
     "name": "stdout",
     "output_type": "stream",
     "text": [
      "Test set loss: 741.3307\n"
     ]
    },
    {
     "name": "stderr",
     "output_type": "stream",
     "text": [
      "Distribution: gaussian_with_learned_variance - Training Epoch 64/100: 100%|██████████| 469/469 [00:06<00:00, 75.15it/s]\n"
     ]
    },
    {
     "name": "stdout",
     "output_type": "stream",
     "text": [
      "Epoch: 64 Average loss: 741.0574\n"
     ]
    },
    {
     "name": "stderr",
     "output_type": "stream",
     "text": [
      "Distribution: gaussian_with_learned_variance - Test Epoch 64/100: 100%|██████████| 79/79 [00:00<00:00, 178.93it/s]\n"
     ]
    },
    {
     "name": "stdout",
     "output_type": "stream",
     "text": [
      "Test set loss: 741.2762\n"
     ]
    },
    {
     "name": "stderr",
     "output_type": "stream",
     "text": [
      "Distribution: gaussian_with_learned_variance - Training Epoch 65/100: 100%|██████████| 469/469 [00:06<00:00, 75.35it/s]\n"
     ]
    },
    {
     "name": "stdout",
     "output_type": "stream",
     "text": [
      "Epoch: 65 Average loss: 741.0720\n"
     ]
    },
    {
     "name": "stderr",
     "output_type": "stream",
     "text": [
      "Distribution: gaussian_with_learned_variance - Test Epoch 65/100: 100%|██████████| 79/79 [00:00<00:00, 176.00it/s]\n"
     ]
    },
    {
     "name": "stdout",
     "output_type": "stream",
     "text": [
      "Test set loss: 741.2757\n"
     ]
    },
    {
     "name": "stderr",
     "output_type": "stream",
     "text": [
      "Distribution: gaussian_with_learned_variance - Training Epoch 66/100: 100%|██████████| 469/469 [00:06<00:00, 74.59it/s]\n"
     ]
    },
    {
     "name": "stdout",
     "output_type": "stream",
     "text": [
      "Epoch: 66 Average loss: 741.0539\n"
     ]
    },
    {
     "name": "stderr",
     "output_type": "stream",
     "text": [
      "Distribution: gaussian_with_learned_variance - Test Epoch 66/100: 100%|██████████| 79/79 [00:00<00:00, 169.95it/s]\n"
     ]
    },
    {
     "name": "stdout",
     "output_type": "stream",
     "text": [
      "Test set loss: 741.3545\n"
     ]
    },
    {
     "name": "stderr",
     "output_type": "stream",
     "text": [
      "Distribution: gaussian_with_learned_variance - Training Epoch 67/100: 100%|██████████| 469/469 [00:06<00:00, 75.00it/s]\n"
     ]
    },
    {
     "name": "stdout",
     "output_type": "stream",
     "text": [
      "Epoch: 67 Average loss: 741.0354\n"
     ]
    },
    {
     "name": "stderr",
     "output_type": "stream",
     "text": [
      "Distribution: gaussian_with_learned_variance - Test Epoch 67/100: 100%|██████████| 79/79 [00:00<00:00, 177.94it/s]\n"
     ]
    },
    {
     "name": "stdout",
     "output_type": "stream",
     "text": [
      "Test set loss: 741.4719\n"
     ]
    },
    {
     "name": "stderr",
     "output_type": "stream",
     "text": [
      "Distribution: gaussian_with_learned_variance - Training Epoch 68/100: 100%|██████████| 469/469 [00:06<00:00, 74.52it/s]\n"
     ]
    },
    {
     "name": "stdout",
     "output_type": "stream",
     "text": [
      "Epoch: 68 Average loss: 741.0358\n"
     ]
    },
    {
     "name": "stderr",
     "output_type": "stream",
     "text": [
      "Distribution: gaussian_with_learned_variance - Test Epoch 68/100: 100%|██████████| 79/79 [00:00<00:00, 177.47it/s]\n"
     ]
    },
    {
     "name": "stdout",
     "output_type": "stream",
     "text": [
      "Test set loss: 741.2628\n"
     ]
    },
    {
     "name": "stderr",
     "output_type": "stream",
     "text": [
      "Distribution: gaussian_with_learned_variance - Training Epoch 69/100: 100%|██████████| 469/469 [00:06<00:00, 74.32it/s]\n"
     ]
    },
    {
     "name": "stdout",
     "output_type": "stream",
     "text": [
      "Epoch: 69 Average loss: 741.0206\n"
     ]
    },
    {
     "name": "stderr",
     "output_type": "stream",
     "text": [
      "Distribution: gaussian_with_learned_variance - Test Epoch 69/100: 100%|██████████| 79/79 [00:00<00:00, 176.73it/s]\n"
     ]
    },
    {
     "name": "stdout",
     "output_type": "stream",
     "text": [
      "Test set loss: 741.2832\n"
     ]
    },
    {
     "name": "stderr",
     "output_type": "stream",
     "text": [
      "Distribution: gaussian_with_learned_variance - Training Epoch 70/100: 100%|██████████| 469/469 [00:06<00:00, 74.88it/s]\n"
     ]
    },
    {
     "name": "stdout",
     "output_type": "stream",
     "text": [
      "Epoch: 70 Average loss: 741.0201\n"
     ]
    },
    {
     "name": "stderr",
     "output_type": "stream",
     "text": [
      "Distribution: gaussian_with_learned_variance - Test Epoch 70/100: 100%|██████████| 79/79 [00:00<00:00, 171.54it/s]\n"
     ]
    },
    {
     "name": "stdout",
     "output_type": "stream",
     "text": [
      "Test set loss: 741.3101\n"
     ]
    },
    {
     "name": "stderr",
     "output_type": "stream",
     "text": [
      "Distribution: gaussian_with_learned_variance - Training Epoch 71/100: 100%|██████████| 469/469 [00:06<00:00, 70.47it/s]\n"
     ]
    },
    {
     "name": "stdout",
     "output_type": "stream",
     "text": [
      "Epoch: 71 Average loss: 741.0151\n"
     ]
    },
    {
     "name": "stderr",
     "output_type": "stream",
     "text": [
      "Distribution: gaussian_with_learned_variance - Test Epoch 71/100: 100%|██████████| 79/79 [00:00<00:00, 183.48it/s]\n"
     ]
    },
    {
     "name": "stdout",
     "output_type": "stream",
     "text": [
      "Test set loss: 741.3545\n"
     ]
    },
    {
     "name": "stderr",
     "output_type": "stream",
     "text": [
      "Distribution: gaussian_with_learned_variance - Training Epoch 72/100: 100%|██████████| 469/469 [00:06<00:00, 67.34it/s]\n"
     ]
    },
    {
     "name": "stdout",
     "output_type": "stream",
     "text": [
      "Epoch: 72 Average loss: 741.0139\n"
     ]
    },
    {
     "name": "stderr",
     "output_type": "stream",
     "text": [
      "Distribution: gaussian_with_learned_variance - Test Epoch 72/100: 100%|██████████| 79/79 [00:00<00:00, 183.02it/s]\n"
     ]
    },
    {
     "name": "stdout",
     "output_type": "stream",
     "text": [
      "Test set loss: 741.3002\n"
     ]
    },
    {
     "name": "stderr",
     "output_type": "stream",
     "text": [
      "Distribution: gaussian_with_learned_variance - Training Epoch 73/100: 100%|██████████| 469/469 [00:06<00:00, 67.69it/s]\n"
     ]
    },
    {
     "name": "stdout",
     "output_type": "stream",
     "text": [
      "Epoch: 73 Average loss: 741.0018\n"
     ]
    },
    {
     "name": "stderr",
     "output_type": "stream",
     "text": [
      "Distribution: gaussian_with_learned_variance - Test Epoch 73/100: 100%|██████████| 79/79 [00:00<00:00, 172.09it/s]\n"
     ]
    },
    {
     "name": "stdout",
     "output_type": "stream",
     "text": [
      "Test set loss: 741.3223\n"
     ]
    },
    {
     "name": "stderr",
     "output_type": "stream",
     "text": [
      "Distribution: gaussian_with_learned_variance - Training Epoch 74/100: 100%|██████████| 469/469 [00:06<00:00, 67.70it/s]\n"
     ]
    },
    {
     "name": "stdout",
     "output_type": "stream",
     "text": [
      "Epoch: 74 Average loss: 740.9963\n"
     ]
    },
    {
     "name": "stderr",
     "output_type": "stream",
     "text": [
      "Distribution: gaussian_with_learned_variance - Test Epoch 74/100: 100%|██████████| 79/79 [00:00<00:00, 182.46it/s]\n"
     ]
    },
    {
     "name": "stdout",
     "output_type": "stream",
     "text": [
      "Test set loss: 741.3461\n"
     ]
    },
    {
     "name": "stderr",
     "output_type": "stream",
     "text": [
      "Distribution: gaussian_with_learned_variance - Training Epoch 75/100: 100%|██████████| 469/469 [00:06<00:00, 67.62it/s]\n"
     ]
    },
    {
     "name": "stdout",
     "output_type": "stream",
     "text": [
      "Epoch: 75 Average loss: 740.9919\n"
     ]
    },
    {
     "name": "stderr",
     "output_type": "stream",
     "text": [
      "Distribution: gaussian_with_learned_variance - Test Epoch 75/100: 100%|██████████| 79/79 [00:00<00:00, 183.96it/s]\n"
     ]
    },
    {
     "name": "stdout",
     "output_type": "stream",
     "text": [
      "Test set loss: 741.2355\n"
     ]
    },
    {
     "name": "stderr",
     "output_type": "stream",
     "text": [
      "Distribution: gaussian_with_learned_variance - Training Epoch 76/100: 100%|██████████| 469/469 [00:06<00:00, 67.62it/s]\n"
     ]
    },
    {
     "name": "stdout",
     "output_type": "stream",
     "text": [
      "Epoch: 76 Average loss: 740.9861\n"
     ]
    },
    {
     "name": "stderr",
     "output_type": "stream",
     "text": [
      "Distribution: gaussian_with_learned_variance - Test Epoch 76/100: 100%|██████████| 79/79 [00:00<00:00, 169.14it/s]\n"
     ]
    },
    {
     "name": "stdout",
     "output_type": "stream",
     "text": [
      "Test set loss: 741.2087\n"
     ]
    },
    {
     "name": "stderr",
     "output_type": "stream",
     "text": [
      "Distribution: gaussian_with_learned_variance - Training Epoch 77/100: 100%|██████████| 469/469 [00:06<00:00, 67.37it/s]\n"
     ]
    },
    {
     "name": "stdout",
     "output_type": "stream",
     "text": [
      "Epoch: 77 Average loss: 740.9836\n"
     ]
    },
    {
     "name": "stderr",
     "output_type": "stream",
     "text": [
      "Distribution: gaussian_with_learned_variance - Test Epoch 77/100: 100%|██████████| 79/79 [00:00<00:00, 183.63it/s]\n"
     ]
    },
    {
     "name": "stdout",
     "output_type": "stream",
     "text": [
      "Test set loss: 741.2188\n"
     ]
    },
    {
     "name": "stderr",
     "output_type": "stream",
     "text": [
      "Distribution: gaussian_with_learned_variance - Training Epoch 78/100: 100%|██████████| 469/469 [00:06<00:00, 67.83it/s]\n"
     ]
    },
    {
     "name": "stdout",
     "output_type": "stream",
     "text": [
      "Epoch: 78 Average loss: 740.9669\n"
     ]
    },
    {
     "name": "stderr",
     "output_type": "stream",
     "text": [
      "Distribution: gaussian_with_learned_variance - Test Epoch 78/100: 100%|██████████| 79/79 [00:00<00:00, 175.08it/s]\n"
     ]
    },
    {
     "name": "stdout",
     "output_type": "stream",
     "text": [
      "Test set loss: 741.2302\n"
     ]
    },
    {
     "name": "stderr",
     "output_type": "stream",
     "text": [
      "Distribution: gaussian_with_learned_variance - Training Epoch 79/100: 100%|██████████| 469/469 [00:06<00:00, 68.06it/s]\n"
     ]
    },
    {
     "name": "stdout",
     "output_type": "stream",
     "text": [
      "Epoch: 79 Average loss: 740.9739\n"
     ]
    },
    {
     "name": "stderr",
     "output_type": "stream",
     "text": [
      "Distribution: gaussian_with_learned_variance - Test Epoch 79/100: 100%|██████████| 79/79 [00:00<00:00, 183.64it/s]\n"
     ]
    },
    {
     "name": "stdout",
     "output_type": "stream",
     "text": [
      "Test set loss: 741.3489\n"
     ]
    },
    {
     "name": "stderr",
     "output_type": "stream",
     "text": [
      "Distribution: gaussian_with_learned_variance - Training Epoch 80/100: 100%|██████████| 469/469 [00:06<00:00, 68.31it/s]\n"
     ]
    },
    {
     "name": "stdout",
     "output_type": "stream",
     "text": [
      "Epoch: 80 Average loss: 740.9555\n"
     ]
    },
    {
     "name": "stderr",
     "output_type": "stream",
     "text": [
      "Distribution: gaussian_with_learned_variance - Test Epoch 80/100: 100%|██████████| 79/79 [00:00<00:00, 184.20it/s]\n"
     ]
    },
    {
     "name": "stdout",
     "output_type": "stream",
     "text": [
      "Test set loss: 741.2732\n"
     ]
    },
    {
     "name": "stderr",
     "output_type": "stream",
     "text": [
      "Distribution: gaussian_with_learned_variance - Training Epoch 81/100: 100%|██████████| 469/469 [00:06<00:00, 68.96it/s]\n"
     ]
    },
    {
     "name": "stdout",
     "output_type": "stream",
     "text": [
      "Epoch: 81 Average loss: 740.9719\n"
     ]
    },
    {
     "name": "stderr",
     "output_type": "stream",
     "text": [
      "Distribution: gaussian_with_learned_variance - Test Epoch 81/100: 100%|██████████| 79/79 [00:00<00:00, 174.41it/s]\n"
     ]
    },
    {
     "name": "stdout",
     "output_type": "stream",
     "text": [
      "Test set loss: 741.2456\n"
     ]
    },
    {
     "name": "stderr",
     "output_type": "stream",
     "text": [
      "Distribution: gaussian_with_learned_variance - Training Epoch 82/100: 100%|██████████| 469/469 [00:06<00:00, 68.86it/s]\n"
     ]
    },
    {
     "name": "stdout",
     "output_type": "stream",
     "text": [
      "Epoch: 82 Average loss: 740.9580\n"
     ]
    },
    {
     "name": "stderr",
     "output_type": "stream",
     "text": [
      "Distribution: gaussian_with_learned_variance - Test Epoch 82/100: 100%|██████████| 79/79 [00:00<00:00, 179.37it/s]\n"
     ]
    },
    {
     "name": "stdout",
     "output_type": "stream",
     "text": [
      "Test set loss: 741.2327\n"
     ]
    },
    {
     "name": "stderr",
     "output_type": "stream",
     "text": [
      "Distribution: gaussian_with_learned_variance - Training Epoch 83/100: 100%|██████████| 469/469 [00:06<00:00, 67.70it/s]\n"
     ]
    },
    {
     "name": "stdout",
     "output_type": "stream",
     "text": [
      "Epoch: 83 Average loss: 740.9594\n"
     ]
    },
    {
     "name": "stderr",
     "output_type": "stream",
     "text": [
      "Distribution: gaussian_with_learned_variance - Test Epoch 83/100: 100%|██████████| 79/79 [00:00<00:00, 184.69it/s]\n"
     ]
    },
    {
     "name": "stdout",
     "output_type": "stream",
     "text": [
      "Test set loss: 741.2855\n"
     ]
    },
    {
     "name": "stderr",
     "output_type": "stream",
     "text": [
      "Distribution: gaussian_with_learned_variance - Training Epoch 84/100: 100%|██████████| 469/469 [00:06<00:00, 68.23it/s]\n"
     ]
    },
    {
     "name": "stdout",
     "output_type": "stream",
     "text": [
      "Epoch: 84 Average loss: 740.9647\n"
     ]
    },
    {
     "name": "stderr",
     "output_type": "stream",
     "text": [
      "Distribution: gaussian_with_learned_variance - Test Epoch 84/100: 100%|██████████| 79/79 [00:00<00:00, 183.08it/s]\n"
     ]
    },
    {
     "name": "stdout",
     "output_type": "stream",
     "text": [
      "Test set loss: 741.2905\n"
     ]
    },
    {
     "name": "stderr",
     "output_type": "stream",
     "text": [
      "Distribution: gaussian_with_learned_variance - Training Epoch 85/100: 100%|██████████| 469/469 [00:06<00:00, 68.65it/s]\n"
     ]
    },
    {
     "name": "stdout",
     "output_type": "stream",
     "text": [
      "Epoch: 85 Average loss: 740.9392\n"
     ]
    },
    {
     "name": "stderr",
     "output_type": "stream",
     "text": [
      "Distribution: gaussian_with_learned_variance - Test Epoch 85/100: 100%|██████████| 79/79 [00:00<00:00, 175.71it/s]\n"
     ]
    },
    {
     "name": "stdout",
     "output_type": "stream",
     "text": [
      "Test set loss: 741.2268\n"
     ]
    },
    {
     "name": "stderr",
     "output_type": "stream",
     "text": [
      "Distribution: gaussian_with_learned_variance - Training Epoch 86/100: 100%|██████████| 469/469 [00:06<00:00, 68.58it/s]\n"
     ]
    },
    {
     "name": "stdout",
     "output_type": "stream",
     "text": [
      "Epoch: 86 Average loss: 740.9328\n"
     ]
    },
    {
     "name": "stderr",
     "output_type": "stream",
     "text": [
      "Distribution: gaussian_with_learned_variance - Test Epoch 86/100: 100%|██████████| 79/79 [00:00<00:00, 186.28it/s]\n"
     ]
    },
    {
     "name": "stdout",
     "output_type": "stream",
     "text": [
      "Test set loss: 741.3150\n"
     ]
    },
    {
     "name": "stderr",
     "output_type": "stream",
     "text": [
      "Distribution: gaussian_with_learned_variance - Training Epoch 87/100: 100%|██████████| 469/469 [00:06<00:00, 68.56it/s]\n"
     ]
    },
    {
     "name": "stdout",
     "output_type": "stream",
     "text": [
      "Epoch: 87 Average loss: 740.9354\n"
     ]
    },
    {
     "name": "stderr",
     "output_type": "stream",
     "text": [
      "Distribution: gaussian_with_learned_variance - Test Epoch 87/100: 100%|██████████| 79/79 [00:00<00:00, 183.80it/s]\n"
     ]
    },
    {
     "name": "stdout",
     "output_type": "stream",
     "text": [
      "Test set loss: 741.3051\n"
     ]
    },
    {
     "name": "stderr",
     "output_type": "stream",
     "text": [
      "Distribution: gaussian_with_learned_variance - Training Epoch 88/100: 100%|██████████| 469/469 [00:06<00:00, 68.50it/s]\n"
     ]
    },
    {
     "name": "stdout",
     "output_type": "stream",
     "text": [
      "Epoch: 88 Average loss: 740.9236\n"
     ]
    },
    {
     "name": "stderr",
     "output_type": "stream",
     "text": [
      "Distribution: gaussian_with_learned_variance - Test Epoch 88/100: 100%|██████████| 79/79 [00:00<00:00, 185.05it/s]\n"
     ]
    },
    {
     "name": "stdout",
     "output_type": "stream",
     "text": [
      "Test set loss: 741.2057\n"
     ]
    },
    {
     "name": "stderr",
     "output_type": "stream",
     "text": [
      "Distribution: gaussian_with_learned_variance - Training Epoch 89/100: 100%|██████████| 469/469 [00:06<00:00, 68.05it/s]\n"
     ]
    },
    {
     "name": "stdout",
     "output_type": "stream",
     "text": [
      "Epoch: 89 Average loss: 740.9367\n"
     ]
    },
    {
     "name": "stderr",
     "output_type": "stream",
     "text": [
      "Distribution: gaussian_with_learned_variance - Test Epoch 89/100: 100%|██████████| 79/79 [00:00<00:00, 169.17it/s]\n"
     ]
    },
    {
     "name": "stdout",
     "output_type": "stream",
     "text": [
      "Test set loss: 741.2150\n"
     ]
    },
    {
     "name": "stderr",
     "output_type": "stream",
     "text": [
      "Distribution: gaussian_with_learned_variance - Training Epoch 90/100: 100%|██████████| 469/469 [00:06<00:00, 68.36it/s]\n"
     ]
    },
    {
     "name": "stdout",
     "output_type": "stream",
     "text": [
      "Epoch: 90 Average loss: 740.9152\n"
     ]
    },
    {
     "name": "stderr",
     "output_type": "stream",
     "text": [
      "Distribution: gaussian_with_learned_variance - Test Epoch 90/100: 100%|██████████| 79/79 [00:00<00:00, 181.97it/s]\n"
     ]
    },
    {
     "name": "stdout",
     "output_type": "stream",
     "text": [
      "Test set loss: 741.2288\n"
     ]
    },
    {
     "name": "stderr",
     "output_type": "stream",
     "text": [
      "Distribution: gaussian_with_learned_variance - Training Epoch 91/100: 100%|██████████| 469/469 [00:06<00:00, 67.73it/s]\n"
     ]
    },
    {
     "name": "stdout",
     "output_type": "stream",
     "text": [
      "Epoch: 91 Average loss: 740.9154\n"
     ]
    },
    {
     "name": "stderr",
     "output_type": "stream",
     "text": [
      "Distribution: gaussian_with_learned_variance - Test Epoch 91/100: 100%|██████████| 79/79 [00:00<00:00, 182.94it/s]\n"
     ]
    },
    {
     "name": "stdout",
     "output_type": "stream",
     "text": [
      "Test set loss: 741.2010\n"
     ]
    },
    {
     "name": "stderr",
     "output_type": "stream",
     "text": [
      "Distribution: gaussian_with_learned_variance - Training Epoch 92/100: 100%|██████████| 469/469 [00:07<00:00, 66.72it/s]\n"
     ]
    },
    {
     "name": "stdout",
     "output_type": "stream",
     "text": [
      "Epoch: 92 Average loss: 740.9215\n"
     ]
    },
    {
     "name": "stderr",
     "output_type": "stream",
     "text": [
      "Distribution: gaussian_with_learned_variance - Test Epoch 92/100: 100%|██████████| 79/79 [00:00<00:00, 176.02it/s]\n"
     ]
    },
    {
     "name": "stdout",
     "output_type": "stream",
     "text": [
      "Test set loss: 741.2363\n"
     ]
    },
    {
     "name": "stderr",
     "output_type": "stream",
     "text": [
      "Distribution: gaussian_with_learned_variance - Training Epoch 93/100: 100%|██████████| 469/469 [00:06<00:00, 67.34it/s]\n"
     ]
    },
    {
     "name": "stdout",
     "output_type": "stream",
     "text": [
      "Epoch: 93 Average loss: 740.9195\n"
     ]
    },
    {
     "name": "stderr",
     "output_type": "stream",
     "text": [
      "Distribution: gaussian_with_learned_variance - Test Epoch 93/100: 100%|██████████| 79/79 [00:00<00:00, 181.92it/s]\n"
     ]
    },
    {
     "name": "stdout",
     "output_type": "stream",
     "text": [
      "Test set loss: 741.2202\n"
     ]
    },
    {
     "name": "stderr",
     "output_type": "stream",
     "text": [
      "Distribution: gaussian_with_learned_variance - Training Epoch 94/100: 100%|██████████| 469/469 [00:06<00:00, 67.79it/s]\n"
     ]
    },
    {
     "name": "stdout",
     "output_type": "stream",
     "text": [
      "Epoch: 94 Average loss: 740.9122\n"
     ]
    },
    {
     "name": "stderr",
     "output_type": "stream",
     "text": [
      "Distribution: gaussian_with_learned_variance - Test Epoch 94/100: 100%|██████████| 79/79 [00:00<00:00, 182.77it/s]\n"
     ]
    },
    {
     "name": "stdout",
     "output_type": "stream",
     "text": [
      "Test set loss: 741.2551\n"
     ]
    },
    {
     "name": "stderr",
     "output_type": "stream",
     "text": [
      "Distribution: gaussian_with_learned_variance - Training Epoch 95/100: 100%|██████████| 469/469 [00:06<00:00, 68.20it/s]\n"
     ]
    },
    {
     "name": "stdout",
     "output_type": "stream",
     "text": [
      "Epoch: 95 Average loss: 740.9098\n"
     ]
    },
    {
     "name": "stderr",
     "output_type": "stream",
     "text": [
      "Distribution: gaussian_with_learned_variance - Test Epoch 95/100: 100%|██████████| 79/79 [00:00<00:00, 173.57it/s]\n"
     ]
    },
    {
     "name": "stdout",
     "output_type": "stream",
     "text": [
      "Test set loss: 741.2140\n"
     ]
    },
    {
     "name": "stderr",
     "output_type": "stream",
     "text": [
      "Distribution: gaussian_with_learned_variance - Training Epoch 96/100: 100%|██████████| 469/469 [00:06<00:00, 68.01it/s]\n"
     ]
    },
    {
     "name": "stdout",
     "output_type": "stream",
     "text": [
      "Epoch: 96 Average loss: 740.9098\n"
     ]
    },
    {
     "name": "stderr",
     "output_type": "stream",
     "text": [
      "Distribution: gaussian_with_learned_variance - Test Epoch 96/100: 100%|██████████| 79/79 [00:00<00:00, 183.72it/s]\n"
     ]
    },
    {
     "name": "stdout",
     "output_type": "stream",
     "text": [
      "Test set loss: 741.2434\n"
     ]
    },
    {
     "name": "stderr",
     "output_type": "stream",
     "text": [
      "Distribution: gaussian_with_learned_variance - Training Epoch 97/100: 100%|██████████| 469/469 [00:06<00:00, 67.64it/s]\n"
     ]
    },
    {
     "name": "stdout",
     "output_type": "stream",
     "text": [
      "Epoch: 97 Average loss: 740.8989\n"
     ]
    },
    {
     "name": "stderr",
     "output_type": "stream",
     "text": [
      "Distribution: gaussian_with_learned_variance - Test Epoch 97/100: 100%|██████████| 79/79 [00:00<00:00, 182.37it/s]\n"
     ]
    },
    {
     "name": "stdout",
     "output_type": "stream",
     "text": [
      "Test set loss: 741.2554\n"
     ]
    },
    {
     "name": "stderr",
     "output_type": "stream",
     "text": [
      "Distribution: gaussian_with_learned_variance - Training Epoch 98/100: 100%|██████████| 469/469 [00:06<00:00, 69.38it/s]\n"
     ]
    },
    {
     "name": "stdout",
     "output_type": "stream",
     "text": [
      "Epoch: 98 Average loss: 740.8918\n"
     ]
    },
    {
     "name": "stderr",
     "output_type": "stream",
     "text": [
      "Distribution: gaussian_with_learned_variance - Test Epoch 98/100: 100%|██████████| 79/79 [00:00<00:00, 176.27it/s]\n"
     ]
    },
    {
     "name": "stdout",
     "output_type": "stream",
     "text": [
      "Test set loss: 741.2433\n"
     ]
    },
    {
     "name": "stderr",
     "output_type": "stream",
     "text": [
      "Distribution: gaussian_with_learned_variance - Training Epoch 99/100: 100%|██████████| 469/469 [00:06<00:00, 69.01it/s]\n"
     ]
    },
    {
     "name": "stdout",
     "output_type": "stream",
     "text": [
      "Epoch: 99 Average loss: 740.9115\n"
     ]
    },
    {
     "name": "stderr",
     "output_type": "stream",
     "text": [
      "Distribution: gaussian_with_learned_variance - Test Epoch 99/100: 100%|██████████| 79/79 [00:00<00:00, 182.64it/s]\n"
     ]
    },
    {
     "name": "stdout",
     "output_type": "stream",
     "text": [
      "Test set loss: 741.2128\n"
     ]
    },
    {
     "name": "stderr",
     "output_type": "stream",
     "text": [
      "Distribution: gaussian_with_learned_variance - Training Epoch 100/100: 100%|██████████| 469/469 [00:06<00:00, 69.39it/s]\n"
     ]
    },
    {
     "name": "stdout",
     "output_type": "stream",
     "text": [
      "Epoch: 100 Average loss: 740.8976\n"
     ]
    },
    {
     "name": "stderr",
     "output_type": "stream",
     "text": [
      "Distribution: gaussian_with_learned_variance - Test Epoch 100/100: 100%|██████████| 79/79 [00:00<00:00, 184.81it/s]"
     ]
    },
    {
     "name": "stdout",
     "output_type": "stream",
     "text": [
      "Test set loss: 741.2595\n"
     ]
    },
    {
     "name": "stderr",
     "output_type": "stream",
     "text": [
      "\n"
     ]
    }
   ],
   "source": [
    "distributions = [\n",
    "    \"gaussian_with_learned_variance\",\n",
    "    # \"gaussian\",\n",
    "    # \"bernoulli\",\n",
    "    # \"continuous_bernoulli\",\n",
    "]\n",
    "\n",
    "for distribution in distributions:\n",
    "    model = VAE(latent_dim=latent_dim, distribution=distribution).to(device)\n",
    "    optimizer = optim.Adam(model.parameters(), lr=1e-3)\n",
    "\n",
    "    for epoch in range(1, EPOCHS + 1):\n",
    "        train(model, optimizer, loss_fct, epoch, model.distribution)\n",
    "        test(model, loss_fct, epoch, model.distribution)\n",
    "        if distribution != \"gaussian_with_learned_variance\":\n",
    "            with torch.no_grad():\n",
    "                sample = torch.randn(64, latent_dim).to(device)\n",
    "                sample = model.decode(sample).cpu()\n",
    "                save_image(\n",
    "                    sample.view(64, 1, 28, 28),\n",
    "                    f\"../images/{model.distribution}/sample_\" + str(epoch) + \".png\",\n",
    "                )\n",
    "\n",
    "    timestr = time.strftime(\"%Y%m%d-%H%M%S\")\n",
    "    torch.save(model, f\"../models/{model.distribution}_{timestr}.pt\")\n"
   ]
  },
  {
   "cell_type": "code",
   "execution_count": 42,
   "metadata": {},
   "outputs": [
    {
     "name": "stderr",
     "output_type": "stream",
     "text": [
      "/var/folders/fy/zx0sb02j5rv66mcpx65ldmvc0000gn/T/ipykernel_90304/840857010.py:23: FutureWarning: You are using `torch.load` with `weights_only=False` (the current default value), which uses the default pickle module implicitly. It is possible to construct malicious pickle data which will execute arbitrary code during unpickling (See https://github.com/pytorch/pytorch/blob/main/SECURITY.md#untrusted-models for more details). In a future release, the default value for `weights_only` will be flipped to `True`. This limits the functions that could be executed during unpickling. Arbitrary objects will no longer be allowed to be loaded via this mode unless they are explicitly allowlisted by the user via `torch.serialization.add_safe_globals`. We recommend you start setting `weights_only=True` for any use case where you don't have full control of the loaded file. Please open an issue on GitHub for any issues related to this experimental feature.\n",
      "  model_vae = torch.load(\"../models/bernoulli_20250105-170534.pt\")\n",
      "/var/folders/fy/zx0sb02j5rv66mcpx65ldmvc0000gn/T/ipykernel_90304/840857010.py:24: FutureWarning: You are using `torch.load` with `weights_only=False` (the current default value), which uses the default pickle module implicitly. It is possible to construct malicious pickle data which will execute arbitrary code during unpickling (See https://github.com/pytorch/pytorch/blob/main/SECURITY.md#untrusted-models for more details). In a future release, the default value for `weights_only` will be flipped to `True`. This limits the functions that could be executed during unpickling. Arbitrary objects will no longer be allowed to be loaded via this mode unless they are explicitly allowlisted by the user via `torch.serialization.add_safe_globals`. We recommend you start setting `weights_only=True` for any use case where you don't have full control of the loaded file. Please open an issue on GitHub for any issues related to this experimental feature.\n",
      "  model_cbvae = torch.load(\"../models/continuous_bernoulli_20250105-172440.pt\")\n",
      "/var/folders/fy/zx0sb02j5rv66mcpx65ldmvc0000gn/T/ipykernel_90304/840857010.py:25: FutureWarning: You are using `torch.load` with `weights_only=False` (the current default value), which uses the default pickle module implicitly. It is possible to construct malicious pickle data which will execute arbitrary code during unpickling (See https://github.com/pytorch/pytorch/blob/main/SECURITY.md#untrusted-models for more details). In a future release, the default value for `weights_only` will be flipped to `True`. This limits the functions that could be executed during unpickling. Arbitrary objects will no longer be allowed to be loaded via this mode unless they are explicitly allowlisted by the user via `torch.serialization.add_safe_globals`. We recommend you start setting `weights_only=True` for any use case where you don't have full control of the loaded file. Please open an issue on GitHub for any issues related to this experimental feature.\n",
      "  model_gvae = torch.load(\"../models/gaussian_20250105-180253.pt\")\n",
      "/var/folders/fy/zx0sb02j5rv66mcpx65ldmvc0000gn/T/ipykernel_90304/840857010.py:26: FutureWarning: You are using `torch.load` with `weights_only=False` (the current default value), which uses the default pickle module implicitly. It is possible to construct malicious pickle data which will execute arbitrary code during unpickling (See https://github.com/pytorch/pytorch/blob/main/SECURITY.md#untrusted-models for more details). In a future release, the default value for `weights_only` will be flipped to `True`. This limits the functions that could be executed during unpickling. Arbitrary objects will no longer be allowed to be loaded via this mode unless they are explicitly allowlisted by the user via `torch.serialization.add_safe_globals`. We recommend you start setting `weights_only=True` for any use case where you don't have full control of the loaded file. Please open an issue on GitHub for any issues related to this experimental feature.\n",
      "  model_gvvae = torch.load(\"../models/gaussian_with_learned_variance_20250105-185346.pt\")\n"
     ]
    },
    {
     "data": {
      "image/png": "[encoded data removed]",
      "text/plain": [
       "<Figure size 700x700 with 1 Axes>"
      ]
     },
     "metadata": {},
     "output_type": "display_data"
    },
    {
     "data": {
      "image/png": "[encoded data removed]",
      "text/plain": [
       "<Figure size 700x700 with 1 Axes>"
      ]
     },
     "metadata": {},
     "output_type": "display_data"
    },
    {
     "data": {
      "image/png": "[encoded data removed]",
      "text/plain": [
       "<Figure size 700x700 with 1 Axes>"
      ]
     },
     "metadata": {},
     "output_type": "display_data"
    },
    {
     "data": {
      "image/png": "[encoded data removed]",
      "text/plain": [
       "<Figure size 700x700 with 1 Axes>"
      ]
     },
     "metadata": {},
     "output_type": "display_data"
    },
    {
     "data": {
      "image/png": "[encoded data removed]",
      "text/plain": [
       "<Figure size 700x700 with 1 Axes>"
      ]
     },
     "metadata": {},
     "output_type": "display_data"
    }
   ],
   "source": [
    "def imshow(img, title=\"MNIST Samples\"):\n",
    "    npimg = img.numpy()\n",
    "    plt.figure(figsize=(7, 7))\n",
    "    plt.title(title, fontsize=20)\n",
    "    plt.axis(\"off\")\n",
    "    plt.imshow(np.transpose(npimg, (1, 2, 0)), interpolation=\"nearest\")\n",
    "\n",
    "\n",
    "# Visualize dataset\n",
    "dataiter = iter(test_loader)\n",
    "mnist_images, mnist_labels = next(dataiter)\n",
    "\n",
    "\n",
    "model_vae = VAE(latent_dim=latent_dim, distribution=\"bernoulli\").to(device)\n",
    "model_cbvae = VAE(latent_dim=latent_dim, distribution=\"continuous_bernoulli\").to(device)\n",
    "model_gvae = VAE(latent_dim=latent_dim, distribution=\"gaussian\").to(device)\n",
    "model_gvvae = VAE(\n",
    "    latent_dim=latent_dim, distribution=\"gaussian_with_learned_variance\"\n",
    ").to(device)\n",
    "\n",
    "\n",
    "# Load models\n",
    "model_vae = torch.load(\"../models/bernoulli_20250105-170534.pt\")\n",
    "model_cbvae = torch.load(\"../models/continuous_bernoulli_20250105-172440.pt\")\n",
    "model_gvae = torch.load(\"../models/gaussian_20250105-180253.pt\")\n",
    "model_gvvae = torch.load(\"../models/gaussian_with_learned_variance_20250105-185346.pt\")\n",
    "\n",
    "# Sample from models\n",
    "model_vae.eval()\n",
    "model_cbvae.eval()\n",
    "model_gvae.eval()\n",
    "model_gvvae.eval()\n",
    "\n",
    "num_samples = 12\n",
    "\n",
    "z = torch.randn(num_samples, 2).to(device)\n",
    "sample_cbvae = model_cbvae.decode(z).cpu().view(num_samples, 1, 28, 28).detach()\n",
    "sample_vae = model_vae.decode(z).cpu().view(num_samples, 1, 28, 28).detach()\n",
    "sample_gvae = model_gvae.decode(z).cpu().view(num_samples, 1, 28, 28).detach()\n",
    "\n",
    "\n",
    "mu_x, logvar_x = model_gvvae.decode(z)\n",
    "# Step 3: Sample x ~ N(μ_x, diag(σ_x^2))\n",
    "std_x = torch.exp(0.5 * logvar_x)\n",
    "eps = torch.randn_like(logvar_x)\n",
    "x_sampled = mu_x + eps * logvar_x\n",
    "# x_sampled = torch.sigmoid(x_sampled)\n",
    "sample_gvvae = x_sampled.cpu().view(num_samples, 1, 28, 28).detach()\n",
    "\n",
    "# Plot\n",
    "\n",
    "imshow(\n",
    "    torchvision.utils.make_grid(mnist_images[:num_samples], num_samples),\n",
    "    r\"MNIST Data Samples\",\n",
    ")\n",
    "imshow(\n",
    "    torchvision.utils.make_grid(sample_cbvae[:num_samples], num_samples),\n",
    "    r\"Samples from $\\mathcal{CB}$-VAE\",\n",
    ")\n",
    "imshow(\n",
    "    torchvision.utils.make_grid(sample_vae[:num_samples], num_samples),\n",
    "    r\"Samples from $\\mathcal{B}$-VAE\",\n",
    ")\n",
    "imshow(\n",
    "    torchvision.utils.make_grid(sample_gvae[:num_samples], num_samples),\n",
    "    r\"Samples from $\\mathcal{G}$-VAE\",\n",
    ")\n",
    "imshow(\n",
    "    torchvision.utils.make_grid(sample_gvvae[:num_samples], num_samples),\n",
    "    r\"Samples from $\\mathcal{G}$-VAE learned variance\",\n",
    ")"
   ]
  },
  {
   "cell_type": "code",
   "execution_count": null,
   "metadata": {},
   "outputs": [],
   "source": []
  }
 ],
 "metadata": {
  "kernelspec": {
   "display_name": ".venv",
   "language": "python",
   "name": "python3"
  },
  "language_info": {
   "codemirror_mode": {
    "name": "ipython",
    "version": 3
   },
   "file_extension": ".py",
   "mimetype": "text/x-python",
   "name": "python",
   "nbconvert_exporter": "python",
   "pygments_lexer": "ipython3",
   "version": "3.12.8"
  }
 },
 "nbformat": 4,
 "nbformat_minor": 2
}
