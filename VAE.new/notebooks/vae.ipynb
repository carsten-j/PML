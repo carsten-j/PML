{
 "cells": [
  {
   "cell_type": "code",
   "execution_count": 203,
   "metadata": {},
   "outputs": [],
   "source": [
    "import time\n",
    "\n",
    "import matplotlib.pyplot as plt\n",
    "import numpy as np\n",
    "import torch\n",
    "import torch.distributions as tdist\n",
    "import torch.utils.data\n",
    "import torchvision\n",
    "from torch import nn, optim\n",
    "from torch.nn import functional as F\n",
    "from torchvision import datasets\n",
    "from torchvision.transforms import v2\n",
    "from torchvision.utils import save_image\n",
    "from tqdm import tqdm"
   ]
  },
  {
   "cell_type": "code",
   "execution_count": 204,
   "metadata": {},
   "outputs": [],
   "source": [
    "class VAE(nn.Module):\n",
    "    def __init__(self, latent_dim=2, distribution=\"bernoulli\"):\n",
    "        super(VAE, self).__init__()\n",
    "        self.latent_dim = latent_dim\n",
    "        self.distribution = distribution\n",
    "\n",
    "        # Encoder network\n",
    "        # Convolutional layers for Encoder\n",
    "        self.conv1 = nn.Conv2d(\n",
    "            1, 32, kernel_size=4, stride=2, padding=1\n",
    "        )  # Input: (batch, 1, 28, 28) -> Output: (batch, 32, 14, 14)\n",
    "        self.conv2 = nn.Conv2d(\n",
    "            32, 64, kernel_size=4, stride=2, padding=1\n",
    "        )  # Input: (batch, 32, 14, 14) -> Output: (batch, 64, 7, 7)\n",
    "        # Fully connected layers to produce mu and logvar\n",
    "        self.fc_mu = nn.Linear(64 * 7 * 7, latent_dim)\n",
    "        self.fc_logvar = nn.Linear(64 * 7 * 7, latent_dim)\n",
    "\n",
    "        # Decoder network\n",
    "        # Fully connected layer\n",
    "        self.fc = nn.Linear(latent_dim, 64 * 7 * 7)\n",
    "        # Transposed convolutional layers\n",
    "        self.deconv1 = nn.ConvTranspose2d(\n",
    "            64, 32, kernel_size=4, stride=2, padding=1\n",
    "        )  # Input: (batch, 64, 7, 7) -> Output: (batch, 32, 14, 14)\n",
    "        self.deconv2 = nn.ConvTranspose2d(\n",
    "            32, 1, kernel_size=4, stride=2, padding=1\n",
    "        )  # Input: (batch, 32, 14, 14) -> Output: (batch, 1, 28, 28)\n",
    "\n",
    "    def encode(self, x):\n",
    "        x = F.relu(self.conv1(x))\n",
    "        x = F.relu(self.conv2(x))\n",
    "        x = x.view(x.size(0), -1)  # Flatten\n",
    "        mu = self.fc_mu(x)\n",
    "        logvar = self.fc_logvar(x)\n",
    "        return mu, logvar\n",
    "\n",
    "    def reparameterize(self, mu, logvar):\n",
    "        std = torch.exp(0.5 * logvar)  # Standard deviation\n",
    "        eps = torch.randn_like(std)  # Random tensor with same shape as std\n",
    "        return mu + eps * std  # Reparameterization trick\n",
    "\n",
    "    def decode(self, z):\n",
    "        x = F.relu(self.fc(z))\n",
    "        x = x.view(-1, 64, 7, 7)  # Reshape\n",
    "        x = F.relu(self.deconv1(x))\n",
    "        x = self.deconv2(x)\n",
    "        if self.distribution == \"bernoulli\":\n",
    "            return torch.sigmoid(x)\n",
    "        if self.distribution == \"continuous_bernoulli\":\n",
    "            return torch.sigmoid(x)\n",
    "        elif self.distribution == \"gaussian\":\n",
    "            return torch.sigmoid(x)\n",
    "        elif self.distribution == \"gaussian_with_learned_variance\":\n",
    "            recon_mu = torch.sigmoid(x)\n",
    "            recon_logvar = torch.sigmoid(x)\n",
    "            # Apply softplus activation to ensure positive variance\n",
    "\n",
    "            #        - **Unbounded `recon_logvar`**: The decoder outputs `recon_logvar` without any activation function, meaning it can take any real value, including large negative values.\n",
    "            # - **Small Variance**: Large negative values of `recon_logvar` correspond to extremely small variances after applying the exponential function.\n",
    "            # - **High PDF Values**: With very small variances, the Gaussian PDF becomes extremely peaked, leading to high values for `log_prob` when the input `x` is close to `recon_mu`.\n",
    "            # - **Negative NLL**: This results in negative values for the NLL, which is unexpected since the NLL should be non-negative in practical scenarios.\n",
    "            #   - **Softplus Function**: \\( \\text{softplus}(x) = \\ln(1 + e^{x}) \\), which outputs values greater than 0 for real inputs.\n",
    "            # recon_logvar = F.softplus(recon_logvar)\n",
    "            return recon_mu, recon_logvar\n",
    "        else:\n",
    "            raise ValueError(\"Invalid distribution\")\n",
    "\n",
    "    def forward(self, x):\n",
    "        mu, logvar = self.encode(x)\n",
    "        z = self.reparameterize(mu, logvar)\n",
    "        recon = self.decode(z)\n",
    "        return recon, mu, logvar"
   ]
  },
  {
   "cell_type": "code",
   "execution_count": 205,
   "metadata": {},
   "outputs": [],
   "source": [
    "# https://github.com/Robert-Aduviri/Continuous-Bernoulli-VAE\n",
    "def sumlogC(x, eps=1e-5):\n",
    "    \"\"\"\n",
    "    Numerically stable implementation of\n",
    "    sum of logarithm of Continous Bernoulli\n",
    "    constant C, using Taylor 2nd degree approximation\n",
    "\n",
    "    Parameter\n",
    "    ----------\n",
    "    x : Tensor of dimensions (batch_size, dim)\n",
    "        x takes values in (0,1)\n",
    "    \"\"\"\n",
    "    x = torch.clamp(x, eps, 1.0 - eps)\n",
    "    mask = torch.abs(x - 0.5).ge(eps)\n",
    "    far = torch.masked_select(x, mask)\n",
    "    close = torch.masked_select(x, ~mask)\n",
    "    far_values = torch.log((torch.log(1.0 - far) - torch.log(far)).div(1.0 - 2.0 * far))\n",
    "    close_values = torch.log(torch.tensor((2.0))) + torch.log(\n",
    "        1.0 + torch.pow(1.0 - 2.0 * close, 2) / 3.0\n",
    "    )\n",
    "    return far_values.sum() + close_values.sum()\n"
   ]
  },
  {
   "cell_type": "code",
   "execution_count": 206,
   "metadata": {},
   "outputs": [],
   "source": [
    "def sumlogC_optimized(x, eps=1e-5):\n",
    "    \"\"\"\n",
    "    Optimized numerically stable implementation of\n",
    "    sum of logarithm of Continuous Bernoulli constant C,\n",
    "    using Taylor 2nd degree approximation.\n",
    "\n",
    "    Parameters\n",
    "    ----------\n",
    "    x : Tensor of dimensions (batch_size, dim)\n",
    "        x takes values in (0,1)\n",
    "    eps : float, optional\n",
    "        Small value to prevent numerical instability near 0 and 1\n",
    "    \"\"\"\n",
    "    # Clamp x to avoid issues with log(0)\n",
    "    x = torch.clamp(x, eps, 1.0 - eps)\n",
    "\n",
    "    # Compute mask for elements far from 0.5\n",
    "    mask = torch.abs(x - 0.5) >= eps\n",
    "\n",
    "    # Precompute constants\n",
    "    log2 = torch.log(torch.tensor(2.0))\n",
    "    one_minus_2x = 1.0 - 2.0 * x\n",
    "\n",
    "    # Compute 'far_values' for elements where |x - 0.5| >= eps\n",
    "    numerator = torch.log1p(-x) - torch.log(x)  # log(1 - x) - log(x)\n",
    "    denominator = one_minus_2x\n",
    "    far_values = torch.log(numerator / denominator)\n",
    "\n",
    "    # Compute 'close_values' using Taylor approximation for elements where |x - 0.5| < eps\n",
    "    close_values = log2 + torch.log(1.0 + (one_minus_2x**2) / 3.0)\n",
    "\n",
    "    # Use torch.where to select appropriate values based on the mask\n",
    "    values = torch.where(mask, far_values, close_values)\n",
    "\n",
    "    # Return the sum of values\n",
    "    return values.sum()\n"
   ]
  },
  {
   "cell_type": "code",
   "execution_count": 207,
   "metadata": {},
   "outputs": [],
   "source": [
    "# this can be used for VAE2, VAE20, CBVAE_Mean\n",
    "def vae_loss(recon_x, x, mu, logvar):\n",
    "    BCE = F.binary_cross_entropy(recon_x, x, reduction=\"sum\")\n",
    "    KLD = -0.5 * torch.sum(1 + logvar - mu.pow(2) - logvar.exp())\n",
    "    # logC = sumlogC(recon_x)\n",
    "    return BCE + KLD  # , logC\n"
   ]
  },
  {
   "cell_type": "code",
   "execution_count": 208,
   "metadata": {},
   "outputs": [],
   "source": [
    "def vae2_loss(recon_x, x, mu, logvar):\n",
    "    BCE = F.binary_cross_entropy(recon_x, x, reduction=\"sum\")\n",
    "    KLD = -0.5 * torch.sum(1 + logvar - mu.pow(2) - logvar.exp())\n",
    "    return BCE, KLD\n"
   ]
  },
  {
   "cell_type": "code",
   "execution_count": 209,
   "metadata": {},
   "outputs": [],
   "source": [
    "def KL_divergence(mu, logvar):\n",
    "    q_z = tdist.Normal(loc=mu, scale=(0.5 * logvar).exp())\n",
    "    p_z = tdist.Normal(loc=torch.zeros_like(mu), scale=torch.ones_like(logvar))\n",
    "    KLD = tdist.kl_divergence(q_z, p_z).sum()\n",
    "    return KLD\n"
   ]
  },
  {
   "cell_type": "code",
   "execution_count": 210,
   "metadata": {},
   "outputs": [],
   "source": [
    "def cb_lambda_loss(recon_x, x, mu, logvar):\n",
    "    tmp = tdist.ContinuousBernoulli(probs=recon_x)\n",
    "    recon_x = tmp.mean\n",
    "    BCE = F.binary_cross_entropy(recon_x, x, reduction=\"sum\")\n",
    "    KLD = -0.5 * torch.sum(1 + logvar - mu.pow(2) - logvar.exp())\n",
    "    logC = sumlogC(recon_x)\n",
    "    return BCE + KLD + logC\n"
   ]
  },
  {
   "cell_type": "code",
   "execution_count": 211,
   "metadata": {},
   "outputs": [],
   "source": [
    "def gaussian_loss(recon_x, x, mu, logvar):\n",
    "    batch_size = x.size(0)\n",
    "    # Flatten recon_x and x to [batch_size, 784]\n",
    "    recon_x = recon_x.view(batch_size, -1)\n",
    "    x = x.view(batch_size, -1)\n",
    "\n",
    "    # Reconstruction loss (assuming a fixed variance, can use MSE)\n",
    "    MSE = F.mse_loss(recon_x, x, reduction=\"sum\")\n",
    "    # MSE /= batch_size  # Normalize by batch size\n",
    "\n",
    "    KLD = -0.5 * torch.sum(1 + logvar - mu.pow(2) - logvar.exp())\n",
    "    return MSE + KLD"
   ]
  },
  {
   "cell_type": "code",
   "execution_count": 212,
   "metadata": {},
   "outputs": [],
   "source": [
    "def loss_cont_gaussian(recon_x, x, mu, logvar):\n",
    "    \"\"\"\n",
    "    Loss function for Gaussian vae\n",
    "    Described by https://github.com/atinghosh/VAE-pytorch/blob/master/VAE_CNN_Gaussianloss.py\n",
    "    \"\"\"\n",
    "    # x = x.view(-1, 784)\n",
    "    mu_x, sigma = recon_x\n",
    "    GLL = torch.sum(torch.log(sigma)) + 0.5 * torch.sum(((x - mu_x) / sigma).pow(2))\n",
    "    KLD = -0.5 * torch.sum(1 + logvar - mu.pow(2) - logvar.exp())\n",
    "    return KLD + GLL"
   ]
  },
  {
   "cell_type": "code",
   "execution_count": 213,
   "metadata": {},
   "outputs": [],
   "source": [
    "def beta_loss(alphas, betas, x, mu, logvar, beta_reg):\n",
    "    x = x.view(-1, 784)\n",
    "    recon_dist = tdist.Beta(alphas, betas)\n",
    "    recon_x = recon_dist.mean\n",
    "    recon_x = recon_x.view(-1, 784)\n",
    "    BCE = F.binary_cross_entropy(recon_x, x, reduction=\"sum\")\n",
    "    KLD = -0.5 * torch.sum(1 + logvar - mu.pow(2) - logvar.exp())\n",
    "    return BCE + KLD  # + logC\n"
   ]
  },
  {
   "cell_type": "code",
   "execution_count": 214,
   "metadata": {},
   "outputs": [],
   "source": [
    "def loss_fct(recon_x, x, mu, logvar, distribution):\n",
    "    if distribution == \"bernoulli\":\n",
    "        return vae_loss(recon_x, x, mu, logvar)\n",
    "    elif distribution == \"continuous_bernoulli\":\n",
    "        return cb_lambda_loss(recon_x, x, mu, logvar)\n",
    "    elif distribution == \"gaussian\":\n",
    "        return gaussian_loss(recon_x, x, mu, logvar)\n",
    "    elif distribution == \"gaussian_with_learned_variance\":\n",
    "        return loss_cont_gaussian(recon_x, x, mu, logvar)"
   ]
  },
  {
   "cell_type": "code",
   "execution_count": 215,
   "metadata": {},
   "outputs": [],
   "source": [
    "EPOCHS = 100\n",
    "BATCH_SIZE = 128\n",
    "\n",
    "torch.manual_seed(1);\n"
   ]
  },
  {
   "cell_type": "markdown",
   "metadata": {},
   "source": [
    "## Check for GPU or MPS availability. Use CPU if neither is available\n"
   ]
  },
  {
   "cell_type": "code",
   "execution_count": 216,
   "metadata": {},
   "outputs": [
    {
     "name": "stdout",
     "output_type": "stream",
     "text": [
      "Using device: mps\n"
     ]
    }
   ],
   "source": [
    "device = torch.device(\n",
    "    \"cuda\"\n",
    "    if torch.cuda.is_available()\n",
    "    else \"mps\"\n",
    "    if torch.backends.mps.is_available()\n",
    "    else \"cpu\"\n",
    ")\n",
    "print(f\"Using device: {device}\")\n"
   ]
  },
  {
   "cell_type": "code",
   "execution_count": 217,
   "metadata": {},
   "outputs": [],
   "source": [
    "transform = v2.Compose([v2.ToImage(), v2.ToDtype(torch.float32, scale=True)])\n",
    "\n",
    "\n",
    "train_loader = torch.utils.data.DataLoader(\n",
    "    datasets.MNIST(\"../data\", train=True, download=True, transform=transform),\n",
    "    batch_size=BATCH_SIZE,\n",
    "    shuffle=True,\n",
    ")\n",
    "test_loader = torch.utils.data.DataLoader(\n",
    "    datasets.MNIST(\"../data\", train=False, transform=transform),\n",
    "    batch_size=BATCH_SIZE,\n",
    "    shuffle=False,\n",
    ")\n"
   ]
  },
  {
   "cell_type": "code",
   "execution_count": 218,
   "metadata": {},
   "outputs": [],
   "source": [
    "def train(model, optimizer, loss_fn, epoch, distribution):\n",
    "    model.train()\n",
    "    train_loss = 0\n",
    "    for _, (data, _) in enumerate(\n",
    "        tqdm(\n",
    "            train_loader,\n",
    "            desc=f\"Distribution: {distribution} - Training Epoch {epoch}/{EPOCHS}\",\n",
    "        )\n",
    "    ):\n",
    "        data = data.to(device)\n",
    "        optimizer.zero_grad()\n",
    "        recon_batch, mu, logvar = model(data)\n",
    "        loss = loss_fn(recon_batch, data, mu, logvar, distribution)\n",
    "        loss.backward()\n",
    "        train_loss += loss.item()\n",
    "        optimizer.step()\n",
    "\n",
    "    train_loss /= len(train_loader.dataset)\n",
    "    print(f\"Epoch: {epoch} Average loss: {train_loss:.4f}\")\n"
   ]
  },
  {
   "cell_type": "code",
   "execution_count": 219,
   "metadata": {},
   "outputs": [],
   "source": [
    "def test(model, loss_fn, epoch, distribution):\n",
    "    model.eval()\n",
    "    test_loss = 0\n",
    "\n",
    "    with torch.no_grad():\n",
    "        for i, (data, _) in enumerate(\n",
    "            tqdm(\n",
    "                test_loader,\n",
    "                desc=f\"Distribution: {distribution} - Test Epoch {epoch}/{EPOCHS}\",\n",
    "            )\n",
    "        ):\n",
    "            data = data.to(device)\n",
    "\n",
    "            recon_batch, mu, logvar = model(data)\n",
    "            loss = loss_fn(recon_batch, data, mu, logvar, distribution)\n",
    "            test_loss += loss\n",
    "\n",
    "            if i == 0:\n",
    "                n = min(data.size(0), 8)\n",
    "                if distribution == \"gaussian_with_learned_variance\":\n",
    "                    recon_batch = recon_batch[0]\n",
    "                recon_batch = recon_batch.view(128, 1, 28, 28)\n",
    "                comparison = torch.cat([data[:n], recon_batch[:n]])\n",
    "\n",
    "                save_image(\n",
    "                    comparison.cpu(),\n",
    "                    f\"../images/{model.distribution}/reconstruction_\"\n",
    "                    + str(epoch)\n",
    "                    + \".png\",\n",
    "                    nrow=n,\n",
    "                )\n",
    "\n",
    "    test_loss /= len(test_loader.dataset)\n",
    "    print(f\"Test set loss: {test_loss:.4f}\")\n"
   ]
  },
  {
   "cell_type": "code",
   "execution_count": 202,
   "metadata": {},
   "outputs": [],
   "source": [
    "latent_dim = 2\n"
   ]
  },
  {
   "cell_type": "code",
   "execution_count": 220,
   "metadata": {},
   "outputs": [
    {
     "name": "stderr",
     "output_type": "stream",
     "text": [
      "Distribution: gaussian - Training Epoch 1/100: 100%|██████████| 469/469 [00:06<00:00, 73.27it/s]\n"
     ]
    },
    {
     "name": "stdout",
     "output_type": "stream",
     "text": [
      "Epoch: 1 Average loss: 52.2084\n"
     ]
    },
    {
     "name": "stderr",
     "output_type": "stream",
     "text": [
      "Distribution: gaussian - Test Epoch 1/100: 100%|██████████| 79/79 [00:00<00:00, 178.56it/s]\n"
     ]
    },
    {
     "name": "stdout",
     "output_type": "stream",
     "text": [
      "Test set loss: 43.7873\n"
     ]
    },
    {
     "name": "stderr",
     "output_type": "stream",
     "text": [
      "Distribution: gaussian - Training Epoch 2/100: 100%|██████████| 469/469 [00:06<00:00, 76.47it/s]\n"
     ]
    },
    {
     "name": "stdout",
     "output_type": "stream",
     "text": [
      "Epoch: 2 Average loss: 42.7966\n"
     ]
    },
    {
     "name": "stderr",
     "output_type": "stream",
     "text": [
      "Distribution: gaussian - Test Epoch 2/100: 100%|██████████| 79/79 [00:00<00:00, 192.47it/s]\n"
     ]
    },
    {
     "name": "stdout",
     "output_type": "stream",
     "text": [
      "Test set loss: 42.2023\n"
     ]
    },
    {
     "name": "stderr",
     "output_type": "stream",
     "text": [
      "Distribution: gaussian - Training Epoch 3/100: 100%|██████████| 469/469 [00:05<00:00, 81.80it/s]\n"
     ]
    },
    {
     "name": "stdout",
     "output_type": "stream",
     "text": [
      "Epoch: 3 Average loss: 41.5138\n"
     ]
    },
    {
     "name": "stderr",
     "output_type": "stream",
     "text": [
      "Distribution: gaussian - Test Epoch 3/100: 100%|██████████| 79/79 [00:00<00:00, 184.48it/s]\n"
     ]
    },
    {
     "name": "stdout",
     "output_type": "stream",
     "text": [
      "Test set loss: 41.2620\n"
     ]
    },
    {
     "name": "stderr",
     "output_type": "stream",
     "text": [
      "Distribution: gaussian - Training Epoch 4/100: 100%|██████████| 469/469 [00:06<00:00, 76.11it/s]\n"
     ]
    },
    {
     "name": "stdout",
     "output_type": "stream",
     "text": [
      "Epoch: 4 Average loss: 40.8437\n"
     ]
    },
    {
     "name": "stderr",
     "output_type": "stream",
     "text": [
      "Distribution: gaussian - Test Epoch 4/100: 100%|██████████| 79/79 [00:00<00:00, 188.54it/s]\n"
     ]
    },
    {
     "name": "stdout",
     "output_type": "stream",
     "text": [
      "Test set loss: 40.6623\n"
     ]
    },
    {
     "name": "stderr",
     "output_type": "stream",
     "text": [
      "Distribution: gaussian - Training Epoch 5/100: 100%|██████████| 469/469 [00:05<00:00, 81.32it/s]\n"
     ]
    },
    {
     "name": "stdout",
     "output_type": "stream",
     "text": [
      "Epoch: 5 Average loss: 40.4003\n"
     ]
    },
    {
     "name": "stderr",
     "output_type": "stream",
     "text": [
      "Distribution: gaussian - Test Epoch 5/100: 100%|██████████| 79/79 [00:00<00:00, 178.18it/s]\n"
     ]
    },
    {
     "name": "stdout",
     "output_type": "stream",
     "text": [
      "Test set loss: 40.1907\n"
     ]
    },
    {
     "name": "stderr",
     "output_type": "stream",
     "text": [
      "Distribution: gaussian - Training Epoch 6/100: 100%|██████████| 469/469 [00:05<00:00, 81.81it/s]\n"
     ]
    },
    {
     "name": "stdout",
     "output_type": "stream",
     "text": [
      "Epoch: 6 Average loss: 40.1374\n"
     ]
    },
    {
     "name": "stderr",
     "output_type": "stream",
     "text": [
      "Distribution: gaussian - Test Epoch 6/100: 100%|██████████| 79/79 [00:00<00:00, 188.03it/s]\n"
     ]
    },
    {
     "name": "stdout",
     "output_type": "stream",
     "text": [
      "Test set loss: 40.0869\n"
     ]
    },
    {
     "name": "stderr",
     "output_type": "stream",
     "text": [
      "Distribution: gaussian - Training Epoch 7/100: 100%|██████████| 469/469 [00:05<00:00, 82.34it/s]\n"
     ]
    },
    {
     "name": "stdout",
     "output_type": "stream",
     "text": [
      "Epoch: 7 Average loss: 39.8940\n"
     ]
    },
    {
     "name": "stderr",
     "output_type": "stream",
     "text": [
      "Distribution: gaussian - Test Epoch 7/100: 100%|██████████| 79/79 [00:00<00:00, 189.02it/s]\n"
     ]
    },
    {
     "name": "stdout",
     "output_type": "stream",
     "text": [
      "Test set loss: 39.7910\n"
     ]
    },
    {
     "name": "stderr",
     "output_type": "stream",
     "text": [
      "Distribution: gaussian - Training Epoch 8/100: 100%|██████████| 469/469 [00:05<00:00, 80.45it/s]\n"
     ]
    },
    {
     "name": "stdout",
     "output_type": "stream",
     "text": [
      "Epoch: 8 Average loss: 39.7009\n"
     ]
    },
    {
     "name": "stderr",
     "output_type": "stream",
     "text": [
      "Distribution: gaussian - Test Epoch 8/100: 100%|██████████| 79/79 [00:00<00:00, 180.87it/s]\n"
     ]
    },
    {
     "name": "stdout",
     "output_type": "stream",
     "text": [
      "Test set loss: 39.6704\n"
     ]
    },
    {
     "name": "stderr",
     "output_type": "stream",
     "text": [
      "Distribution: gaussian - Training Epoch 9/100: 100%|██████████| 469/469 [00:05<00:00, 80.57it/s]\n"
     ]
    },
    {
     "name": "stdout",
     "output_type": "stream",
     "text": [
      "Epoch: 9 Average loss: 39.5353\n"
     ]
    },
    {
     "name": "stderr",
     "output_type": "stream",
     "text": [
      "Distribution: gaussian - Test Epoch 9/100: 100%|██████████| 79/79 [00:00<00:00, 188.18it/s]\n"
     ]
    },
    {
     "name": "stdout",
     "output_type": "stream",
     "text": [
      "Test set loss: 39.4525\n"
     ]
    },
    {
     "name": "stderr",
     "output_type": "stream",
     "text": [
      "Distribution: gaussian - Training Epoch 10/100: 100%|██████████| 469/469 [00:05<00:00, 80.40it/s]\n"
     ]
    },
    {
     "name": "stdout",
     "output_type": "stream",
     "text": [
      "Epoch: 10 Average loss: 39.4277\n"
     ]
    },
    {
     "name": "stderr",
     "output_type": "stream",
     "text": [
      "Distribution: gaussian - Test Epoch 10/100: 100%|██████████| 79/79 [00:00<00:00, 187.43it/s]\n"
     ]
    },
    {
     "name": "stdout",
     "output_type": "stream",
     "text": [
      "Test set loss: 39.5167\n"
     ]
    },
    {
     "name": "stderr",
     "output_type": "stream",
     "text": [
      "Distribution: gaussian - Training Epoch 11/100: 100%|██████████| 469/469 [00:05<00:00, 80.48it/s]\n"
     ]
    },
    {
     "name": "stdout",
     "output_type": "stream",
     "text": [
      "Epoch: 11 Average loss: 39.3150\n"
     ]
    },
    {
     "name": "stderr",
     "output_type": "stream",
     "text": [
      "Distribution: gaussian - Test Epoch 11/100: 100%|██████████| 79/79 [00:00<00:00, 176.67it/s]\n"
     ]
    },
    {
     "name": "stdout",
     "output_type": "stream",
     "text": [
      "Test set loss: 39.2625\n"
     ]
    },
    {
     "name": "stderr",
     "output_type": "stream",
     "text": [
      "Distribution: gaussian - Training Epoch 12/100: 100%|██████████| 469/469 [00:05<00:00, 80.80it/s]\n"
     ]
    },
    {
     "name": "stdout",
     "output_type": "stream",
     "text": [
      "Epoch: 12 Average loss: 39.1795\n"
     ]
    },
    {
     "name": "stderr",
     "output_type": "stream",
     "text": [
      "Distribution: gaussian - Test Epoch 12/100: 100%|██████████| 79/79 [00:00<00:00, 185.25it/s]\n"
     ]
    },
    {
     "name": "stdout",
     "output_type": "stream",
     "text": [
      "Test set loss: 39.1332\n"
     ]
    },
    {
     "name": "stderr",
     "output_type": "stream",
     "text": [
      "Distribution: gaussian - Training Epoch 13/100: 100%|██████████| 469/469 [00:05<00:00, 80.98it/s]\n"
     ]
    },
    {
     "name": "stdout",
     "output_type": "stream",
     "text": [
      "Epoch: 13 Average loss: 39.0869\n"
     ]
    },
    {
     "name": "stderr",
     "output_type": "stream",
     "text": [
      "Distribution: gaussian - Test Epoch 13/100: 100%|██████████| 79/79 [00:00<00:00, 187.81it/s]\n"
     ]
    },
    {
     "name": "stdout",
     "output_type": "stream",
     "text": [
      "Test set loss: 39.1451\n"
     ]
    },
    {
     "name": "stderr",
     "output_type": "stream",
     "text": [
      "Distribution: gaussian - Training Epoch 14/100: 100%|██████████| 469/469 [00:05<00:00, 80.56it/s]\n"
     ]
    },
    {
     "name": "stdout",
     "output_type": "stream",
     "text": [
      "Epoch: 14 Average loss: 38.9844\n"
     ]
    },
    {
     "name": "stderr",
     "output_type": "stream",
     "text": [
      "Distribution: gaussian - Test Epoch 14/100: 100%|██████████| 79/79 [00:00<00:00, 179.87it/s]\n"
     ]
    },
    {
     "name": "stdout",
     "output_type": "stream",
     "text": [
      "Test set loss: 39.2363\n"
     ]
    },
    {
     "name": "stderr",
     "output_type": "stream",
     "text": [
      "Distribution: gaussian - Training Epoch 15/100: 100%|██████████| 469/469 [00:05<00:00, 79.45it/s]\n"
     ]
    },
    {
     "name": "stdout",
     "output_type": "stream",
     "text": [
      "Epoch: 15 Average loss: 38.9199\n"
     ]
    },
    {
     "name": "stderr",
     "output_type": "stream",
     "text": [
      "Distribution: gaussian - Test Epoch 15/100: 100%|██████████| 79/79 [00:00<00:00, 184.86it/s]\n"
     ]
    },
    {
     "name": "stdout",
     "output_type": "stream",
     "text": [
      "Test set loss: 38.9546\n"
     ]
    },
    {
     "name": "stderr",
     "output_type": "stream",
     "text": [
      "Distribution: gaussian - Training Epoch 16/100: 100%|██████████| 469/469 [00:05<00:00, 80.01it/s]\n"
     ]
    },
    {
     "name": "stdout",
     "output_type": "stream",
     "text": [
      "Epoch: 16 Average loss: 38.8139\n"
     ]
    },
    {
     "name": "stderr",
     "output_type": "stream",
     "text": [
      "Distribution: gaussian - Test Epoch 16/100: 100%|██████████| 79/79 [00:00<00:00, 185.71it/s]\n"
     ]
    },
    {
     "name": "stdout",
     "output_type": "stream",
     "text": [
      "Test set loss: 38.8937\n"
     ]
    },
    {
     "name": "stderr",
     "output_type": "stream",
     "text": [
      "Distribution: gaussian - Training Epoch 17/100: 100%|██████████| 469/469 [00:05<00:00, 79.69it/s]\n"
     ]
    },
    {
     "name": "stdout",
     "output_type": "stream",
     "text": [
      "Epoch: 17 Average loss: 38.7523\n"
     ]
    },
    {
     "name": "stderr",
     "output_type": "stream",
     "text": [
      "Distribution: gaussian - Test Epoch 17/100: 100%|██████████| 79/79 [00:00<00:00, 176.52it/s]\n"
     ]
    },
    {
     "name": "stdout",
     "output_type": "stream",
     "text": [
      "Test set loss: 39.1391\n"
     ]
    },
    {
     "name": "stderr",
     "output_type": "stream",
     "text": [
      "Distribution: gaussian - Training Epoch 18/100: 100%|██████████| 469/469 [00:05<00:00, 79.05it/s]\n"
     ]
    },
    {
     "name": "stdout",
     "output_type": "stream",
     "text": [
      "Epoch: 18 Average loss: 38.6694\n"
     ]
    },
    {
     "name": "stderr",
     "output_type": "stream",
     "text": [
      "Distribution: gaussian - Test Epoch 18/100: 100%|██████████| 79/79 [00:00<00:00, 183.98it/s]\n"
     ]
    },
    {
     "name": "stdout",
     "output_type": "stream",
     "text": [
      "Test set loss: 38.6526\n"
     ]
    },
    {
     "name": "stderr",
     "output_type": "stream",
     "text": [
      "Distribution: gaussian - Training Epoch 19/100: 100%|██████████| 469/469 [00:05<00:00, 79.89it/s]\n"
     ]
    },
    {
     "name": "stdout",
     "output_type": "stream",
     "text": [
      "Epoch: 19 Average loss: 38.6104\n"
     ]
    },
    {
     "name": "stderr",
     "output_type": "stream",
     "text": [
      "Distribution: gaussian - Test Epoch 19/100: 100%|██████████| 79/79 [00:00<00:00, 185.32it/s]\n"
     ]
    },
    {
     "name": "stdout",
     "output_type": "stream",
     "text": [
      "Test set loss: 38.6782\n"
     ]
    },
    {
     "name": "stderr",
     "output_type": "stream",
     "text": [
      "Distribution: gaussian - Training Epoch 20/100: 100%|██████████| 469/469 [00:05<00:00, 79.10it/s]\n"
     ]
    },
    {
     "name": "stdout",
     "output_type": "stream",
     "text": [
      "Epoch: 20 Average loss: 38.5295\n"
     ]
    },
    {
     "name": "stderr",
     "output_type": "stream",
     "text": [
      "Distribution: gaussian - Test Epoch 20/100: 100%|██████████| 79/79 [00:00<00:00, 177.20it/s]\n"
     ]
    },
    {
     "name": "stdout",
     "output_type": "stream",
     "text": [
      "Test set loss: 38.4250\n"
     ]
    },
    {
     "name": "stderr",
     "output_type": "stream",
     "text": [
      "Distribution: gaussian - Training Epoch 21/100: 100%|██████████| 469/469 [00:05<00:00, 78.69it/s]\n"
     ]
    },
    {
     "name": "stdout",
     "output_type": "stream",
     "text": [
      "Epoch: 21 Average loss: 38.4939\n"
     ]
    },
    {
     "name": "stderr",
     "output_type": "stream",
     "text": [
      "Distribution: gaussian - Test Epoch 21/100: 100%|██████████| 79/79 [00:00<00:00, 186.88it/s]\n"
     ]
    },
    {
     "name": "stdout",
     "output_type": "stream",
     "text": [
      "Test set loss: 38.6141\n"
     ]
    },
    {
     "name": "stderr",
     "output_type": "stream",
     "text": [
      "Distribution: gaussian - Training Epoch 22/100: 100%|██████████| 469/469 [00:05<00:00, 79.17it/s]\n"
     ]
    },
    {
     "name": "stdout",
     "output_type": "stream",
     "text": [
      "Epoch: 22 Average loss: 38.4182\n"
     ]
    },
    {
     "name": "stderr",
     "output_type": "stream",
     "text": [
      "Distribution: gaussian - Test Epoch 22/100: 100%|██████████| 79/79 [00:00<00:00, 184.60it/s]\n"
     ]
    },
    {
     "name": "stdout",
     "output_type": "stream",
     "text": [
      "Test set loss: 38.4625\n"
     ]
    },
    {
     "name": "stderr",
     "output_type": "stream",
     "text": [
      "Distribution: gaussian - Training Epoch 23/100: 100%|██████████| 469/469 [00:05<00:00, 79.80it/s]\n"
     ]
    },
    {
     "name": "stdout",
     "output_type": "stream",
     "text": [
      "Epoch: 23 Average loss: 38.3820\n"
     ]
    },
    {
     "name": "stderr",
     "output_type": "stream",
     "text": [
      "Distribution: gaussian - Test Epoch 23/100: 100%|██████████| 79/79 [00:00<00:00, 177.97it/s]\n"
     ]
    },
    {
     "name": "stdout",
     "output_type": "stream",
     "text": [
      "Test set loss: 38.3984\n"
     ]
    },
    {
     "name": "stderr",
     "output_type": "stream",
     "text": [
      "Distribution: gaussian - Training Epoch 24/100: 100%|██████████| 469/469 [00:05<00:00, 79.42it/s]\n"
     ]
    },
    {
     "name": "stdout",
     "output_type": "stream",
     "text": [
      "Epoch: 24 Average loss: 38.3179\n"
     ]
    },
    {
     "name": "stderr",
     "output_type": "stream",
     "text": [
      "Distribution: gaussian - Test Epoch 24/100: 100%|██████████| 79/79 [00:00<00:00, 185.77it/s]\n"
     ]
    },
    {
     "name": "stdout",
     "output_type": "stream",
     "text": [
      "Test set loss: 38.4334\n"
     ]
    },
    {
     "name": "stderr",
     "output_type": "stream",
     "text": [
      "Distribution: gaussian - Training Epoch 25/100: 100%|██████████| 469/469 [00:05<00:00, 78.92it/s]\n"
     ]
    },
    {
     "name": "stdout",
     "output_type": "stream",
     "text": [
      "Epoch: 25 Average loss: 38.3033\n"
     ]
    },
    {
     "name": "stderr",
     "output_type": "stream",
     "text": [
      "Distribution: gaussian - Test Epoch 25/100: 100%|██████████| 79/79 [00:00<00:00, 183.32it/s]\n"
     ]
    },
    {
     "name": "stdout",
     "output_type": "stream",
     "text": [
      "Test set loss: 38.4094\n"
     ]
    },
    {
     "name": "stderr",
     "output_type": "stream",
     "text": [
      "Distribution: gaussian - Training Epoch 26/100: 100%|██████████| 469/469 [00:05<00:00, 79.01it/s]\n"
     ]
    },
    {
     "name": "stdout",
     "output_type": "stream",
     "text": [
      "Epoch: 26 Average loss: 38.2449\n"
     ]
    },
    {
     "name": "stderr",
     "output_type": "stream",
     "text": [
      "Distribution: gaussian - Test Epoch 26/100: 100%|██████████| 79/79 [00:00<00:00, 174.45it/s]\n"
     ]
    },
    {
     "name": "stdout",
     "output_type": "stream",
     "text": [
      "Test set loss: 38.4627\n"
     ]
    },
    {
     "name": "stderr",
     "output_type": "stream",
     "text": [
      "Distribution: gaussian - Training Epoch 27/100: 100%|██████████| 469/469 [00:05<00:00, 78.73it/s]\n"
     ]
    },
    {
     "name": "stdout",
     "output_type": "stream",
     "text": [
      "Epoch: 27 Average loss: 38.1849\n"
     ]
    },
    {
     "name": "stderr",
     "output_type": "stream",
     "text": [
      "Distribution: gaussian - Test Epoch 27/100: 100%|██████████| 79/79 [00:00<00:00, 183.74it/s]\n"
     ]
    },
    {
     "name": "stdout",
     "output_type": "stream",
     "text": [
      "Test set loss: 38.3682\n"
     ]
    },
    {
     "name": "stderr",
     "output_type": "stream",
     "text": [
      "Distribution: gaussian - Training Epoch 28/100: 100%|██████████| 469/469 [00:05<00:00, 79.63it/s]\n"
     ]
    },
    {
     "name": "stdout",
     "output_type": "stream",
     "text": [
      "Epoch: 28 Average loss: 38.1583\n"
     ]
    },
    {
     "name": "stderr",
     "output_type": "stream",
     "text": [
      "Distribution: gaussian - Test Epoch 28/100: 100%|██████████| 79/79 [00:00<00:00, 178.69it/s]\n"
     ]
    },
    {
     "name": "stdout",
     "output_type": "stream",
     "text": [
      "Test set loss: 38.2680\n"
     ]
    },
    {
     "name": "stderr",
     "output_type": "stream",
     "text": [
      "Distribution: gaussian - Training Epoch 29/100: 100%|██████████| 469/469 [00:05<00:00, 78.66it/s]\n"
     ]
    },
    {
     "name": "stdout",
     "output_type": "stream",
     "text": [
      "Epoch: 29 Average loss: 38.1079\n"
     ]
    },
    {
     "name": "stderr",
     "output_type": "stream",
     "text": [
      "Distribution: gaussian - Test Epoch 29/100: 100%|██████████| 79/79 [00:00<00:00, 186.34it/s]\n"
     ]
    },
    {
     "name": "stdout",
     "output_type": "stream",
     "text": [
      "Test set loss: 38.2582\n"
     ]
    },
    {
     "name": "stderr",
     "output_type": "stream",
     "text": [
      "Distribution: gaussian - Training Epoch 30/100: 100%|██████████| 469/469 [00:06<00:00, 78.06it/s]\n"
     ]
    },
    {
     "name": "stdout",
     "output_type": "stream",
     "text": [
      "Epoch: 30 Average loss: 38.0865\n"
     ]
    },
    {
     "name": "stderr",
     "output_type": "stream",
     "text": [
      "Distribution: gaussian - Test Epoch 30/100: 100%|██████████| 79/79 [00:00<00:00, 186.84it/s]\n"
     ]
    },
    {
     "name": "stdout",
     "output_type": "stream",
     "text": [
      "Test set loss: 38.1921\n"
     ]
    },
    {
     "name": "stderr",
     "output_type": "stream",
     "text": [
      "Distribution: gaussian - Training Epoch 31/100: 100%|██████████| 469/469 [00:05<00:00, 78.44it/s]\n"
     ]
    },
    {
     "name": "stdout",
     "output_type": "stream",
     "text": [
      "Epoch: 31 Average loss: 38.0558\n"
     ]
    },
    {
     "name": "stderr",
     "output_type": "stream",
     "text": [
      "Distribution: gaussian - Test Epoch 31/100: 100%|██████████| 79/79 [00:00<00:00, 176.56it/s]\n"
     ]
    },
    {
     "name": "stdout",
     "output_type": "stream",
     "text": [
      "Test set loss: 38.0873\n"
     ]
    },
    {
     "name": "stderr",
     "output_type": "stream",
     "text": [
      "Distribution: gaussian - Training Epoch 32/100: 100%|██████████| 469/469 [00:05<00:00, 78.50it/s]\n"
     ]
    },
    {
     "name": "stdout",
     "output_type": "stream",
     "text": [
      "Epoch: 32 Average loss: 38.0049\n"
     ]
    },
    {
     "name": "stderr",
     "output_type": "stream",
     "text": [
      "Distribution: gaussian - Test Epoch 32/100: 100%|██████████| 79/79 [00:00<00:00, 183.71it/s]\n"
     ]
    },
    {
     "name": "stdout",
     "output_type": "stream",
     "text": [
      "Test set loss: 38.2506\n"
     ]
    },
    {
     "name": "stderr",
     "output_type": "stream",
     "text": [
      "Distribution: gaussian - Training Epoch 33/100: 100%|██████████| 469/469 [00:05<00:00, 78.24it/s]\n"
     ]
    },
    {
     "name": "stdout",
     "output_type": "stream",
     "text": [
      "Epoch: 33 Average loss: 37.9742\n"
     ]
    },
    {
     "name": "stderr",
     "output_type": "stream",
     "text": [
      "Distribution: gaussian - Test Epoch 33/100: 100%|██████████| 79/79 [00:00<00:00, 186.61it/s]\n"
     ]
    },
    {
     "name": "stdout",
     "output_type": "stream",
     "text": [
      "Test set loss: 38.1285\n"
     ]
    },
    {
     "name": "stderr",
     "output_type": "stream",
     "text": [
      "Distribution: gaussian - Training Epoch 34/100: 100%|██████████| 469/469 [00:05<00:00, 78.98it/s]\n"
     ]
    },
    {
     "name": "stdout",
     "output_type": "stream",
     "text": [
      "Epoch: 34 Average loss: 37.9331\n"
     ]
    },
    {
     "name": "stderr",
     "output_type": "stream",
     "text": [
      "Distribution: gaussian - Test Epoch 34/100: 100%|██████████| 79/79 [00:00<00:00, 175.66it/s]\n"
     ]
    },
    {
     "name": "stdout",
     "output_type": "stream",
     "text": [
      "Test set loss: 38.0831\n"
     ]
    },
    {
     "name": "stderr",
     "output_type": "stream",
     "text": [
      "Distribution: gaussian - Training Epoch 35/100: 100%|██████████| 469/469 [00:06<00:00, 78.10it/s]\n"
     ]
    },
    {
     "name": "stdout",
     "output_type": "stream",
     "text": [
      "Epoch: 35 Average loss: 37.9242\n"
     ]
    },
    {
     "name": "stderr",
     "output_type": "stream",
     "text": [
      "Distribution: gaussian - Test Epoch 35/100: 100%|██████████| 79/79 [00:00<00:00, 184.45it/s]\n"
     ]
    },
    {
     "name": "stdout",
     "output_type": "stream",
     "text": [
      "Test set loss: 38.3174\n"
     ]
    },
    {
     "name": "stderr",
     "output_type": "stream",
     "text": [
      "Distribution: gaussian - Training Epoch 36/100: 100%|██████████| 469/469 [00:06<00:00, 77.49it/s]\n"
     ]
    },
    {
     "name": "stdout",
     "output_type": "stream",
     "text": [
      "Epoch: 36 Average loss: 37.8972\n"
     ]
    },
    {
     "name": "stderr",
     "output_type": "stream",
     "text": [
      "Distribution: gaussian - Test Epoch 36/100: 100%|██████████| 79/79 [00:00<00:00, 185.11it/s]\n"
     ]
    },
    {
     "name": "stdout",
     "output_type": "stream",
     "text": [
      "Test set loss: 38.0374\n"
     ]
    },
    {
     "name": "stderr",
     "output_type": "stream",
     "text": [
      "Distribution: gaussian - Training Epoch 37/100: 100%|██████████| 469/469 [00:06<00:00, 78.06it/s]\n"
     ]
    },
    {
     "name": "stdout",
     "output_type": "stream",
     "text": [
      "Epoch: 37 Average loss: 37.8496\n"
     ]
    },
    {
     "name": "stderr",
     "output_type": "stream",
     "text": [
      "Distribution: gaussian - Test Epoch 37/100: 100%|██████████| 79/79 [00:00<00:00, 177.06it/s]\n"
     ]
    },
    {
     "name": "stdout",
     "output_type": "stream",
     "text": [
      "Test set loss: 38.0186\n"
     ]
    },
    {
     "name": "stderr",
     "output_type": "stream",
     "text": [
      "Distribution: gaussian - Training Epoch 38/100: 100%|██████████| 469/469 [00:05<00:00, 78.35it/s]\n"
     ]
    },
    {
     "name": "stdout",
     "output_type": "stream",
     "text": [
      "Epoch: 38 Average loss: 37.8366\n"
     ]
    },
    {
     "name": "stderr",
     "output_type": "stream",
     "text": [
      "Distribution: gaussian - Test Epoch 38/100: 100%|██████████| 79/79 [00:00<00:00, 175.75it/s]\n"
     ]
    },
    {
     "name": "stdout",
     "output_type": "stream",
     "text": [
      "Test set loss: 38.0276\n"
     ]
    },
    {
     "name": "stderr",
     "output_type": "stream",
     "text": [
      "Distribution: gaussian - Training Epoch 39/100: 100%|██████████| 469/469 [00:05<00:00, 78.36it/s]\n"
     ]
    },
    {
     "name": "stdout",
     "output_type": "stream",
     "text": [
      "Epoch: 39 Average loss: 37.8167\n"
     ]
    },
    {
     "name": "stderr",
     "output_type": "stream",
     "text": [
      "Distribution: gaussian - Test Epoch 39/100: 100%|██████████| 79/79 [00:00<00:00, 184.23it/s]\n"
     ]
    },
    {
     "name": "stdout",
     "output_type": "stream",
     "text": [
      "Test set loss: 38.2832\n"
     ]
    },
    {
     "name": "stderr",
     "output_type": "stream",
     "text": [
      "Distribution: gaussian - Training Epoch 40/100: 100%|██████████| 469/469 [00:06<00:00, 78.08it/s]\n"
     ]
    },
    {
     "name": "stdout",
     "output_type": "stream",
     "text": [
      "Epoch: 40 Average loss: 37.7678\n"
     ]
    },
    {
     "name": "stderr",
     "output_type": "stream",
     "text": [
      "Distribution: gaussian - Test Epoch 40/100: 100%|██████████| 79/79 [00:00<00:00, 184.78it/s]\n"
     ]
    },
    {
     "name": "stdout",
     "output_type": "stream",
     "text": [
      "Test set loss: 38.4098\n"
     ]
    },
    {
     "name": "stderr",
     "output_type": "stream",
     "text": [
      "Distribution: gaussian - Training Epoch 41/100: 100%|██████████| 469/469 [00:05<00:00, 78.89it/s]\n"
     ]
    },
    {
     "name": "stdout",
     "output_type": "stream",
     "text": [
      "Epoch: 41 Average loss: 37.7449\n"
     ]
    },
    {
     "name": "stderr",
     "output_type": "stream",
     "text": [
      "Distribution: gaussian - Test Epoch 41/100: 100%|██████████| 79/79 [00:00<00:00, 175.17it/s]\n"
     ]
    },
    {
     "name": "stdout",
     "output_type": "stream",
     "text": [
      "Test set loss: 38.0011\n"
     ]
    },
    {
     "name": "stderr",
     "output_type": "stream",
     "text": [
      "Distribution: gaussian - Training Epoch 42/100: 100%|██████████| 469/469 [00:05<00:00, 78.87it/s]\n"
     ]
    },
    {
     "name": "stdout",
     "output_type": "stream",
     "text": [
      "Epoch: 42 Average loss: 37.7202\n"
     ]
    },
    {
     "name": "stderr",
     "output_type": "stream",
     "text": [
      "Distribution: gaussian - Test Epoch 42/100: 100%|██████████| 79/79 [00:00<00:00, 182.99it/s]\n"
     ]
    },
    {
     "name": "stdout",
     "output_type": "stream",
     "text": [
      "Test set loss: 38.1500\n"
     ]
    },
    {
     "name": "stderr",
     "output_type": "stream",
     "text": [
      "Distribution: gaussian - Training Epoch 43/100: 100%|██████████| 469/469 [00:06<00:00, 78.10it/s]\n"
     ]
    },
    {
     "name": "stdout",
     "output_type": "stream",
     "text": [
      "Epoch: 43 Average loss: 37.6922\n"
     ]
    },
    {
     "name": "stderr",
     "output_type": "stream",
     "text": [
      "Distribution: gaussian - Test Epoch 43/100: 100%|██████████| 79/79 [00:00<00:00, 183.30it/s]\n"
     ]
    },
    {
     "name": "stdout",
     "output_type": "stream",
     "text": [
      "Test set loss: 37.9601\n"
     ]
    },
    {
     "name": "stderr",
     "output_type": "stream",
     "text": [
      "Distribution: gaussian - Training Epoch 44/100: 100%|██████████| 469/469 [00:05<00:00, 78.46it/s]\n"
     ]
    },
    {
     "name": "stdout",
     "output_type": "stream",
     "text": [
      "Epoch: 44 Average loss: 37.6853\n"
     ]
    },
    {
     "name": "stderr",
     "output_type": "stream",
     "text": [
      "Distribution: gaussian - Test Epoch 44/100: 100%|██████████| 79/79 [00:00<00:00, 174.85it/s]\n"
     ]
    },
    {
     "name": "stdout",
     "output_type": "stream",
     "text": [
      "Test set loss: 38.2906\n"
     ]
    },
    {
     "name": "stderr",
     "output_type": "stream",
     "text": [
      "Distribution: gaussian - Training Epoch 45/100: 100%|██████████| 469/469 [00:05<00:00, 78.18it/s]\n"
     ]
    },
    {
     "name": "stdout",
     "output_type": "stream",
     "text": [
      "Epoch: 45 Average loss: 37.6514\n"
     ]
    },
    {
     "name": "stderr",
     "output_type": "stream",
     "text": [
      "Distribution: gaussian - Test Epoch 45/100: 100%|██████████| 79/79 [00:00<00:00, 184.36it/s]\n"
     ]
    },
    {
     "name": "stdout",
     "output_type": "stream",
     "text": [
      "Test set loss: 37.8793\n"
     ]
    },
    {
     "name": "stderr",
     "output_type": "stream",
     "text": [
      "Distribution: gaussian - Training Epoch 46/100: 100%|██████████| 469/469 [00:06<00:00, 77.85it/s]\n"
     ]
    },
    {
     "name": "stdout",
     "output_type": "stream",
     "text": [
      "Epoch: 46 Average loss: 37.6519\n"
     ]
    },
    {
     "name": "stderr",
     "output_type": "stream",
     "text": [
      "Distribution: gaussian - Test Epoch 46/100: 100%|██████████| 79/79 [00:00<00:00, 176.38it/s]\n"
     ]
    },
    {
     "name": "stdout",
     "output_type": "stream",
     "text": [
      "Test set loss: 37.9446\n"
     ]
    },
    {
     "name": "stderr",
     "output_type": "stream",
     "text": [
      "Distribution: gaussian - Training Epoch 47/100: 100%|██████████| 469/469 [00:06<00:00, 78.16it/s]\n"
     ]
    },
    {
     "name": "stdout",
     "output_type": "stream",
     "text": [
      "Epoch: 47 Average loss: 37.6356\n"
     ]
    },
    {
     "name": "stderr",
     "output_type": "stream",
     "text": [
      "Distribution: gaussian - Test Epoch 47/100: 100%|██████████| 79/79 [00:00<00:00, 184.72it/s]\n"
     ]
    },
    {
     "name": "stdout",
     "output_type": "stream",
     "text": [
      "Test set loss: 37.8010\n"
     ]
    },
    {
     "name": "stderr",
     "output_type": "stream",
     "text": [
      "Distribution: gaussian - Training Epoch 48/100: 100%|██████████| 469/469 [00:06<00:00, 78.08it/s]\n"
     ]
    },
    {
     "name": "stdout",
     "output_type": "stream",
     "text": [
      "Epoch: 48 Average loss: 37.6239\n"
     ]
    },
    {
     "name": "stderr",
     "output_type": "stream",
     "text": [
      "Distribution: gaussian - Test Epoch 48/100: 100%|██████████| 79/79 [00:00<00:00, 177.12it/s]\n"
     ]
    },
    {
     "name": "stdout",
     "output_type": "stream",
     "text": [
      "Test set loss: 37.9435\n"
     ]
    },
    {
     "name": "stderr",
     "output_type": "stream",
     "text": [
      "Distribution: gaussian - Training Epoch 49/100: 100%|██████████| 469/469 [00:06<00:00, 77.90it/s]\n"
     ]
    },
    {
     "name": "stdout",
     "output_type": "stream",
     "text": [
      "Epoch: 49 Average loss: 37.5842\n"
     ]
    },
    {
     "name": "stderr",
     "output_type": "stream",
     "text": [
      "Distribution: gaussian - Test Epoch 49/100: 100%|██████████| 79/79 [00:00<00:00, 186.27it/s]\n"
     ]
    },
    {
     "name": "stdout",
     "output_type": "stream",
     "text": [
      "Test set loss: 37.8504\n"
     ]
    },
    {
     "name": "stderr",
     "output_type": "stream",
     "text": [
      "Distribution: gaussian - Training Epoch 50/100: 100%|██████████| 469/469 [00:06<00:00, 78.15it/s]\n"
     ]
    },
    {
     "name": "stdout",
     "output_type": "stream",
     "text": [
      "Epoch: 50 Average loss: 37.5909\n"
     ]
    },
    {
     "name": "stderr",
     "output_type": "stream",
     "text": [
      "Distribution: gaussian - Test Epoch 50/100: 100%|██████████| 79/79 [00:00<00:00, 177.66it/s]\n"
     ]
    },
    {
     "name": "stdout",
     "output_type": "stream",
     "text": [
      "Test set loss: 38.0518\n"
     ]
    },
    {
     "name": "stderr",
     "output_type": "stream",
     "text": [
      "Distribution: gaussian - Training Epoch 51/100: 100%|██████████| 469/469 [00:05<00:00, 78.88it/s]\n"
     ]
    },
    {
     "name": "stdout",
     "output_type": "stream",
     "text": [
      "Epoch: 51 Average loss: 37.6110\n"
     ]
    },
    {
     "name": "stderr",
     "output_type": "stream",
     "text": [
      "Distribution: gaussian - Test Epoch 51/100: 100%|██████████| 79/79 [00:00<00:00, 184.36it/s]\n"
     ]
    },
    {
     "name": "stdout",
     "output_type": "stream",
     "text": [
      "Test set loss: 37.7876\n"
     ]
    },
    {
     "name": "stderr",
     "output_type": "stream",
     "text": [
      "Distribution: gaussian - Training Epoch 52/100: 100%|██████████| 469/469 [00:05<00:00, 78.33it/s]\n"
     ]
    },
    {
     "name": "stdout",
     "output_type": "stream",
     "text": [
      "Epoch: 52 Average loss: 37.5719\n"
     ]
    },
    {
     "name": "stderr",
     "output_type": "stream",
     "text": [
      "Distribution: gaussian - Test Epoch 52/100: 100%|██████████| 79/79 [00:00<00:00, 176.94it/s]\n"
     ]
    },
    {
     "name": "stdout",
     "output_type": "stream",
     "text": [
      "Test set loss: 37.8495\n"
     ]
    },
    {
     "name": "stderr",
     "output_type": "stream",
     "text": [
      "Distribution: gaussian - Training Epoch 53/100: 100%|██████████| 469/469 [00:06<00:00, 78.08it/s]\n"
     ]
    },
    {
     "name": "stdout",
     "output_type": "stream",
     "text": [
      "Epoch: 53 Average loss: 37.5195\n"
     ]
    },
    {
     "name": "stderr",
     "output_type": "stream",
     "text": [
      "Distribution: gaussian - Test Epoch 53/100: 100%|██████████| 79/79 [00:00<00:00, 187.61it/s]\n"
     ]
    },
    {
     "name": "stdout",
     "output_type": "stream",
     "text": [
      "Test set loss: 37.7522\n"
     ]
    },
    {
     "name": "stderr",
     "output_type": "stream",
     "text": [
      "Distribution: gaussian - Training Epoch 54/100: 100%|██████████| 469/469 [00:05<00:00, 78.63it/s]\n"
     ]
    },
    {
     "name": "stdout",
     "output_type": "stream",
     "text": [
      "Epoch: 54 Average loss: 37.5162\n"
     ]
    },
    {
     "name": "stderr",
     "output_type": "stream",
     "text": [
      "Distribution: gaussian - Test Epoch 54/100: 100%|██████████| 79/79 [00:00<00:00, 177.33it/s]\n"
     ]
    },
    {
     "name": "stdout",
     "output_type": "stream",
     "text": [
      "Test set loss: 37.8185\n"
     ]
    },
    {
     "name": "stderr",
     "output_type": "stream",
     "text": [
      "Distribution: gaussian - Training Epoch 55/100: 100%|██████████| 469/469 [00:06<00:00, 77.59it/s]\n"
     ]
    },
    {
     "name": "stdout",
     "output_type": "stream",
     "text": [
      "Epoch: 55 Average loss: 37.5307\n"
     ]
    },
    {
     "name": "stderr",
     "output_type": "stream",
     "text": [
      "Distribution: gaussian - Test Epoch 55/100: 100%|██████████| 79/79 [00:00<00:00, 182.25it/s]\n"
     ]
    },
    {
     "name": "stdout",
     "output_type": "stream",
     "text": [
      "Test set loss: 37.7950\n"
     ]
    },
    {
     "name": "stderr",
     "output_type": "stream",
     "text": [
      "Distribution: gaussian - Training Epoch 56/100: 100%|██████████| 469/469 [00:06<00:00, 77.03it/s]\n"
     ]
    },
    {
     "name": "stdout",
     "output_type": "stream",
     "text": [
      "Epoch: 56 Average loss: 37.4839\n"
     ]
    },
    {
     "name": "stderr",
     "output_type": "stream",
     "text": [
      "Distribution: gaussian - Test Epoch 56/100: 100%|██████████| 79/79 [00:00<00:00, 175.25it/s]\n"
     ]
    },
    {
     "name": "stdout",
     "output_type": "stream",
     "text": [
      "Test set loss: 37.7388\n"
     ]
    },
    {
     "name": "stderr",
     "output_type": "stream",
     "text": [
      "Distribution: gaussian - Training Epoch 57/100: 100%|██████████| 469/469 [00:06<00:00, 77.16it/s]\n"
     ]
    },
    {
     "name": "stdout",
     "output_type": "stream",
     "text": [
      "Epoch: 57 Average loss: 37.4701\n"
     ]
    },
    {
     "name": "stderr",
     "output_type": "stream",
     "text": [
      "Distribution: gaussian - Test Epoch 57/100: 100%|██████████| 79/79 [00:00<00:00, 182.38it/s]\n"
     ]
    },
    {
     "name": "stdout",
     "output_type": "stream",
     "text": [
      "Test set loss: 37.8278\n"
     ]
    },
    {
     "name": "stderr",
     "output_type": "stream",
     "text": [
      "Distribution: gaussian - Training Epoch 58/100: 100%|██████████| 469/469 [00:05<00:00, 78.32it/s]\n"
     ]
    },
    {
     "name": "stdout",
     "output_type": "stream",
     "text": [
      "Epoch: 58 Average loss: 37.4811\n"
     ]
    },
    {
     "name": "stderr",
     "output_type": "stream",
     "text": [
      "Distribution: gaussian - Test Epoch 58/100: 100%|██████████| 79/79 [00:00<00:00, 174.93it/s]\n"
     ]
    },
    {
     "name": "stdout",
     "output_type": "stream",
     "text": [
      "Test set loss: 37.7648\n"
     ]
    },
    {
     "name": "stderr",
     "output_type": "stream",
     "text": [
      "Distribution: gaussian - Training Epoch 59/100: 100%|██████████| 469/469 [00:06<00:00, 78.04it/s]\n"
     ]
    },
    {
     "name": "stdout",
     "output_type": "stream",
     "text": [
      "Epoch: 59 Average loss: 37.4336\n"
     ]
    },
    {
     "name": "stderr",
     "output_type": "stream",
     "text": [
      "Distribution: gaussian - Test Epoch 59/100: 100%|██████████| 79/79 [00:00<00:00, 186.52it/s]\n"
     ]
    },
    {
     "name": "stdout",
     "output_type": "stream",
     "text": [
      "Test set loss: 37.9199\n"
     ]
    },
    {
     "name": "stderr",
     "output_type": "stream",
     "text": [
      "Distribution: gaussian - Training Epoch 60/100: 100%|██████████| 469/469 [00:06<00:00, 77.58it/s]\n"
     ]
    },
    {
     "name": "stdout",
     "output_type": "stream",
     "text": [
      "Epoch: 60 Average loss: 37.4415\n"
     ]
    },
    {
     "name": "stderr",
     "output_type": "stream",
     "text": [
      "Distribution: gaussian - Test Epoch 60/100: 100%|██████████| 79/79 [00:00<00:00, 182.60it/s]\n"
     ]
    },
    {
     "name": "stdout",
     "output_type": "stream",
     "text": [
      "Test set loss: 37.7396\n"
     ]
    },
    {
     "name": "stderr",
     "output_type": "stream",
     "text": [
      "Distribution: gaussian - Training Epoch 61/100: 100%|██████████| 469/469 [00:05<00:00, 78.23it/s]\n"
     ]
    },
    {
     "name": "stdout",
     "output_type": "stream",
     "text": [
      "Epoch: 61 Average loss: 37.4222\n"
     ]
    },
    {
     "name": "stderr",
     "output_type": "stream",
     "text": [
      "Distribution: gaussian - Test Epoch 61/100: 100%|██████████| 79/79 [00:00<00:00, 176.85it/s]\n"
     ]
    },
    {
     "name": "stdout",
     "output_type": "stream",
     "text": [
      "Test set loss: 37.6770\n"
     ]
    },
    {
     "name": "stderr",
     "output_type": "stream",
     "text": [
      "Distribution: gaussian - Training Epoch 62/100: 100%|██████████| 469/469 [00:05<00:00, 78.37it/s]\n"
     ]
    },
    {
     "name": "stdout",
     "output_type": "stream",
     "text": [
      "Epoch: 62 Average loss: 37.4390\n"
     ]
    },
    {
     "name": "stderr",
     "output_type": "stream",
     "text": [
      "Distribution: gaussian - Test Epoch 62/100: 100%|██████████| 79/79 [00:00<00:00, 184.29it/s]\n"
     ]
    },
    {
     "name": "stdout",
     "output_type": "stream",
     "text": [
      "Test set loss: 38.0089\n"
     ]
    },
    {
     "name": "stderr",
     "output_type": "stream",
     "text": [
      "Distribution: gaussian - Training Epoch 63/100: 100%|██████████| 469/469 [00:05<00:00, 78.60it/s]\n"
     ]
    },
    {
     "name": "stdout",
     "output_type": "stream",
     "text": [
      "Epoch: 63 Average loss: 37.3867\n"
     ]
    },
    {
     "name": "stderr",
     "output_type": "stream",
     "text": [
      "Distribution: gaussian - Test Epoch 63/100: 100%|██████████| 79/79 [00:00<00:00, 182.83it/s]\n"
     ]
    },
    {
     "name": "stdout",
     "output_type": "stream",
     "text": [
      "Test set loss: 37.7807\n"
     ]
    },
    {
     "name": "stderr",
     "output_type": "stream",
     "text": [
      "Distribution: gaussian - Training Epoch 64/100: 100%|██████████| 469/469 [00:05<00:00, 78.63it/s]\n"
     ]
    },
    {
     "name": "stdout",
     "output_type": "stream",
     "text": [
      "Epoch: 64 Average loss: 37.3775\n"
     ]
    },
    {
     "name": "stderr",
     "output_type": "stream",
     "text": [
      "Distribution: gaussian - Test Epoch 64/100: 100%|██████████| 79/79 [00:00<00:00, 175.26it/s]\n"
     ]
    },
    {
     "name": "stdout",
     "output_type": "stream",
     "text": [
      "Test set loss: 38.3221\n"
     ]
    },
    {
     "name": "stderr",
     "output_type": "stream",
     "text": [
      "Distribution: gaussian - Training Epoch 65/100: 100%|██████████| 469/469 [00:06<00:00, 77.94it/s]\n"
     ]
    },
    {
     "name": "stdout",
     "output_type": "stream",
     "text": [
      "Epoch: 65 Average loss: 37.4179\n"
     ]
    },
    {
     "name": "stderr",
     "output_type": "stream",
     "text": [
      "Distribution: gaussian - Test Epoch 65/100: 100%|██████████| 79/79 [00:00<00:00, 183.17it/s]\n"
     ]
    },
    {
     "name": "stdout",
     "output_type": "stream",
     "text": [
      "Test set loss: 37.7878\n"
     ]
    },
    {
     "name": "stderr",
     "output_type": "stream",
     "text": [
      "Distribution: gaussian - Training Epoch 66/100: 100%|██████████| 469/469 [00:05<00:00, 79.45it/s]\n"
     ]
    },
    {
     "name": "stdout",
     "output_type": "stream",
     "text": [
      "Epoch: 66 Average loss: 37.3771\n"
     ]
    },
    {
     "name": "stderr",
     "output_type": "stream",
     "text": [
      "Distribution: gaussian - Test Epoch 66/100: 100%|██████████| 79/79 [00:00<00:00, 178.31it/s]\n"
     ]
    },
    {
     "name": "stdout",
     "output_type": "stream",
     "text": [
      "Test set loss: 37.6957\n"
     ]
    },
    {
     "name": "stderr",
     "output_type": "stream",
     "text": [
      "Distribution: gaussian - Training Epoch 67/100: 100%|██████████| 469/469 [00:05<00:00, 78.31it/s]\n"
     ]
    },
    {
     "name": "stdout",
     "output_type": "stream",
     "text": [
      "Epoch: 67 Average loss: 37.3631\n"
     ]
    },
    {
     "name": "stderr",
     "output_type": "stream",
     "text": [
      "Distribution: gaussian - Test Epoch 67/100: 100%|██████████| 79/79 [00:00<00:00, 185.50it/s]\n"
     ]
    },
    {
     "name": "stdout",
     "output_type": "stream",
     "text": [
      "Test set loss: 37.6816\n"
     ]
    },
    {
     "name": "stderr",
     "output_type": "stream",
     "text": [
      "Distribution: gaussian - Training Epoch 68/100: 100%|██████████| 469/469 [00:05<00:00, 78.82it/s]\n"
     ]
    },
    {
     "name": "stdout",
     "output_type": "stream",
     "text": [
      "Epoch: 68 Average loss: 37.3487\n"
     ]
    },
    {
     "name": "stderr",
     "output_type": "stream",
     "text": [
      "Distribution: gaussian - Test Epoch 68/100: 100%|██████████| 79/79 [00:00<00:00, 183.22it/s]\n"
     ]
    },
    {
     "name": "stdout",
     "output_type": "stream",
     "text": [
      "Test set loss: 37.5046\n"
     ]
    },
    {
     "name": "stderr",
     "output_type": "stream",
     "text": [
      "Distribution: gaussian - Training Epoch 69/100: 100%|██████████| 469/469 [00:06<00:00, 77.95it/s]\n"
     ]
    },
    {
     "name": "stdout",
     "output_type": "stream",
     "text": [
      "Epoch: 69 Average loss: 37.3363\n"
     ]
    },
    {
     "name": "stderr",
     "output_type": "stream",
     "text": [
      "Distribution: gaussian - Test Epoch 69/100: 100%|██████████| 79/79 [00:00<00:00, 176.68it/s]\n"
     ]
    },
    {
     "name": "stdout",
     "output_type": "stream",
     "text": [
      "Test set loss: 37.5619\n"
     ]
    },
    {
     "name": "stderr",
     "output_type": "stream",
     "text": [
      "Distribution: gaussian - Training Epoch 70/100: 100%|██████████| 469/469 [00:05<00:00, 78.84it/s]\n"
     ]
    },
    {
     "name": "stdout",
     "output_type": "stream",
     "text": [
      "Epoch: 70 Average loss: 37.3595\n"
     ]
    },
    {
     "name": "stderr",
     "output_type": "stream",
     "text": [
      "Distribution: gaussian - Test Epoch 70/100: 100%|██████████| 79/79 [00:00<00:00, 185.40it/s]\n"
     ]
    },
    {
     "name": "stdout",
     "output_type": "stream",
     "text": [
      "Test set loss: 37.6403\n"
     ]
    },
    {
     "name": "stderr",
     "output_type": "stream",
     "text": [
      "Distribution: gaussian - Training Epoch 71/100: 100%|██████████| 469/469 [00:06<00:00, 78.06it/s]\n"
     ]
    },
    {
     "name": "stdout",
     "output_type": "stream",
     "text": [
      "Epoch: 71 Average loss: 37.3167\n"
     ]
    },
    {
     "name": "stderr",
     "output_type": "stream",
     "text": [
      "Distribution: gaussian - Test Epoch 71/100: 100%|██████████| 79/79 [00:00<00:00, 187.39it/s]\n"
     ]
    },
    {
     "name": "stdout",
     "output_type": "stream",
     "text": [
      "Test set loss: 37.9343\n"
     ]
    },
    {
     "name": "stderr",
     "output_type": "stream",
     "text": [
      "Distribution: gaussian - Training Epoch 72/100: 100%|██████████| 469/469 [00:05<00:00, 79.40it/s]\n"
     ]
    },
    {
     "name": "stdout",
     "output_type": "stream",
     "text": [
      "Epoch: 72 Average loss: 37.3229\n"
     ]
    },
    {
     "name": "stderr",
     "output_type": "stream",
     "text": [
      "Distribution: gaussian - Test Epoch 72/100: 100%|██████████| 79/79 [00:00<00:00, 174.32it/s]\n"
     ]
    },
    {
     "name": "stdout",
     "output_type": "stream",
     "text": [
      "Test set loss: 38.0307\n"
     ]
    },
    {
     "name": "stderr",
     "output_type": "stream",
     "text": [
      "Distribution: gaussian - Training Epoch 73/100: 100%|██████████| 469/469 [00:05<00:00, 78.21it/s]\n"
     ]
    },
    {
     "name": "stdout",
     "output_type": "stream",
     "text": [
      "Epoch: 73 Average loss: 37.2860\n"
     ]
    },
    {
     "name": "stderr",
     "output_type": "stream",
     "text": [
      "Distribution: gaussian - Test Epoch 73/100: 100%|██████████| 79/79 [00:00<00:00, 186.25it/s]\n"
     ]
    },
    {
     "name": "stdout",
     "output_type": "stream",
     "text": [
      "Test set loss: 37.6815\n"
     ]
    },
    {
     "name": "stderr",
     "output_type": "stream",
     "text": [
      "Distribution: gaussian - Training Epoch 74/100: 100%|██████████| 469/469 [00:06<00:00, 77.73it/s]\n"
     ]
    },
    {
     "name": "stdout",
     "output_type": "stream",
     "text": [
      "Epoch: 74 Average loss: 37.2874\n"
     ]
    },
    {
     "name": "stderr",
     "output_type": "stream",
     "text": [
      "Distribution: gaussian - Test Epoch 74/100: 100%|██████████| 79/79 [00:00<00:00, 173.31it/s]\n"
     ]
    },
    {
     "name": "stdout",
     "output_type": "stream",
     "text": [
      "Test set loss: 37.6937\n"
     ]
    },
    {
     "name": "stderr",
     "output_type": "stream",
     "text": [
      "Distribution: gaussian - Training Epoch 75/100: 100%|██████████| 469/469 [00:05<00:00, 78.28it/s]\n"
     ]
    },
    {
     "name": "stdout",
     "output_type": "stream",
     "text": [
      "Epoch: 75 Average loss: 37.2915\n"
     ]
    },
    {
     "name": "stderr",
     "output_type": "stream",
     "text": [
      "Distribution: gaussian - Test Epoch 75/100: 100%|██████████| 79/79 [00:00<00:00, 185.64it/s]\n"
     ]
    },
    {
     "name": "stdout",
     "output_type": "stream",
     "text": [
      "Test set loss: 37.8370\n"
     ]
    },
    {
     "name": "stderr",
     "output_type": "stream",
     "text": [
      "Distribution: gaussian - Training Epoch 76/100: 100%|██████████| 469/469 [00:06<00:00, 78.14it/s]\n"
     ]
    },
    {
     "name": "stdout",
     "output_type": "stream",
     "text": [
      "Epoch: 76 Average loss: 37.2670\n"
     ]
    },
    {
     "name": "stderr",
     "output_type": "stream",
     "text": [
      "Distribution: gaussian - Test Epoch 76/100: 100%|██████████| 79/79 [00:00<00:00, 185.36it/s]\n"
     ]
    },
    {
     "name": "stdout",
     "output_type": "stream",
     "text": [
      "Test set loss: 37.7023\n"
     ]
    },
    {
     "name": "stderr",
     "output_type": "stream",
     "text": [
      "Distribution: gaussian - Training Epoch 77/100: 100%|██████████| 469/469 [00:06<00:00, 78.08it/s]\n"
     ]
    },
    {
     "name": "stdout",
     "output_type": "stream",
     "text": [
      "Epoch: 77 Average loss: 37.2985\n"
     ]
    },
    {
     "name": "stderr",
     "output_type": "stream",
     "text": [
      "Distribution: gaussian - Test Epoch 77/100: 100%|██████████| 79/79 [00:00<00:00, 178.53it/s]\n"
     ]
    },
    {
     "name": "stdout",
     "output_type": "stream",
     "text": [
      "Test set loss: 37.6635\n"
     ]
    },
    {
     "name": "stderr",
     "output_type": "stream",
     "text": [
      "Distribution: gaussian - Training Epoch 78/100: 100%|██████████| 469/469 [00:05<00:00, 78.81it/s]\n"
     ]
    },
    {
     "name": "stdout",
     "output_type": "stream",
     "text": [
      "Epoch: 78 Average loss: 37.2545\n"
     ]
    },
    {
     "name": "stderr",
     "output_type": "stream",
     "text": [
      "Distribution: gaussian - Test Epoch 78/100: 100%|██████████| 79/79 [00:00<00:00, 187.23it/s]\n"
     ]
    },
    {
     "name": "stdout",
     "output_type": "stream",
     "text": [
      "Test set loss: 37.8259\n"
     ]
    },
    {
     "name": "stderr",
     "output_type": "stream",
     "text": [
      "Distribution: gaussian - Training Epoch 79/100: 100%|██████████| 469/469 [00:05<00:00, 78.52it/s]\n"
     ]
    },
    {
     "name": "stdout",
     "output_type": "stream",
     "text": [
      "Epoch: 79 Average loss: 37.2364\n"
     ]
    },
    {
     "name": "stderr",
     "output_type": "stream",
     "text": [
      "Distribution: gaussian - Test Epoch 79/100: 100%|██████████| 79/79 [00:00<00:00, 186.35it/s]\n"
     ]
    },
    {
     "name": "stdout",
     "output_type": "stream",
     "text": [
      "Test set loss: 37.8024\n"
     ]
    },
    {
     "name": "stderr",
     "output_type": "stream",
     "text": [
      "Distribution: gaussian - Training Epoch 80/100: 100%|██████████| 469/469 [00:05<00:00, 79.13it/s]\n"
     ]
    },
    {
     "name": "stdout",
     "output_type": "stream",
     "text": [
      "Epoch: 80 Average loss: 37.2554\n"
     ]
    },
    {
     "name": "stderr",
     "output_type": "stream",
     "text": [
      "Distribution: gaussian - Test Epoch 80/100: 100%|██████████| 79/79 [00:00<00:00, 175.44it/s]\n"
     ]
    },
    {
     "name": "stdout",
     "output_type": "stream",
     "text": [
      "Test set loss: 37.5784\n"
     ]
    },
    {
     "name": "stderr",
     "output_type": "stream",
     "text": [
      "Distribution: gaussian - Training Epoch 81/100: 100%|██████████| 469/469 [00:05<00:00, 78.50it/s]\n"
     ]
    },
    {
     "name": "stdout",
     "output_type": "stream",
     "text": [
      "Epoch: 81 Average loss: 37.2354\n"
     ]
    },
    {
     "name": "stderr",
     "output_type": "stream",
     "text": [
      "Distribution: gaussian - Test Epoch 81/100: 100%|██████████| 79/79 [00:00<00:00, 186.52it/s]\n"
     ]
    },
    {
     "name": "stdout",
     "output_type": "stream",
     "text": [
      "Test set loss: 37.7487\n"
     ]
    },
    {
     "name": "stderr",
     "output_type": "stream",
     "text": [
      "Distribution: gaussian - Training Epoch 82/100: 100%|██████████| 469/469 [00:06<00:00, 78.01it/s]\n"
     ]
    },
    {
     "name": "stdout",
     "output_type": "stream",
     "text": [
      "Epoch: 82 Average loss: 37.2363\n"
     ]
    },
    {
     "name": "stderr",
     "output_type": "stream",
     "text": [
      "Distribution: gaussian - Test Epoch 82/100: 100%|██████████| 79/79 [00:00<00:00, 183.82it/s]\n"
     ]
    },
    {
     "name": "stdout",
     "output_type": "stream",
     "text": [
      "Test set loss: 37.7330\n"
     ]
    },
    {
     "name": "stderr",
     "output_type": "stream",
     "text": [
      "Distribution: gaussian - Training Epoch 83/100: 100%|██████████| 469/469 [00:05<00:00, 79.13it/s]\n"
     ]
    },
    {
     "name": "stdout",
     "output_type": "stream",
     "text": [
      "Epoch: 83 Average loss: 37.2020\n"
     ]
    },
    {
     "name": "stderr",
     "output_type": "stream",
     "text": [
      "Distribution: gaussian - Test Epoch 83/100: 100%|██████████| 79/79 [00:00<00:00, 186.40it/s]\n"
     ]
    },
    {
     "name": "stdout",
     "output_type": "stream",
     "text": [
      "Test set loss: 37.6331\n"
     ]
    },
    {
     "name": "stderr",
     "output_type": "stream",
     "text": [
      "Distribution: gaussian - Training Epoch 84/100: 100%|██████████| 469/469 [00:06<00:00, 78.05it/s]\n"
     ]
    },
    {
     "name": "stdout",
     "output_type": "stream",
     "text": [
      "Epoch: 84 Average loss: 37.2133\n"
     ]
    },
    {
     "name": "stderr",
     "output_type": "stream",
     "text": [
      "Distribution: gaussian - Test Epoch 84/100: 100%|██████████| 79/79 [00:00<00:00, 176.46it/s]\n"
     ]
    },
    {
     "name": "stdout",
     "output_type": "stream",
     "text": [
      "Test set loss: 37.6282\n"
     ]
    },
    {
     "name": "stderr",
     "output_type": "stream",
     "text": [
      "Distribution: gaussian - Training Epoch 85/100: 100%|██████████| 469/469 [00:05<00:00, 78.77it/s]\n"
     ]
    },
    {
     "name": "stdout",
     "output_type": "stream",
     "text": [
      "Epoch: 85 Average loss: 37.2153\n"
     ]
    },
    {
     "name": "stderr",
     "output_type": "stream",
     "text": [
      "Distribution: gaussian - Test Epoch 85/100: 100%|██████████| 79/79 [00:00<00:00, 187.95it/s]\n"
     ]
    },
    {
     "name": "stdout",
     "output_type": "stream",
     "text": [
      "Test set loss: 37.6227\n"
     ]
    },
    {
     "name": "stderr",
     "output_type": "stream",
     "text": [
      "Distribution: gaussian - Training Epoch 86/100: 100%|██████████| 469/469 [00:05<00:00, 78.75it/s]\n"
     ]
    },
    {
     "name": "stdout",
     "output_type": "stream",
     "text": [
      "Epoch: 86 Average loss: 37.1924\n"
     ]
    },
    {
     "name": "stderr",
     "output_type": "stream",
     "text": [
      "Distribution: gaussian - Test Epoch 86/100: 100%|██████████| 79/79 [00:00<00:00, 174.55it/s]\n"
     ]
    },
    {
     "name": "stdout",
     "output_type": "stream",
     "text": [
      "Test set loss: 37.5945\n"
     ]
    },
    {
     "name": "stderr",
     "output_type": "stream",
     "text": [
      "Distribution: gaussian - Training Epoch 87/100: 100%|██████████| 469/469 [00:05<00:00, 78.22it/s]\n"
     ]
    },
    {
     "name": "stdout",
     "output_type": "stream",
     "text": [
      "Epoch: 87 Average loss: 37.1775\n"
     ]
    },
    {
     "name": "stderr",
     "output_type": "stream",
     "text": [
      "Distribution: gaussian - Test Epoch 87/100: 100%|██████████| 79/79 [00:00<00:00, 183.38it/s]\n"
     ]
    },
    {
     "name": "stdout",
     "output_type": "stream",
     "text": [
      "Test set loss: 37.6033\n"
     ]
    },
    {
     "name": "stderr",
     "output_type": "stream",
     "text": [
      "Distribution: gaussian - Training Epoch 88/100: 100%|██████████| 469/469 [00:05<00:00, 78.26it/s]\n"
     ]
    },
    {
     "name": "stdout",
     "output_type": "stream",
     "text": [
      "Epoch: 88 Average loss: 37.1949\n"
     ]
    },
    {
     "name": "stderr",
     "output_type": "stream",
     "text": [
      "Distribution: gaussian - Test Epoch 88/100: 100%|██████████| 79/79 [00:00<00:00, 176.42it/s]\n"
     ]
    },
    {
     "name": "stdout",
     "output_type": "stream",
     "text": [
      "Test set loss: 37.6999\n"
     ]
    },
    {
     "name": "stderr",
     "output_type": "stream",
     "text": [
      "Distribution: gaussian - Training Epoch 89/100: 100%|██████████| 469/469 [00:06<00:00, 77.80it/s]\n"
     ]
    },
    {
     "name": "stdout",
     "output_type": "stream",
     "text": [
      "Epoch: 89 Average loss: 37.1674\n"
     ]
    },
    {
     "name": "stderr",
     "output_type": "stream",
     "text": [
      "Distribution: gaussian - Test Epoch 89/100: 100%|██████████| 79/79 [00:00<00:00, 185.68it/s]\n"
     ]
    },
    {
     "name": "stdout",
     "output_type": "stream",
     "text": [
      "Test set loss: 37.5643\n"
     ]
    },
    {
     "name": "stderr",
     "output_type": "stream",
     "text": [
      "Distribution: gaussian - Training Epoch 90/100: 100%|██████████| 469/469 [00:06<00:00, 74.67it/s]\n"
     ]
    },
    {
     "name": "stdout",
     "output_type": "stream",
     "text": [
      "Epoch: 90 Average loss: 37.1423\n"
     ]
    },
    {
     "name": "stderr",
     "output_type": "stream",
     "text": [
      "Distribution: gaussian - Test Epoch 90/100: 100%|██████████| 79/79 [00:00<00:00, 176.03it/s]\n"
     ]
    },
    {
     "name": "stdout",
     "output_type": "stream",
     "text": [
      "Test set loss: 37.5821\n"
     ]
    },
    {
     "name": "stderr",
     "output_type": "stream",
     "text": [
      "Distribution: gaussian - Training Epoch 91/100: 100%|██████████| 469/469 [00:06<00:00, 70.76it/s]\n"
     ]
    },
    {
     "name": "stdout",
     "output_type": "stream",
     "text": [
      "Epoch: 91 Average loss: 37.1474\n"
     ]
    },
    {
     "name": "stderr",
     "output_type": "stream",
     "text": [
      "Distribution: gaussian - Test Epoch 91/100: 100%|██████████| 79/79 [00:00<00:00, 176.60it/s]\n"
     ]
    },
    {
     "name": "stdout",
     "output_type": "stream",
     "text": [
      "Test set loss: 37.6278\n"
     ]
    },
    {
     "name": "stderr",
     "output_type": "stream",
     "text": [
      "Distribution: gaussian - Training Epoch 92/100: 100%|██████████| 469/469 [00:06<00:00, 72.95it/s]\n"
     ]
    },
    {
     "name": "stdout",
     "output_type": "stream",
     "text": [
      "Epoch: 92 Average loss: 37.1668\n"
     ]
    },
    {
     "name": "stderr",
     "output_type": "stream",
     "text": [
      "Distribution: gaussian - Test Epoch 92/100: 100%|██████████| 79/79 [00:00<00:00, 178.37it/s]\n"
     ]
    },
    {
     "name": "stdout",
     "output_type": "stream",
     "text": [
      "Test set loss: 37.6169\n"
     ]
    },
    {
     "name": "stderr",
     "output_type": "stream",
     "text": [
      "Distribution: gaussian - Training Epoch 93/100: 100%|██████████| 469/469 [00:07<00:00, 66.80it/s]\n"
     ]
    },
    {
     "name": "stdout",
     "output_type": "stream",
     "text": [
      "Epoch: 93 Average loss: 37.1548\n"
     ]
    },
    {
     "name": "stderr",
     "output_type": "stream",
     "text": [
      "Distribution: gaussian - Test Epoch 93/100: 100%|██████████| 79/79 [00:00<00:00, 177.06it/s]\n"
     ]
    },
    {
     "name": "stdout",
     "output_type": "stream",
     "text": [
      "Test set loss: 37.5691\n"
     ]
    },
    {
     "name": "stderr",
     "output_type": "stream",
     "text": [
      "Distribution: gaussian - Training Epoch 94/100: 100%|██████████| 469/469 [00:07<00:00, 66.94it/s]\n"
     ]
    },
    {
     "name": "stdout",
     "output_type": "stream",
     "text": [
      "Epoch: 94 Average loss: 37.1397\n"
     ]
    },
    {
     "name": "stderr",
     "output_type": "stream",
     "text": [
      "Distribution: gaussian - Test Epoch 94/100: 100%|██████████| 79/79 [00:00<00:00, 173.36it/s]\n"
     ]
    },
    {
     "name": "stdout",
     "output_type": "stream",
     "text": [
      "Test set loss: 37.4408\n"
     ]
    },
    {
     "name": "stderr",
     "output_type": "stream",
     "text": [
      "Distribution: gaussian - Training Epoch 95/100: 100%|██████████| 469/469 [00:07<00:00, 65.37it/s]\n"
     ]
    },
    {
     "name": "stdout",
     "output_type": "stream",
     "text": [
      "Epoch: 95 Average loss: 37.1123\n"
     ]
    },
    {
     "name": "stderr",
     "output_type": "stream",
     "text": [
      "Distribution: gaussian - Test Epoch 95/100: 100%|██████████| 79/79 [00:00<00:00, 184.40it/s]\n"
     ]
    },
    {
     "name": "stdout",
     "output_type": "stream",
     "text": [
      "Test set loss: 37.6258\n"
     ]
    },
    {
     "name": "stderr",
     "output_type": "stream",
     "text": [
      "Distribution: gaussian - Training Epoch 96/100: 100%|██████████| 469/469 [00:06<00:00, 67.98it/s]\n"
     ]
    },
    {
     "name": "stdout",
     "output_type": "stream",
     "text": [
      "Epoch: 96 Average loss: 37.1331\n"
     ]
    },
    {
     "name": "stderr",
     "output_type": "stream",
     "text": [
      "Distribution: gaussian - Test Epoch 96/100: 100%|██████████| 79/79 [00:00<00:00, 182.65it/s]\n"
     ]
    },
    {
     "name": "stdout",
     "output_type": "stream",
     "text": [
      "Test set loss: 37.7388\n"
     ]
    },
    {
     "name": "stderr",
     "output_type": "stream",
     "text": [
      "Distribution: gaussian - Training Epoch 97/100: 100%|██████████| 469/469 [00:06<00:00, 67.82it/s]\n"
     ]
    },
    {
     "name": "stdout",
     "output_type": "stream",
     "text": [
      "Epoch: 97 Average loss: 37.1151\n"
     ]
    },
    {
     "name": "stderr",
     "output_type": "stream",
     "text": [
      "Distribution: gaussian - Test Epoch 97/100: 100%|██████████| 79/79 [00:00<00:00, 187.05it/s]\n"
     ]
    },
    {
     "name": "stdout",
     "output_type": "stream",
     "text": [
      "Test set loss: 37.4645\n"
     ]
    },
    {
     "name": "stderr",
     "output_type": "stream",
     "text": [
      "Distribution: gaussian - Training Epoch 98/100: 100%|██████████| 469/469 [00:08<00:00, 56.83it/s]\n"
     ]
    },
    {
     "name": "stdout",
     "output_type": "stream",
     "text": [
      "Epoch: 98 Average loss: 37.0981\n"
     ]
    },
    {
     "name": "stderr",
     "output_type": "stream",
     "text": [
      "Distribution: gaussian - Test Epoch 98/100: 100%|██████████| 79/79 [00:00<00:00, 186.35it/s]\n"
     ]
    },
    {
     "name": "stdout",
     "output_type": "stream",
     "text": [
      "Test set loss: 37.5839\n"
     ]
    },
    {
     "name": "stderr",
     "output_type": "stream",
     "text": [
      "Distribution: gaussian - Training Epoch 99/100: 100%|██████████| 469/469 [00:07<00:00, 64.17it/s]\n"
     ]
    },
    {
     "name": "stdout",
     "output_type": "stream",
     "text": [
      "Epoch: 99 Average loss: 37.1177\n"
     ]
    },
    {
     "name": "stderr",
     "output_type": "stream",
     "text": [
      "Distribution: gaussian - Test Epoch 99/100: 100%|██████████| 79/79 [00:00<00:00, 184.11it/s]\n"
     ]
    },
    {
     "name": "stdout",
     "output_type": "stream",
     "text": [
      "Test set loss: 37.5337\n"
     ]
    },
    {
     "name": "stderr",
     "output_type": "stream",
     "text": [
      "Distribution: gaussian - Training Epoch 100/100: 100%|██████████| 469/469 [00:06<00:00, 73.07it/s]\n"
     ]
    },
    {
     "name": "stdout",
     "output_type": "stream",
     "text": [
      "Epoch: 100 Average loss: 37.0930\n"
     ]
    },
    {
     "name": "stderr",
     "output_type": "stream",
     "text": [
      "Distribution: gaussian - Test Epoch 100/100: 100%|██████████| 79/79 [00:00<00:00, 194.71it/s]"
     ]
    },
    {
     "name": "stdout",
     "output_type": "stream",
     "text": [
      "Test set loss: 37.5429\n"
     ]
    },
    {
     "name": "stderr",
     "output_type": "stream",
     "text": [
      "\n"
     ]
    }
   ],
   "source": [
    "distributions = [\n",
    "    # \"gaussian_with_learned_variance\",\n",
    "    \"gaussian\",\n",
    "    # \"bernoulli\",\n",
    "    # \"continuous_bernoulli\",\n",
    "]\n",
    "\n",
    "for distribution in distributions:\n",
    "    model = VAE(latent_dim=latent_dim, distribution=distribution).to(device)\n",
    "    optimizer = optim.Adam(model.parameters(), lr=1e-3)\n",
    "\n",
    "    for epoch in range(1, EPOCHS + 1):\n",
    "        train(model, optimizer, loss_fct, epoch, model.distribution)\n",
    "        test(model, loss_fct, epoch, model.distribution)\n",
    "        if distribution != \"gaussian_with_learned_variance\":\n",
    "            with torch.no_grad():\n",
    "                sample = torch.randn(64, latent_dim).to(device)\n",
    "                sample = model.decode(sample).cpu()\n",
    "                save_image(\n",
    "                    sample.view(64, 1, 28, 28),\n",
    "                    f\"../images/{model.distribution}/sample_\" + str(epoch) + \".png\",\n",
    "                )\n",
    "\n",
    "    timestr = time.strftime(\"%Y%m%d-%H%M%S\")\n",
    "    torch.save(model, f\"../models/{model.distribution}_{timestr}.pt\")\n"
   ]
  },
  {
   "cell_type": "code",
   "execution_count": 225,
   "metadata": {},
   "outputs": [
    {
     "name": "stderr",
     "output_type": "stream",
     "text": [
      "/var/folders/fy/zx0sb02j5rv66mcpx65ldmvc0000gn/T/ipykernel_58106/1154650953.py:20: FutureWarning: You are using `torch.load` with `weights_only=False` (the current default value), which uses the default pickle module implicitly. It is possible to construct malicious pickle data which will execute arbitrary code during unpickling (See https://github.com/pytorch/pytorch/blob/main/SECURITY.md#untrusted-models for more details). In a future release, the default value for `weights_only` will be flipped to `True`. This limits the functions that could be executed during unpickling. Arbitrary objects will no longer be allowed to be loaded via this mode unless they are explicitly allowlisted by the user via `torch.serialization.add_safe_globals`. We recommend you start setting `weights_only=True` for any use case where you don't have full control of the loaded file. Please open an issue on GitHub for any issues related to this experimental feature.\n",
      "  model_vae = torch.load(\"../models/bernoulli_20250105-170534.pt\")\n",
      "/var/folders/fy/zx0sb02j5rv66mcpx65ldmvc0000gn/T/ipykernel_58106/1154650953.py:21: FutureWarning: You are using `torch.load` with `weights_only=False` (the current default value), which uses the default pickle module implicitly. It is possible to construct malicious pickle data which will execute arbitrary code during unpickling (See https://github.com/pytorch/pytorch/blob/main/SECURITY.md#untrusted-models for more details). In a future release, the default value for `weights_only` will be flipped to `True`. This limits the functions that could be executed during unpickling. Arbitrary objects will no longer be allowed to be loaded via this mode unless they are explicitly allowlisted by the user via `torch.serialization.add_safe_globals`. We recommend you start setting `weights_only=True` for any use case where you don't have full control of the loaded file. Please open an issue on GitHub for any issues related to this experimental feature.\n",
      "  model_cbvae = torch.load(\"../models/continuous_bernoulli_20250105-172440.pt\")\n",
      "/var/folders/fy/zx0sb02j5rv66mcpx65ldmvc0000gn/T/ipykernel_58106/1154650953.py:22: FutureWarning: You are using `torch.load` with `weights_only=False` (the current default value), which uses the default pickle module implicitly. It is possible to construct malicious pickle data which will execute arbitrary code during unpickling (See https://github.com/pytorch/pytorch/blob/main/SECURITY.md#untrusted-models for more details). In a future release, the default value for `weights_only` will be flipped to `True`. This limits the functions that could be executed during unpickling. Arbitrary objects will no longer be allowed to be loaded via this mode unless they are explicitly allowlisted by the user via `torch.serialization.add_safe_globals`. We recommend you start setting `weights_only=True` for any use case where you don't have full control of the loaded file. Please open an issue on GitHub for any issues related to this experimental feature.\n",
      "  model_gvae = torch.load(\"../models/gaussian_20250105-180253.pt\")\n"
     ]
    },
    {
     "data": {
      "image/png": "[encoded data removed]",
      "text/plain": [
       "<Figure size 500x500 with 1 Axes>"
      ]
     },
     "metadata": {},
     "output_type": "display_data"
    },
    {
     "data": {
      "image/png": "[encoded data removed]",
      "text/plain": [
       "<Figure size 500x500 with 1 Axes>"
      ]
     },
     "metadata": {},
     "output_type": "display_data"
    },
    {
     "data": {
      "image/png": "[encoded data removed]",
      "text/plain": [
       "<Figure size 500x500 with 1 Axes>"
      ]
     },
     "metadata": {},
     "output_type": "display_data"
    },
    {
     "data": {
      "image/png": "[encoded data removed]",
      "text/plain": [
       "<Figure size 500x500 with 1 Axes>"
      ]
     },
     "metadata": {},
     "output_type": "display_data"
    }
   ],
   "source": [
    "def imshow(img, title=\"MNIST Samples\"):\n",
    "    npimg = img.numpy()\n",
    "    plt.figure(figsize=(5, 5))\n",
    "    plt.title(title, fontsize=20)\n",
    "    plt.axis(\"off\")\n",
    "    plt.imshow(np.transpose(npimg, (1, 2, 0)), interpolation=\"nearest\")\n",
    "\n",
    "\n",
    "# Visualize dataset\n",
    "dataiter = iter(test_loader)\n",
    "mnist_images, mnist_labels = next(dataiter)\n",
    "\n",
    "\n",
    "model_vae = VAE(latent_dim=latent_dim, distribution=\"bernoulli\").to(device)\n",
    "model_cbvae = VAE(latent_dim=latent_dim, distribution=\"continuous_bernoulli\").to(device)\n",
    "model_gvae = VAE(latent_dim=latent_dim, distribution=\"gaussian\").to(device)\n",
    "\n",
    "\n",
    "# Load models\n",
    "model_vae = torch.load(\"../models/bernoulli_20250105-170534.pt\")\n",
    "model_cbvae = torch.load(\"../models/continuous_bernoulli_20250105-172440.pt\")\n",
    "model_gvae = torch.load(\"../models/gaussian_20250105-180253.pt\")\n",
    "\n",
    "# Sample from models\n",
    "model_vae.eval()\n",
    "model_cbvae.eval()\n",
    "model_gvae.eval()\n",
    "\n",
    "z = torch.randn(8, 2).to(device)\n",
    "sample_cbvae = model_cbvae.decode(z).cpu().view(8, 1, 28, 28).detach()\n",
    "sample_vae = model_vae.decode(z).cpu().view(8, 1, 28, 28).detach()\n",
    "sample_gvae = model_gvae.decode(z).cpu().view(8, 1, 28, 28).detach()\n",
    "\n",
    "\n",
    "# Plot\n",
    "num_samples = 8\n",
    "imshow(\n",
    "    torchvision.utils.make_grid(mnist_images[:num_samples], num_samples),\n",
    "    r\"MNIST Data Samples\",\n",
    ")\n",
    "imshow(\n",
    "    torchvision.utils.make_grid(sample_cbvae[:num_samples], num_samples),\n",
    "    r\"Samples from $\\mathcal{CB}$-VAE\",\n",
    ")\n",
    "imshow(\n",
    "    torchvision.utils.make_grid(sample_vae[:num_samples], num_samples),\n",
    "    r\"Samples from $\\mathcal{B}$-VAE\",\n",
    ")\n",
    "imshow(\n",
    "    torchvision.utils.make_grid(sample_gvae[:num_samples], num_samples),\n",
    "    r\"Samples from $\\mathcal{G}$-VAE\",\n",
    ")"
   ]
  },
  {
   "cell_type": "code",
   "execution_count": null,
   "metadata": {},
   "outputs": [],
   "source": []
  }
 ],
 "metadata": {
  "kernelspec": {
   "display_name": ".venv",
   "language": "python",
   "name": "python3"
  },
  "language_info": {
   "codemirror_mode": {
    "name": "ipython",
    "version": 3
   },
   "file_extension": ".py",
   "mimetype": "text/x-python",
   "name": "python",
   "nbconvert_exporter": "python",
   "pygments_lexer": "ipython3",
   "version": "3.12.8"
  }
 },
 "nbformat": 4,
 "nbformat_minor": 2
}
