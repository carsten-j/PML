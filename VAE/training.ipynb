{
 "cells": [
  {
   "cell_type": "markdown",
   "metadata": {},
   "source": [
    "Below is an implementation of a Variational Autoencoder (VAE) with a Convolutional Neural Network (CNN) architecture for the MNIST dataset using PyTorch. The encoder uses a Gaussian distribution, and the decoder and loss functions are modular to allow users to choose between multiple distributions:\n",
    "\n",
    "- **Bernoulli**\n",
    "- **Continuous Bernoulli**\n",
    "- **Gaussian with fixed variance**\n",
    "- **Gaussian with learned variance**"
   ]
  },
  {
   "cell_type": "code",
   "execution_count": 183,
   "metadata": {},
   "outputs": [],
   "source": [
    "import matplotlib.pyplot as plt\n",
    "import torch\n",
    "import torch.nn as nn\n",
    "import torch.nn.functional as F\n",
    "import torch.optim as optim\n",
    "import torchvision.datasets as datasets\n",
    "from torch.distributions import ContinuousBernoulli, Normal, kl_divergence\n",
    "from torch.utils.data import DataLoader, random_split\n",
    "from torchinfo import summary\n",
    "from torchvision.transforms import v2\n",
    "from torchvision.utils import make_grid, save_image\n",
    "from tqdm import tqdm\n",
    "import time\n",
    "# import models as m"
   ]
  },
  {
   "cell_type": "code",
   "execution_count": 184,
   "metadata": {},
   "outputs": [],
   "source": [
    "# Encoder network\n",
    "class Encoder(nn.Module):\n",
    "    def __init__(self, latent_dim):\n",
    "        super(Encoder, self).__init__()\n",
    "        # Convolutional layers\n",
    "        self.conv1 = nn.Conv2d(\n",
    "            1, 32, kernel_size=4, stride=2, padding=1\n",
    "        )  # (batch, 1, 28, 28) -> (batch, 32, 14, 14)\n",
    "        self.conv2 = nn.Conv2d(\n",
    "            32, 64, kernel_size=4, stride=2, padding=1\n",
    "        )  # (batch, 32, 14, 14) -> (batch, 64, 7, 7)\n",
    "        self.fc_mu = nn.Linear(64 * 7 * 7, latent_dim)\n",
    "        self.fc_logvar = nn.Linear(64 * 7 * 7, latent_dim)\n",
    "\n",
    "    def forward(self, x):\n",
    "        x = F.relu(self.conv1(x))\n",
    "        x = F.relu(self.conv2(x))\n",
    "        x = x.view(x.size(0), -1)  # Flatten\n",
    "        mu = self.fc_mu(x)\n",
    "        logvar = self.fc_logvar(x)\n",
    "        return mu, logvar\n"
   ]
  },
  {
   "cell_type": "code",
   "execution_count": 185,
   "metadata": {},
   "outputs": [],
   "source": [
    "# Bernoulli decoder\n",
    "# The handwritten digits are `close’ to binary-valued, but are in fact continuous-valued.\n",
    "# See histogram of pixel values in the MNIST dataset.\n",
    "class BernoulliDecoder(nn.Module):\n",
    "    def __init__(self, latent_dim):\n",
    "        super(BernoulliDecoder, self).__init__()\n",
    "        # Fully connected layer\n",
    "        self.fc = nn.Linear(latent_dim, 64 * 7 * 7)\n",
    "        # Transposed convolutions\n",
    "        self.deconv1 = nn.ConvTranspose2d(\n",
    "            64, 32, kernel_size=4, stride=2, padding=1\n",
    "        )  # (batch, 64, 7, 7) -> (batch, 32, 14, 14)\n",
    "        self.deconv2 = nn.ConvTranspose2d(\n",
    "            32, 1, kernel_size=4, stride=2, padding=1\n",
    "        )  # (batch, 32, 14, 14) -> (batch, 1, 28, 28)\n",
    "\n",
    "    def forward(self, z):\n",
    "        x = F.relu(self.fc(z))\n",
    "        x = x.view(-1, 64, 7, 7)  # Reshape\n",
    "        x = F.relu(self.deconv1(x))\n",
    "        x = self.deconv2(x)\n",
    "        return torch.sigmoid(x)\n",
    "        # Do not use sigmoid to Output in (0,1) for Bernoulli as this is handled by the loss function\n",
    "        # **Problem:** Applying the sigmoid activation separately can lead to numerical\n",
    "        # instability, especially when the inputs have extreme values. Additionally,\n",
    "        # it requires an extra computation step.\n",
    "        # return x\n"
   ]
  },
  {
   "cell_type": "code",
   "execution_count": 186,
   "metadata": {},
   "outputs": [],
   "source": [
    "# The decoder for the continuous Bernoulli distribution is identical to the Bernoulli decoder\n",
    "# but the loss function is different\n",
    "class ContinuousBernoulliDecoder(BernoulliDecoder):\n",
    "    pass"
   ]
  },
  {
   "cell_type": "code",
   "execution_count": 187,
   "metadata": {},
   "outputs": [],
   "source": [
    "# Gaussian decoder with fixed variance\n",
    "class GaussianDecoder(nn.Module):\n",
    "    def __init__(self, latent_dim):\n",
    "        super(GaussianDecoder, self).__init__()\n",
    "        # Fully connected layer to expand latent vector\n",
    "        self.fc = nn.Linear(latent_dim, 64 * 7 * 7)\n",
    "        # Deconvolutional layers to reconstruct the image\n",
    "        self.deconv1 = nn.ConvTranspose2d(\n",
    "            64, 32, kernel_size=4, stride=2, padding=1\n",
    "        )  # Upsamples from (64, 7, 7) to (32, 14, 14)\n",
    "        self.deconv2 = nn.ConvTranspose2d(\n",
    "            in_channels=32, out_channels=1, kernel_size=4, stride=2, padding=1\n",
    "        )  # Upsamples from (32, 14, 14) to (1, 28, 28)\n",
    "\n",
    "    def forward(self, z):\n",
    "        # Fully connected layer to expand z\n",
    "        x = self.fc(z)\n",
    "        # Reshape into feature maps\n",
    "        x = x.view(-1, 64, 7, 7)\n",
    "        # Deconvolution layers with activations\n",
    "        x = F.relu(self.deconv1(x))\n",
    "        # Final deconvolution layer; no activation function\n",
    "        x = self.deconv2(x)\n",
    "        # Output is (batch_size, 1, 28, 28)\n",
    "        return x  # Outputting raw values; no activation function\n"
   ]
  },
  {
   "cell_type": "code",
   "execution_count": 188,
   "metadata": {},
   "outputs": [],
   "source": [
    "class GaussianDecoderLearnedVariance(nn.Module):\n",
    "    def __init__(self, latent_dim):\n",
    "        super(GaussianDecoderLearnedVariance, self).__init__()\n",
    "        self.fc = nn.Linear(latent_dim, 64 * 7 * 7)\n",
    "        self.deconv1 = nn.ConvTranspose2d(64, 32, kernel_size=4, stride=2, padding=1)\n",
    "        self.deconv2 = nn.ConvTranspose2d(32, 32, kernel_size=4, stride=2, padding=1)\n",
    "        self.final_mu = nn.Conv2d(32, 1, kernel_size=1)\n",
    "        self.final_logvar = nn.Conv2d(32, 1, kernel_size=1)\n",
    "\n",
    "    def forward(self, z):\n",
    "        x = self.fc(z)\n",
    "        x = x.view(-1, 64, 7, 7)\n",
    "        x = F.relu(self.deconv1(x))\n",
    "        x = F.relu(self.deconv2(x))\n",
    "        recon_mu = self.final_mu(x)\n",
    "        recon_logvar = self.final_logvar(x)\n",
    "        # Apply softplus activation to ensure positive variance\n",
    "\n",
    "        #        - **Unbounded `recon_logvar`**: The decoder outputs `recon_logvar` without any activation function, meaning it can take any real value, including large negative values.\n",
    "        # - **Small Variance**: Large negative values of `recon_logvar` correspond to extremely small variances after applying the exponential function.\n",
    "        # - **High PDF Values**: With very small variances, the Gaussian PDF becomes extremely peaked, leading to high values for `log_prob` when the input `x` is close to `recon_mu`.\n",
    "        # - **Negative NLL**: This results in negative values for the NLL, which is unexpected since the NLL should be non-negative in practical scenarios.\n",
    "        #   - **Softplus Function**: \\( \\text{softplus}(x) = \\ln(1 + e^{x}) \\), which outputs values greater than 0 for real inputs.\n",
    "        recon_logvar = F.softplus(recon_logvar)\n",
    "        return recon_mu, recon_logvar"
   ]
  },
  {
   "cell_type": "code",
   "execution_count": 189,
   "metadata": {},
   "outputs": [],
   "source": [
    "# Variational Autoencoder\n",
    "class VAE(nn.Module):\n",
    "    def __init__(self, latent_dim=2, distribution=\"bernoulli\"):\n",
    "        super(VAE, self).__init__()\n",
    "        self.encoder = Encoder(latent_dim)\n",
    "        self.latent_dim = latent_dim\n",
    "        self.distribution = distribution\n",
    "\n",
    "        # Select decoder based on distribution\n",
    "        if distribution == \"bernoulli\":\n",
    "            self.decoder = BernoulliDecoder(latent_dim)\n",
    "        elif distribution == \"gaussian\":\n",
    "            self.decoder = GaussianDecoder(latent_dim)\n",
    "        elif distribution == \"gaussian_with_learned_variance\":\n",
    "            self.decoder = GaussianDecoderLearnedVariance(latent_dim)\n",
    "        elif distribution == \"continuous_bernoulli\":\n",
    "            self.decoder = ContinuousBernoulliDecoder(latent_dim)\n",
    "        else:\n",
    "            raise NotImplementedError(\n",
    "                f\"Decoder for distribution '{distribution}' is not implemented.\"\n",
    "            )\n",
    "\n",
    "    def reparameterize(self, mu, logvar):\n",
    "        std = torch.exp(0.5 * logvar)  # Standard deviation\n",
    "        eps = torch.randn_like(std)  # Random tensor with same shape as std\n",
    "        return mu + eps * std  # Reparameterization trick\n",
    "\n",
    "    def forward(self, x):\n",
    "        mu, logvar = self.encoder(x)\n",
    "        z = self.reparameterize(mu, logvar)\n",
    "        if self.distribution == \"gaussian_with_learned_variance\":\n",
    "            recon_mean, recon_logvar = self.decoder(z)\n",
    "            return (recon_mean, recon_logvar), mu, logvar\n",
    "        else:\n",
    "            recon = self.decoder(z)\n",
    "        return recon, mu, logvar\n"
   ]
  },
  {
   "cell_type": "code",
   "execution_count": 190,
   "metadata": {},
   "outputs": [
    {
     "name": "stdout",
     "output_type": "stream",
     "text": [
      "Using device: mps\n"
     ]
    }
   ],
   "source": [
    "# Check for GPU or MPS availability. Use CPU if neither is available.\n",
    "device = torch.device(\n",
    "    \"cuda\"\n",
    "    if torch.cuda.is_available()\n",
    "    else \"mps\"\n",
    "    if torch.backends.mps.is_available()\n",
    "    else \"cpu\"\n",
    ")\n",
    "print(f\"Using device: {device}\")"
   ]
  },
  {
   "cell_type": "code",
   "execution_count": 191,
   "metadata": {},
   "outputs": [],
   "source": [
    "# https://github.com/Robert-Aduviri/Continuous-Bernoulli-VAE\n",
    "def sumlogC(x, eps=1e-5):\n",
    "    \"\"\"\n",
    "    Numerically stable implementation of\n",
    "    sum of logarithm of Continous Bernoulli\n",
    "    constant C, using Taylor 2nd degree approximation\n",
    "\n",
    "    Parameter\n",
    "    ----------\n",
    "    x : Tensor of dimensions (batch_size, dim)\n",
    "        x takes values in (0,1)\n",
    "    \"\"\"\n",
    "    x = torch.clamp(x, eps, 1.0 - eps)\n",
    "    mask = torch.abs(x - 0.5).ge(eps)\n",
    "    far = torch.masked_select(x, mask)\n",
    "    close = torch.masked_select(x, ~mask)\n",
    "    far_values = torch.log((torch.log(1.0 - far) - torch.log(far)).div(1.0 - 2.0 * far))\n",
    "    close_values = torch.log(torch.tensor((2.0))) + torch.log(\n",
    "        1.0 + torch.pow(1.0 - 2.0 * close, 2) / 3.0\n",
    "    )\n",
    "    return far_values.sum() + close_values.sum()\n"
   ]
  },
  {
   "cell_type": "code",
   "execution_count": 192,
   "metadata": {},
   "outputs": [],
   "source": [
    "def sumlogC2(x, eps=1e-5):\n",
    "    x = torch.clamp(x, eps, 1 - eps)\n",
    "    mask = torch.abs(x - 0.5) >= eps\n",
    "\n",
    "    far = x[mask]\n",
    "    close = x[~mask]\n",
    "\n",
    "    logC_far = torch.log(torch.log(1 / (1 - far)) / torch.log(1 / far))\n",
    "    logC_close = torch.log(torch.tensor(2)) + torch.log(1 - (1 - 2 * close).pow(2) / 3)\n",
    "\n",
    "    logC = torch.zeros_like(x)\n",
    "    logC[mask] = logC_far\n",
    "    logC[~mask] = logC_close\n",
    "\n",
    "    return torch.sum(logC)"
   ]
  },
  {
   "cell_type": "code",
   "execution_count": 193,
   "metadata": {},
   "outputs": [],
   "source": [
    "def loss_vae(recon_x, x, mu, logvar):\n",
    "    \"\"\"\n",
    "    Variational Autoencoder Loss Function\n",
    "    Described by https://github.com/pytorch/examples/blob/master/vae/main.py\n",
    "    \"\"\"\n",
    "    BCE = F.binary_cross_entropy(recon_x, x, reduction=\"sum\")\n",
    "    KLD = -0.5 * torch.sum(1 + logvar - mu.pow(2) - logvar.exp())\n",
    "    return BCE, KLD\n"
   ]
  },
  {
   "cell_type": "code",
   "execution_count": 194,
   "metadata": {},
   "outputs": [],
   "source": [
    "def loss_cbvae(recon_x, x, mu, logvar):\n",
    "    \"\"\"\n",
    "    Loss function for continuous bernoulli vae\n",
    "    \"\"\"\n",
    "    BCE = F.binary_cross_entropy(recon_x, x, reduction=\"sum\")\n",
    "    KLD = -0.5 * torch.sum(1 + logvar - mu.pow(2) - logvar.exp())\n",
    "    LOGC = -sumlogC(recon_x[0])\n",
    "    return BCE, KLD, LOGC"
   ]
  },
  {
   "cell_type": "code",
   "execution_count": 195,
   "metadata": {},
   "outputs": [],
   "source": [
    "# Loss function with modularity for different distributions\n",
    "def loss_function(recon_x, x, mu, logvar, distribution):\n",
    "    \"\"\"\n",
    "    Compute the loss function for a VAE with different decoder distributions.\n",
    "    Args:\n",
    "        recon_x: reconstructed input from the decoder\n",
    "        x: input data\n",
    "        mu: mean of the latent distribution\n",
    "        logvar: log variance of the latent distribution\n",
    "        distribution: decoder distribution of the VAE\n",
    "    Returns:\n",
    "        loss: the loss value\n",
    "    \"\"\"\n",
    "    batch_size = x.size(0)\n",
    "    # Compute Kullback-Leibler divergence term (using torch.distributions)\n",
    "    q_z = Normal(loc=mu, scale=(0.5 * logvar).exp())\n",
    "    p_z = Normal(loc=torch.zeros_like(mu), scale=torch.ones_like(logvar))\n",
    "    KLD = kl_divergence(q_z, p_z).sum()\n",
    "    # KLD /= batch_size  # Normalize by batch size\n",
    "\n",
    "    if distribution == \"bernoulli\":\n",
    "        BCE = F.binary_cross_entropy(recon_x, x, reduction=\"sum\")\n",
    "        return BCE + KLD\n",
    "\n",
    "        # # Assert that shapes are the same\n",
    "        # assert recon_x.shape == x.shape\n",
    "\n",
    "        # # Flatten recon_x and x to [batch_size, 784]\n",
    "        # recon_x = recon_x.view(batch_size, -1)\n",
    "        # x = x.view(batch_size, -1)\n",
    "\n",
    "        # # Reconstruction loss (using logits and no sigmoid in decoder output)\n",
    "        # BCE = F.binary_cross_entropy_with_logits(recon_x, x, reduction=\"sum\")\n",
    "        # BCE /= batch_size  # Normalize by batch size\n",
    "\n",
    "        # LogC = torch.tensor(0.0)\n",
    "\n",
    "        # if distribution == \"continuous_bernoulli\":\n",
    "        #     cb = ContinuousBernoulli(logits=recon_x)\n",
    "        #     LogC = cb._cont_bern_log_norm()\n",
    "        #     LogC = torch.sum(LogC) / batch_size  # Normalize by batch size\n",
    "\n",
    "        # return BCE + KLD + LogC\n",
    "\n",
    "    elif distribution == \"continuous_bernoulli\":\n",
    "        # tmp = ContinuousBernoulli(probs=recon_x)\n",
    "        # recon_x = tmp.mean\n",
    "        BCE = F.binary_cross_entropy(recon_x, x, reduction=\"sum\")\n",
    "        LOGC = -sumlogC(recon_x[0])\n",
    "        return BCE + KLD + LOGC\n",
    "    elif distribution == \"gaussian\":\n",
    "        # Flatten recon_x and x to [batch_size, 784]\n",
    "        recon_x = recon_x.view(batch_size, -1)\n",
    "        x = x.view(batch_size, -1)\n",
    "\n",
    "        # Reconstruction loss (assuming a fixed variance, can use MSE)\n",
    "        MSE = F.mse_loss(recon_x, x, reduction=\"sum\")\n",
    "        MSE /= batch_size  # Normalize by batch size\n",
    "\n",
    "        return MSE + KLD\n",
    "\n",
    "    elif distribution == \"gaussian_with_learned_variance\":\n",
    "        recon_mu, recon_logvar = recon_x\n",
    "        recon_mu = recon_mu.view(batch_size, -1)\n",
    "        recon_logvar = recon_logvar.view(batch_size, -1)\n",
    "        x = x.view(batch_size, -1)\n",
    "        # Ensure that the variance used in the `Normal` distribution doesn't become too small,\n",
    "        # which can be done by clamping the standard deviation:\n",
    "        recon_std = torch.exp(0.5 * recon_logvar).clamp(min=1e-3)\n",
    "        recon_dist = Normal(recon_mu, recon_std)\n",
    "        NLL = -recon_dist.log_prob(x)\n",
    "        NLL = NLL.sum() / batch_size\n",
    "\n",
    "        return NLL + KLD\n",
    "\n",
    "    else:\n",
    "        raise NotImplementedError(\n",
    "            f\"Loss function for distribution '{distribution}' is not implemented.\"\n",
    "        )\n"
   ]
  },
  {
   "cell_type": "markdown",
   "metadata": {},
   "source": [
    "\n",
    "**Explanation:**\n",
    "\n",
    "- **Encoder**: A CNN-based encoder that outputs the mean (`mu`) and log-variance (`logvar`) for the Gaussian latent variables.\n",
    "- **Decoders**: Multiple decoders are implemented based on the distribution:\n",
    "  - **BernoulliDecoder**: Outputs probabilities for each pixel, suitable for binary data.\n",
    "  - **GaussianDecoder**: Outputs mean and log-variance for each pixel, suitable for continuous data.\n",
    "  - **ContinuousBernoulliDecoder**: Uses the same architecture as `BernoulliDecoder` but with a different loss function.\n",
    "  - **CategoricalDecoder**: Outputs logits corresponding to the 10 classes in MNIST.\n",
    "- **VAE**: Central class that integrates the encoder and the chosen decoder. It includes the reparameterization trick.\n",
    "- **Loss Function**: Modular loss function that computes the reconstruction loss and the KL divergence term based on the distribution.\n",
    "\n",
    "**Training Loop Example:**\n",
    "\n",
    "Here's how you can use the VAE to train on the MNIST dataset:\n"
   ]
  },
  {
   "cell_type": "markdown",
   "metadata": {},
   "source": [
    "## Load and preprocess MNIST dataset"
   ]
  },
  {
   "cell_type": "code",
   "execution_count": 196,
   "metadata": {},
   "outputs": [],
   "source": [
    "# Hyperparameters\n",
    "BATCH_SIZE = 128\n",
    "\n",
    "## MNIST Preprocessing as described in Appendix 4\n",
    "# in this paper: https://arxiv.org/src/1907.06845v4/anc/cont_bern_aux.pdf\n",
    "\n",
    "# PYtorch v2 is used for the preprocessing and is generally faster than the torchvision.transforms\n",
    "transform = v2.Compose([v2.ToImage(), v2.ToDtype(torch.float32, scale=True)])\n",
    "\n",
    "\n",
    "# How should we transform the data for the gaussian distribution?\n",
    "# transform = transforms.Compose([\n",
    "#     transforms.ToTensor(),  # Scales images to [0,1]\n",
    "#     transforms.Normalize((0.5,), (0.5,))  # Normalizes images to [-1,1]\n",
    "# ])\n",
    "# or\n",
    "# Calculate mean and standard deviation\n",
    "# data = next(iter(train_loader))[0]\n",
    "# mean = data.mean().item()\n",
    "# std = data.std().item()\n",
    "# and use those to transform the data\n",
    "# print(\"Mean:\", mean)\n",
    "# print(\"Standard Deviation:\", std)\n",
    "\n",
    "# further ideas\n",
    "# transforms.RandomRotation(10),  # Data augmentation\n",
    "\n",
    "# load TRAIN data set\n",
    "full_train_dataset = datasets.MNIST(\n",
    "    root=\"./data\", train=True, download=False, transform=transform\n",
    ")\n",
    "\n",
    "# Split the training data into training and validation sets (80% training, 20% validation)\n",
    "train_size = int(0.8 * len(full_train_dataset))\n",
    "val_size = len(full_train_dataset) - train_size\n",
    "train_dataset, val_dataset = random_split(full_train_dataset, [train_size, val_size])\n",
    "\n",
    "# DataLoader instances will load tensors directly into GPU memory if device is set to 'cuda'\n",
    "kwargs = {\"num_workers\": 1, \"pin_memory\": True} if device == \"cuda\" else {}\n",
    "\n",
    "# Create data loaders\n",
    "train_loader = DataLoader(train_dataset, batch_size=BATCH_SIZE, shuffle=True, **kwargs)\n",
    "val_loader = DataLoader(val_dataset, batch_size=BATCH_SIZE, shuffle=False, **kwargs)\n",
    "\n",
    "# load TEST data set\n",
    "test_dataset = datasets.MNIST(\n",
    "    root=\"./data\", train=False, download=False, transform=transform\n",
    ")\n",
    "test_loader = DataLoader(test_dataset, batch_size=BATCH_SIZE, shuffle=False, **kwargs)\n"
   ]
  },
  {
   "cell_type": "code",
   "execution_count": 197,
   "metadata": {},
   "outputs": [],
   "source": [
    "def train(model, optimizer, epoch, epochs):\n",
    "    model.train()\n",
    "    train_loss = 0\n",
    "    for _, (data, _) in enumerate(\n",
    "        tqdm(train_loader, desc=f\"Training Epoch {epoch + 1}/{epochs}\")\n",
    "    ):\n",
    "        x = data.to(device)\n",
    "        optimizer.zero_grad()\n",
    "        recon_x, mu, logvar = model(x)\n",
    "        loss = loss_function(recon_x, x, mu, logvar, distribution=model.distribution)\n",
    "        loss.backward()\n",
    "        train_loss += loss.item()\n",
    "        optimizer.step()\n",
    "    epoch_loss = train_loss / len(train_loader.dataset)\n",
    "    print(f\"Epoch {epoch + 1}, training loss: {epoch_loss:.4f}\")\n",
    "    return epoch_loss"
   ]
  },
  {
   "cell_type": "code",
   "execution_count": 198,
   "metadata": {},
   "outputs": [],
   "source": [
    "def validation(model, epoch, epochs):\n",
    "    model.eval()\n",
    "    validation_loss = 0\n",
    "    with torch.no_grad():\n",
    "        for batch_idx, (data, _) in enumerate(\n",
    "            tqdm(val_loader, desc=f\"Validation Epoch {epoch + 1}/{epochs}\")\n",
    "        ):\n",
    "            data = data.to(device)\n",
    "            recon_batch, mu, logvar = model(data)\n",
    "            loss = loss_function(\n",
    "                recon_batch, data, mu, logvar, distribution=model.distribution\n",
    "            )\n",
    "            validation_loss += loss.item()\n",
    "\n",
    "            if batch_idx == 0:\n",
    "                n = min(data.size(0), 8)\n",
    "\n",
    "                # recon_batch = torch.sigmoid(recon_batch)\n",
    "\n",
    "                recon_batch = recon_batch.view(128, 1, 28, 28)\n",
    "                comparison = torch.cat([data[:n], recon_batch[:n]])\n",
    "\n",
    "                save_image(\n",
    "                    comparison.cpu(),\n",
    "                    \"./images/\"\n",
    "                    + model.distribution\n",
    "                    + \"_reconstruction_\"\n",
    "                    + str(epoch + 1)\n",
    "                    + \".png\",\n",
    "                    nrow=n,\n",
    "                )\n",
    "\n",
    "    epoch_loss = validation_loss / len(val_loader.dataset)\n",
    "    print(f\"Epoch {epoch + 1}, validation loss: {epoch_loss:.4f}\")\n",
    "    return epoch_loss"
   ]
  },
  {
   "cell_type": "code",
   "execution_count": 199,
   "metadata": {},
   "outputs": [
    {
     "name": "stdout",
     "output_type": "stream",
     "text": [
      "Training VAE with continuous_bernoulli decoder\n",
      "==========================================================================================\n",
      "Layer (type:depth-idx)                   Output Shape              Param #\n",
      "==========================================================================================\n",
      "VAE                                      [128, 1, 28, 28]          --\n",
      "├─Encoder: 1-1                           [128, 2]                  --\n",
      "│    └─Conv2d: 2-1                       [128, 32, 14, 14]         544\n",
      "│    └─Conv2d: 2-2                       [128, 64, 7, 7]           32,832\n",
      "│    └─Linear: 2-3                       [128, 2]                  6,274\n",
      "│    └─Linear: 2-4                       [128, 2]                  6,274\n",
      "├─ContinuousBernoulliDecoder: 1-2        [128, 1, 28, 28]          --\n",
      "│    └─Linear: 2-5                       [128, 3136]               9,408\n",
      "│    └─ConvTranspose2d: 2-6              [128, 32, 14, 14]         32,800\n",
      "│    └─ConvTranspose2d: 2-7              [128, 1, 28, 28]          513\n",
      "==========================================================================================\n",
      "Total params: 88,645\n",
      "Trainable params: 88,645\n",
      "Non-trainable params: 0\n",
      "Total mult-adds (Units.GIGABYTES): 1.10\n",
      "==========================================================================================\n",
      "Input size (MB): 0.40\n",
      "Forward/backward pass size (MB): 20.07\n",
      "Params size (MB): 0.35\n",
      "Estimated Total Size (MB): 20.83\n",
      "==========================================================================================\n"
     ]
    },
    {
     "name": "stderr",
     "output_type": "stream",
     "text": [
      "Training Epoch 1/100: 100%|██████████| 375/375 [00:07<00:00, 51.21it/s]\n"
     ]
    },
    {
     "name": "stdout",
     "output_type": "stream",
     "text": [
      "Epoch 1, training loss: 202.8278\n"
     ]
    },
    {
     "name": "stderr",
     "output_type": "stream",
     "text": [
      "Training Epoch 2/100: 100%|██████████| 375/375 [00:06<00:00, 55.80it/s]\n"
     ]
    },
    {
     "name": "stdout",
     "output_type": "stream",
     "text": [
      "Epoch 2, training loss: 162.0655\n"
     ]
    },
    {
     "name": "stderr",
     "output_type": "stream",
     "text": [
      "Training Epoch 3/100: 100%|██████████| 375/375 [00:06<00:00, 55.79it/s]\n"
     ]
    },
    {
     "name": "stdout",
     "output_type": "stream",
     "text": [
      "Epoch 3, training loss: 156.1234\n"
     ]
    },
    {
     "name": "stderr",
     "output_type": "stream",
     "text": [
      "Training Epoch 4/100: 100%|██████████| 375/375 [00:06<00:00, 56.57it/s]\n"
     ]
    },
    {
     "name": "stdout",
     "output_type": "stream",
     "text": [
      "Epoch 4, training loss: 153.5706\n"
     ]
    },
    {
     "name": "stderr",
     "output_type": "stream",
     "text": [
      "Training Epoch 5/100: 100%|██████████| 375/375 [00:06<00:00, 56.45it/s]\n"
     ]
    },
    {
     "name": "stdout",
     "output_type": "stream",
     "text": [
      "Epoch 5, training loss: 152.0964\n"
     ]
    },
    {
     "name": "stderr",
     "output_type": "stream",
     "text": [
      "Training Epoch 6/100: 100%|██████████| 375/375 [00:06<00:00, 56.31it/s]\n"
     ]
    },
    {
     "name": "stdout",
     "output_type": "stream",
     "text": [
      "Epoch 6, training loss: 150.8573\n"
     ]
    },
    {
     "name": "stderr",
     "output_type": "stream",
     "text": [
      "Training Epoch 7/100: 100%|██████████| 375/375 [00:06<00:00, 56.00it/s]\n"
     ]
    },
    {
     "name": "stdout",
     "output_type": "stream",
     "text": [
      "Epoch 7, training loss: 149.9294\n"
     ]
    },
    {
     "name": "stderr",
     "output_type": "stream",
     "text": [
      "Training Epoch 8/100: 100%|██████████| 375/375 [00:06<00:00, 55.78it/s]\n"
     ]
    },
    {
     "name": "stdout",
     "output_type": "stream",
     "text": [
      "Epoch 8, training loss: 149.1397\n"
     ]
    },
    {
     "name": "stderr",
     "output_type": "stream",
     "text": [
      "Training Epoch 9/100: 100%|██████████| 375/375 [00:06<00:00, 55.04it/s]\n"
     ]
    },
    {
     "name": "stdout",
     "output_type": "stream",
     "text": [
      "Epoch 9, training loss: 148.3637\n"
     ]
    },
    {
     "name": "stderr",
     "output_type": "stream",
     "text": [
      "Training Epoch 10/100: 100%|██████████| 375/375 [00:06<00:00, 55.07it/s]\n"
     ]
    },
    {
     "name": "stdout",
     "output_type": "stream",
     "text": [
      "Epoch 10, training loss: 147.6271\n"
     ]
    },
    {
     "name": "stderr",
     "output_type": "stream",
     "text": [
      "Training Epoch 11/100: 100%|██████████| 375/375 [00:06<00:00, 55.04it/s]\n"
     ]
    },
    {
     "name": "stdout",
     "output_type": "stream",
     "text": [
      "Epoch 11, training loss: 147.0963\n"
     ]
    },
    {
     "name": "stderr",
     "output_type": "stream",
     "text": [
      "Training Epoch 12/100: 100%|██████████| 375/375 [00:06<00:00, 54.82it/s]\n"
     ]
    },
    {
     "name": "stdout",
     "output_type": "stream",
     "text": [
      "Epoch 12, training loss: 146.5636\n"
     ]
    },
    {
     "name": "stderr",
     "output_type": "stream",
     "text": [
      "Training Epoch 13/100: 100%|██████████| 375/375 [00:06<00:00, 55.25it/s]\n"
     ]
    },
    {
     "name": "stdout",
     "output_type": "stream",
     "text": [
      "Epoch 13, training loss: 146.0078\n"
     ]
    },
    {
     "name": "stderr",
     "output_type": "stream",
     "text": [
      "Training Epoch 14/100: 100%|██████████| 375/375 [00:06<00:00, 55.28it/s]\n"
     ]
    },
    {
     "name": "stdout",
     "output_type": "stream",
     "text": [
      "Epoch 14, training loss: 145.4325\n"
     ]
    },
    {
     "name": "stderr",
     "output_type": "stream",
     "text": [
      "Training Epoch 15/100: 100%|██████████| 375/375 [00:06<00:00, 54.95it/s]\n"
     ]
    },
    {
     "name": "stdout",
     "output_type": "stream",
     "text": [
      "Epoch 15, training loss: 145.0159\n"
     ]
    },
    {
     "name": "stderr",
     "output_type": "stream",
     "text": [
      "Training Epoch 16/100: 100%|██████████| 375/375 [00:06<00:00, 54.93it/s]\n"
     ]
    },
    {
     "name": "stdout",
     "output_type": "stream",
     "text": [
      "Epoch 16, training loss: 144.5064\n"
     ]
    },
    {
     "name": "stderr",
     "output_type": "stream",
     "text": [
      "Training Epoch 17/100: 100%|██████████| 375/375 [00:06<00:00, 54.84it/s]\n"
     ]
    },
    {
     "name": "stdout",
     "output_type": "stream",
     "text": [
      "Epoch 17, training loss: 144.0080\n"
     ]
    },
    {
     "name": "stderr",
     "output_type": "stream",
     "text": [
      "Training Epoch 18/100: 100%|██████████| 375/375 [00:06<00:00, 54.78it/s]\n"
     ]
    },
    {
     "name": "stdout",
     "output_type": "stream",
     "text": [
      "Epoch 18, training loss: 143.7575\n"
     ]
    },
    {
     "name": "stderr",
     "output_type": "stream",
     "text": [
      "Training Epoch 19/100: 100%|██████████| 375/375 [00:06<00:00, 54.92it/s]\n"
     ]
    },
    {
     "name": "stdout",
     "output_type": "stream",
     "text": [
      "Epoch 19, training loss: 143.3244\n"
     ]
    },
    {
     "name": "stderr",
     "output_type": "stream",
     "text": [
      "Training Epoch 20/100: 100%|██████████| 375/375 [00:06<00:00, 54.89it/s]\n"
     ]
    },
    {
     "name": "stdout",
     "output_type": "stream",
     "text": [
      "Epoch 20, training loss: 142.8878\n"
     ]
    },
    {
     "name": "stderr",
     "output_type": "stream",
     "text": [
      "Training Epoch 21/100: 100%|██████████| 375/375 [00:06<00:00, 54.46it/s]\n"
     ]
    },
    {
     "name": "stdout",
     "output_type": "stream",
     "text": [
      "Epoch 21, training loss: 142.5526\n"
     ]
    },
    {
     "name": "stderr",
     "output_type": "stream",
     "text": [
      "Training Epoch 22/100: 100%|██████████| 375/375 [00:06<00:00, 54.48it/s]\n"
     ]
    },
    {
     "name": "stdout",
     "output_type": "stream",
     "text": [
      "Epoch 22, training loss: 142.2452\n"
     ]
    },
    {
     "name": "stderr",
     "output_type": "stream",
     "text": [
      "Training Epoch 23/100: 100%|██████████| 375/375 [00:06<00:00, 54.71it/s]\n"
     ]
    },
    {
     "name": "stdout",
     "output_type": "stream",
     "text": [
      "Epoch 23, training loss: 141.8778\n"
     ]
    },
    {
     "name": "stderr",
     "output_type": "stream",
     "text": [
      "Training Epoch 24/100: 100%|██████████| 375/375 [00:06<00:00, 54.39it/s]\n"
     ]
    },
    {
     "name": "stdout",
     "output_type": "stream",
     "text": [
      "Epoch 24, training loss: 141.7153\n"
     ]
    },
    {
     "name": "stderr",
     "output_type": "stream",
     "text": [
      "Training Epoch 25/100: 100%|██████████| 375/375 [00:06<00:00, 54.70it/s]\n"
     ]
    },
    {
     "name": "stdout",
     "output_type": "stream",
     "text": [
      "Epoch 25, training loss: 141.4815\n"
     ]
    },
    {
     "name": "stderr",
     "output_type": "stream",
     "text": [
      "Training Epoch 26/100: 100%|██████████| 375/375 [00:06<00:00, 55.07it/s]\n"
     ]
    },
    {
     "name": "stdout",
     "output_type": "stream",
     "text": [
      "Epoch 26, training loss: 141.1964\n"
     ]
    },
    {
     "name": "stderr",
     "output_type": "stream",
     "text": [
      "Training Epoch 27/100: 100%|██████████| 375/375 [00:06<00:00, 54.98it/s]\n"
     ]
    },
    {
     "name": "stdout",
     "output_type": "stream",
     "text": [
      "Epoch 27, training loss: 141.1596\n"
     ]
    },
    {
     "name": "stderr",
     "output_type": "stream",
     "text": [
      "Training Epoch 28/100: 100%|██████████| 375/375 [00:06<00:00, 54.78it/s]\n"
     ]
    },
    {
     "name": "stdout",
     "output_type": "stream",
     "text": [
      "Epoch 28, training loss: 140.8113\n"
     ]
    },
    {
     "name": "stderr",
     "output_type": "stream",
     "text": [
      "Training Epoch 29/100: 100%|██████████| 375/375 [00:06<00:00, 55.10it/s]\n"
     ]
    },
    {
     "name": "stdout",
     "output_type": "stream",
     "text": [
      "Epoch 29, training loss: 140.5916\n"
     ]
    },
    {
     "name": "stderr",
     "output_type": "stream",
     "text": [
      "Training Epoch 30/100: 100%|██████████| 375/375 [00:06<00:00, 54.90it/s]\n"
     ]
    },
    {
     "name": "stdout",
     "output_type": "stream",
     "text": [
      "Epoch 30, training loss: 140.4683\n"
     ]
    },
    {
     "name": "stderr",
     "output_type": "stream",
     "text": [
      "Training Epoch 31/100: 100%|██████████| 375/375 [00:06<00:00, 55.15it/s]\n"
     ]
    },
    {
     "name": "stdout",
     "output_type": "stream",
     "text": [
      "Epoch 31, training loss: 140.4073\n"
     ]
    },
    {
     "name": "stderr",
     "output_type": "stream",
     "text": [
      "Training Epoch 32/100: 100%|██████████| 375/375 [00:06<00:00, 54.51it/s]\n"
     ]
    },
    {
     "name": "stdout",
     "output_type": "stream",
     "text": [
      "Epoch 32, training loss: 140.1662\n"
     ]
    },
    {
     "name": "stderr",
     "output_type": "stream",
     "text": [
      "Training Epoch 33/100: 100%|██████████| 375/375 [00:06<00:00, 54.48it/s]\n"
     ]
    },
    {
     "name": "stdout",
     "output_type": "stream",
     "text": [
      "Epoch 33, training loss: 139.8290\n"
     ]
    },
    {
     "name": "stderr",
     "output_type": "stream",
     "text": [
      "Training Epoch 34/100: 100%|██████████| 375/375 [00:06<00:00, 54.16it/s]\n"
     ]
    },
    {
     "name": "stdout",
     "output_type": "stream",
     "text": [
      "Epoch 34, training loss: 139.7214\n"
     ]
    },
    {
     "name": "stderr",
     "output_type": "stream",
     "text": [
      "Training Epoch 35/100: 100%|██████████| 375/375 [00:06<00:00, 54.53it/s]\n"
     ]
    },
    {
     "name": "stdout",
     "output_type": "stream",
     "text": [
      "Epoch 35, training loss: 139.7165\n"
     ]
    },
    {
     "name": "stderr",
     "output_type": "stream",
     "text": [
      "Training Epoch 36/100: 100%|██████████| 375/375 [00:06<00:00, 54.36it/s]\n"
     ]
    },
    {
     "name": "stdout",
     "output_type": "stream",
     "text": [
      "Epoch 36, training loss: 139.3694\n"
     ]
    },
    {
     "name": "stderr",
     "output_type": "stream",
     "text": [
      "Training Epoch 37/100: 100%|██████████| 375/375 [00:06<00:00, 54.74it/s]\n"
     ]
    },
    {
     "name": "stdout",
     "output_type": "stream",
     "text": [
      "Epoch 37, training loss: 139.3687\n"
     ]
    },
    {
     "name": "stderr",
     "output_type": "stream",
     "text": [
      "Training Epoch 38/100: 100%|██████████| 375/375 [00:06<00:00, 54.04it/s]\n"
     ]
    },
    {
     "name": "stdout",
     "output_type": "stream",
     "text": [
      "Epoch 38, training loss: 139.2929\n"
     ]
    },
    {
     "name": "stderr",
     "output_type": "stream",
     "text": [
      "Training Epoch 39/100: 100%|██████████| 375/375 [00:06<00:00, 54.63it/s]\n"
     ]
    },
    {
     "name": "stdout",
     "output_type": "stream",
     "text": [
      "Epoch 39, training loss: 139.1283\n"
     ]
    },
    {
     "name": "stderr",
     "output_type": "stream",
     "text": [
      "Training Epoch 40/100: 100%|██████████| 375/375 [00:06<00:00, 54.02it/s]\n"
     ]
    },
    {
     "name": "stdout",
     "output_type": "stream",
     "text": [
      "Epoch 40, training loss: 138.9009\n"
     ]
    },
    {
     "name": "stderr",
     "output_type": "stream",
     "text": [
      "Training Epoch 41/100: 100%|██████████| 375/375 [00:06<00:00, 54.35it/s]\n"
     ]
    },
    {
     "name": "stdout",
     "output_type": "stream",
     "text": [
      "Epoch 41, training loss: 138.8990\n"
     ]
    },
    {
     "name": "stderr",
     "output_type": "stream",
     "text": [
      "Training Epoch 42/100: 100%|██████████| 375/375 [00:06<00:00, 54.28it/s]\n"
     ]
    },
    {
     "name": "stdout",
     "output_type": "stream",
     "text": [
      "Epoch 42, training loss: 138.7400\n"
     ]
    },
    {
     "name": "stderr",
     "output_type": "stream",
     "text": [
      "Training Epoch 43/100: 100%|██████████| 375/375 [00:06<00:00, 54.16it/s]\n"
     ]
    },
    {
     "name": "stdout",
     "output_type": "stream",
     "text": [
      "Epoch 43, training loss: 138.4216\n"
     ]
    },
    {
     "name": "stderr",
     "output_type": "stream",
     "text": [
      "Training Epoch 44/100: 100%|██████████| 375/375 [00:06<00:00, 53.89it/s]\n"
     ]
    },
    {
     "name": "stdout",
     "output_type": "stream",
     "text": [
      "Epoch 44, training loss: 138.5058\n"
     ]
    },
    {
     "name": "stderr",
     "output_type": "stream",
     "text": [
      "Training Epoch 45/100: 100%|██████████| 375/375 [00:06<00:00, 53.70it/s]\n"
     ]
    },
    {
     "name": "stdout",
     "output_type": "stream",
     "text": [
      "Epoch 45, training loss: 138.1827\n"
     ]
    },
    {
     "name": "stderr",
     "output_type": "stream",
     "text": [
      "Training Epoch 46/100: 100%|██████████| 375/375 [00:06<00:00, 54.46it/s]\n"
     ]
    },
    {
     "name": "stdout",
     "output_type": "stream",
     "text": [
      "Epoch 46, training loss: 138.3732\n"
     ]
    },
    {
     "name": "stderr",
     "output_type": "stream",
     "text": [
      "Training Epoch 47/100: 100%|██████████| 375/375 [00:06<00:00, 54.82it/s]\n"
     ]
    },
    {
     "name": "stdout",
     "output_type": "stream",
     "text": [
      "Epoch 47, training loss: 137.9979\n"
     ]
    },
    {
     "name": "stderr",
     "output_type": "stream",
     "text": [
      "Training Epoch 48/100: 100%|██████████| 375/375 [00:06<00:00, 54.49it/s]\n"
     ]
    },
    {
     "name": "stdout",
     "output_type": "stream",
     "text": [
      "Epoch 48, training loss: 137.8732\n"
     ]
    },
    {
     "name": "stderr",
     "output_type": "stream",
     "text": [
      "Training Epoch 49/100: 100%|██████████| 375/375 [00:06<00:00, 55.00it/s]\n"
     ]
    },
    {
     "name": "stdout",
     "output_type": "stream",
     "text": [
      "Epoch 49, training loss: 138.0196\n"
     ]
    },
    {
     "name": "stderr",
     "output_type": "stream",
     "text": [
      "Training Epoch 50/100: 100%|██████████| 375/375 [00:06<00:00, 55.18it/s]\n"
     ]
    },
    {
     "name": "stdout",
     "output_type": "stream",
     "text": [
      "Epoch 50, training loss: 137.8633\n"
     ]
    },
    {
     "name": "stderr",
     "output_type": "stream",
     "text": [
      "Training Epoch 51/100: 100%|██████████| 375/375 [00:06<00:00, 54.89it/s]\n"
     ]
    },
    {
     "name": "stdout",
     "output_type": "stream",
     "text": [
      "Epoch 51, training loss: 137.6770\n"
     ]
    },
    {
     "name": "stderr",
     "output_type": "stream",
     "text": [
      "Training Epoch 52/100: 100%|██████████| 375/375 [00:06<00:00, 54.26it/s]\n"
     ]
    },
    {
     "name": "stdout",
     "output_type": "stream",
     "text": [
      "Epoch 52, training loss: 137.9182\n"
     ]
    },
    {
     "name": "stderr",
     "output_type": "stream",
     "text": [
      "Training Epoch 53/100: 100%|██████████| 375/375 [00:06<00:00, 55.26it/s]\n"
     ]
    },
    {
     "name": "stdout",
     "output_type": "stream",
     "text": [
      "Epoch 53, training loss: 137.6115\n"
     ]
    },
    {
     "name": "stderr",
     "output_type": "stream",
     "text": [
      "Training Epoch 54/100: 100%|██████████| 375/375 [00:06<00:00, 53.82it/s]\n"
     ]
    },
    {
     "name": "stdout",
     "output_type": "stream",
     "text": [
      "Epoch 54, training loss: 137.4595\n"
     ]
    },
    {
     "name": "stderr",
     "output_type": "stream",
     "text": [
      "Training Epoch 55/100: 100%|██████████| 375/375 [00:06<00:00, 54.24it/s]\n"
     ]
    },
    {
     "name": "stdout",
     "output_type": "stream",
     "text": [
      "Epoch 55, training loss: 137.3656\n"
     ]
    },
    {
     "name": "stderr",
     "output_type": "stream",
     "text": [
      "Training Epoch 56/100: 100%|██████████| 375/375 [00:06<00:00, 53.95it/s]\n"
     ]
    },
    {
     "name": "stdout",
     "output_type": "stream",
     "text": [
      "Epoch 56, training loss: 137.3535\n"
     ]
    },
    {
     "name": "stderr",
     "output_type": "stream",
     "text": [
      "Training Epoch 57/100: 100%|██████████| 375/375 [00:06<00:00, 54.85it/s]\n"
     ]
    },
    {
     "name": "stdout",
     "output_type": "stream",
     "text": [
      "Epoch 57, training loss: 137.3998\n"
     ]
    },
    {
     "name": "stderr",
     "output_type": "stream",
     "text": [
      "Training Epoch 58/100: 100%|██████████| 375/375 [00:06<00:00, 54.19it/s]\n"
     ]
    },
    {
     "name": "stdout",
     "output_type": "stream",
     "text": [
      "Epoch 58, training loss: 137.3426\n"
     ]
    },
    {
     "name": "stderr",
     "output_type": "stream",
     "text": [
      "Training Epoch 59/100: 100%|██████████| 375/375 [00:06<00:00, 54.67it/s]\n"
     ]
    },
    {
     "name": "stdout",
     "output_type": "stream",
     "text": [
      "Epoch 59, training loss: 137.1813\n"
     ]
    },
    {
     "name": "stderr",
     "output_type": "stream",
     "text": [
      "Training Epoch 60/100: 100%|██████████| 375/375 [00:06<00:00, 54.23it/s]\n"
     ]
    },
    {
     "name": "stdout",
     "output_type": "stream",
     "text": [
      "Epoch 60, training loss: 137.0609\n"
     ]
    },
    {
     "name": "stderr",
     "output_type": "stream",
     "text": [
      "Training Epoch 61/100: 100%|██████████| 375/375 [00:06<00:00, 54.37it/s]\n"
     ]
    },
    {
     "name": "stdout",
     "output_type": "stream",
     "text": [
      "Epoch 61, training loss: 136.9597\n"
     ]
    },
    {
     "name": "stderr",
     "output_type": "stream",
     "text": [
      "Training Epoch 62/100: 100%|██████████| 375/375 [00:06<00:00, 54.15it/s]\n"
     ]
    },
    {
     "name": "stdout",
     "output_type": "stream",
     "text": [
      "Epoch 62, training loss: 136.8430\n"
     ]
    },
    {
     "name": "stderr",
     "output_type": "stream",
     "text": [
      "Training Epoch 63/100: 100%|██████████| 375/375 [00:06<00:00, 54.57it/s]\n"
     ]
    },
    {
     "name": "stdout",
     "output_type": "stream",
     "text": [
      "Epoch 63, training loss: 136.6995\n"
     ]
    },
    {
     "name": "stderr",
     "output_type": "stream",
     "text": [
      "Training Epoch 64/100: 100%|██████████| 375/375 [00:06<00:00, 54.48it/s]\n"
     ]
    },
    {
     "name": "stdout",
     "output_type": "stream",
     "text": [
      "Epoch 64, training loss: 136.8078\n"
     ]
    },
    {
     "name": "stderr",
     "output_type": "stream",
     "text": [
      "Training Epoch 65/100: 100%|██████████| 375/375 [00:06<00:00, 54.01it/s]\n"
     ]
    },
    {
     "name": "stdout",
     "output_type": "stream",
     "text": [
      "Epoch 65, training loss: 136.7983\n"
     ]
    },
    {
     "name": "stderr",
     "output_type": "stream",
     "text": [
      "Training Epoch 66/100: 100%|██████████| 375/375 [00:06<00:00, 54.77it/s]\n"
     ]
    },
    {
     "name": "stdout",
     "output_type": "stream",
     "text": [
      "Epoch 66, training loss: 136.7336\n"
     ]
    },
    {
     "name": "stderr",
     "output_type": "stream",
     "text": [
      "Training Epoch 67/100: 100%|██████████| 375/375 [00:06<00:00, 54.61it/s]\n"
     ]
    },
    {
     "name": "stdout",
     "output_type": "stream",
     "text": [
      "Epoch 67, training loss: 136.5496\n"
     ]
    },
    {
     "name": "stderr",
     "output_type": "stream",
     "text": [
      "Training Epoch 68/100: 100%|██████████| 375/375 [00:06<00:00, 54.15it/s]\n"
     ]
    },
    {
     "name": "stdout",
     "output_type": "stream",
     "text": [
      "Epoch 68, training loss: 136.5984\n"
     ]
    },
    {
     "name": "stderr",
     "output_type": "stream",
     "text": [
      "Training Epoch 69/100: 100%|██████████| 375/375 [00:06<00:00, 54.23it/s]\n"
     ]
    },
    {
     "name": "stdout",
     "output_type": "stream",
     "text": [
      "Epoch 69, training loss: 136.4501\n"
     ]
    },
    {
     "name": "stderr",
     "output_type": "stream",
     "text": [
      "Training Epoch 70/100: 100%|██████████| 375/375 [00:06<00:00, 54.17it/s]\n"
     ]
    },
    {
     "name": "stdout",
     "output_type": "stream",
     "text": [
      "Epoch 70, training loss: 136.4582\n"
     ]
    },
    {
     "name": "stderr",
     "output_type": "stream",
     "text": [
      "Training Epoch 71/100: 100%|██████████| 375/375 [00:06<00:00, 54.29it/s]\n"
     ]
    },
    {
     "name": "stdout",
     "output_type": "stream",
     "text": [
      "Epoch 71, training loss: 136.5361\n"
     ]
    },
    {
     "name": "stderr",
     "output_type": "stream",
     "text": [
      "Training Epoch 72/100: 100%|██████████| 375/375 [00:06<00:00, 54.08it/s]\n"
     ]
    },
    {
     "name": "stdout",
     "output_type": "stream",
     "text": [
      "Epoch 72, training loss: 136.2073\n"
     ]
    },
    {
     "name": "stderr",
     "output_type": "stream",
     "text": [
      "Training Epoch 73/100: 100%|██████████| 375/375 [00:06<00:00, 54.25it/s]\n"
     ]
    },
    {
     "name": "stdout",
     "output_type": "stream",
     "text": [
      "Epoch 73, training loss: 136.2578\n"
     ]
    },
    {
     "name": "stderr",
     "output_type": "stream",
     "text": [
      "Training Epoch 74/100: 100%|██████████| 375/375 [00:06<00:00, 54.45it/s]\n"
     ]
    },
    {
     "name": "stdout",
     "output_type": "stream",
     "text": [
      "Epoch 74, training loss: 136.2030\n"
     ]
    },
    {
     "name": "stderr",
     "output_type": "stream",
     "text": [
      "Training Epoch 75/100: 100%|██████████| 375/375 [00:06<00:00, 54.55it/s]\n"
     ]
    },
    {
     "name": "stdout",
     "output_type": "stream",
     "text": [
      "Epoch 75, training loss: 136.3193\n"
     ]
    },
    {
     "name": "stderr",
     "output_type": "stream",
     "text": [
      "Training Epoch 76/100: 100%|██████████| 375/375 [00:06<00:00, 54.39it/s]\n"
     ]
    },
    {
     "name": "stdout",
     "output_type": "stream",
     "text": [
      "Epoch 76, training loss: 136.2114\n"
     ]
    },
    {
     "name": "stderr",
     "output_type": "stream",
     "text": [
      "Training Epoch 77/100: 100%|██████████| 375/375 [00:06<00:00, 54.67it/s]\n"
     ]
    },
    {
     "name": "stdout",
     "output_type": "stream",
     "text": [
      "Epoch 77, training loss: 136.1300\n"
     ]
    },
    {
     "name": "stderr",
     "output_type": "stream",
     "text": [
      "Training Epoch 78/100: 100%|██████████| 375/375 [00:06<00:00, 54.87it/s]\n"
     ]
    },
    {
     "name": "stdout",
     "output_type": "stream",
     "text": [
      "Epoch 78, training loss: 136.0398\n"
     ]
    },
    {
     "name": "stderr",
     "output_type": "stream",
     "text": [
      "Training Epoch 79/100: 100%|██████████| 375/375 [00:06<00:00, 54.84it/s]\n"
     ]
    },
    {
     "name": "stdout",
     "output_type": "stream",
     "text": [
      "Epoch 79, training loss: 135.9067\n"
     ]
    },
    {
     "name": "stderr",
     "output_type": "stream",
     "text": [
      "Training Epoch 80/100: 100%|██████████| 375/375 [00:06<00:00, 54.09it/s]\n"
     ]
    },
    {
     "name": "stdout",
     "output_type": "stream",
     "text": [
      "Epoch 80, training loss: 136.1184\n"
     ]
    },
    {
     "name": "stderr",
     "output_type": "stream",
     "text": [
      "Training Epoch 81/100: 100%|██████████| 375/375 [00:06<00:00, 54.03it/s]\n"
     ]
    },
    {
     "name": "stdout",
     "output_type": "stream",
     "text": [
      "Epoch 81, training loss: 135.8862\n"
     ]
    },
    {
     "name": "stderr",
     "output_type": "stream",
     "text": [
      "Training Epoch 82/100: 100%|██████████| 375/375 [00:06<00:00, 54.33it/s]\n"
     ]
    },
    {
     "name": "stdout",
     "output_type": "stream",
     "text": [
      "Epoch 82, training loss: 135.8646\n"
     ]
    },
    {
     "name": "stderr",
     "output_type": "stream",
     "text": [
      "Training Epoch 83/100: 100%|██████████| 375/375 [00:06<00:00, 54.21it/s]\n"
     ]
    },
    {
     "name": "stdout",
     "output_type": "stream",
     "text": [
      "Epoch 83, training loss: 135.8097\n"
     ]
    },
    {
     "name": "stderr",
     "output_type": "stream",
     "text": [
      "Training Epoch 84/100: 100%|██████████| 375/375 [00:06<00:00, 54.52it/s]\n"
     ]
    },
    {
     "name": "stdout",
     "output_type": "stream",
     "text": [
      "Epoch 84, training loss: 135.8461\n"
     ]
    },
    {
     "name": "stderr",
     "output_type": "stream",
     "text": [
      "Training Epoch 85/100: 100%|██████████| 375/375 [00:06<00:00, 54.54it/s]\n"
     ]
    },
    {
     "name": "stdout",
     "output_type": "stream",
     "text": [
      "Epoch 85, training loss: 135.7814\n"
     ]
    },
    {
     "name": "stderr",
     "output_type": "stream",
     "text": [
      "Training Epoch 86/100: 100%|██████████| 375/375 [00:06<00:00, 54.26it/s]\n"
     ]
    },
    {
     "name": "stdout",
     "output_type": "stream",
     "text": [
      "Epoch 86, training loss: 135.7990\n"
     ]
    },
    {
     "name": "stderr",
     "output_type": "stream",
     "text": [
      "Training Epoch 87/100: 100%|██████████| 375/375 [00:06<00:00, 53.59it/s]\n"
     ]
    },
    {
     "name": "stdout",
     "output_type": "stream",
     "text": [
      "Epoch 87, training loss: 135.7842\n"
     ]
    },
    {
     "name": "stderr",
     "output_type": "stream",
     "text": [
      "Training Epoch 88/100: 100%|██████████| 375/375 [00:06<00:00, 54.07it/s]\n"
     ]
    },
    {
     "name": "stdout",
     "output_type": "stream",
     "text": [
      "Epoch 88, training loss: 135.6223\n"
     ]
    },
    {
     "name": "stderr",
     "output_type": "stream",
     "text": [
      "Training Epoch 89/100: 100%|██████████| 375/375 [00:06<00:00, 54.17it/s]\n"
     ]
    },
    {
     "name": "stdout",
     "output_type": "stream",
     "text": [
      "Epoch 89, training loss: 135.6344\n"
     ]
    },
    {
     "name": "stderr",
     "output_type": "stream",
     "text": [
      "Training Epoch 90/100: 100%|██████████| 375/375 [00:06<00:00, 54.71it/s]\n"
     ]
    },
    {
     "name": "stdout",
     "output_type": "stream",
     "text": [
      "Epoch 90, training loss: 135.5751\n"
     ]
    },
    {
     "name": "stderr",
     "output_type": "stream",
     "text": [
      "Training Epoch 91/100: 100%|██████████| 375/375 [00:06<00:00, 53.71it/s]\n"
     ]
    },
    {
     "name": "stdout",
     "output_type": "stream",
     "text": [
      "Epoch 91, training loss: 135.4307\n"
     ]
    },
    {
     "name": "stderr",
     "output_type": "stream",
     "text": [
      "Training Epoch 92/100: 100%|██████████| 375/375 [00:06<00:00, 54.80it/s]\n"
     ]
    },
    {
     "name": "stdout",
     "output_type": "stream",
     "text": [
      "Epoch 92, training loss: 135.4661\n"
     ]
    },
    {
     "name": "stderr",
     "output_type": "stream",
     "text": [
      "Training Epoch 93/100: 100%|██████████| 375/375 [00:06<00:00, 54.38it/s]\n"
     ]
    },
    {
     "name": "stdout",
     "output_type": "stream",
     "text": [
      "Epoch 93, training loss: 135.5202\n"
     ]
    },
    {
     "name": "stderr",
     "output_type": "stream",
     "text": [
      "Training Epoch 94/100: 100%|██████████| 375/375 [00:06<00:00, 54.58it/s]\n"
     ]
    },
    {
     "name": "stdout",
     "output_type": "stream",
     "text": [
      "Epoch 94, training loss: 135.4392\n"
     ]
    },
    {
     "name": "stderr",
     "output_type": "stream",
     "text": [
      "Training Epoch 95/100: 100%|██████████| 375/375 [00:08<00:00, 46.68it/s]\n"
     ]
    },
    {
     "name": "stdout",
     "output_type": "stream",
     "text": [
      "Epoch 95, training loss: 135.3180\n"
     ]
    },
    {
     "name": "stderr",
     "output_type": "stream",
     "text": [
      "Training Epoch 96/100: 100%|██████████| 375/375 [00:06<00:00, 54.50it/s]\n"
     ]
    },
    {
     "name": "stdout",
     "output_type": "stream",
     "text": [
      "Epoch 96, training loss: 135.3883\n"
     ]
    },
    {
     "name": "stderr",
     "output_type": "stream",
     "text": [
      "Training Epoch 97/100: 100%|██████████| 375/375 [00:06<00:00, 55.92it/s]\n"
     ]
    },
    {
     "name": "stdout",
     "output_type": "stream",
     "text": [
      "Epoch 97, training loss: 135.3893\n"
     ]
    },
    {
     "name": "stderr",
     "output_type": "stream",
     "text": [
      "Training Epoch 98/100: 100%|██████████| 375/375 [00:06<00:00, 56.60it/s]\n"
     ]
    },
    {
     "name": "stdout",
     "output_type": "stream",
     "text": [
      "Epoch 98, training loss: 135.3177\n"
     ]
    },
    {
     "name": "stderr",
     "output_type": "stream",
     "text": [
      "Training Epoch 99/100: 100%|██████████| 375/375 [00:06<00:00, 56.55it/s]\n"
     ]
    },
    {
     "name": "stdout",
     "output_type": "stream",
     "text": [
      "Epoch 99, training loss: 135.3170\n"
     ]
    },
    {
     "name": "stderr",
     "output_type": "stream",
     "text": [
      "Training Epoch 100/100: 100%|██████████| 375/375 [00:06<00:00, 56.39it/s]\n"
     ]
    },
    {
     "name": "stdout",
     "output_type": "stream",
     "text": [
      "Epoch 100, training loss: 135.1180\n",
      "Training VAE with bernoulli decoder\n",
      "==========================================================================================\n",
      "Layer (type:depth-idx)                   Output Shape              Param #\n",
      "==========================================================================================\n",
      "VAE                                      [128, 1, 28, 28]          --\n",
      "├─Encoder: 1-1                           [128, 2]                  --\n",
      "│    └─Conv2d: 2-1                       [128, 32, 14, 14]         544\n",
      "│    └─Conv2d: 2-2                       [128, 64, 7, 7]           32,832\n",
      "│    └─Linear: 2-3                       [128, 2]                  6,274\n",
      "│    └─Linear: 2-4                       [128, 2]                  6,274\n",
      "├─BernoulliDecoder: 1-2                  [128, 1, 28, 28]          --\n",
      "│    └─Linear: 2-5                       [128, 3136]               9,408\n",
      "│    └─ConvTranspose2d: 2-6              [128, 32, 14, 14]         32,800\n",
      "│    └─ConvTranspose2d: 2-7              [128, 1, 28, 28]          513\n",
      "==========================================================================================\n",
      "Total params: 88,645\n",
      "Trainable params: 88,645\n",
      "Non-trainable params: 0\n",
      "Total mult-adds (Units.GIGABYTES): 1.10\n",
      "==========================================================================================\n",
      "Input size (MB): 0.40\n",
      "Forward/backward pass size (MB): 20.07\n",
      "Params size (MB): 0.35\n",
      "Estimated Total Size (MB): 20.83\n",
      "==========================================================================================\n"
     ]
    },
    {
     "name": "stderr",
     "output_type": "stream",
     "text": [
      "Training Epoch 1/100: 100%|██████████| 375/375 [00:05<00:00, 70.75it/s]\n"
     ]
    },
    {
     "name": "stdout",
     "output_type": "stream",
     "text": [
      "Epoch 1, training loss: 208.6422\n"
     ]
    },
    {
     "name": "stderr",
     "output_type": "stream",
     "text": [
      "Training Epoch 2/100: 100%|██████████| 375/375 [00:05<00:00, 70.88it/s]\n"
     ]
    },
    {
     "name": "stdout",
     "output_type": "stream",
     "text": [
      "Epoch 2, training loss: 173.3602\n"
     ]
    },
    {
     "name": "stderr",
     "output_type": "stream",
     "text": [
      "Training Epoch 3/100: 100%|██████████| 375/375 [04:40<00:00,  1.33it/s]\n"
     ]
    },
    {
     "name": "stdout",
     "output_type": "stream",
     "text": [
      "Epoch 3, training loss: 167.6185\n"
     ]
    },
    {
     "name": "stderr",
     "output_type": "stream",
     "text": [
      "Training Epoch 4/100: 100%|██████████| 375/375 [00:06<00:00, 62.33it/s]\n"
     ]
    },
    {
     "name": "stdout",
     "output_type": "stream",
     "text": [
      "Epoch 4, training loss: 164.0699\n"
     ]
    },
    {
     "name": "stderr",
     "output_type": "stream",
     "text": [
      "Training Epoch 5/100: 100%|██████████| 375/375 [00:05<00:00, 64.69it/s]\n"
     ]
    },
    {
     "name": "stdout",
     "output_type": "stream",
     "text": [
      "Epoch 5, training loss: 161.5875\n"
     ]
    },
    {
     "name": "stderr",
     "output_type": "stream",
     "text": [
      "Training Epoch 6/100: 100%|██████████| 375/375 [00:05<00:00, 67.46it/s]\n"
     ]
    },
    {
     "name": "stdout",
     "output_type": "stream",
     "text": [
      "Epoch 6, training loss: 159.7499\n"
     ]
    },
    {
     "name": "stderr",
     "output_type": "stream",
     "text": [
      "Training Epoch 7/100: 100%|██████████| 375/375 [00:05<00:00, 65.43it/s]\n"
     ]
    },
    {
     "name": "stdout",
     "output_type": "stream",
     "text": [
      "Epoch 7, training loss: 158.2729\n"
     ]
    },
    {
     "name": "stderr",
     "output_type": "stream",
     "text": [
      "Training Epoch 8/100: 100%|██████████| 375/375 [00:05<00:00, 62.67it/s]\n"
     ]
    },
    {
     "name": "stdout",
     "output_type": "stream",
     "text": [
      "Epoch 8, training loss: 156.9909\n"
     ]
    },
    {
     "name": "stderr",
     "output_type": "stream",
     "text": [
      "Training Epoch 9/100: 100%|██████████| 375/375 [00:05<00:00, 63.11it/s]\n"
     ]
    },
    {
     "name": "stdout",
     "output_type": "stream",
     "text": [
      "Epoch 9, training loss: 155.9337\n"
     ]
    },
    {
     "name": "stderr",
     "output_type": "stream",
     "text": [
      "Training Epoch 10/100: 100%|██████████| 375/375 [00:06<00:00, 59.42it/s]\n"
     ]
    },
    {
     "name": "stdout",
     "output_type": "stream",
     "text": [
      "Epoch 10, training loss: 155.0137\n"
     ]
    },
    {
     "name": "stderr",
     "output_type": "stream",
     "text": [
      "Training Epoch 11/100: 100%|██████████| 375/375 [00:06<00:00, 61.44it/s]\n"
     ]
    },
    {
     "name": "stdout",
     "output_type": "stream",
     "text": [
      "Epoch 11, training loss: 154.2999\n"
     ]
    },
    {
     "name": "stderr",
     "output_type": "stream",
     "text": [
      "Training Epoch 12/100: 100%|██████████| 375/375 [00:06<00:00, 56.36it/s]\n"
     ]
    },
    {
     "name": "stdout",
     "output_type": "stream",
     "text": [
      "Epoch 12, training loss: 153.7074\n"
     ]
    },
    {
     "name": "stderr",
     "output_type": "stream",
     "text": [
      "Training Epoch 13/100: 100%|██████████| 375/375 [00:05<00:00, 64.64it/s]\n"
     ]
    },
    {
     "name": "stdout",
     "output_type": "stream",
     "text": [
      "Epoch 13, training loss: 153.1540\n"
     ]
    },
    {
     "name": "stderr",
     "output_type": "stream",
     "text": [
      "Training Epoch 14/100: 100%|██████████| 375/375 [00:06<00:00, 58.61it/s]\n"
     ]
    },
    {
     "name": "stdout",
     "output_type": "stream",
     "text": [
      "Epoch 14, training loss: 152.7430\n"
     ]
    },
    {
     "name": "stderr",
     "output_type": "stream",
     "text": [
      "Training Epoch 15/100: 100%|██████████| 375/375 [00:05<00:00, 62.99it/s]\n"
     ]
    },
    {
     "name": "stdout",
     "output_type": "stream",
     "text": [
      "Epoch 15, training loss: 152.3381\n"
     ]
    },
    {
     "name": "stderr",
     "output_type": "stream",
     "text": [
      "Training Epoch 16/100: 100%|██████████| 375/375 [00:05<00:00, 67.36it/s]\n"
     ]
    },
    {
     "name": "stdout",
     "output_type": "stream",
     "text": [
      "Epoch 16, training loss: 151.9913\n"
     ]
    },
    {
     "name": "stderr",
     "output_type": "stream",
     "text": [
      "Training Epoch 17/100: 100%|██████████| 375/375 [00:05<00:00, 68.91it/s]\n"
     ]
    },
    {
     "name": "stdout",
     "output_type": "stream",
     "text": [
      "Epoch 17, training loss: 151.5965\n"
     ]
    },
    {
     "name": "stderr",
     "output_type": "stream",
     "text": [
      "Training Epoch 18/100: 100%|██████████| 375/375 [00:05<00:00, 67.60it/s]\n"
     ]
    },
    {
     "name": "stdout",
     "output_type": "stream",
     "text": [
      "Epoch 18, training loss: 151.3374\n"
     ]
    },
    {
     "name": "stderr",
     "output_type": "stream",
     "text": [
      "Training Epoch 19/100: 100%|██████████| 375/375 [00:05<00:00, 67.72it/s]\n"
     ]
    },
    {
     "name": "stdout",
     "output_type": "stream",
     "text": [
      "Epoch 19, training loss: 151.1795\n"
     ]
    },
    {
     "name": "stderr",
     "output_type": "stream",
     "text": [
      "Training Epoch 20/100: 100%|██████████| 375/375 [00:05<00:00, 67.80it/s]\n"
     ]
    },
    {
     "name": "stdout",
     "output_type": "stream",
     "text": [
      "Epoch 20, training loss: 150.8818\n"
     ]
    },
    {
     "name": "stderr",
     "output_type": "stream",
     "text": [
      "Training Epoch 21/100: 100%|██████████| 375/375 [00:05<00:00, 67.85it/s]\n"
     ]
    },
    {
     "name": "stdout",
     "output_type": "stream",
     "text": [
      "Epoch 21, training loss: 150.5885\n"
     ]
    },
    {
     "name": "stderr",
     "output_type": "stream",
     "text": [
      "Training Epoch 22/100: 100%|██████████| 375/375 [00:06<00:00, 62.27it/s]\n"
     ]
    },
    {
     "name": "stdout",
     "output_type": "stream",
     "text": [
      "Epoch 22, training loss: 150.3073\n"
     ]
    },
    {
     "name": "stderr",
     "output_type": "stream",
     "text": [
      "Training Epoch 23/100: 100%|██████████| 375/375 [00:06<00:00, 62.00it/s]\n"
     ]
    },
    {
     "name": "stdout",
     "output_type": "stream",
     "text": [
      "Epoch 23, training loss: 150.1266\n"
     ]
    },
    {
     "name": "stderr",
     "output_type": "stream",
     "text": [
      "Training Epoch 24/100: 100%|██████████| 375/375 [00:05<00:00, 62.57it/s]\n"
     ]
    },
    {
     "name": "stdout",
     "output_type": "stream",
     "text": [
      "Epoch 24, training loss: 149.9061\n"
     ]
    },
    {
     "name": "stderr",
     "output_type": "stream",
     "text": [
      "Training Epoch 25/100: 100%|██████████| 375/375 [00:06<00:00, 59.73it/s]\n"
     ]
    },
    {
     "name": "stdout",
     "output_type": "stream",
     "text": [
      "Epoch 25, training loss: 149.7779\n"
     ]
    },
    {
     "name": "stderr",
     "output_type": "stream",
     "text": [
      "Training Epoch 26/100: 100%|██████████| 375/375 [00:06<00:00, 62.17it/s]\n"
     ]
    },
    {
     "name": "stdout",
     "output_type": "stream",
     "text": [
      "Epoch 26, training loss: 149.6174\n"
     ]
    },
    {
     "name": "stderr",
     "output_type": "stream",
     "text": [
      "Training Epoch 27/100: 100%|██████████| 375/375 [00:05<00:00, 64.98it/s]\n"
     ]
    },
    {
     "name": "stdout",
     "output_type": "stream",
     "text": [
      "Epoch 27, training loss: 149.3874\n"
     ]
    },
    {
     "name": "stderr",
     "output_type": "stream",
     "text": [
      "Training Epoch 28/100: 100%|██████████| 375/375 [00:05<00:00, 62.62it/s]\n"
     ]
    },
    {
     "name": "stdout",
     "output_type": "stream",
     "text": [
      "Epoch 28, training loss: 149.2622\n"
     ]
    },
    {
     "name": "stderr",
     "output_type": "stream",
     "text": [
      "Training Epoch 29/100: 100%|██████████| 375/375 [00:06<00:00, 56.44it/s]\n"
     ]
    },
    {
     "name": "stdout",
     "output_type": "stream",
     "text": [
      "Epoch 29, training loss: 149.0246\n"
     ]
    },
    {
     "name": "stderr",
     "output_type": "stream",
     "text": [
      "Training Epoch 30/100: 100%|██████████| 375/375 [00:06<00:00, 56.12it/s]\n"
     ]
    },
    {
     "name": "stdout",
     "output_type": "stream",
     "text": [
      "Epoch 30, training loss: 148.9420\n"
     ]
    },
    {
     "name": "stderr",
     "output_type": "stream",
     "text": [
      "Training Epoch 31/100: 100%|██████████| 375/375 [00:05<00:00, 64.53it/s]\n"
     ]
    },
    {
     "name": "stdout",
     "output_type": "stream",
     "text": [
      "Epoch 31, training loss: 148.7784\n"
     ]
    },
    {
     "name": "stderr",
     "output_type": "stream",
     "text": [
      "Training Epoch 32/100: 100%|██████████| 375/375 [00:06<00:00, 57.29it/s]\n"
     ]
    },
    {
     "name": "stdout",
     "output_type": "stream",
     "text": [
      "Epoch 32, training loss: 148.6677\n"
     ]
    },
    {
     "name": "stderr",
     "output_type": "stream",
     "text": [
      "Training Epoch 33/100: 100%|██████████| 375/375 [00:06<00:00, 60.20it/s]\n"
     ]
    },
    {
     "name": "stdout",
     "output_type": "stream",
     "text": [
      "Epoch 33, training loss: 148.4493\n"
     ]
    },
    {
     "name": "stderr",
     "output_type": "stream",
     "text": [
      "Training Epoch 34/100: 100%|██████████| 375/375 [00:05<00:00, 66.64it/s]\n"
     ]
    },
    {
     "name": "stdout",
     "output_type": "stream",
     "text": [
      "Epoch 34, training loss: 148.4245\n"
     ]
    },
    {
     "name": "stderr",
     "output_type": "stream",
     "text": [
      "Training Epoch 35/100: 100%|██████████| 375/375 [00:05<00:00, 65.23it/s]\n"
     ]
    },
    {
     "name": "stdout",
     "output_type": "stream",
     "text": [
      "Epoch 35, training loss: 148.4377\n"
     ]
    },
    {
     "name": "stderr",
     "output_type": "stream",
     "text": [
      "Training Epoch 36/100: 100%|██████████| 375/375 [00:06<00:00, 59.94it/s]\n"
     ]
    },
    {
     "name": "stdout",
     "output_type": "stream",
     "text": [
      "Epoch 36, training loss: 148.1856\n"
     ]
    },
    {
     "name": "stderr",
     "output_type": "stream",
     "text": [
      "Training Epoch 37/100: 100%|██████████| 375/375 [00:05<00:00, 65.80it/s]\n"
     ]
    },
    {
     "name": "stdout",
     "output_type": "stream",
     "text": [
      "Epoch 37, training loss: 148.0918\n"
     ]
    },
    {
     "name": "stderr",
     "output_type": "stream",
     "text": [
      "Training Epoch 38/100: 100%|██████████| 375/375 [00:05<00:00, 65.85it/s]\n"
     ]
    },
    {
     "name": "stdout",
     "output_type": "stream",
     "text": [
      "Epoch 38, training loss: 147.9787\n"
     ]
    },
    {
     "name": "stderr",
     "output_type": "stream",
     "text": [
      "Training Epoch 39/100: 100%|██████████| 375/375 [00:05<00:00, 66.75it/s]\n"
     ]
    },
    {
     "name": "stdout",
     "output_type": "stream",
     "text": [
      "Epoch 39, training loss: 147.9489\n"
     ]
    },
    {
     "name": "stderr",
     "output_type": "stream",
     "text": [
      "Training Epoch 40/100: 100%|██████████| 375/375 [00:05<00:00, 67.08it/s]\n"
     ]
    },
    {
     "name": "stdout",
     "output_type": "stream",
     "text": [
      "Epoch 40, training loss: 147.7853\n"
     ]
    },
    {
     "name": "stderr",
     "output_type": "stream",
     "text": [
      "Training Epoch 41/100: 100%|██████████| 375/375 [00:05<00:00, 66.10it/s]\n"
     ]
    },
    {
     "name": "stdout",
     "output_type": "stream",
     "text": [
      "Epoch 41, training loss: 147.7104\n"
     ]
    },
    {
     "name": "stderr",
     "output_type": "stream",
     "text": [
      "Training Epoch 42/100: 100%|██████████| 375/375 [00:05<00:00, 66.54it/s]\n"
     ]
    },
    {
     "name": "stdout",
     "output_type": "stream",
     "text": [
      "Epoch 42, training loss: 147.6218\n"
     ]
    },
    {
     "name": "stderr",
     "output_type": "stream",
     "text": [
      "Training Epoch 43/100: 100%|██████████| 375/375 [00:05<00:00, 68.62it/s]\n"
     ]
    },
    {
     "name": "stdout",
     "output_type": "stream",
     "text": [
      "Epoch 43, training loss: 147.4679\n"
     ]
    },
    {
     "name": "stderr",
     "output_type": "stream",
     "text": [
      "Training Epoch 44/100: 100%|██████████| 375/375 [00:05<00:00, 69.05it/s]\n"
     ]
    },
    {
     "name": "stdout",
     "output_type": "stream",
     "text": [
      "Epoch 44, training loss: 147.4480\n"
     ]
    },
    {
     "name": "stderr",
     "output_type": "stream",
     "text": [
      "Training Epoch 45/100: 100%|██████████| 375/375 [00:05<00:00, 68.09it/s]\n"
     ]
    },
    {
     "name": "stdout",
     "output_type": "stream",
     "text": [
      "Epoch 45, training loss: 147.2846\n"
     ]
    },
    {
     "name": "stderr",
     "output_type": "stream",
     "text": [
      "Training Epoch 46/100: 100%|██████████| 375/375 [00:05<00:00, 67.92it/s]\n"
     ]
    },
    {
     "name": "stdout",
     "output_type": "stream",
     "text": [
      "Epoch 46, training loss: 147.2623\n"
     ]
    },
    {
     "name": "stderr",
     "output_type": "stream",
     "text": [
      "Training Epoch 47/100: 100%|██████████| 375/375 [00:05<00:00, 65.32it/s]\n"
     ]
    },
    {
     "name": "stdout",
     "output_type": "stream",
     "text": [
      "Epoch 47, training loss: 147.2221\n"
     ]
    },
    {
     "name": "stderr",
     "output_type": "stream",
     "text": [
      "Training Epoch 48/100: 100%|██████████| 375/375 [00:05<00:00, 68.80it/s]\n"
     ]
    },
    {
     "name": "stdout",
     "output_type": "stream",
     "text": [
      "Epoch 48, training loss: 147.1443\n"
     ]
    },
    {
     "name": "stderr",
     "output_type": "stream",
     "text": [
      "Training Epoch 49/100: 100%|██████████| 375/375 [00:05<00:00, 69.05it/s]\n"
     ]
    },
    {
     "name": "stdout",
     "output_type": "stream",
     "text": [
      "Epoch 49, training loss: 147.0365\n"
     ]
    },
    {
     "name": "stderr",
     "output_type": "stream",
     "text": [
      "Training Epoch 50/100: 100%|██████████| 375/375 [00:05<00:00, 67.70it/s]\n"
     ]
    },
    {
     "name": "stdout",
     "output_type": "stream",
     "text": [
      "Epoch 50, training loss: 146.9974\n"
     ]
    },
    {
     "name": "stderr",
     "output_type": "stream",
     "text": [
      "Training Epoch 51/100: 100%|██████████| 375/375 [00:05<00:00, 65.64it/s]\n"
     ]
    },
    {
     "name": "stdout",
     "output_type": "stream",
     "text": [
      "Epoch 51, training loss: 146.9189\n"
     ]
    },
    {
     "name": "stderr",
     "output_type": "stream",
     "text": [
      "Training Epoch 52/100: 100%|██████████| 375/375 [00:05<00:00, 65.05it/s]\n"
     ]
    },
    {
     "name": "stdout",
     "output_type": "stream",
     "text": [
      "Epoch 52, training loss: 146.8289\n"
     ]
    },
    {
     "name": "stderr",
     "output_type": "stream",
     "text": [
      "Training Epoch 53/100: 100%|██████████| 375/375 [00:05<00:00, 64.33it/s]\n"
     ]
    },
    {
     "name": "stdout",
     "output_type": "stream",
     "text": [
      "Epoch 53, training loss: 146.7905\n"
     ]
    },
    {
     "name": "stderr",
     "output_type": "stream",
     "text": [
      "Training Epoch 54/100: 100%|██████████| 375/375 [00:05<00:00, 64.59it/s]\n"
     ]
    },
    {
     "name": "stdout",
     "output_type": "stream",
     "text": [
      "Epoch 54, training loss: 146.7082\n"
     ]
    },
    {
     "name": "stderr",
     "output_type": "stream",
     "text": [
      "Training Epoch 55/100: 100%|██████████| 375/375 [00:05<00:00, 64.60it/s]\n"
     ]
    },
    {
     "name": "stdout",
     "output_type": "stream",
     "text": [
      "Epoch 55, training loss: 146.6758\n"
     ]
    },
    {
     "name": "stderr",
     "output_type": "stream",
     "text": [
      "Training Epoch 56/100: 100%|██████████| 375/375 [00:05<00:00, 65.11it/s]\n"
     ]
    },
    {
     "name": "stdout",
     "output_type": "stream",
     "text": [
      "Epoch 56, training loss: 146.5856\n"
     ]
    },
    {
     "name": "stderr",
     "output_type": "stream",
     "text": [
      "Training Epoch 57/100: 100%|██████████| 375/375 [00:06<00:00, 53.97it/s]\n"
     ]
    },
    {
     "name": "stdout",
     "output_type": "stream",
     "text": [
      "Epoch 57, training loss: 146.4789\n"
     ]
    },
    {
     "name": "stderr",
     "output_type": "stream",
     "text": [
      "Training Epoch 58/100: 100%|██████████| 375/375 [00:06<00:00, 56.64it/s]\n"
     ]
    },
    {
     "name": "stdout",
     "output_type": "stream",
     "text": [
      "Epoch 58, training loss: 146.4760\n"
     ]
    },
    {
     "name": "stderr",
     "output_type": "stream",
     "text": [
      "Training Epoch 59/100: 100%|██████████| 375/375 [00:05<00:00, 64.88it/s]\n"
     ]
    },
    {
     "name": "stdout",
     "output_type": "stream",
     "text": [
      "Epoch 59, training loss: 146.5119\n"
     ]
    },
    {
     "name": "stderr",
     "output_type": "stream",
     "text": [
      "Training Epoch 60/100: 100%|██████████| 375/375 [00:05<00:00, 66.20it/s]\n"
     ]
    },
    {
     "name": "stdout",
     "output_type": "stream",
     "text": [
      "Epoch 60, training loss: 146.3233\n"
     ]
    },
    {
     "name": "stderr",
     "output_type": "stream",
     "text": [
      "Training Epoch 61/100: 100%|██████████| 375/375 [00:05<00:00, 65.61it/s]\n"
     ]
    },
    {
     "name": "stdout",
     "output_type": "stream",
     "text": [
      "Epoch 61, training loss: 146.2877\n"
     ]
    },
    {
     "name": "stderr",
     "output_type": "stream",
     "text": [
      "Training Epoch 62/100: 100%|██████████| 375/375 [00:05<00:00, 67.55it/s]\n"
     ]
    },
    {
     "name": "stdout",
     "output_type": "stream",
     "text": [
      "Epoch 62, training loss: 146.2294\n"
     ]
    },
    {
     "name": "stderr",
     "output_type": "stream",
     "text": [
      "Training Epoch 63/100: 100%|██████████| 375/375 [00:05<00:00, 66.09it/s]\n"
     ]
    },
    {
     "name": "stdout",
     "output_type": "stream",
     "text": [
      "Epoch 63, training loss: 146.1777\n"
     ]
    },
    {
     "name": "stderr",
     "output_type": "stream",
     "text": [
      "Training Epoch 64/100: 100%|██████████| 375/375 [00:05<00:00, 66.54it/s]\n"
     ]
    },
    {
     "name": "stdout",
     "output_type": "stream",
     "text": [
      "Epoch 64, training loss: 146.1557\n"
     ]
    },
    {
     "name": "stderr",
     "output_type": "stream",
     "text": [
      "Training Epoch 65/100: 100%|██████████| 375/375 [00:05<00:00, 66.34it/s]\n"
     ]
    },
    {
     "name": "stdout",
     "output_type": "stream",
     "text": [
      "Epoch 65, training loss: 146.0668\n"
     ]
    },
    {
     "name": "stderr",
     "output_type": "stream",
     "text": [
      "Training Epoch 66/100: 100%|██████████| 375/375 [00:05<00:00, 66.64it/s]\n"
     ]
    },
    {
     "name": "stdout",
     "output_type": "stream",
     "text": [
      "Epoch 66, training loss: 146.0117\n"
     ]
    },
    {
     "name": "stderr",
     "output_type": "stream",
     "text": [
      "Training Epoch 67/100: 100%|██████████| 375/375 [00:05<00:00, 66.39it/s]\n"
     ]
    },
    {
     "name": "stdout",
     "output_type": "stream",
     "text": [
      "Epoch 67, training loss: 146.0155\n"
     ]
    },
    {
     "name": "stderr",
     "output_type": "stream",
     "text": [
      "Training Epoch 68/100: 100%|██████████| 375/375 [00:05<00:00, 65.47it/s]\n"
     ]
    },
    {
     "name": "stdout",
     "output_type": "stream",
     "text": [
      "Epoch 68, training loss: 145.9602\n"
     ]
    },
    {
     "name": "stderr",
     "output_type": "stream",
     "text": [
      "Training Epoch 69/100: 100%|██████████| 375/375 [00:05<00:00, 66.53it/s]\n"
     ]
    },
    {
     "name": "stdout",
     "output_type": "stream",
     "text": [
      "Epoch 69, training loss: 145.9021\n"
     ]
    },
    {
     "name": "stderr",
     "output_type": "stream",
     "text": [
      "Training Epoch 70/100: 100%|██████████| 375/375 [00:05<00:00, 65.90it/s]\n"
     ]
    },
    {
     "name": "stdout",
     "output_type": "stream",
     "text": [
      "Epoch 70, training loss: 145.7998\n"
     ]
    },
    {
     "name": "stderr",
     "output_type": "stream",
     "text": [
      "Training Epoch 71/100: 100%|██████████| 375/375 [00:05<00:00, 66.13it/s]\n"
     ]
    },
    {
     "name": "stdout",
     "output_type": "stream",
     "text": [
      "Epoch 71, training loss: 145.7958\n"
     ]
    },
    {
     "name": "stderr",
     "output_type": "stream",
     "text": [
      "Training Epoch 72/100: 100%|██████████| 375/375 [00:05<00:00, 63.21it/s]\n"
     ]
    },
    {
     "name": "stdout",
     "output_type": "stream",
     "text": [
      "Epoch 72, training loss: 145.7951\n"
     ]
    },
    {
     "name": "stderr",
     "output_type": "stream",
     "text": [
      "Training Epoch 73/100: 100%|██████████| 375/375 [00:05<00:00, 65.79it/s]\n"
     ]
    },
    {
     "name": "stdout",
     "output_type": "stream",
     "text": [
      "Epoch 73, training loss: 145.7057\n"
     ]
    },
    {
     "name": "stderr",
     "output_type": "stream",
     "text": [
      "Training Epoch 74/100: 100%|██████████| 375/375 [00:05<00:00, 66.02it/s]\n"
     ]
    },
    {
     "name": "stdout",
     "output_type": "stream",
     "text": [
      "Epoch 74, training loss: 145.7851\n"
     ]
    },
    {
     "name": "stderr",
     "output_type": "stream",
     "text": [
      "Training Epoch 75/100: 100%|██████████| 375/375 [00:05<00:00, 65.97it/s]\n"
     ]
    },
    {
     "name": "stdout",
     "output_type": "stream",
     "text": [
      "Epoch 75, training loss: 145.7206\n"
     ]
    },
    {
     "name": "stderr",
     "output_type": "stream",
     "text": [
      "Training Epoch 76/100: 100%|██████████| 375/375 [00:05<00:00, 66.54it/s]\n"
     ]
    },
    {
     "name": "stdout",
     "output_type": "stream",
     "text": [
      "Epoch 76, training loss: 145.5478\n"
     ]
    },
    {
     "name": "stderr",
     "output_type": "stream",
     "text": [
      "Training Epoch 77/100: 100%|██████████| 375/375 [00:05<00:00, 66.46it/s]\n"
     ]
    },
    {
     "name": "stdout",
     "output_type": "stream",
     "text": [
      "Epoch 77, training loss: 145.5430\n"
     ]
    },
    {
     "name": "stderr",
     "output_type": "stream",
     "text": [
      "Training Epoch 78/100: 100%|██████████| 375/375 [00:05<00:00, 66.45it/s]\n"
     ]
    },
    {
     "name": "stdout",
     "output_type": "stream",
     "text": [
      "Epoch 78, training loss: 145.5083\n"
     ]
    },
    {
     "name": "stderr",
     "output_type": "stream",
     "text": [
      "Training Epoch 79/100: 100%|██████████| 375/375 [00:05<00:00, 65.71it/s]\n"
     ]
    },
    {
     "name": "stdout",
     "output_type": "stream",
     "text": [
      "Epoch 79, training loss: 145.4753\n"
     ]
    },
    {
     "name": "stderr",
     "output_type": "stream",
     "text": [
      "Training Epoch 80/100: 100%|██████████| 375/375 [00:05<00:00, 66.10it/s]\n"
     ]
    },
    {
     "name": "stdout",
     "output_type": "stream",
     "text": [
      "Epoch 80, training loss: 145.4564\n"
     ]
    },
    {
     "name": "stderr",
     "output_type": "stream",
     "text": [
      "Training Epoch 81/100: 100%|██████████| 375/375 [00:05<00:00, 66.53it/s]\n"
     ]
    },
    {
     "name": "stdout",
     "output_type": "stream",
     "text": [
      "Epoch 81, training loss: 145.4284\n"
     ]
    },
    {
     "name": "stderr",
     "output_type": "stream",
     "text": [
      "Training Epoch 82/100: 100%|██████████| 375/375 [00:05<00:00, 66.47it/s]\n"
     ]
    },
    {
     "name": "stdout",
     "output_type": "stream",
     "text": [
      "Epoch 82, training loss: 145.3788\n"
     ]
    },
    {
     "name": "stderr",
     "output_type": "stream",
     "text": [
      "Training Epoch 83/100: 100%|██████████| 375/375 [00:05<00:00, 66.34it/s]\n"
     ]
    },
    {
     "name": "stdout",
     "output_type": "stream",
     "text": [
      "Epoch 83, training loss: 145.3871\n"
     ]
    },
    {
     "name": "stderr",
     "output_type": "stream",
     "text": [
      "Training Epoch 84/100: 100%|██████████| 375/375 [00:05<00:00, 66.07it/s]\n"
     ]
    },
    {
     "name": "stdout",
     "output_type": "stream",
     "text": [
      "Epoch 84, training loss: 145.2223\n"
     ]
    },
    {
     "name": "stderr",
     "output_type": "stream",
     "text": [
      "Training Epoch 85/100: 100%|██████████| 375/375 [00:05<00:00, 62.93it/s]\n"
     ]
    },
    {
     "name": "stdout",
     "output_type": "stream",
     "text": [
      "Epoch 85, training loss: 145.3082\n"
     ]
    },
    {
     "name": "stderr",
     "output_type": "stream",
     "text": [
      "Training Epoch 86/100: 100%|██████████| 375/375 [00:05<00:00, 64.78it/s]\n"
     ]
    },
    {
     "name": "stdout",
     "output_type": "stream",
     "text": [
      "Epoch 86, training loss: 145.2514\n"
     ]
    },
    {
     "name": "stderr",
     "output_type": "stream",
     "text": [
      "Training Epoch 87/100: 100%|██████████| 375/375 [00:05<00:00, 65.79it/s]\n"
     ]
    },
    {
     "name": "stdout",
     "output_type": "stream",
     "text": [
      "Epoch 87, training loss: 145.1880\n"
     ]
    },
    {
     "name": "stderr",
     "output_type": "stream",
     "text": [
      "Training Epoch 88/100: 100%|██████████| 375/375 [00:05<00:00, 65.42it/s]\n"
     ]
    },
    {
     "name": "stdout",
     "output_type": "stream",
     "text": [
      "Epoch 88, training loss: 145.1710\n"
     ]
    },
    {
     "name": "stderr",
     "output_type": "stream",
     "text": [
      "Training Epoch 89/100: 100%|██████████| 375/375 [00:05<00:00, 66.39it/s]\n"
     ]
    },
    {
     "name": "stdout",
     "output_type": "stream",
     "text": [
      "Epoch 89, training loss: 145.1183\n"
     ]
    },
    {
     "name": "stderr",
     "output_type": "stream",
     "text": [
      "Training Epoch 90/100: 100%|██████████| 375/375 [00:05<00:00, 65.66it/s]\n"
     ]
    },
    {
     "name": "stdout",
     "output_type": "stream",
     "text": [
      "Epoch 90, training loss: 145.0913\n"
     ]
    },
    {
     "name": "stderr",
     "output_type": "stream",
     "text": [
      "Training Epoch 91/100: 100%|██████████| 375/375 [00:05<00:00, 66.63it/s]\n"
     ]
    },
    {
     "name": "stdout",
     "output_type": "stream",
     "text": [
      "Epoch 91, training loss: 145.0682\n"
     ]
    },
    {
     "name": "stderr",
     "output_type": "stream",
     "text": [
      "Training Epoch 92/100: 100%|██████████| 375/375 [00:05<00:00, 66.77it/s]\n"
     ]
    },
    {
     "name": "stdout",
     "output_type": "stream",
     "text": [
      "Epoch 92, training loss: 145.0405\n"
     ]
    },
    {
     "name": "stderr",
     "output_type": "stream",
     "text": [
      "Training Epoch 93/100: 100%|██████████| 375/375 [00:05<00:00, 63.42it/s]\n"
     ]
    },
    {
     "name": "stdout",
     "output_type": "stream",
     "text": [
      "Epoch 93, training loss: 145.0070\n"
     ]
    },
    {
     "name": "stderr",
     "output_type": "stream",
     "text": [
      "Training Epoch 94/100: 100%|██████████| 375/375 [00:05<00:00, 65.60it/s]\n"
     ]
    },
    {
     "name": "stdout",
     "output_type": "stream",
     "text": [
      "Epoch 94, training loss: 144.9721\n"
     ]
    },
    {
     "name": "stderr",
     "output_type": "stream",
     "text": [
      "Training Epoch 95/100: 100%|██████████| 375/375 [00:05<00:00, 65.58it/s]\n"
     ]
    },
    {
     "name": "stdout",
     "output_type": "stream",
     "text": [
      "Epoch 95, training loss: 144.9094\n"
     ]
    },
    {
     "name": "stderr",
     "output_type": "stream",
     "text": [
      "Training Epoch 96/100: 100%|██████████| 375/375 [00:05<00:00, 65.63it/s]\n"
     ]
    },
    {
     "name": "stdout",
     "output_type": "stream",
     "text": [
      "Epoch 96, training loss: 144.9232\n"
     ]
    },
    {
     "name": "stderr",
     "output_type": "stream",
     "text": [
      "Training Epoch 97/100: 100%|██████████| 375/375 [00:05<00:00, 65.52it/s]\n"
     ]
    },
    {
     "name": "stdout",
     "output_type": "stream",
     "text": [
      "Epoch 97, training loss: 144.8583\n"
     ]
    },
    {
     "name": "stderr",
     "output_type": "stream",
     "text": [
      "Training Epoch 98/100: 100%|██████████| 375/375 [00:05<00:00, 66.10it/s]\n"
     ]
    },
    {
     "name": "stdout",
     "output_type": "stream",
     "text": [
      "Epoch 98, training loss: 144.8884\n"
     ]
    },
    {
     "name": "stderr",
     "output_type": "stream",
     "text": [
      "Training Epoch 99/100: 100%|██████████| 375/375 [00:05<00:00, 65.77it/s]\n"
     ]
    },
    {
     "name": "stdout",
     "output_type": "stream",
     "text": [
      "Epoch 99, training loss: 144.8049\n"
     ]
    },
    {
     "name": "stderr",
     "output_type": "stream",
     "text": [
      "Training Epoch 100/100: 100%|██████████| 375/375 [00:05<00:00, 66.03it/s]"
     ]
    },
    {
     "name": "stdout",
     "output_type": "stream",
     "text": [
      "Epoch 100, training loss: 144.8063\n"
     ]
    },
    {
     "name": "stderr",
     "output_type": "stream",
     "text": [
      "\n"
     ]
    }
   ],
   "source": [
    "latent_dim = 2\n",
    "learning_rate = 1e-3\n",
    "epochs = 100\n",
    "\n",
    "distributions = [\n",
    "    \"continuous_bernoulli\",\n",
    "    \"bernoulli\",\n",
    "    # \"gaussian\",\n",
    "    # \"gaussian_with_learned_variance\",\n",
    "]\n",
    "\n",
    "for distribution in distributions:\n",
    "    print(f\"Training VAE with {distribution} decoder\")\n",
    "\n",
    "    # Model and optimizer\n",
    "    model = VAE(latent_dim=latent_dim, distribution=distribution).to(device)\n",
    "    optimizer = optim.Adam(model.parameters(), lr=learning_rate)\n",
    "\n",
    "    # Print model summary using torchinfo\n",
    "    print(summary(model, input_size=(BATCH_SIZE, 1, 28, 28), device=str(device)))\n",
    "\n",
    "    train_losses = []\n",
    "    validation_losses = []\n",
    "\n",
    "    for epoch in range(epochs):\n",
    "        loss = train(model, optimizer, epoch, epochs)\n",
    "        train_losses.append(loss)\n",
    "        # loss = validation(model, epoch, epochs)\n",
    "        # validation_losses.append(loss)\n",
    "\n",
    "    timestr = time.strftime(\"%Y%m%d-%H%M%S\")\n",
    "    # Save the model\n",
    "    torch.save(model.state_dict(), f\"./models/vae_{distribution}_{timestr}.pt\")\n"
   ]
  },
  {
   "cell_type": "code",
   "execution_count": 200,
   "metadata": {},
   "outputs": [],
   "source": [
    "import numpy as np\n",
    "\n",
    "\n",
    "def imshow(img, title=\"MNIST Samples\"):\n",
    "    npimg = img.numpy()\n",
    "    plt.figure(figsize=(10, 10))\n",
    "    plt.title(title, fontsize=20)\n",
    "    plt.axis(\"off\")\n",
    "    plt.imshow(np.transpose(npimg, (1, 2, 0)), interpolation=\"nearest\")\n"
   ]
  },
  {
   "cell_type": "code",
   "execution_count": 201,
   "metadata": {},
   "outputs": [],
   "source": [
    "latent_dim = 2"
   ]
  },
  {
   "cell_type": "code",
   "execution_count": 202,
   "metadata": {},
   "outputs": [
    {
     "data": {
      "image/png": "[encoded data removed]",
      "text/plain": [
       "<Figure size 1000x1000 with 1 Axes>"
      ]
     },
     "metadata": {},
     "output_type": "display_data"
    },
    {
     "data": {
      "image/png": "[encoded data removed]",
      "text/plain": [
       "<Figure size 1000x1000 with 1 Axes>"
      ]
     },
     "metadata": {},
     "output_type": "display_data"
    },
    {
     "data": {
      "image/png": "[encoded data removed]",
      "text/plain": [
       "<Figure size 1000x1000 with 1 Axes>"
      ]
     },
     "metadata": {},
     "output_type": "display_data"
    }
   ],
   "source": [
    "import torchvision\n",
    "\n",
    "# Visualize dataset\n",
    "dataiter = iter(test_loader)\n",
    "mnist_images, mnist_labels = next(dataiter)\n",
    "\n",
    "\n",
    "model_vae = VAE(latent_dim=latent_dim, distribution=\"bernoulli\").to(device)\n",
    "model_cbvae = VAE(latent_dim=latent_dim, distribution=\"continuous_bernoulli\").to(device)\n",
    "# model_gvae = VAE(latent_dim=latent_dim, distribution=\"gaussian\").to(device)\n",
    "\n",
    "\n",
    "# Load models\n",
    "model_vae.load_state_dict(torch.load(\"./models/vae_bernoulli.pt\", weights_only=True))\n",
    "model_cbvae.load_state_dict(\n",
    "    torch.load(\"./models/vae_continuous_bernoulli.pt\", weights_only=True)\n",
    ")\n",
    "# model_gvae.load_state_dict(\n",
    "#     torch.load(\"./VAE/models/vae_gaussian.pt\", weights_only=True)\n",
    "# )\n",
    "\n",
    "# Sample from models\n",
    "model_vae.eval()\n",
    "model_cbvae.eval()\n",
    "# model_gvae.eval()\n",
    "\n",
    "z = torch.randn(8, 2).to(device)\n",
    "sample_cbvae = model_cbvae.decoder(z).cpu().view(8, 1, 28, 28).detach()\n",
    "sample_vae = model_vae.decoder(z).cpu().view(8, 1, 28, 28).detach()\n",
    "# sample_gvae = torch.sigmoid(model_gvae.decoder(z)).cpu().view(8, 1, 28, 28).detach()\n",
    "\n",
    "\n",
    "# Plot\n",
    "num_samples = 8\n",
    "imshow(\n",
    "    torchvision.utils.make_grid(mnist_images[:num_samples], num_samples),\n",
    "    r\"MNIST Data Samples\",\n",
    ")\n",
    "imshow(\n",
    "    torchvision.utils.make_grid(sample_cbvae[:num_samples], num_samples),\n",
    "    r\"Samples from $\\mathcal{CB}$-VAE\",\n",
    ")\n",
    "imshow(\n",
    "    torchvision.utils.make_grid(sample_vae[:num_samples], num_samples),\n",
    "    r\"Samples from $\\mathcal{B}$-VAE\",\n",
    ")\n",
    "# imshow(\n",
    "#     torchvision.utils.make_grid(sample_gvae[:num_samples], num_samples),\n",
    "#     r'\"Samples from $\\mathcal{G}$-VAE',\n",
    "# )"
   ]
  },
  {
   "cell_type": "code",
   "execution_count": 21,
   "metadata": {},
   "outputs": [],
   "source": [
    "def plot_images(images, nrow):\n",
    "    # Create a grid of images using make_grid\n",
    "    grid_img = make_grid(images, nrow=nrow, padding=2)\n",
    "    # Transpose dimensions to [height, width, channels]\n",
    "    plt.imshow(grid_img.numpy().transpose(1, 2, 0), cmap=\"gray\")\n",
    "\n",
    "    plt.axis(\"off\")\n",
    "    plt.show()\n"
   ]
  },
  {
   "cell_type": "code",
   "execution_count": 22,
   "metadata": {},
   "outputs": [],
   "source": [
    "# Assuming 'model' is your trained VAE and 'device' is the torch device (CPU or GPU)\n",
    "# Also assuming the VAE model consists of 'encoder' and 'decoder' components\n",
    "\n",
    "\n",
    "def sample_and_plot_with_make_grid(model, num_samples=16, nrow=4):\n",
    "    model.eval()  # Set the model to evaluation mode\n",
    "    with torch.no_grad():  # No need to compute gradients during inference\n",
    "        # Get the latent dimension from the model (assuming encoder's fc_mu defines latent dim)\n",
    "        latent_dim = 2  # model.encoder.fc_mu.out_features\n",
    "\n",
    "        # Sample latent vectors z from the standard normal distribution\n",
    "        z = torch.randn(num_samples, latent_dim).to(\n",
    "            device\n",
    "        )  # Shape: [num_samples, latent_dim]\n",
    "\n",
    "        # Pass z through the decoder to reconstruct images\n",
    "        reconstructed_images = model.decoder(\n",
    "            z\n",
    "        )  # Output shape: [num_samples, 1, 28, 28]\n",
    "\n",
    "        # Apply sigmoid activation to get pixel values in (0, 1)\n",
    "        # suitable for Bernoulli distribution, gaussian distribution with fixed variance\n",
    "        reconstructed_images = torch.sigmoid(\n",
    "            reconstructed_images\n",
    "        )  # Shape: [num_samples, 1, 28, 28]\n",
    "\n",
    "        # Move the tensor to CPU and convert to numpy array\n",
    "        images = reconstructed_images.cpu()\n",
    "\n",
    "        # Plot the images\n",
    "        plot_images(images, nrow=nrow)\n"
   ]
  },
  {
   "cell_type": "code",
   "execution_count": null,
   "metadata": {},
   "outputs": [],
   "source": [
    "# Usage\n",
    "\n",
    "model.to(device)\n",
    "sample_and_plot_with_make_grid(model, num_samples=16, nrow=4)"
   ]
  },
  {
   "cell_type": "code",
   "execution_count": null,
   "metadata": {},
   "outputs": [],
   "source": [
    "def interpolate_and_plot(model, num_interpolations=10):\n",
    "    model.eval()\n",
    "    with torch.no_grad():\n",
    "        latent_dim = 2\n",
    "        # Sample two random latent vectors\n",
    "        z_start = torch.randn(1, latent_dim).to(device)\n",
    "        z_end = torch.randn(1, latent_dim).to(device)\n",
    "        # Create interpolation vectors\n",
    "        z_interpolated = [\n",
    "            z_start * (1 - alpha) + z_end * alpha\n",
    "            for alpha in torch.linspace(0, 1, num_interpolations)\n",
    "        ]\n",
    "        z_interpolated = torch.cat(z_interpolated, dim=0)\n",
    "        # Decode interpolated latent vectors\n",
    "        reconstructed_images = model.decoder(z_interpolated)\n",
    "        # Process images\n",
    "        images = torch.sigmoid(reconstructed_images)\n",
    "        images = images.cpu().numpy()\n",
    "        # Plot images\n",
    "        plot_images(images)\n",
    "\n",
    "\n",
    "# Usage example\n",
    "interpolate_and_plot(model, num_interpolations=12)"
   ]
  },
  {
   "cell_type": "markdown",
   "metadata": {},
   "source": [
    "### gaussian with learned variance\n",
    "\n",
    "This code first samples latent vectors `z` from the prior, passes them through the decoder to get `recon_mu` and `recon_logvar`, and then either uses `recon_mu` directly or samples from the learned Gaussian distribution to generate images. The images are then processed (e.g., applying sigmoid to map values to [0, 1]) and plotted."
   ]
  },
  {
   "cell_type": "code",
   "execution_count": null,
   "metadata": {},
   "outputs": [],
   "source": [
    "def sample_and_plot_mean(model, num_samples=16):\n",
    "    model.eval()\n",
    "    with torch.no_grad():\n",
    "        # Get latent dimension\n",
    "        latent_dim = model.encoder.fc_mu.out_features\n",
    "\n",
    "        # Sample z from standard normal distribution\n",
    "        z = torch.randn(num_samples, latent_dim).to(device)\n",
    "\n",
    "        # Decode to get recon_mu and recon_logvar\n",
    "        recon_mu, recon_logvar = model.decoder(z)\n",
    "\n",
    "        # Use recon_mu directly, apply sigmoid to map to [0, 1]\n",
    "        images = torch.sigmoid(recon_mu)\n",
    "\n",
    "        # Move to CPU and convert to numpy\n",
    "        images = images.cpu().numpy()\n",
    "\n",
    "        # Plot images\n",
    "        plot_images(images)\n",
    "\n",
    "\n",
    "def sample_and_plot_samples(model, num_samples=16):\n",
    "    model.eval()\n",
    "    with torch.no_grad():\n",
    "        # Get latent dimension\n",
    "        latent_dim = model.encoder.fc_mu.out_features\n",
    "\n",
    "        # Sample z from standard normal distribution\n",
    "        z = torch.randn(num_samples, latent_dim).to(device)\n",
    "\n",
    "        # Decode to get recon_mu and recon_logvar\n",
    "        recon_mu, recon_logvar = model.decoder(z)\n",
    "\n",
    "        # Compute standard deviation\n",
    "        recon_std = torch.exp(0.5 * recon_logvar)\n",
    "\n",
    "        # Sample from Gaussian\n",
    "        epsilon = torch.randn_like(recon_std)\n",
    "        recon_samples = recon_mu + recon_std * epsilon\n",
    "\n",
    "        # Apply sigmoid to map to [0, 1]\n",
    "        images = torch.sigmoid(recon_samples)\n",
    "\n",
    "        # Move to CPU and convert to numpy\n",
    "        images = images.cpu().numpy()\n",
    "\n",
    "        # Plot images\n",
    "        plot_images(images)\n",
    "\n",
    "\n",
    "# Usage\n",
    "model.to(device)\n",
    "\n",
    "# Option 1: Use recon_mu directly\n",
    "sample_and_plot_mean(model, num_samples=4)\n",
    "\n",
    "# Option 2: Sample from the Gaussian distribution\n",
    "sample_and_plot_samples(model, num_samples=4)"
   ]
  },
  {
   "cell_type": "code",
   "execution_count": null,
   "metadata": {},
   "outputs": [],
   "source": [
    "# Python package versions used\n",
    "%load_ext watermark\n",
    "%watermark -m -v -i -iv"
   ]
  },
  {
   "cell_type": "markdown",
   "metadata": {},
   "source": [
    "## PROBLEM with noise picture\n",
    "\n",
    "I'm sorry to hear that you're encountering issues with Option 2 where sampling from the Gaussian decoder with learned variance results in images that appear as just noise. This is a common issue when working with VAEs where the learned variance (`recon_logvar`) leads to high variance (or standard deviation), causing the sampled images to be extremely noisy.\n",
    "\n",
    "Let's investigate potential reasons for this problem and explore solutions to help you generate meaningful images when sampling from the learned Gaussian distribution.\n",
    "\n",
    "---\n",
    "\n",
    "## **Possible Reasons and Solutions**\n",
    "\n",
    "### **1. High Variance Leading to Noisy Samples**\n",
    "\n",
    "**Issue:**\n",
    "\n",
    "- The learned variance (`recon_logvar`) may be too large, resulting in a high standard deviation (`recon_std`).\n",
    "- When you sample from the Gaussian distribution \\( \\text{recon\\_mu} + \\text{recon\\_std} \\times \\epsilon \\), large values of `recon_std` can introduce significant noise, making the images appear random.\n",
    "\n",
    "**Solution:**\n",
    "\n",
    "- **Inspect `recon_logvar` and `recon_std` Values:**\n",
    "\n",
    "  Before sampling, print out the statistics of `recon_logvar` and `recon_std` to see if they are reasonable.\n",
    "\n",
    "  ```python\n",
    "  print(\"Mean of recon_logvar:\", recon_logvar.mean().item())\n",
    "  print(\"Std of recon_logvar:\", recon_logvar.std().item())\n",
    "  print(\"Max of recon_logvar:\", recon_logvar.max().item())\n",
    "  print(\"Min of recon_logvar:\", recon_logvar.min().item())\n",
    "\n",
    "  recon_std = torch.exp(0.5 * recon_logvar)\n",
    "  print(\"Mean of recon_std:\", recon_std.mean().item())\n",
    "  print(\"Std of recon_std:\", recon_std.std().item())\n",
    "  print(\"Max of recon_std:\", recon_std.max().item())\n",
    "  print(\"Min of recon_std:\", recon_std.min().item())\n",
    "  ```\n",
    "\n",
    "- **Clamp or Restrict Variances:**\n",
    "\n",
    "  Limit the maximum variance (or standard deviation) to prevent extremely large values.\n",
    "\n",
    "  ```python\n",
    "  recon_std = recon_std.clamp(max=1.0)  # Adjust the max value as appropriate\n",
    "  ```\n",
    "\n",
    "- **Apply a Scaling Factor:**\n",
    "\n",
    "  Introduce a scaling factor to reduce the impact of the standard deviation.\n",
    "\n",
    "  ```python\n",
    "  scaling_factor = 0.1  # Experiment with different values\n",
    "  recon_samples = recon_mu + scaling_factor * recon_std * epsilon\n",
    "  ```\n",
    "\n",
    "### **2. Variance Not Properly Learned**\n",
    "\n",
    "**Issue:**\n",
    "\n",
    "- The model may not have learned meaningful variances, causing the standard deviations to be uninformative or excessively large.\n",
    "\n",
    "**Solution:**\n",
    "\n",
    "- **Regularization:**\n",
    "\n",
    "  Add a regularization term to the loss function to penalize large variances.\n",
    "\n",
    "  ```python\n",
    "  variance_penalty = (recon_std ** 2).mean()\n",
    "  loss = NLL + KLD + beta * variance_penalty  # Choose an appropriate beta value\n",
    "  ```\n",
    "\n",
    "- **Ensure Proper Training:**\n",
    "\n",
    "  Verify that the model is adequately trained and that the variance learning is happening correctly. Check the training loss curves and make sure the model converges.\n",
    "\n",
    "### **3. Activation Functions and Constraints**\n",
    "\n",
    "**Issue:**\n",
    "\n",
    "- The lack of appropriate activation functions or constraints on `recon_logvar` can lead to negative variances or excessively high standard deviations.\n",
    "\n",
    "**Solution:**\n",
    "\n",
    "- **Use Softplus Activation:**\n",
    "\n",
    "  Ensure that `recon_logvar` is processed through a softplus activation function to keep it positive and prevent numerical issues.\n",
    "\n",
    "  ```python\n",
    "  recon_logvar = F.softplus(recon_logvar) + 1e-6  # Ensure positive variance\n",
    "  ```\n",
    "\n",
    "- **Adjust Decoder Output:**\n",
    "\n",
    "  Modify the decoder to output `recon_std` directly using a softplus activation, which guarantees positive values.\n",
    "\n",
    "  ```python\n",
    "  self.final_std = nn.Conv2d(32, 1, kernel_size=1)\n",
    "  recon_std = F.softplus(self.final_std(x)) + 1e-6\n",
    "  ```\n",
    "\n",
    "### **4. Debugging the Sampling Code**\n",
    "\n",
    "**Issue:**\n",
    "\n",
    "- There may be a mistake in the sampling code, such as incorrect shapes or misapplied operations.\n",
    "\n",
    "**Solution:**\n",
    "\n",
    "- **Check Epsilon Generation:**\n",
    "\n",
    "  Ensure that the random tensor `epsilon` has the same shape as `recon_std`.\n",
    "\n",
    "  ```python\n",
    "  epsilon = torch.randn_like(recon_std)\n",
    "  ```\n",
    "\n",
    "- **Inspect the Shapes:**\n",
    "\n",
    "  Print out the shapes of `recon_mu`, `recon_std`, and `epsilon` to ensure they align.\n",
    "\n",
    "  ```python\n",
    "  print(\"Shape of recon_mu:\", recon_mu.shape)\n",
    "  print(\"Shape of recon_std:\", recon_std.shape)\n",
    "  print(\"Shape of epsilon:\", epsilon.shape)\n",
    "  ```\n",
    "\n",
    "- **Verify the Sampling Equation:**\n",
    "\n",
    "  Ensure that the sampling is implemented correctly.\n",
    "\n",
    "  ```python\n",
    "  recon_samples = recon_mu + recon_std * epsilon\n",
    "  ```\n",
    "\n",
    "### **5. Use `recon_mu` Directly for Visualization**\n",
    "\n",
    "**Issue:**\n",
    "\n",
    "- If the variance is not adding meaningful variation, using `recon_mu` directly may produce better images.\n",
    "\n",
    "**Solution:**\n",
    "\n",
    "- **Visualize `recon_mu` Only:**\n",
    "\n",
    "  For visualization purposes, you might choose to use `recon_mu` directly, as it often produces clearer images.\n",
    "\n",
    "  ```python\n",
    "  images = torch.sigmoid(recon_mu)\n",
    "  # Proceed to plot images\n",
    "  ```\n",
    "\n",
    "---\n",
    "\n",
    "## **Implementing the Solutions**\n",
    "\n",
    "Here's how you might adjust your code to address the issues:\n",
    "\n",
    "### **Modified Sampling and Plotting Code**\n",
    "\n",
    "```python\n",
    "import torch\n",
    "import torch.nn.functional as F\n",
    "import matplotlib.pyplot as plt\n",
    "\n",
    "def sample_and_plot_samples(model, num_samples=16, scaling_factor=0.1):\n",
    "    model.eval()\n",
    "    with torch.no_grad():\n",
    "        latent_dim = model.encoder.fc_mu.out_features\n",
    "        z = torch.randn(num_samples, latent_dim).to(device)\n",
    "        recon_mu, recon_logvar = model.decoder(z)\n",
    "        \n",
    "        # Apply softplus to recon_logvar\n",
    "        recon_logvar = F.softplus(recon_logvar) + 1e-6\n",
    "        \n",
    "        # Compute recon_std and clamp it\n",
    "        recon_std = torch.exp(0.5 * recon_logvar)\n",
    "        recon_std = recon_std.clamp(max=1.0)  # Adjust max value as needed\n",
    "        \n",
    "        # Sample from Gaussian\n",
    "        epsilon = torch.randn_like(recon_std)\n",
    "        recon_samples = recon_mu + scaling_factor * recon_std * epsilon  # Apply scaling factor\n",
    "        \n",
    "        # Apply sigmoid to map to [0, 1]\n",
    "        images = torch.sigmoid(recon_samples)\n",
    "        \n",
    "        # Move to CPU and convert to numpy\n",
    "        images = images.cpu().numpy()\n",
    "        \n",
    "        # Plot images\n",
    "        plot_images(images)\n",
    "\n",
    "def plot_images(images):\n",
    "    num_images = images.shape[0]\n",
    "    cols = int(num_images ** 0.5)\n",
    "    rows = (num_images + cols - 1) // cols\n",
    "    fig, axes = plt.subplots(rows, cols, figsize=(cols * 2, rows * 2))\n",
    "    axes = axes.flatten()\n",
    "    for i in range(num_images):\n",
    "        img = images[i, 0, :, :]\n",
    "        axes[i].imshow(img, cmap='gray')\n",
    "        axes[i].axis('off')\n",
    "    for i in range(num_images, len(axes)):\n",
    "        axes[i].axis('off')\n",
    "    plt.tight_layout()\n",
    "    plt.show()\n",
    "\n",
    "# Usage\n",
    "device = torch.device('cuda' if torch.cuda.is_available() else 'cpu')\n",
    "model.to(device)\n",
    "sample_and_plot_samples(model, num_samples=16, scaling_factor=0.1)\n",
    "```\n",
    "\n",
    "### **Adjustments Made:**\n",
    "\n",
    "- **Applied `F.softplus` to `recon_logvar`** to ensure positive variance.\n",
    "\n",
    "- **Clamped `recon_std`** to prevent excessively large values.\n",
    "\n",
    "- **Introduced a `scaling_factor`** to reduce the impact of the standard deviation in the sampling process.\n",
    "\n",
    "---\n",
    "\n",
    "## **Next Steps**\n",
    "\n",
    "### **1. Examine the Variance Values**\n",
    "\n",
    "Check if the variance values are reasonable after the modifications.\n",
    "\n",
    "```python\n",
    "print(\"Mean of recon_std:\", recon_std.mean().item())\n",
    "print(\"Max of recon_std:\", recon_std.max().item())\n",
    "print(\"Min of recon_std:\", recon_std.min().item())\n",
    "```\n",
    "\n",
    "A reasonable standard deviation should not be too large (e.g., not exceeding 1.0 significantly).\n",
    "\n",
    "### **2. Retrain the Model if Necessary**\n",
    "\n",
    "If the variance remains unreasonably high or the images are still noisy, consider retraining the model:\n",
    "\n",
    "- **Adjust the Loss Function:**\n",
    "\n",
    "  Add a penalty term for large variances.\n",
    "\n",
    "  ```python\n",
    "  variance_penalty = (recon_std ** 2).mean()\n",
    "  loss = NLL + KLD + beta * variance_penalty  # Choose an appropriate beta\n",
    "  ```\n",
    "\n",
    "- **Monitor Training Losses:**\n",
    "\n",
    "  Ensure that both the reconstruction loss and KL divergence are decreasing over epochs.\n",
    "\n",
    "### **3. Use `recon_mu` for Visualization**\n",
    "\n",
    "If sampling from the Gaussian distribution still doesn't produce meaningful images, you can use `recon_mu` directly:\n",
    "\n",
    "```python\n",
    "def sample_and_plot_mean(model, num_samples=16):\n",
    "    model.eval()\n",
    "    with torch.no_grad():\n",
    "        latent_dim = model.encoder.fc_mu.out_features\n",
    "        z = torch.randn(num_samples, latent_dim).to(device)\n",
    "        recon_mu, _ = model.decoder(z)\n",
    "        images = torch.sigmoid(recon_mu)\n",
    "        images = images.cpu().numpy()\n",
    "        plot_images(images)\n",
    "```\n",
    "\n",
    "---\n",
    "\n",
    "## **Summary**\n",
    "\n",
    "- The noisy images are likely due to high variance (standard deviation) when sampling from the Gaussian decoder with learned variance.\n",
    "\n",
    "- To resolve this issue:\n",
    "\n",
    "  - **Constrain the variance** using activation functions like softplus and clamping.\n",
    "\n",
    "  - **Apply a scaling factor** to reduce the effect of high variance during sampling.\n",
    "\n",
    "  - **Inspect the variance values** to ensure they are within a reasonable range.\n",
    "\n",
    "- If necessary, **retrain the model** with adjustments to the loss function to encourage learning meaningful variances.\n",
    "\n",
    "- For visualization purposes, using `recon_mu` directly may provide clearer images.\n",
    "\n",
    "---\n",
    "\n",
    "## **Final Note**\n",
    "\n",
    "VAEs with learned variance can be sensitive to how the variance is handled during both training and sampling. It's important to ensure that the model learns meaningful variances and that the sampling process accounts for potential issues with high variance.\n",
    "\n",
    "If you continue to experience issues, please share details about your training process, loss function, and any modifications you've made. This information can help in providing more specific guidance.\n",
    "\n",
    "---\n",
    "\n",
    "**Is there anything else I can assist you with?**"
   ]
  },
  {
   "cell_type": "code",
   "execution_count": null,
   "metadata": {},
   "outputs": [],
   "source": []
  },
  {
   "cell_type": "markdown",
   "metadata": {},
   "source": [
    "Great. How do I compare the different models and decide if one is performing better than the others?"
   ]
  },
  {
   "cell_type": "markdown",
   "metadata": {},
   "source": [
    "Comparing different Variational Autoencoder (VAE) models to determine which one performs better involves both quantitative metrics and qualitative assessments. Since VAEs are generative models, evaluating them requires looking beyond traditional metrics used for discriminative models. Below, I'll outline several methods you can use to compare your trained models:\n",
    "\n",
    "---\n",
    "\n",
    "### **1. Quantitative Metrics**\n",
    "\n",
    "#### **a. Loss Components: Reconstruction Loss and KL Divergence**\n",
    "\n",
    "During training, you can monitor the two main components of the VAE loss function:\n",
    "\n",
    "- **Reconstruction Loss**: Measures how well the decoder reconstructs the input data from the latent representation.\n",
    "- **KL Divergence (KLD)**: Measures how closely the learned latent distribution matches the prior distribution (usually a standard normal distribution).\n",
    "\n",
    "**How to Use:**\n",
    "\n",
    "- **Training Curves**: Plot the reconstruction loss and KLD separately over epochs for each model. This can give you insights into the learning dynamics.\n",
    "  \n",
    "  ```python\n",
    "  # Example code snippet to store losses during training\n",
    "  recon_losses = []\n",
    "  kld_losses = []\n",
    "  total_losses = []\n",
    "\n",
    "  # Inside training loop\n",
    "  recon_losses.append(recon_loss.item())\n",
    "  kld_losses.append(KLD.item())\n",
    "  total_losses.append(loss.item())\n",
    "  ```\n",
    "\n",
    "- **Final Values**: Compare the final values of these losses after training. A lower reconstruction loss indicates better reconstruction capabilities, while an appropriate KLD ensures meaningful latent space representations.\n",
    "\n",
    "#### **b. Evidence Lower Bound (ELBO)**\n",
    "\n",
    "The total loss (Reconstruction Loss + β * KLD) is an approximation of the negative Evidence Lower Bound (ELBO). Comparing the ELBO across models can indicate which model better explains the data.\n",
    "\n",
    "- **Interpretation**: A higher ELBO (or a lower negative ELBO) suggests a better balance between reconstruction fidelity and latent space regularization.\n",
    "\n",
    "#### **c. Likelihood Estimates**\n",
    "\n",
    "Compute the log-likelihood of the test data under each model. Since exact computation is often intractable, techniques like Importance Sampling or the Monte Carlo estimate can be used.\n",
    "\n",
    "- **Implementation Note**: This can be computationally intensive and may require additional coding effort.\n",
    "\n",
    "#### **d. Reconstruction Error on Test Set**\n",
    "\n",
    "Evaluate the reconstruction loss on a held-out test set.\n",
    "\n",
    "- **How to Use**: After training, pass the test data through the encoder and decoder, compute the reconstruction loss, and compare across models.\n",
    "\n",
    "---\n",
    "\n",
    "### **2. Qualitative Assessments**\n",
    "\n",
    "#### **a. Visualizing Reconstructions**\n",
    "\n",
    "Compare how well each model reconstructs input images from the test set.\n",
    "\n",
    "- **Procedure**:\n",
    "  - Select a set of test images.\n",
    "  - Pass them through each trained model to obtain the reconstructions.\n",
    "  - Visualize and compare the original and reconstructed images side by side.\n",
    "\n",
    "  ```python\n",
    "  import matplotlib.pyplot as plt\n",
    "\n",
    "  def visualize_reconstructions(model, test_loader, num_images=10):\n",
    "      model.eval()\n",
    "      with torch.no_grad():\n",
    "          for batch in test_loader:\n",
    "              if model.distribution == 'categorical':\n",
    "                  x, _ = batch\n",
    "              else:\n",
    "                  x = batch\n",
    "              x = x.to(device)\n",
    "              if model.distribution == 'gaussian':\n",
    "                  recon_mean, recon_logvar, _, _ = model(x)\n",
    "                  recon_x = recon_mean\n",
    "              else:\n",
    "                  recon_x, _, _ = model(x)\n",
    "              x = x.cpu()\n",
    "              recon_x = recon_x.cpu()\n",
    "              break  # Only need one batch\n",
    "      fig, axes = plt.subplots(2, num_images, figsize=(num_images * 2, 4))\n",
    "      for i in range(num_images):\n",
    "          axes[0, i].imshow(x[i].squeeze(), cmap='gray')\n",
    "          axes[0, i].axis('off')\n",
    "          axes[1, i].imshow(recon_x[i].squeeze(), cmap='gray')\n",
    "          axes[1, i].axis('off')\n",
    "      plt.suptitle(f'Reconstructions - {model.distribution}')\n",
    "      plt.show()\n",
    "  ```\n",
    "\n",
    "- **Interpretation**: Sharper and more accurate reconstructions indicate better performance.\n",
    "\n",
    "#### **b. Generating New Samples**\n",
    "\n",
    "Sample from the prior latent distribution and pass these samples through the decoder to generate new images.\n",
    "\n",
    "- **Procedure**:\n",
    "  - Sample latent vectors `z` from a standard normal distribution.\n",
    "  - Use the decoder to generate images from these latent vectors.\n",
    "  - Visualize the generated images.\n",
    "\n",
    "  ```python\n",
    "  def generate_samples(model, num_samples=10):\n",
    "      model.eval()\n",
    "      with torch.no_grad():\n",
    "          z = torch.randn(num_samples, model.latent_dim).to(device)\n",
    "          if model.distribution == 'gaussian':\n",
    "              recon_mean, recon_logvar = model.decoder(z)\n",
    "              samples = recon_mean.cpu()\n",
    "          else:\n",
    "              samples = model.decoder(z).cpu()\n",
    "      fig, axes = plt.subplots(1, num_samples, figsize=(num_samples * 2, 2))\n",
    "      for i in range(num_samples):\n",
    "          axes[i].imshow(samples[i].squeeze(), cmap='gray')\n",
    "          axes[i].axis('off')\n",
    "      plt.suptitle(f'Generated Samples - {model.distribution}')\n",
    "      plt.show()\n",
    "  ```\n",
    "\n",
    "- **Interpretation**: More realistic and diverse samples indicate a better generative model.\n",
    "\n",
    "#### **c. Latent Space Visualization**\n",
    "\n",
    "Visualizing the structure of the latent space can provide insights into how well the model has learned meaningful representations.\n",
    "\n",
    "- **Methods**:\n",
    "  - **2D or 3D Latent Space**: If the latent dimension is 2 or 3, you can plot the latent representations directly.\n",
    "  - **Dimensionality Reduction**: Use techniques like t-SNE or PCA to reduce higher-dimensional latent spaces to 2D for visualization.\n",
    "\n",
    "  ```python\n",
    "  from sklearn.manifold import TSNE\n",
    "\n",
    "  def visualize_latent_space(model, test_loader, num_points=1000):\n",
    "      model.eval()\n",
    "      zs = []\n",
    "      labels = []\n",
    "      with torch.no_grad():\n",
    "          for batch in test_loader:\n",
    "              x, y = batch\n",
    "              x = x.to(device)\n",
    "              mu, _ = model.encoder(x)\n",
    "              zs.append(mu.cpu())\n",
    "              labels.extend(y.cpu())\n",
    "              if len(labels) >= num_points:\n",
    "                  break\n",
    "      zs = torch.cat(zs)[:num_points]\n",
    "      labels = labels[:num_points]\n",
    "      zs_embedded = TSNE(n_components=2).fit_transform(zs)\n",
    "      plt.scatter(zs_embedded[:, 0], zs_embedded[:, 1], c=labels, cmap='tab10', s=5)\n",
    "      plt.colorbar()\n",
    "      plt.title(f'Latent Space - {model.distribution}')\n",
    "      plt.show()\n",
    "  ```\n",
    "\n",
    "- **Interpretation**: A well-structured latent space where similar data points are close together suggests better representation learning.\n",
    "\n",
    "#### **d. Latent Space Interpolation**\n",
    "\n",
    "Interpolate between two latent vectors and observe how the generated images change.\n",
    "\n",
    "- **Procedure**:\n",
    "  - Select two data points and obtain their latent representations.\n",
    "  - Interpolate between these latent vectors.\n",
    "  - Generate images from the interpolated latent vectors.\n",
    "\n",
    "  ```python\n",
    "  def interpolate_latent_space(model, data_loader):\n",
    "      model.eval()\n",
    "      with torch.no_grad():\n",
    "          x, _ = next(iter(data_loader))\n",
    "          x = x.to(device)\n",
    "          mu, _ = model.encoder(x[:2])  # Take two samples\n",
    "          z1, z2 = mu\n",
    "          alphas = torch.linspace(0, 1, steps=10)\n",
    "          interpolated_z = torch.lerp(z1, z2, alphas[:, None].to(device))\n",
    "          if model.distribution == 'gaussian':\n",
    "              recon_mean, _ = model.decoder(interpolated_z)\n",
    "              interpolated_images = recon_mean.cpu()\n",
    "          else:\n",
    "              interpolated_images = model.decoder(interpolated_z).cpu()\n",
    "      fig, axes = plt.subplots(1, len(alphas), figsize=(len(alphas) * 2, 2))\n",
    "      for i in range(len(alphas)):\n",
    "          axes[i].imshow(interpolated_images[i].squeeze(), cmap='gray')\n",
    "          axes[i].axis('off')\n",
    "      plt.suptitle(f'Latent Space Interpolation - {model.distribution}')\n",
    "      plt.show()\n",
    "  ```\n",
    "\n",
    "- **Interpretation**: Smooth transitions between images indicate a well-behaved latent space.\n",
    "\n",
    "---\n",
    "\n",
    "### **3. Evaluating Specific Characteristics**\n",
    "\n",
    "#### **a. Disentanglement (For Beta VAE)**\n",
    "\n",
    "Beta VAEs are designed to promote disentangled representations.\n",
    "\n",
    "- **Method**: Vary one dimension of the latent vector while keeping others fixed and observe changes in the generated images.\n",
    "\n",
    "  ```python\n",
    "  def disentanglement_test(model):\n",
    "      model.eval()\n",
    "      with torch.no_grad():\n",
    "          z = torch.zeros(model.latent_dim).to(device)\n",
    "          fig, axes = plt.subplots(1, model.latent_dim, figsize=(model.latent_dim * 2, 2))\n",
    "          for i in range(model.latent_dim):\n",
    "              z_i = z.clone()\n",
    "              z_i[i] = 2.0  # Vary the ith latent dimension\n",
    "              if model.distribution == 'gaussian':\n",
    "                  recon_mean, _ = model.decoder(z_i.unsqueeze(0))\n",
    "                  img = recon_mean.squeeze().cpu()\n",
    "              else:\n",
    "                  img = model.decoder(z_i.unsqueeze(0)).squeeze().cpu()\n",
    "              axes[i].imshow(img, cmap='gray')\n",
    "              axes[i].axis('off')\n",
    "          plt.suptitle(f'Disentanglement Test - {model.distribution}')\n",
    "          plt.show()\n",
    "  ```\n",
    "\n",
    "- **Interpretation**: If changing individual latent dimensions results in interpretable and independent changes in the output, this suggests good disentanglement.\n",
    "\n",
    "#### **b. Classification Accuracy (For Categorical Decoder)**\n",
    "\n",
    "Since the categorical decoder is trained to predict class labels, you can evaluate the classification accuracy.\n",
    "\n",
    "- **Procedure**:\n",
    "  - Use the VAE to predict labels on the test set.\n",
    "  - Compute accuracy, precision, recall, and other classification metrics.\n",
    "\n",
    "  ```python\n",
    "  from sklearn.metrics import classification_report\n",
    "\n",
    "  def evaluate_classification(model, test_loader):\n",
    "      model.eval()\n",
    "      all_preds = []\n",
    "      all_labels = []\n",
    "      with torch.no_grad():\n",
    "          for x, labels in test_loader:\n",
    "              x = x.to(device)\n",
    "              labels = labels.to(device)\n",
    "              logits = model.decoder(model.encoder(x)[0])  # Get latent variables and pass through decoder\n",
    "              preds = torch.argmax(logits, dim=1)\n",
    "              all_preds.extend(preds.cpu().numpy())\n",
    "              all_labels.extend(labels.cpu().numpy())\n",
    "      print(classification_report(all_labels, all_preds))\n",
    "  ```\n",
    "\n",
    "- **Interpretation**: Higher classification accuracy indicates better performance for the categorical decoder.\n",
    "\n",
    "---\n",
    "\n",
    "### **4. Comparing Models**\n",
    "\n",
    "After collecting the quantitative metrics and qualitative assessments, you can compare the models:\n",
    "\n",
    "- **Tabulate Metrics**: Create a table with metrics like final reconstruction loss, KL divergence, and total loss for each model.\n",
    "\n",
    "- **Visual Comparison**: Organize the visualizations (reconstructions, generated samples, latent space plots) in a way that allows side-by-side comparison.\n",
    "\n",
    "- **Consider the Trade-offs**:\n",
    "\n",
    "  - **Reconstruction vs. Regularization**: A very low reconstruction loss with a high KL divergence might indicate overfitting to the training data without learning a good latent representation.\n",
    "  \n",
    "  - **Beta VAE Effect**: Increasing β encourages disentanglement but may increase the reconstruction loss. Assess whether the benefits of disentangled representations outweigh the loss in reconstruction quality.\n",
    "\n",
    "- **Domain Relevance**:\n",
    "\n",
    "  - **Application Needs**: Depending on your application, certain aspects might be more important. For instance, if generating high-quality images is crucial, you might prioritize models with better reconstruction.\n",
    "  \n",
    "  - **Complexity vs. Performance**: Simpler models might perform adequately with less computational overhead.\n",
    "\n",
    "---\n",
    "\n",
    "### **5. Statistical Tests**\n",
    "\n",
    "If you have quantitative metrics over multiple runs (e.g., different random seeds), you can perform statistical tests to assess whether differences between models are significant.\n",
    "\n",
    "- **Examples**:\n",
    "\n",
    "  - **t-test**: Compare mean reconstruction losses between models.\n",
    "  - **ANOVA**: If comparing more than two models.\n",
    "\n",
    "---\n",
    "\n",
    "### **6. Additional Considerations**\n",
    "\n",
    "#### **a. Overfitting**\n",
    "\n",
    "Monitor for signs of overfitting:\n",
    "\n",
    "- **Training vs. Validation Loss**: If the training loss is significantly lower than the validation loss, the model might be overfitting.\n",
    "\n",
    "#### **b. Model Complexity**\n",
    "\n",
    "Consider the number of parameters and computational requirements. A model that performs slightly better but is much more complex might not be the best choice.\n",
    "\n",
    "---\n",
    "\n",
    "### **7. Practical Steps**\n",
    "\n",
    "Here's how you might proceed:\n",
    "\n",
    "1. **Collect Data During Training**:\n",
    "\n",
    "   - Modify your training loop to record losses and other relevant metrics at each epoch.\n",
    "   - Optionally, save intermediate models if you wish to evaluate performance at different training stages.\n",
    "\n",
    "   ```python\n",
    "   # Modify training loop to store losses\n",
    "   epoch_recon_loss = 0\n",
    "   epoch_kld_loss = 0\n",
    "   for batch in train_loader:\n",
    "       # ... existing code ...\n",
    "       epoch_recon_loss += recon_loss.item()\n",
    "       epoch_kld_loss += KLD.item()\n",
    "   recon_losses.append(epoch_recon_loss / len(train_loader.dataset))\n",
    "   kld_losses.append(epoch_kld_loss / len(train_loader.dataset))\n",
    "   ```\n",
    "\n",
    "2. **Evaluate on Test Data**:\n",
    "\n",
    "   - After training, evaluate each model on a test set that was not used during training.\n",
    "\n",
    "3. **Generate Visualizations**:\n",
    "\n",
    "   - Use the provided code snippets to generate reconstructions, sample images, and latent space plots.\n",
    "   - Save these visualizations for comparison.\n",
    "\n",
    "4. **Compile Results**:\n",
    "\n",
    "   - Create a report or presentation compiling the metrics and visualizations.\n",
    "   - Annotate key observations for each model.\n",
    "\n",
    "5. **Analyze and Decide**:\n",
    "\n",
    "   - Based on the collected information, determine which model aligns best with your goals.\n",
    "   - Consider both quantitative metrics and qualitative assessments.\n",
    "\n",
    "---\n",
    "\n",
    "### **Example Visualization**\n",
    "\n",
    "Here's an example of how you might visualize and compare reconstructions from different models:\n",
    "\n",
    "```python\n",
    "# Assuming you have a list of trained models and their names\n",
    "models = [model_bernoulli, model_gaussian, model_cont_bernoulli, model_categorical]\n",
    "model_names = ['Bernoulli', 'Gaussian', 'Continuous Bernoulli', 'Categorical']\n",
    "\n",
    "def compare_reconstructions(models, model_names, test_loader):\n",
    "    num_images = 5\n",
    "    fig, axes = plt.subplots(len(models) + 1, num_images, figsize=(num_images * 2, (len(models) + 1) * 2))\n",
    "    # Get a batch of test images\n",
    "    x, _ = next(iter(test_loader))\n",
    "    x = x.to(device)\n",
    "    axes[0, 0].set_title('Original')\n",
    "    for i in range(num_images):\n",
    "        axes[0, i].imshow(x[i].cpu().squeeze(), cmap='gray')\n",
    "        axes[0, i].axis('off')\n",
    "    for idx, model in enumerate(models):\n",
    "        model.eval()\n",
    "        with torch.no_grad():\n",
    "            if model.distribution == 'gaussian':\n",
    "                recon_mean, _, _, _ = model(x)\n",
    "                recon_x = recon_mean.cpu()\n",
    "            else:\n",
    "                recon_x, _, _ = model(x)\n",
    "                recon_x = recon_x.cpu()\n",
    "        axes[idx + 1, 0].set_title(model_names[idx])\n",
    "        for i in range(num_images):\n",
    "            axes[idx + 1, i].imshow(recon_x[i].squeeze(), cmap='gray')\n",
    "            axes[idx + 1, i].axis('off')\n",
    "    plt.tight_layout()\n",
    "    plt.show()\n",
    "```\n",
    "\n",
    "---\n",
    "\n",
    "### **Conclusion**\n",
    "\n",
    "Comparing VAEs requires a combination of quantitative metrics and qualitative assessments. By systematically evaluating each model using the methods outlined above, you can make an informed decision about which model performs better for your specific application.\n",
    "\n",
    "Remember that \"better\" can be subjective and dependent on the context:\n",
    "\n",
    "- If you prioritize **reconstruction quality**, models with lower reconstruction loss and better visual reconstructions are preferable.\n",
    "- If you value **latent space properties** like disentanglement or smoothness, Beta VAE or models with regularization might be better.\n",
    "- For tasks requiring **classification**, the categorical decoder's performance in predicting labels is crucial.\n",
    "\n",
    "---\n",
    "\n",
    "Feel free to modify the code snippets and adapt the evaluation methods to suit your specific needs. If you have any questions or need further assistance with implementing these comparisons, please let me know!\n"
   ]
  },
  {
   "cell_type": "markdown",
   "metadata": {},
   "source": []
  },
  {
   "cell_type": "markdown",
   "metadata": {},
   "source": [
    "# improvement of loss function for VAE with Bernoulli decoder\n",
    "\n",
    "Yes, the loss function in your variational autoencoder (VAE) implementation can be improved by utilizing other PyTorch tools, as suggested in the comment in your code. Specifically, you can enhance both the reconstruction loss and the KL divergence term by taking advantage of built-in functions that offer better numerical stability and cleaner implementation.\n",
    "\n",
    "Here’s how you can improve the loss function:\n",
    "\n",
    "---\n",
    "\n",
    "### **1. Improve the Reconstruction Loss**\n",
    "\n",
    "#### **Current Implementation:**\n",
    "\n",
    "```python\n",
    "BCE = F.binary_cross_entropy(\n",
    "    recon_x, x.view(-1, recon_x.shape[-1]), reduction=\"sum\")\n",
    "```\n",
    "\n",
    "- **Issue:** This implementation assumes that `recon_x` is already passed through a sigmoid activation to squash the outputs into the \\((0, 1)\\) range suitable for `binary_cross_entropy`.\n",
    "- **Problem:** Applying the sigmoid activation separately can lead to numerical instability, especially when the inputs have extreme values. Additionally, it requires an extra computation step.\n",
    "\n",
    "#### **Improvement: Use `binary_cross_entropy_with_logits`**\n",
    "\n",
    "- **Solution:** Instead of applying the sigmoid activation to the decoder outputs (`recon_x`), you can directly use the raw logits and the `binary_cross_entropy_with_logits` function.\n",
    "- **Advantages:**\n",
    "  - Combines the sigmoid activation and the binary cross-entropy loss into a single, more numerically stable function.\n",
    "  - Reduces computational steps and potential sources of error.\n",
    "\n",
    "#### **Updated Code:**\n",
    "\n",
    "```python\n",
    "# Assuming recon_x is the raw output (logits) from the decoder (no sigmoid applied)\n",
    "BCE = F.binary_cross_entropy_with_logits(\n",
    "    recon_x, x.view(-1, recon_x.shape[-1]), reduction=\"sum\")\n",
    "```\n",
    "\n",
    "- **Notes:**\n",
    "  - Ensure that the decoder's final layer does **not** apply a sigmoid activation.\n",
    "  - The `binary_cross_entropy_with_logits` function internally applies the sigmoid activation and computes the binary cross-entropy loss in a numerically stable way.\n",
    "\n",
    "---\n",
    "\n",
    "### **2. Improve the KL Divergence Term**\n",
    "\n",
    "#### **Current Implementation:**\n",
    "\n",
    "```python\n",
    "KLD = -0.5 * torch.sum(1 + logvar - mu.pow(2) - logvar.exp())\n",
    "```\n",
    "\n",
    "- **Issue:** While this computes the KL divergence between the approximate posterior \\( q(\\mathbf{z}|\\mathbf{x}) \\) and the prior \\( p(\\mathbf{z}) \\) correctly, manually coding the KL divergence can be less transparent and potentially error-prone.\n",
    "- **Problem:** It might not be immediately clear that this term represents the KL divergence between two normal distributions.\n",
    "\n",
    "#### **Improvement: Use `torch.distributions` Module**\n",
    "\n",
    "- **Solution:** Utilize the `torch.distributions` module to define the distributions and compute the KL divergence using the `kl_divergence` function.\n",
    "- **Advantages:**\n",
    "  - Makes the code more readable and expressive.\n",
    "  - Leverages built-in functions that are well-tested and maintained.\n",
    "\n",
    "#### **Updated Code:**\n",
    "\n",
    "```python\n",
    "from torch.distributions import Normal, kl_divergence\n",
    "\n",
    "# Create normal distributions for q(z|x) and p(z)\n",
    "q_z = Normal(loc=mu, scale=(0.5 * logvar).exp())\n",
    "p_z = Normal(loc=torch.zeros_like(mu), scale=torch.ones_like(logvar))\n",
    "\n",
    "# Compute the KL divergence between q(z|x) and p(z)\n",
    "KLD = kl_divergence(q_z, p_z).sum()\n",
    "```\n",
    "\n",
    "- **Notes:**\n",
    "  - `scale` parameter in `Normal` distribution should be the standard deviation, which is computed as \\( \\exp\\left(\\frac{1}{2} \\cdot \\log \\sigma^2\\right) = \\exp\\left(\\log \\sigma\\right) = \\sigma \\).\n",
    "  - `torch.zeros_like(mu)` and `torch.ones_like(logvar)` ensure that the prior \\( p(\\mathbf{z}) \\) is a standard normal distribution with mean 0 and standard deviation 1.\n",
    "\n",
    "---\n",
    "\n",
    "### **3. Complete Improved Loss Function**\n",
    "\n",
    "#### **Improved Loss Function Code:**\n",
    "\n",
    "```python\n",
    "def loss_function(recon_x, x, mu, logvar):\n",
    "    # Reconstruction loss (using logits and no sigmoid in decoder output)\n",
    "    BCE = F.binary_cross_entropy_with_logits(\n",
    "        recon_x, x.view(-1, recon_x.shape[-1]), reduction=\"sum\")\n",
    "    \n",
    "    # KL divergence term (using torch.distributions)\n",
    "    from torch.distributions import Normal, kl_divergence\n",
    "    q_z = Normal(loc=mu, scale=(0.5 * logvar).exp())\n",
    "    p_z = Normal(loc=torch.zeros_like(mu), scale=torch.ones_like(logvar))\n",
    "    KLD = kl_divergence(q_z, p_z).sum()\n",
    "    \n",
    "    return BCE + KLD\n",
    "```\n",
    "\n",
    "- **Ensure Consistency:**\n",
    "  - Modify your decoder network to **not** apply a sigmoid activation function in its final layer.\n",
    "  - The outputs (`recon_x`) should be raw logits.\n",
    "  - When generating samples (inference mode), you can apply a sigmoid to the logits to obtain probabilities.\n",
    "\n",
    "---\n",
    "\n",
    "### **4. Additional Considerations**\n",
    "\n",
    "#### **Batch Size Independence**\n",
    "\n",
    "- **Original Code Concern:**\n",
    "  - Using `reduction='sum'` sums over all elements, including the batch size, which means that the loss magnitude depends on the batch size.\n",
    "- **Improvement:**\n",
    "  - To make the loss independent of the batch size, you can use `reduction='mean'` or normalize the loss by the number of elements.\n",
    "\n",
    "#### **Updated Loss Function with Normalization:**\n",
    "\n",
    "```python\n",
    "def loss_function(recon_x, x, mu, logvar):\n",
    "    # Reconstruction loss (normalized)\n",
    "    BCE = F.binary_cross_entropy_with_logits(\n",
    "        recon_x, x.view(-1, recon_x.shape[-1]), reduction=\"sum\")\n",
    "    BCE /= x.size(0)  # Normalize by batch size\n",
    "    \n",
    "    # KL divergence term (normalized)\n",
    "    from torch.distributions import Normal, kl_divergence\n",
    "    q_z = Normal(loc=mu, scale=(0.5 * logvar).exp())\n",
    "    p_z = Normal(loc=torch.zeros_like(mu), scale=torch.ones_like(logvar))\n",
    "    KLD = kl_divergence(q_z, p_z).sum()\n",
    "    KLD /= x.size(0)  # Normalize by batch size\n",
    "    \n",
    "    return BCE + KLD\n",
    "```\n",
    "\n",
    "---\n",
    "\n",
    "### **5. Explanation for the Improvements**\n",
    "\n",
    "#### **Why Use `binary_cross_entropy_with_logits`?**\n",
    "\n",
    "- **Numerical Stability:**\n",
    "  - Combining the sigmoid and the binary cross-entropy loss in one function reduces the risk of numerical underflow or overflow when computing the exponentials in the sigmoid function separately.\n",
    "- **Performance:**\n",
    "  - Reduces the computational overhead by avoiding an extra activation function.\n",
    "\n",
    "#### **Why Use `torch.distributions` Module?**\n",
    "\n",
    "- **Clear Representation:**\n",
    "  - Explicitly defines the distributions involved in the KL divergence calculation.\n",
    "- **Extensibility:**\n",
    "  - Makes it easier to extend the model to other types of distributions without changing the underlying loss computation logic.\n",
    "- **Reliability:**\n",
    "  - Uses tested and optimized functions provided by PyTorch.\n",
    "\n",
    "---\n",
    "\n",
    "### **6. Incorporate These Changes in Your Model**\n",
    "\n",
    "#### **Decoder Network Adjustment:**\n",
    "\n",
    "- **Remove Sigmoid Activation:**\n",
    "  - Ensure that the final layer of your decoder does not apply a sigmoid activation.\n",
    "- **Output Raw Logits:**\n",
    "  - The decoder should output raw logits (`recon_x`) that will be passed directly to the loss function.\n",
    "\n",
    "#### **Sample Generation:**\n",
    "\n",
    "- **During Inference:**\n",
    "  - When generating samples from the VAE, apply the sigmoid function to the decoder's output logits to obtain probabilities between 0 and 1.\n",
    "  - Optionally, you can sample binary outputs by thresholding or sampling from a Bernoulli distribution using these probabilities.\n",
    "\n",
    "---\n",
    "\n",
    "### **7. Reference to the Video Timestamp**\n",
    "\n",
    "- **Context:**\n",
    "  - In the comment, you refer to [a video at 0:21:56](https://www.youtube.com/watch?v=HBYQvKlaE0A) which likely explains the mathematical derivation of the loss function.\n",
    "- **Alignment with Theory:**\n",
    "  - The modifications suggested align with the theoretical underpinnings of VAEs and the derivations presented in educational materials.\n",
    "- **Understanding the Math:**\n",
    "  - Ensure that you understand how these changes reflect the mathematical formulations of the VAE loss function.\n",
    "\n",
    "---\n",
    "\n",
    "### **8. Final Thoughts**\n",
    "\n",
    "By making these adjustments, you improve the numerical stability and readability of your code. Leveraging PyTorch's built-in functions ensures that your implementation is both efficient and less prone to subtle bugs that can arise from manual calculations.\n",
    "\n",
    "---\n",
    "\n",
    "**Modified Loss Function Implementation:**\n",
    "\n",
    "```python\n",
    "def loss_function(recon_x, x, mu, logvar):\n",
    "    # Reconstruction loss (using logits)\n",
    "    BCE = F.binary_cross_entropy_with_logits(\n",
    "        recon_x, x.view(-1, recon_x.shape[-1]), reduction='sum')\n",
    "    BCE /= x.size(0)  # Normalize by batch size if desired\n",
    "\n",
    "    # KL divergence term (using torch.distributions)\n",
    "    from torch.distributions import Normal, kl_divergence\n",
    "    std = torch.exp(0.5 * logvar)\n",
    "    q_z = Normal(mu, std)\n",
    "    p_z = Normal(torch.zeros_like(mu), torch.ones_like(std))\n",
    "    KLD = kl_divergence(q_z, p_z).sum()\n",
    "    KLD /= x.size(0)  # Normalize by batch size if desired\n",
    "\n",
    "    return BCE + KLD\n",
    "```\n",
    "\n",
    "**Remember to adjust your decoder accordingly and test your model to ensure that it trains correctly with the modified loss function.**\n",
    "\n",
    "---\n",
    "\n",
    "**Answer:** Yes; by using functions like `binary_cross_entropy_with_logits` and `torch.distributions.kl_divergence`, you can improve the loss computation for better stability and clarity."
   ]
  },
  {
   "cell_type": "markdown",
   "metadata": {},
   "source": []
  }
 ],
 "metadata": {
  "kernelspec": {
   "display_name": ".venv",
   "language": "python",
   "name": "python3"
  },
  "language_info": {
   "codemirror_mode": {
    "name": "ipython",
    "version": 3
   },
   "file_extension": ".py",
   "mimetype": "text/x-python",
   "name": "python",
   "nbconvert_exporter": "python",
   "pygments_lexer": "ipython3",
   "version": "3.12.8"
  }
 },
 "nbformat": 4,
 "nbformat_minor": 2
}
