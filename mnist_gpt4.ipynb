{
 "cells": [
  {
   "cell_type": "code",
   "execution_count": 2,
   "metadata": {},
   "outputs": [],
   "source": [
    "import torch\n",
    "import torch.nn as nn\n",
    "import torch.optim as optim\n",
    "from torchvision import datasets, transforms\n",
    "from torch.utils.data import DataLoader\n"
   ]
  },
  {
   "cell_type": "code",
   "execution_count": 3,
   "metadata": {},
   "outputs": [
    {
     "data": {
      "text/plain": [
       "device(type='cuda')"
      ]
     },
     "execution_count": 3,
     "metadata": {},
     "output_type": "execute_result"
    }
   ],
   "source": [
    "# Device configuration\n",
    "device = torch.device('cuda' if torch.cuda.is_available() else 'cpu')\n",
    "device"
   ]
  },
  {
   "cell_type": "code",
   "execution_count": 17,
   "metadata": {},
   "outputs": [],
   "source": [
    "# Hyperparameters\n",
    "num_epochs = 5\n",
    "batch_size = 64\n",
    "learning_rate = 0.001\n",
    "input_size = 784  # 28*28\n",
    "hidden_size1 = 512\n",
    "hidden_size2 = 256\n",
    "num_classes = 10"
   ]
  },
  {
   "cell_type": "code",
   "execution_count": 7,
   "metadata": {},
   "outputs": [],
   "source": [
    "transform = transforms.Compose([\n",
    "    transforms.ToTensor(),\n",
    "    transforms.Normalize((0.1307,), (0.3081,))\n",
    "])"
   ]
  },
  {
   "cell_type": "code",
   "execution_count": 10,
   "metadata": {},
   "outputs": [],
   "source": [
    "train_dataset = datasets.MNIST(root='./dataset', train=True, transform=transform, download=True)\n",
    "test_dataset = datasets.MNIST(root='./dataset', train=False, transform=transform)\n",
    "\n",
    "train_loader = DataLoader(dataset=train_dataset, batch_size=batch_size, shuffle=True)\n",
    "test_loader = DataLoader(dataset=test_dataset, batch_size=batch_size, shuffle=False)\n"
   ]
  },
  {
   "cell_type": "code",
   "execution_count": 11,
   "metadata": {},
   "outputs": [
    {
     "name": "stdout",
     "output_type": "stream",
     "text": [
      "Mean: 0.007629724219441414\n",
      "Standard Deviation: 1.0044084787368774\n"
     ]
    }
   ],
   "source": [
    "# Calculate mean and standard deviation\n",
    "data = next(iter(train_loader))[0]\n",
    "mean = data.mean().item()\n",
    "std = data.std().item()\n",
    "\n",
    "print(\"Mean:\", mean)\n",
    "print(\"Standard Deviation:\", std)"
   ]
  },
  {
   "cell_type": "code",
   "execution_count": 12,
   "metadata": {},
   "outputs": [],
   "source": [
    "# Define the Feed-Forward Neural Network model\n",
    "class MLPModel(nn.Module):\n",
    "    def __init__(self):\n",
    "        super(MLPModel, self).__init__()\n",
    "        self.fc1 = nn.Linear(input_size, hidden_size1)\n",
    "        self.bn1 = nn.BatchNorm1d(hidden_size1)\n",
    "        self.drop1 = nn.Dropout(0.5)\n",
    "        self.fc2 = nn.Linear(hidden_size1, hidden_size2)\n",
    "        self.bn2 = nn.BatchNorm1d(hidden_size2)\n",
    "        self.drop2 = nn.Dropout(0.5)\n",
    "        self.fc3 = nn.Linear(hidden_size2, num_classes)\n",
    "    \n",
    "    def forward(self, x):\n",
    "        x = x.view(-1, input_size)\n",
    "        x = torch.relu(self.bn1(self.fc1(x)))\n",
    "        x = self.drop1(x)\n",
    "        x = torch.relu(self.bn2(self.fc2(x)))\n",
    "        x = self.drop2(x)\n",
    "        x = self.fc3(x)\n",
    "        return x"
   ]
  },
  {
   "cell_type": "code",
   "execution_count": 21,
   "metadata": {},
   "outputs": [
    {
     "data": {
      "text/plain": [
       "MLPModel(\n",
       "  (fc1): Linear(in_features=784, out_features=512, bias=True)\n",
       "  (bn1): BatchNorm1d(512, eps=1e-05, momentum=0.1, affine=True, track_running_stats=True)\n",
       "  (drop1): Dropout(p=0.5, inplace=False)\n",
       "  (fc2): Linear(in_features=512, out_features=256, bias=True)\n",
       "  (bn2): BatchNorm1d(256, eps=1e-05, momentum=0.1, affine=True, track_running_stats=True)\n",
       "  (drop2): Dropout(p=0.5, inplace=False)\n",
       "  (fc3): Linear(in_features=256, out_features=10, bias=True)\n",
       ")"
      ]
     },
     "execution_count": 21,
     "metadata": {},
     "output_type": "execute_result"
    }
   ],
   "source": [
    "model = MLPModel().to(device)\n",
    "model"
   ]
  },
  {
   "cell_type": "code",
   "execution_count": null,
   "metadata": {},
   "outputs": [],
   "source": [
    "\n",
    "# Loss and optimizer\n",
    "criterion = nn.CrossEntropyLoss()\n",
    "optimizer = optim.Adam(model.parameters(), lr=learning_rate)\n"
   ]
  },
  {
   "cell_type": "code",
   "execution_count": 19,
   "metadata": {},
   "outputs": [
    {
     "name": "stdout",
     "output_type": "stream",
     "text": [
      "Epoch [1/5], Step [100/938], Loss: 0.6763\n",
      "Epoch [1/5], Step [200/938], Loss: 0.3856\n",
      "Epoch [1/5], Step [300/938], Loss: 0.2295\n",
      "Epoch [1/5], Step [400/938], Loss: 0.3844\n",
      "Epoch [1/5], Step [500/938], Loss: 0.2270\n",
      "Epoch [1/5], Step [600/938], Loss: 0.2432\n",
      "Epoch [1/5], Step [700/938], Loss: 0.2377\n",
      "Epoch [1/5], Step [800/938], Loss: 0.3150\n",
      "Epoch [1/5], Step [900/938], Loss: 0.2241\n",
      "Epoch [2/5], Step [100/938], Loss: 0.3058\n",
      "Epoch [2/5], Step [200/938], Loss: 0.1279\n",
      "Epoch [2/5], Step [300/938], Loss: 0.1409\n",
      "Epoch [2/5], Step [400/938], Loss: 0.1649\n",
      "Epoch [2/5], Step [500/938], Loss: 0.1974\n",
      "Epoch [2/5], Step [600/938], Loss: 0.2492\n",
      "Epoch [2/5], Step [700/938], Loss: 0.0307\n",
      "Epoch [2/5], Step [800/938], Loss: 0.0599\n",
      "Epoch [2/5], Step [900/938], Loss: 0.1851\n",
      "Epoch [3/5], Step [100/938], Loss: 0.2199\n",
      "Epoch [3/5], Step [200/938], Loss: 0.0826\n",
      "Epoch [3/5], Step [300/938], Loss: 0.1332\n",
      "Epoch [3/5], Step [400/938], Loss: 0.0892\n",
      "Epoch [3/5], Step [500/938], Loss: 0.0596\n",
      "Epoch [3/5], Step [600/938], Loss: 0.0840\n",
      "Epoch [3/5], Step [700/938], Loss: 0.1053\n",
      "Epoch [3/5], Step [800/938], Loss: 0.0925\n",
      "Epoch [3/5], Step [900/938], Loss: 0.0764\n",
      "Epoch [4/5], Step [100/938], Loss: 0.1202\n",
      "Epoch [4/5], Step [200/938], Loss: 0.1153\n",
      "Epoch [4/5], Step [300/938], Loss: 0.1802\n",
      "Epoch [4/5], Step [400/938], Loss: 0.0479\n",
      "Epoch [4/5], Step [500/938], Loss: 0.1005\n",
      "Epoch [4/5], Step [600/938], Loss: 0.0937\n",
      "Epoch [4/5], Step [700/938], Loss: 0.0381\n",
      "Epoch [4/5], Step [800/938], Loss: 0.1225\n",
      "Epoch [4/5], Step [900/938], Loss: 0.0286\n",
      "Epoch [5/5], Step [100/938], Loss: 0.0324\n",
      "Epoch [5/5], Step [200/938], Loss: 0.1732\n",
      "Epoch [5/5], Step [300/938], Loss: 0.0721\n",
      "Epoch [5/5], Step [400/938], Loss: 0.0291\n",
      "Epoch [5/5], Step [500/938], Loss: 0.1164\n",
      "Epoch [5/5], Step [600/938], Loss: 0.2269\n",
      "Epoch [5/5], Step [700/938], Loss: 0.0664\n",
      "Epoch [5/5], Step [800/938], Loss: 0.0684\n",
      "Epoch [5/5], Step [900/938], Loss: 0.0395\n"
     ]
    }
   ],
   "source": [
    "# Train the model\n",
    "total_step = len(train_loader)\n",
    "for epoch in range(num_epochs):\n",
    "    model.train()\n",
    "    for i, (images, labels) in enumerate(train_loader):\n",
    "        images = images.to(device)\n",
    "        labels = labels.to(device)\n",
    "        \n",
    "        # Forward pass\n",
    "        outputs = model(images)\n",
    "        loss = criterion(outputs, labels)\n",
    "        \n",
    "        # Backward and optimize\n",
    "        optimizer.zero_grad()\n",
    "        loss.backward()\n",
    "        optimizer.step()\n",
    "        \n",
    "        if (i+1) % 100 == 0:\n",
    "            print(f'Epoch [{epoch+1}/{num_epochs}], Step [{i+1}/{total_step}], Loss: {loss.item():.4f}')\n",
    "  "
   ]
  },
  {
   "cell_type": "code",
   "execution_count": 20,
   "metadata": {},
   "outputs": [
    {
     "name": "stdout",
     "output_type": "stream",
     "text": [
      "Accuracy of the model on the 10000 test images: 98.04%\n"
     ]
    }
   ],
   "source": [
    "# Test the model\n",
    "model.eval()\n",
    "with torch.no_grad():\n",
    "    correct = 0\n",
    "    total = 0\n",
    "    for images, labels in test_loader:\n",
    "        images = images.to(device)\n",
    "        labels = labels.to(device)\n",
    "        outputs = model(images)\n",
    "        _, predicted = torch.max(outputs.data, 1)\n",
    "        total += labels.size(0)\n",
    "        correct += (predicted == labels).sum().item()\n",
    "        \n",
    "    print(f'Accuracy of the model on the 10000 test images: {100 * correct / total:.2f}%')\n"
   ]
  },
  {
   "cell_type": "code",
   "execution_count": 16,
   "metadata": {},
   "outputs": [],
   "source": [
    "# Save the model checkpoint\n",
    "torch.save(model.state_dict(), 'mnist_mlp.pth')"
   ]
  }
 ],
 "metadata": {
  "kernelspec": {
   "display_name": "pml",
   "language": "python",
   "name": "python3"
  },
  "language_info": {
   "codemirror_mode": {
    "name": "ipython",
    "version": 3
   },
   "file_extension": ".py",
   "mimetype": "text/x-python",
   "name": "python",
   "nbconvert_exporter": "python",
   "pygments_lexer": "ipython3",
   "version": "3.12.4"
  }
 },
 "nbformat": 4,
 "nbformat_minor": 2
}
