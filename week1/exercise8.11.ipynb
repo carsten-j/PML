{
 "cells": [
  {
   "cell_type": "code",
   "execution_count": 1,
   "metadata": {},
   "outputs": [],
   "source": [
    "import itertools\n"
   ]
  },
  {
   "cell_type": "code",
   "execution_count": 2,
   "metadata": {},
   "outputs": [],
   "source": [
    "def probDgivenG(D, G):\n",
    "    if G == 1:\n",
    "        if D == 1:\n",
    "            return 0.9\n",
    "        return 1 - probDgivenG(not D, G)\n",
    "\n",
    "    if G == 0:\n",
    "        if D == 0:\n",
    "            return 0.9\n",
    "        return 1 - probDgivenG(not D, G)\n"
   ]
  },
  {
   "cell_type": "code",
   "execution_count": 3,
   "metadata": {},
   "outputs": [],
   "source": [
    "def probGgivenBF(G, B, F):\n",
    "    results = {(0, 0): 0.1, (0, 1): 0.2, (1, 0): 0.2, (1, 1): 0.8}\n",
    "\n",
    "    if G == 1:\n",
    "        return results[(B, F)]\n",
    "    else:\n",
    "        return 1 - probGgivenBF(not G, B, F)\n"
   ]
  },
  {
   "cell_type": "code",
   "execution_count": 4,
   "metadata": {},
   "outputs": [],
   "source": [
    "def probB(B):\n",
    "    if B == 1:\n",
    "        return 0.9\n",
    "    return 1 - probB(not B)\n"
   ]
  },
  {
   "cell_type": "code",
   "execution_count": 5,
   "metadata": {},
   "outputs": [],
   "source": [
    "def probF(F):\n",
    "    if F == 1:\n",
    "        return 0.9\n",
    "    return 1 - probF(not F)\n"
   ]
  },
  {
   "cell_type": "code",
   "execution_count": 8,
   "metadata": {},
   "outputs": [
    {
     "name": "stdout",
     "output_type": "stream",
     "text": [
      "0.9 0.9 0.09999999999999998 0.09999999999999998\n",
      "0.9 0.8 0.9 0.09999999999999998\n",
      "0.9 0.8 0.09999999999999998 0.9\n",
      "0.9 0.19999999999999996 0.9 0.9\n",
      "0.09999999999999998 0.1 0.09999999999999998 0.09999999999999998\n",
      "0.09999999999999998 0.2 0.9 0.09999999999999998\n",
      "0.09999999999999998 0.2 0.09999999999999998 0.9\n",
      "0.09999999999999998 0.8 0.9 0.9\n",
      "p(D=0) = 0.352\n"
     ]
    }
   ],
   "source": [
    "# Evaluating P(D = 0)\n",
    "prob_D_is_zero = 0\n",
    "for G, F, B in itertools.product([0, 1], repeat=3):\n",
    "    print(probDgivenG(D=0, G=G), probGgivenBF(G, B, F), probB(B), probF(F))\n",
    "    prob_D_is_zero += (\n",
    "        probDgivenG(D=0, G=G) * probGgivenBF(G, B, F) * probB(B) * probF(F)\n",
    "    )\n",
    "\n",
    "print(\"p(D=0) =\", prob_D_is_zero)"
   ]
  },
  {
   "cell_type": "code",
   "execution_count": 9,
   "metadata": {},
   "outputs": [
    {
     "name": "stdout",
     "output_type": "stream",
     "text": [
      "0.9 0.9 0.09999999999999998\n",
      "0.9 0.8 0.9\n",
      "0.09999999999999998 0.1 0.09999999999999998\n",
      "0.09999999999999998 0.2 0.9\n",
      "p(D=0 | F=0) = 0.7480000000000001\n"
     ]
    }
   ],
   "source": [
    "# Evaluating P(D = 0 | F = 0)\n",
    "ans = 0\n",
    "for G, B in itertools.product([0, 1], repeat=2):\n",
    "    print(probDgivenG(D=0, G=G), probGgivenBF(G, B, F=0), probB(B))\n",
    "    ans += probDgivenG(D=0, G=G) * probGgivenBF(G, B, F=0) * probB(B)\n",
    "\n",
    "\n",
    "print(\"p(D=0 | F=0) =\", ans)\n",
    "\n",
    "# -----------------------------------------------------------------------\n"
   ]
  },
  {
   "cell_type": "code",
   "execution_count": 10,
   "metadata": {},
   "outputs": [
    {
     "name": "stdout",
     "output_type": "stream",
     "text": [
      "0.9 0.9 0.09999999999999998 0.09999999999999998\n",
      "0.9 0.8 0.09999999999999998 0.9\n",
      "0.09999999999999998 0.1 0.09999999999999998 0.09999999999999998\n",
      "0.09999999999999998 0.2 0.09999999999999998 0.9\n",
      "p(D=0, B=0) = 0.07479999999999999\n"
     ]
    }
   ],
   "source": [
    "# Evaluating P(D = 0 , B =0)\n",
    "ans = 0\n",
    "for G, F in itertools.product([0, 1], repeat=2):\n",
    "    print(probDgivenG(D=0, G=G), probGgivenBF(G, B=0, F=F), probB(B=0), probF(F))\n",
    "    ans += probDgivenG(D=0, G=G) * probGgivenBF(G, B=0, F=F) * probB(B=0) * probF(F)\n",
    "\n",
    "\n",
    "print(\"p(D=0, B=0) =\", ans)\n"
   ]
  },
  {
   "cell_type": "code",
   "execution_count": 11,
   "metadata": {},
   "outputs": [
    {
     "name": "stdout",
     "output_type": "stream",
     "text": [
      "0.9 0.9 0.09999999999999998 0.09999999999999998\n",
      "0.09999999999999998 0.1 0.09999999999999998 0.09999999999999998\n",
      "P(D=0 , B=0, F=0) = 0.008199999999999997\n"
     ]
    }
   ],
   "source": [
    "# Evaluating P(D = 0 , B =0, F=0)\n",
    "ans = 0\n",
    "for (G,) in itertools.product([0, 1], repeat=1):\n",
    "    print(probDgivenG(D=0, G=G), probGgivenBF(G, B=0, F=0), probB(B=0), probF(F=0))\n",
    "    ans += probDgivenG(D=0, G=G) * probGgivenBF(G, B=0, F=0) * probB(B=0) * probF(F=0)\n",
    "\n",
    "\n",
    "print(\"P(D=0 , B=0, F=0) =\", ans)\n"
   ]
  }
 ],
 "metadata": {
  "kernelspec": {
   "display_name": ".venv",
   "language": "python",
   "name": "python3"
  },
  "language_info": {
   "codemirror_mode": {
    "name": "ipython",
    "version": 3
   },
   "file_extension": ".py",
   "mimetype": "text/x-python",
   "name": "python",
   "nbconvert_exporter": "python",
   "pygments_lexer": "ipython3",
   "version": "3.12.6"
  }
 },
 "nbformat": 4,
 "nbformat_minor": 2
}
