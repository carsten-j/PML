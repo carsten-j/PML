{
 "cells": [
  {
   "cell_type": "code",
   "execution_count": null,
   "metadata": {},
   "outputs": [],
   "source": [
    "import matplotlib.pyplot as plt\n",
    "import numpy as np\n",
    "from scipy.stats import multivariate_normal\n",
    "\n",
    "# 1. Generate Synthetic Data\n",
    "np.random.seed(42)\n",
    "means = np.array([[0, 0], [5, 5], [0, 5]])\n",
    "covariances = np.array([[[1, 0.5], [0.5, 1]], [[1, -0.3], [-0.3, 1]], [[1, 0], [0, 1]]])\n",
    "weights = np.array([0.4, 0.35, 0.25])\n",
    "n_samples = 500\n",
    "n_samples_component = np.random.multinomial(n_samples, weights)\n",
    "samples = []\n",
    "for i in range(3):\n",
    "    samples_component = np.random.multivariate_normal(\n",
    "        means[i], covariances[i], n_samples_component[i]\n",
    "    )\n",
    "    samples.append(samples_component)\n",
    "X = np.vstack(samples)\n",
    "np.random.shuffle(X)\n"
   ]
  },
  {
   "cell_type": "code",
   "execution_count": null,
   "metadata": {},
   "outputs": [],
   "source": []
  },
  {
   "cell_type": "code",
   "execution_count": null,
   "metadata": {},
   "outputs": [
    {
     "name": "stdout",
     "output_type": "stream",
     "text": [
      "Iteration 1, Log-Likelihood: -2370.7308\n",
      "Iteration 2, Log-Likelihood: -1901.2236\n",
      "Iteration 3, Log-Likelihood: -1893.8465\n",
      "Iteration 4, Log-Likelihood: -1893.5852\n",
      "Iteration 5, Log-Likelihood: -1893.5774\n",
      "Iteration 6, Log-Likelihood: -1893.5769\n",
      "Iteration 7, Log-Likelihood: -1893.5768\n",
      "Iteration 8, Log-Likelihood: -1893.5768\n",
      "Iteration 9, Log-Likelihood: -1893.5768\n"
     ]
    }
   ],
   "source": [
    "# 2. Initialize Parameters\n",
    "k = 3\n",
    "n, d = X.shape\n",
    "np.random.seed(0)\n",
    "mu = X[np.random.choice(n, k, False), :]\n",
    "sigma = np.array([np.eye(d) for _ in range(k)])\n",
    "pi = np.ones(k) / k\n",
    "gamma = np.zeros((n, k))\n",
    "\n",
    "# 3. EM Algorithm\n",
    "tol = 1e-6\n",
    "max_iter = 100\n",
    "log_likelihoods = []\n",
    "\n",
    "for iteration in range(max_iter):\n",
    "    # E-step\n",
    "    for i in range(k):\n",
    "        rv = multivariate_normal(mean=mu[i], cov=sigma[i])\n",
    "        gamma[:, i] = pi[i] * rv.pdf(X)\n",
    "    likelihood = np.sum(gamma, axis=1).reshape(-1, 1)\n",
    "    gamma /= likelihood\n",
    "\n",
    "    # M-step\n",
    "    N_k = np.sum(gamma, axis=0)\n",
    "    for i in range(k):\n",
    "        mu[i] = np.sum(gamma[:, i].reshape(-1, 1) * X, axis=0) / N_k[i]\n",
    "        X_centered = X - mu[i]\n",
    "        sigma[i] = (gamma[:, i].reshape(-1, 1) * X_centered).T @ X_centered / N_k[i]\n",
    "    pi = N_k / n\n",
    "\n",
    "    # Log-likelihood\n",
    "    log_likelihood = np.sum(np.log(likelihood))\n",
    "    log_likelihoods.append(log_likelihood)\n",
    "\n",
    "    # Convergence Check\n",
    "    if iteration > 0 and abs(log_likelihoods[-1] - log_likelihoods[-2]) < tol:\n",
    "        break\n",
    "\n",
    "    print(f\"Iteration {iteration + 1}, Log-Likelihood: {log_likelihood:.4f}\")\n",
    "\n",
    "# 4. Visualize Results\n",
    "cluster_assignments = np.argmax(gamma, axis=1)\n"
   ]
  },
  {
   "cell_type": "code",
   "execution_count": null,
   "metadata": {},
   "outputs": [],
   "source": [
    "plt.figure(figsize=(8, 6))\n",
    "colors = [\"red\", \"green\", \"blue\"]\n",
    "for i in range(k):\n",
    "    points = X[cluster_assignments == i]\n",
    "    plt.scatter(\n",
    "        points[:, 0], points[:, 1], s=15, color=colors[i], label=f\"Component {i+1}\"\n",
    "    )\n",
    "    rv = multivariate_normal(mean=mu[i], cov=sigma[i])\n",
    "    x, y = np.mgrid[\n",
    "        np.min(X[:, 0]) - 1 : np.max(X[:, 0]) + 1 : 0.1,\n",
    "        np.min(X[:, 1]) - 1 : np.max(X[:, 1]) + 1 : 0.1,\n",
    "    ]\n",
    "    pos = np.dstack((x, y))\n",
    "    plt.contour(x, y, rv.pdf(pos), levels=5, colors=colors[i], alpha=0.5)\n",
    "plt.title(\"EM Algorithm Result\")\n",
    "plt.xlabel(\"X1\")\n",
    "plt.ylabel(\"X2\")\n",
    "plt.legend()\n",
    "plt.show()\n",
    "\n",
    "# 5. Plot Log-Likelihood\n",
    "plt.figure(figsize=(8, 4))\n",
    "plt.plot(range(len(log_likelihoods)), log_likelihoods, marker=\"o\")\n",
    "plt.title(\"Log-Likelihood Over Iterations\")\n",
    "plt.xlabel(\"Iteration\")\n",
    "plt.ylabel(\"Log-Likelihood\")\n",
    "plt.grid()\n",
    "plt.show()\n"
   ]
  }
 ],
 "metadata": {
  "kernelspec": {
   "display_name": ".venv",
   "language": "python",
   "name": "python3"
  },
  "language_info": {
   "codemirror_mode": {
    "name": "ipython",
    "version": 3
   },
   "file_extension": ".py",
   "mimetype": "text/x-python",
   "name": "python",
   "nbconvert_exporter": "python",
   "pygments_lexer": "ipython3",
   "version": "3.12.6"
  }
 },
 "nbformat": 4,
 "nbformat_minor": 2
}
