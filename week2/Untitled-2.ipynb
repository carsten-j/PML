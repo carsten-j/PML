{
 "cells": [
  {
   "cell_type": "code",
   "execution_count": null,
   "metadata": {},
   "outputs": [],
   "source": [
    "import numpy as np\n",
    "import scipy as sp\n",
    "from scipy.stats import norm\n"
   ]
  },
  {
   "cell_type": "code",
   "execution_count": 51,
   "metadata": {},
   "outputs": [],
   "source": [
    "# 1. Generate Synthetic Data\n",
    "N = 7\n",
    "K = 3"
   ]
  },
  {
   "cell_type": "code",
   "execution_count": 123,
   "metadata": {},
   "outputs": [
    {
     "data": {
      "text/plain": [
       "array([[1.      , 0.      , 0.      ],\n",
       "       [0.999999, 0.000001, 0.      ],\n",
       "       [0.057069, 0.942926, 0.000004],\n",
       "       [0.00015 , 0.999844, 0.000006],\n",
       "       [0.00001 , 0.066237, 0.933753],\n",
       "       [0.      , 0.      , 1.      ],\n",
       "       [0.      , 0.      , 1.      ]])"
      ]
     },
     "execution_count": 123,
     "metadata": {},
     "output_type": "execute_result"
    }
   ],
   "source": [
    "r = np.zeros((K, N))  # will store the responsibilities\n",
    "\n",
    "np.random.seed(44)\n",
    "\n",
    "data = np.array([-3, -2.5, -1, 0, 2, 4, 5])\n",
    "\n",
    "means = np.array([-4, 0, 8])\n",
    "covs = np.array([1, 0.2, 3])\n",
    "weights = np.array([1 / 3, 1 / 3, 1 / 3])\n",
    "\n",
    "i = 0\n",
    "j = 0\n",
    "\n",
    "# for i in range(N):\n",
    "#     for j in range(K):\n",
    "#         foo = weights[j] * norm.pdf(loc=means[j], scale=covs[j], x=data[i])\n",
    "#         bar = 0\n",
    "#         for k in range(K):\n",
    "#             bar += weights[k] * norm.pdf(loc=means[k], scale=covs[k], x=data[i])\n",
    "#         r[i, j] = foo / bar\n",
    "#         # print r[i, j] with 2 decimal places\n",
    "#         print(\"{:.2f}\".format(r[i, j]), end=\" \")\n",
    "\n",
    "\n",
    "# foo = weights[0] * norm.pdf(loc=means[0], scale=covs[0], x=data[index])\n",
    "\n",
    "# sum = 0\n",
    "\n",
    "for k in range(K):\n",
    "    r[k] = norm.pdf(loc=means[k], scale=np.sqrt(covs[k]), x=data.T)\n",
    "\n",
    "r = r / np.sum(r, axis=0)\n",
    "\n",
    "r.T\n",
    "# foo / sum\n"
   ]
  },
  {
   "cell_type": "code",
   "execution_count": 121,
   "metadata": {},
   "outputs": [
    {
     "data": {
      "text/plain": [
       "np.float64(1.0525740966894856e-07)"
      ]
     },
     "execution_count": 121,
     "metadata": {},
     "output_type": "execute_result"
    }
   ],
   "source": [
    "n = 3 - 1\n",
    "k = 3 - 1\n",
    "q = weights[k] * norm.pdf(loc=means[k], scale=np.sqrt(covs[k]), x=data[n])\n",
    "q"
   ]
  },
  {
   "cell_type": "code",
   "execution_count": 109,
   "metadata": {},
   "outputs": [
    {
     "data": {
      "text/plain": [
       "(np.float64(0.0014772828039793357),\n",
       " np.float64(2.4778658578904965e-06),\n",
       " np.float64(0.0004924276013264453),\n",
       " np.float64(0.0019721882711636715))"
      ]
     },
     "execution_count": 109,
     "metadata": {},
     "output_type": "execute_result"
    }
   ],
   "source": [
    "q1 = weights[0] * norm.pdf(loc=means[0], scale=covs[0], x=data[n])\n",
    "q2 = weights[1] * norm.pdf(loc=means[1], scale=covs[1], x=data[n])\n",
    "q3 = weights[2] * norm.pdf(loc=means[2], scale=covs[2], x=data[n])\n",
    "qq = q1 + q2 + q3\n",
    "q1, q2, q3, qq"
   ]
  },
  {
   "cell_type": "code",
   "execution_count": 110,
   "metadata": {},
   "outputs": [
    {
     "data": {
      "text/plain": [
       "np.float64(0.24968589892074194)"
      ]
     },
     "execution_count": 110,
     "metadata": {},
     "output_type": "execute_result"
    }
   ],
   "source": [
    "q / qq"
   ]
  },
  {
   "cell_type": "code",
   "execution_count": null,
   "metadata": {},
   "outputs": [],
   "source": []
  },
  {
   "cell_type": "code",
   "execution_count": 120,
   "metadata": {},
   "outputs": [
    {
     "name": "stdout",
     "output_type": "stream",
     "text": [
      "0.24197072451914337\n",
      "1.5092779429032093e-10\n",
      "4.01862412158526e-10\n",
      "0.12951759566589174\n",
      "1.4606420129620445e-07\n",
      "2.4109507201666824e-09\n",
      "0.0044318484119380075\n",
      "0.07322491280963242\n",
      "3.157722290068457e-07\n",
      "0.00013383022576488537\n",
      "0.8920620580763856\n",
      "5.3687720495468876e-06\n",
      "6.075882849823286e-09\n",
      "4.049955478044552e-05\n",
      "0.0005709295833517096\n",
      "5.052271083536893e-15\n",
      "3.789795640412959e-18\n",
      "0.01600408392170322\n",
      "1.0279773571668917e-18\n",
      "6.411947371150563e-28\n",
      "0.05139344326792309\n",
      "Responsibility Matrix (N x K):\n",
      "[[1.       0.       0.      ]\n",
      " [0.999999 0.000001 0.      ]\n",
      " [0.057069 0.942926 0.000004]\n",
      " [0.00015  0.999844 0.000006]\n",
      " [0.00001  0.066237 0.933753]\n",
      " [0.       0.       1.      ]\n",
      " [0.       0.       1.      ]]\n"
     ]
    }
   ],
   "source": [
    "K = 3  # Number of components\n",
    "N = 7  # Number of observations\n",
    "\n",
    "weights = np.array([1 / 3] * K)  # Equal weights for all components\n",
    "means = np.array([-4, 0, 8])  # Mean vector\n",
    "scales = np.array([1, 0.2, 3])  # Standard deviations\n",
    "variances = scales  # Variances\n",
    "\n",
    "# Observations\n",
    "observations = np.array([-3, -2.5, -1, 0, 2, 4, 5])\n",
    "\n",
    "# Initialize the responsibility matrix (N x K)\n",
    "responsibilities = np.zeros((N, K))\n",
    "\n",
    "# Precompute constants\n",
    "sqrt_2pi = np.sqrt(2 * np.pi)\n",
    "\n",
    "# Compute the responsibilities\n",
    "for n in range(N):\n",
    "    y_n = observations[n]\n",
    "    # Compute the Gaussian densities for all components\n",
    "    p_nk = np.zeros(K)\n",
    "    for k in range(K):\n",
    "        mu_k = means[k]\n",
    "        sigma_k2 = variances[k]\n",
    "        coeff = 1 / (sqrt_2pi * np.sqrt(sigma_k2))\n",
    "        exponent = -((y_n - mu_k) ** 2) / (2 * sigma_k2)\n",
    "        p_nk[k] = norm.pdf(y_n, loc=mu_k, scale=np.sqrt(sigma_k2))\n",
    "        print(p_nk[k])\n",
    "\n",
    "    # Multiply by the weights\n",
    "    weighted_p_nk = weights * p_nk\n",
    "\n",
    "    # Compute the responsibilities by normalizing\n",
    "    total = np.sum(weighted_p_nk)\n",
    "    responsibilities[n, :] = weighted_p_nk / total\n",
    "\n",
    "# Print the responsibility matrix\n",
    "np.set_printoptions(precision=6, suppress=True)\n",
    "print(\"Responsibility Matrix (N x K):\")\n",
    "print(responsibilities)"
   ]
  },
  {
   "cell_type": "code",
   "execution_count": null,
   "metadata": {},
   "outputs": [],
   "source": []
  },
  {
   "cell_type": "code",
   "execution_count": 128,
   "metadata": {},
   "outputs": [],
   "source": [
    "class GMM(object):\n",
    "    def __init__(self, X, k=2):\n",
    "        # dimension\n",
    "        X = np.asarray(X)\n",
    "        self.m, self.n = X.shape\n",
    "        self.data = X.copy()\n",
    "        # number of mixtures\n",
    "        self.k = k\n",
    "\n",
    "    def _init(self):\n",
    "        # init mixture means/sigmas\n",
    "        self.mean_arr = np.asmatrix(np.random.random((self.k, self.n)))\n",
    "        self.sigma_arr = np.array(\n",
    "            [np.asmatrix(np.identity(self.n)) for i in range(self.k)]\n",
    "        )\n",
    "        self.phi = np.ones(self.k) / self.k\n",
    "        self.w = np.asmatrix(np.empty((self.m, self.k), dtype=float))\n",
    "        # print(self.mean_arr)\n",
    "        # print(self.sigma_arr)\n",
    "\n",
    "    def fit(self, tol=1e-4):\n",
    "        self._init()\n",
    "        num_iters = 0\n",
    "        ll = 1\n",
    "        previous_ll = 0\n",
    "        while ll - previous_ll > tol:\n",
    "            previous_ll = self.loglikelihood()\n",
    "            self._fit()\n",
    "            num_iters += 1\n",
    "            ll = self.loglikelihood()\n",
    "            print(\"Iteration %d: log-likelihood is %.6f\" % (num_iters, ll))\n",
    "        print(\"Terminate at %d-th iteration:log-likelihood is %.6f\" % (num_iters, ll))\n",
    "\n",
    "    def loglikelihood(self):\n",
    "        ll = 0\n",
    "        for i in range(self.m):\n",
    "            tmp = 0\n",
    "            for j in range(self.k):\n",
    "                # print(self.sigma_arr[j])\n",
    "                tmp += (\n",
    "                    sp.stats.multivariate_normal.pdf(\n",
    "                        self.data[i, :], self.mean_arr[j, :].A1, self.sigma_arr[j, :]\n",
    "                    )\n",
    "                    * self.phi[j]\n",
    "                )\n",
    "            ll += np.log(tmp)\n",
    "        return ll\n",
    "\n",
    "    def _fit(self):\n",
    "        self.e_step()\n",
    "        self.m_step()\n",
    "\n",
    "    def e_step(self):\n",
    "        # calculate w_j^{(i)}\n",
    "        for i in range(self.m):\n",
    "            den = 0\n",
    "            for j in range(self.k):\n",
    "                num = (\n",
    "                    sp.stats.multivariate_normal.pdf(\n",
    "                        self.data[i, :], self.mean_arr[j].A1, self.sigma_arr[j]\n",
    "                    )\n",
    "                    * self.phi[j]\n",
    "                )\n",
    "                den += num\n",
    "                self.w[i, j] = num\n",
    "            self.w[i, :] /= den\n",
    "            assert self.w[i, :].sum() - 1 < 1e-4\n",
    "\n",
    "    def m_step(self):\n",
    "        for j in range(self.k):\n",
    "            const = self.w[:, j].sum()\n",
    "            self.phi[j] = 1 / self.m * const\n",
    "            _mu_j = np.zeros(self.n)\n",
    "            _sigma_j = np.zeros((self.n, self.n))\n",
    "            for i in range(self.m):\n",
    "                _mu_j += self.data[i, :] * self.w[i, j]\n",
    "                _sigma_j += self.w[i, j] * (\n",
    "                    (self.data[i, :] - self.mean_arr[j, :]).T\n",
    "                    * (self.data[i, :] - self.mean_arr[j, :])\n",
    "                )\n",
    "                # print((self.data[i, :] - self.mean_arr[j, :]).T * (self.data[i, :] - self.mean_arr[j, :]))\n",
    "            self.mean_arr[j] = _mu_j / const\n",
    "            self.sigma_arr[j] = _sigma_j / const\n",
    "        # print(self.sigma_arr)"
   ]
  },
  {
   "cell_type": "code",
   "execution_count": 156,
   "metadata": {},
   "outputs": [
    {
     "data": {
      "text/plain": [
       "(60, 1)"
      ]
     },
     "execution_count": 156,
     "metadata": {},
     "output_type": "execute_result"
    }
   ],
   "source": [
    "X = sp.stats.norm.rvs(loc=means[0], scale=np.sqrt(covs[0]), size=20)\n",
    "X = np.hstack((X, sp.stats.norm.rvs(loc=means[1], scale=np.sqrt(covs[1]), size=20)))\n",
    "X = np.hstack((X, sp.stats.norm.rvs(loc=means[2], scale=np.sqrt(covs[2]), size=20)))\n",
    "X = X.reshape(-1, 1)\n",
    "X.shape"
   ]
  },
  {
   "cell_type": "code",
   "execution_count": 190,
   "metadata": {},
   "outputs": [],
   "source": [
    "data2 = data.reshape(-1, 1)"
   ]
  },
  {
   "cell_type": "code",
   "execution_count": 191,
   "metadata": {},
   "outputs": [
    {
     "name": "stdout",
     "output_type": "stream",
     "text": [
      "Iteration 1: log-likelihood is -17.322663\n",
      "Iteration 2: log-likelihood is -17.201741\n",
      "Iteration 3: log-likelihood is -17.070497\n",
      "Iteration 4: log-likelihood is -16.856126\n",
      "Iteration 5: log-likelihood is -16.612013\n",
      "Iteration 6: log-likelihood is -16.435516\n",
      "Iteration 7: log-likelihood is -16.345426\n",
      "Iteration 8: log-likelihood is -16.299685\n",
      "Iteration 9: log-likelihood is -16.265928\n",
      "Iteration 10: log-likelihood is -16.228111\n",
      "Iteration 11: log-likelihood is -16.179418\n",
      "Iteration 12: log-likelihood is -16.118677\n",
      "Iteration 13: log-likelihood is -16.053517\n",
      "Iteration 14: log-likelihood is -15.999474\n",
      "Iteration 15: log-likelihood is -15.961880\n",
      "Iteration 16: log-likelihood is -15.930958\n",
      "Iteration 17: log-likelihood is -15.894492\n",
      "Iteration 18: log-likelihood is -15.835504\n",
      "Iteration 19: log-likelihood is -15.714461\n",
      "Iteration 20: log-likelihood is -15.466288\n",
      "Iteration 21: log-likelihood is -15.278695\n",
      "Iteration 22: log-likelihood is -15.261741\n",
      "Iteration 23: log-likelihood is -15.253832\n",
      "Iteration 24: log-likelihood is -15.248923\n",
      "Iteration 25: log-likelihood is -15.246110\n",
      "Iteration 26: log-likelihood is -15.244559\n",
      "Iteration 27: log-likelihood is -15.243646\n",
      "Iteration 28: log-likelihood is -15.242996\n",
      "Iteration 29: log-likelihood is -15.242419\n",
      "Iteration 30: log-likelihood is -15.241822\n",
      "Iteration 31: log-likelihood is -15.241161\n",
      "Iteration 32: log-likelihood is -15.240410\n",
      "Iteration 33: log-likelihood is -15.239549\n",
      "Iteration 34: log-likelihood is -15.238561\n",
      "Iteration 35: log-likelihood is -15.237423\n",
      "Iteration 36: log-likelihood is -15.236112\n",
      "Iteration 37: log-likelihood is -15.234600\n",
      "Iteration 38: log-likelihood is -15.232853\n",
      "Iteration 39: log-likelihood is -15.230829\n",
      "Iteration 40: log-likelihood is -15.228476\n",
      "Iteration 41: log-likelihood is -15.225729\n",
      "Iteration 42: log-likelihood is -15.222507\n",
      "Iteration 43: log-likelihood is -15.218704\n",
      "Iteration 44: log-likelihood is -15.214182\n",
      "Iteration 45: log-likelihood is -15.208762\n",
      "Iteration 46: log-likelihood is -15.202204\n",
      "Iteration 47: log-likelihood is -15.194181\n",
      "Iteration 48: log-likelihood is -15.184241\n",
      "Iteration 49: log-likelihood is -15.171735\n",
      "Iteration 50: log-likelihood is -15.155682\n",
      "Iteration 51: log-likelihood is -15.134459\n",
      "Iteration 52: log-likelihood is -15.105022\n",
      "Iteration 53: log-likelihood is -15.060625\n",
      "Iteration 54: log-likelihood is -14.982880\n",
      "Iteration 55: log-likelihood is -14.809364\n",
      "Iteration 56: log-likelihood is -14.354156\n",
      "Iteration 57: log-likelihood is -13.913019\n",
      "Iteration 58: log-likelihood is -13.906300\n",
      "Iteration 59: log-likelihood is -13.906191\n",
      "Iteration 60: log-likelihood is -13.906168\n",
      "Terminate at 60-th iteration:log-likelihood is -13.906168\n"
     ]
    }
   ],
   "source": [
    "gmm = GMM(data2, 3)\n",
    "gmm.fit()"
   ]
  },
  {
   "cell_type": "code",
   "execution_count": 192,
   "metadata": {},
   "outputs": [
    {
     "data": {
      "text/plain": [
       "matrix([[ 4.505256],\n",
       "        [ 0.282011],\n",
       "        [-2.754311]])"
      ]
     },
     "execution_count": 192,
     "metadata": {},
     "output_type": "execute_result"
    }
   ],
   "source": [
    "gmm.mean_arr"
   ]
  },
  {
   "cell_type": "code",
   "execution_count": 193,
   "metadata": {},
   "outputs": [
    {
     "data": {
      "text/plain": [
       "array([[[0.250013]],\n",
       "\n",
       "       [[1.86222 ]],\n",
       "\n",
       "       [[0.062481]]])"
      ]
     },
     "execution_count": 193,
     "metadata": {},
     "output_type": "execute_result"
    }
   ],
   "source": [
    "gmm.sigma_arr"
   ]
  },
  {
   "cell_type": "code",
   "execution_count": 194,
   "metadata": {},
   "outputs": [
    {
     "data": {
      "text/plain": [
       "array([0.282046, 0.444496, 0.273457])"
      ]
     },
     "execution_count": 194,
     "metadata": {},
     "output_type": "execute_result"
    }
   ],
   "source": [
    "gmm.phi"
   ]
  },
  {
   "cell_type": "code",
   "execution_count": null,
   "metadata": {},
   "outputs": [],
   "source": []
  },
  {
   "cell_type": "code",
   "execution_count": null,
   "metadata": {},
   "outputs": [],
   "source": []
  }
 ],
 "metadata": {
  "kernelspec": {
   "display_name": ".venv",
   "language": "python",
   "name": "python3"
  },
  "language_info": {
   "codemirror_mode": {
    "name": "ipython",
    "version": 3
   },
   "file_extension": ".py",
   "mimetype": "text/x-python",
   "name": "python",
   "nbconvert_exporter": "python",
   "pygments_lexer": "ipython3",
   "version": "3.12.6"
  }
 },
 "nbformat": 4,
 "nbformat_minor": 2
}
