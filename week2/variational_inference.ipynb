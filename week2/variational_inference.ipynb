{
 "cells": [
  {
   "cell_type": "markdown",
   "metadata": {},
   "source": [
    "# Variational Inference"
   ]
  },
  {
   "cell_type": "code",
   "execution_count": 34,
   "metadata": {},
   "outputs": [],
   "source": [
    "import matplotlib.pyplot as plt\n",
    "import numpy as np\n",
    "import torch\n",
    "import torch.distributions as D\n",
    "from torch.autograd.functional import hessian\n",
    "from tqdm.notebook import tqdm\n",
    "import jax\n",
    "import jax.numpy as jnp\n",
    "from jax import jit\n",
    "from jax.scipy.stats import norm\n"
   ]
  },
  {
   "cell_type": "markdown",
   "metadata": {},
   "source": [
    "## Problem Statement\n",
    "\n",
    "Given a (potentially unnormalized) density function $p(z)$ that is easy to evaluate at any point $z$ (up to a normalization constant), the objective is to sample from $p(z)$.\n",
    "\n",
    "This issue often arises in Bayesian inference. When provided with data $D$ and a model $p(D, z)$, where $z$ are latent variables, the posterior distribution over the latent variables is:\n",
    "\n",
    "$$\n",
    "p(z \\mid D) \\propto p(D \\mid z) \\, p(z)\n",
    "$$\n",
    "\n",
    "This posterior function can readily be evaluated for any given set of latent variables $z$, up to a normalization constant. However, generating samples according to this distribution can be a challenging task.\n",
    "\n",
    "Possible solutions:\n",
    "\n",
    "MCMC\n",
    "\n",
    "Variational Inference"
   ]
  },
  {
   "cell_type": "markdown",
   "metadata": {},
   "source": [
    "## Variational Inference\n",
    "\n",
    "One way to solve this problem is to find a distribution $q(z)$ that is \"similar\" to the target distribution $p(z)$, but from which it is easy to sample (for example, a Gaussian distribution). This approximating distribution $q(z)$ is often called the **guide**.\n",
    "\n",
    "The space of distributions that are easy to sample from is vast. How do we choose among all these possibilities? To simplify, we can restrict ourselves to a parametric family of distributions $q_\\lambda(z)$ that depends on a set of parameters $\\lambda$. For example, the family of Gaussian distributions $ \\mathcal{N}(\\mu, \\sigma^2)$ is parameterized by $\\lambda = (\\mu, \\sigma^2)$. Searching for the best guide then becomes an optimization problem to find the optimal parameters $\\lambda$.\n",
    "\n",
    "But how do we measure the similarity between two distributions?"
   ]
  },
  {
   "cell_type": "markdown",
   "metadata": {},
   "source": [
    "### Kullback-Leibler Divergence"
   ]
  },
  {
   "cell_type": "markdown",
   "metadata": {},
   "source": [
    "The *Kullback–Leibler (KL) divergence* (or relative entropy) measures how one probability distribution diverges from a second, reference probability distribution. It's a fundamental divergence measure in information theory, statistics, and machine learning.\n",
    "\n",
    "For discrete probability distributions $P$ and $Q$:\n",
    "\n",
    "$$\n",
    "D_{\\text{KL}}(P \\parallel Q) = \\sum_{i=1}^{n} P(x_i) \\log_2 \\frac{P(x_i)}{Q(x_i)}\n",
    "$$\n",
    "The relative entropy satisﬁes Gibbs’ inequality\n",
    "\n",
    "$$\n",
    "D_{\\text{KL}}(P \\parallel Q) \\geq 0\n",
    "$$\n",
    "\n",
    "#### Intuition Behind KL Divergence\n",
    "\n",
    "- **Information Content**: Information content (or surprise) of an event in a probabilistic sense is given by the negative logarithm of its probability. For an event with probability $p$, the information content is $-\\log(p)$. Rare events (with low probability) have high information content, since they provide more 'surprise' when they occur, while common events (with high probability) have low information content.\n",
    "- **Comparing Two Distributions**: Suppose we have two probability distributions: $P$ (true distribution) and $Q$ (approximate or reference distribution). The KL divergence $D_{KL}(P \\parallel Q)$ measures the inefficiency or extra information content when $Q$ is used instead of $P$.\n",
    "- **Expected Extra Information**: KL divergence computes the expected difference in information content when using $Q$ instead of $P$. Specifically, it looks at how much more surprise would occur if you expect events according to $Q$ but reality follows $P$.\n",
    "- **If $P$ and $Q$ are the same:** The divergence is zero, meaning no extra information is needed—there's no inefficiency.\n",
    "- **If $P$ and $Q$ differ:** The divergence is positive, indicating an inefficiency due to using $Q$ instead of $P$.\n",
    "- **Non-negative**: $D_{\\text{KL}}(P \\parallel Q) \\geq 0$, with equality if $P = Q$.\n",
    "- **Asymmetry**: It's not symmetrical; $D_{\\text{KL}}(P \\parallel Q) \\neq D_{\\text{KL}}(Q \\parallel P)$.\n",
    "\n",
    "From [@zhangDiveDeepLearning2024, p. 1061]:\n",
    "an interpretation of the logarithmic term: $$−\\log\\frac{q(x)}{p(x)}=−\\log(q(x)) − (−\\log(p(x)))$$ will be large and positive if we see $x$ far more often under $P$ than we would expect for $Q$, and large and negative if we see the outcome far less than expected. In this way, we can interpret it as our relative surprise at observing the outcome compared to how surprised we would be observing it from our reference distribution.\n",
    "\n",
    "Here is a break down of the Kullback–Leibler Divergence formula:\n",
    "\n",
    "1. **Ratio:** $\\frac{P(x)}{Q(x)}$\n",
    "   - This ratio indicates how much more likely an event $x$ is under $P$ compared to $Q$.\n",
    "2. **Logarithm:** $\\log \\left( \\frac{P(x)}{Q(x)} \\right)$\n",
    "   - The logarithm of the ratio indicates the relative difference in information content between $P$ and $Q$ for that event $x$.\n",
    "3. **Weight by:** $P(x)$\n",
    "   - The factor $P(x)$ ensures that we are considering the difference in information content over the events that are more probable under the true distribution $P$.\n",
    "4. **Sum over All Events:**\n",
    "   - The weighted cumulative sum (or integral in the case of continuous distributions) over all possible events gives the expected extra information content.\n",
    "\n",
    "Continuous case of KL\n"
   ]
  },
  {
   "cell_type": "markdown",
   "metadata": {},
   "source": [
    "forward vs backward KL\n",
    "\n",
    "https://agustinus.kristia.de/blog/forward-reverse-kl/#references\n",
    "\n",
    "see also ∏@murphyMachineLearningProbabilistic2012 chapter 21\n"
   ]
  },
  {
   "cell_type": "markdown",
   "metadata": {},
   "source": [
    "#### Example\n",
    "Let us consider a simple example, in which our target distribution is a standard univariate normal distribution $p(x) ∼ N(0, 1)$ and the approximating distribution is a univariate normal with a mean $\\mu$ and variance $\\sigma^2 : q(x) ∼ N(\\mu, \\sigma^2 )$. \n",
    "\n",
    "Note reverse p and q as typical for variational inference.\n",
    "\n",
    "We can then compute $KL(q ||p)$ as follows:\n",
    "\n",
    "$$\n",
    "\\begin{aligned}\n",
    "KL(q || p) &= \\int q(x) \\frac{q(x)}{p(x)} \\\\\n",
    "&= - \\int q(x) \\log p(x) + \\int q(x) \\log q(x)\\\\\n",
    "&= - \\int q(x) \\Big[ -\\frac{1}{2} \\log 2\\pi - \\frac{1}{2} x^2   \\Big]  \\\\\n",
    "&\\phantom{{}=1}  + \\int q(x) \\Big[ -\\frac{1}{2} \\log 2\\pi\\sigma^2 - \\frac{1}{2\\sigma^2} (x -\\mu )^2   \\Big]  \\\\\n",
    "&= \\Big[\\frac{1}{2} \\log 2\\pi + \\frac{1}{2} (\\sigma^2 + \\mu^2) \\Big] + \\Big[-\\frac{1}{2} \\log 2\\pi\\sigma^2 -\\frac{1}{2}    \\Big] \\\\\n",
    "&= -\\frac{1}{2} (1 + \\log \\sigma^2 - \\mu^2 - \\sigma^2)\n",
    "\\end{aligned}\n",
    "$$\n",
    "\n",
    "This derivation is a special case of the derivation found in Appendix B of @kingmaAutoEncodingVariationalBayes2013\n",
    "\n",
    "If we fix $\\sigma^2=2$ we can plot $KL(q || p)$ for $\\mu \\in [-3,3]$. Notice that the KL divergence is non-negative and obtain it's minimum when $\\mu = 0$, that is the mean of the approximating distribution is equal to the mean of the target distribution $p(x) ∼ N(0, 1)$.\n",
    "\n"
   ]
  },
  {
   "cell_type": "code",
   "execution_count": 3,
   "metadata": {},
   "outputs": [],
   "source": [
    "def KL(mu, sigma):\n",
    "    return -0.5 * (1 + np.log(sigma**2) - mu**2 - sigma**2)"
   ]
  },
  {
   "cell_type": "code",
   "execution_count": 7,
   "metadata": {},
   "outputs": [
    {
     "data": {
      "image/png": "[encoded data removed]",
      "text/plain": [
       "<Figure size 640x480 with 1 Axes>"
      ]
     },
     "metadata": {},
     "output_type": "display_data"
    }
   ],
   "source": [
    "x = np.linspace(-3, 3, 100)\n",
    "y = KL(x, 2)\n",
    "plt.title(\"KL divergence\")\n",
    "plt.xlabel(r\"$\\mu$\")\n",
    "plt.plot(x, y);"
   ]
  },
  {
   "cell_type": "markdown",
   "metadata": {},
   "source": [
    "## Laplace Approximation"
   ]
  },
  {
   "cell_type": "markdown",
   "metadata": {},
   "source": [
    "simpel choice approx with gaussian. see @bishopPatternRecognitionMachine2006 for details.\n",
    "\n",
    "let us see example of how to do this. example also illustrated that it is impossoble to captura multi modal target distributions.\n",
    "\n",
    "examples is taken from lecture notes week2 slide 7.1\n"
   ]
  },
  {
   "cell_type": "code",
   "execution_count": 23,
   "metadata": {},
   "outputs": [
    {
     "data": {
      "image/png": "[encoded data removed]",
      "text/plain": [
       "<Figure size 640x480 with 1 Axes>"
      ]
     },
     "metadata": {},
     "output_type": "display_data"
    }
   ],
   "source": [
    "comp = D.StudentT(\n",
    "    df=torch.tensor([1.0]), loc=torch.tensor([1.0, 2.0]), scale=torch.tensor([0.2, 0.5])\n",
    ")\n",
    "\n",
    "mix = mixture_distribution = D.Categorical(probs=torch.tensor([0.6, 0.4]))\n",
    "\n",
    "mm = D.MixtureSameFamily(mix, comp)\n",
    "\n",
    "x_mode = torch.tensor(1.0)\n",
    "sigma = (-hessian(mm.log_prob, x_mode)) ** (-1 / 2)\n",
    "laplace_approx = D.Normal(x_mode, sigma)\n",
    "\n",
    "x = np.linspace(0, 4, 100)\n",
    "y = torch.exp(mm.log_prob(torch.tensor(x)))\n",
    "y1 = torch.exp(laplace_approx.log_prob(torch.tensor(x)))\n",
    "\n",
    "plt.xlabel(r\"$x$\")\n",
    "plt.plot(x, y, label=\"Target\")\n",
    "plt.plot(x, y1, label=\"Laplace approximation\")\n",
    "plt.legend();\n"
   ]
  },
  {
   "cell_type": "markdown",
   "metadata": {},
   "source": [
    "## How to choose q(x)\n",
    "\n",
    "see slide 21 week 2 lecture notes for two approaches\n",
    "\n"
   ]
  },
  {
   "cell_type": "markdown",
   "metadata": {},
   "source": [
    "\n",
    "\n",
    "Mean field\n",
    "\n",
    "CAVI\n",
    "\n",
    "ELBO\n",
    "\n",
    "Stochastic variational inference\n",
    "\n",
    "reparametrizetion trick\n",
    "https://github.com/DavideScassola/PML2024/blob/main/Notebooks/09_VI.ipynb\n",
    "https://blog.shakirm.com/2015/10/machine-learning-trick-of-the-day-4-reparameterisation-tricks/\n",
    "\n",
    "Log-deriveate trick\n",
    "\n",
    "see obsidian note for how to compute the derivate in case where the reparametrization trick does not apply\n",
    "\n",
    "using pyro\n",
    "\n",
    "inspiring note\n",
    "\n",
    "\n",
    "https://www.cs.toronto.edu/~duvenaud/distill_bayes_net/public/\n",
    "https://duvenaud.github.io/sta414/lectures/svi.pdf\n",
    "\n",
    "https://duvenaud.github.io/sta414/ - look for Week 6 - Feb 14th & 15th - Variational Inference\n",
    "\n",
    "\n",
    "\n",
    "https://www.ritchievink.com/blog/2019/09/16/variational-inference-from-scratch/\n"
   ]
  },
  {
   "cell_type": "code",
   "execution_count": 45,
   "metadata": {},
   "outputs": [
    {
     "name": "stderr",
     "output_type": "stream",
     "text": [
      "100%|██████████| 1000/1000 [00:00<00:00, 7285.96it/s]"
     ]
    },
    {
     "name": "stdout",
     "output_type": "stream",
     "text": [
      "loss=0.4435\n"
     ]
    },
    {
     "name": "stderr",
     "output_type": "stream",
     "text": [
      "\n"
     ]
    }
   ],
   "source": [
    "# From\n",
    "# https://github.com/DavideScassola/PML2024/blob/main/Notebooks/09_VI.ipynb\n",
    "\n",
    "import torch\n",
    "import numpy as np\n",
    "from torch.distributions import Normal\n",
    "from tqdm import tqdm\n",
    "from typing import Callable\n",
    "\n",
    "\n",
    "def gradient_descent_optimization(\n",
    "    *,\n",
    "    loss_function: Callable[[torch.Tensor], torch.Tensor],\n",
    "    lr: float,\n",
    "    n_iter: int,\n",
    "    initial_guess: np.ndarray,\n",
    ") -> np.ndarray:\n",
    "    \"\"\"\n",
    "    Perform gradient descent optimization.\n",
    "\n",
    "    Args:\n",
    "        loss_function (Callable[[torch.Tensor], torch.Tensor]): The loss function to minimize.\n",
    "        lr (float): Learning rate.\n",
    "        n_iter (int): Number of iterations.\n",
    "        initial_guess (np.ndarray): Initial guess for the parameters.\n",
    "\n",
    "    Returns:\n",
    "        np.ndarray: Optimized parameters.\n",
    "    \"\"\"\n",
    "    w = torch.tensor(initial_guess, dtype=torch.float32, requires_grad=True)\n",
    "    for _ in tqdm(range(n_iter)):\n",
    "        loss = loss_function(w)\n",
    "        loss.backward()\n",
    "        with torch.no_grad():\n",
    "            w -= lr * w.grad\n",
    "        w.grad = None\n",
    "    print(f\"loss={loss.item():.4g}\")\n",
    "    return w.cpu().detach().numpy()\n",
    "\n",
    "\n",
    "def log_p(z: torch.Tensor) -> torch.Tensor:\n",
    "    \"\"\"\n",
    "    Compute the log probability of z under the prior distribution.\n",
    "\n",
    "    Args:\n",
    "        z (torch.Tensor): Input tensor.\n",
    "\n",
    "    Returns:\n",
    "        torch.Tensor: Log probability.\n",
    "    \"\"\"\n",
    "    return -3 * torch.abs(z - 2)\n",
    "\n",
    "\n",
    "def log_q(z: torch.Tensor, mu: torch.Tensor, sigma: torch.Tensor) -> torch.Tensor:\n",
    "    \"\"\"\n",
    "    Compute the log probability of z under the variational distribution.\n",
    "\n",
    "    Args:\n",
    "        z (torch.Tensor): Input tensor.\n",
    "        mu (torch.Tensor): Mean of the variational distribution.\n",
    "        sigma (torch.Tensor): Standard deviation of the variational distribution.\n",
    "\n",
    "    Returns:\n",
    "        torch.Tensor: Log probability.\n",
    "    \"\"\"\n",
    "    return Normal(mu, sigma).log_prob(z)\n",
    "\n",
    "\n",
    "def loss(param: torch.Tensor, num_samples: int = 10) -> torch.Tensor:\n",
    "    \"\"\"\n",
    "    Compute the loss function for variational inference.\n",
    "\n",
    "    Args:\n",
    "        param (torch.Tensor): Parameters of the variational distribution.\n",
    "        num_samples (int): Number of samples to draw.\n",
    "\n",
    "    Returns:\n",
    "        torch.Tensor: Loss value.\n",
    "    \"\"\"\n",
    "    eps = torch.randn(num_samples)\n",
    "    z = param[0] + param[1] * eps\n",
    "    elbo_sample = log_p(z) - log_q(z, param[0], param[1])\n",
    "    return -elbo_sample.mean(0)\n",
    "\n",
    "\n",
    "params = gradient_descent_optimization(\n",
    "    loss_function=loss, lr=0.01, n_iter=1000, initial_guess=np.array([0.0, 10.0])\n",
    ")\n",
    "\n",
    "mu, sigma = params[0], params[1]"
   ]
  },
  {
   "cell_type": "code",
   "execution_count": 46,
   "metadata": {},
   "outputs": [
    {
     "name": "stdout",
     "output_type": "stream",
     "text": [
      "mean = 2.058, std = 0.405\n"
     ]
    },
    {
     "data": {
      "image/png": "[encoded data removed]",
      "text/plain": [
       "<Figure size 640x480 with 1 Axes>"
      ]
     },
     "metadata": {},
     "output_type": "display_data"
    }
   ],
   "source": [
    "print(f\"mean = {mu:.3f}, std = {sigma:.3f}\")\n",
    "\n",
    "# plotting the result\n",
    "z_values = torch.linspace(-1, 5, 400)\n",
    "log_p_values = log_p(z_values).exp()\n",
    "log_q_values = log_q(z_values, mu, sigma).exp()\n",
    "plt.figure(dpi=100)\n",
    "plt.plot(z_values.numpy(), log_p_values.numpy(), label=\"p (unnormalized)\")\n",
    "plt.plot(z_values.numpy(), log_q_values.numpy(), label=\"q\")\n",
    "_ = plt.legend()"
   ]
  },
  {
   "cell_type": "code",
   "execution_count": 43,
   "metadata": {},
   "outputs": [
    {
     "data": {
      "application/vnd.jupyter.widget-view+json": {
       "model_id": "2294e6bd621e410b8f0032d78cfe463a",
       "version_major": 2,
       "version_minor": 0
      },
      "text/plain": [
       "  0%|          | 0/1000 [00:00<?, ?it/s]"
      ]
     },
     "metadata": {},
     "output_type": "display_data"
    },
    {
     "name": "stdout",
     "output_type": "stream",
     "text": [
      "loss=0.166\n"
     ]
    }
   ],
   "source": [
    "def gradient_descent_optimization(\n",
    "    loss_function, lr: float, n_iter: int, initial_guess: np.ndarray\n",
    ") -> np.ndarray:\n",
    "    \"\"\"\n",
    "    Perform gradient descent optimization.\n",
    "\n",
    "    Args:\n",
    "        loss_function (Callable[[jnp.ndarray], jnp.ndarray]): The loss function to minimize.\n",
    "        lr (float): Learning rate.\n",
    "        n_iter (int): Number of iterations.\n",
    "        initial_guess (np.ndarray): Initial guess for the parameters.\n",
    "\n",
    "    Returns:\n",
    "        np.ndarray: Optimized parameters.\n",
    "    \"\"\"\n",
    "    w = jnp.array(initial_guess)\n",
    "    for _ in tqdm(range(n_iter)):\n",
    "        loss, grad_loss = jax.value_and_grad(loss_function)(w)\n",
    "        w -= lr * grad_loss\n",
    "    print(f\"loss={loss:.4g}\")\n",
    "    return np.array(w)\n",
    "\n",
    "\n",
    "@jit\n",
    "def log_p(z: jnp.ndarray) -> jnp.ndarray:\n",
    "    \"\"\"\n",
    "    Compute the log probability of z under the prior distribution.\n",
    "\n",
    "    Args:\n",
    "        z (jnp.ndarray): Input tensor.\n",
    "\n",
    "    Returns:\n",
    "        jnp.ndarray: Log probability.\n",
    "    \"\"\"\n",
    "    return -3 * jnp.abs(z - 2)\n",
    "\n",
    "\n",
    "@jit\n",
    "def log_q(z: jnp.ndarray, mu: jnp.ndarray, sigma: jnp.ndarray) -> jnp.ndarray:\n",
    "    \"\"\"\n",
    "    Compute the log probability of z under the variational distribution.\n",
    "\n",
    "    Args:\n",
    "        z (jnp.ndarray): Input tensor.\n",
    "        mu (jnp.ndarray): Mean of the variational distribution.\n",
    "        sigma (jnp.ndarray): Standard deviation of the variational distribution.\n",
    "\n",
    "    Returns:\n",
    "        jnp.ndarray: Log probability.\n",
    "    \"\"\"\n",
    "    return norm.logpdf(z, mu, sigma)\n",
    "\n",
    "\n",
    "@jit\n",
    "def loss(param: jnp.ndarray, num_samples: int = 10) -> jnp.ndarray:\n",
    "    \"\"\"\n",
    "    Compute the loss function for variational inference.\n",
    "\n",
    "    Args:\n",
    "        param (jnp.ndarray): Parameters of the variational distribution.\n",
    "        num_samples (int): Number of samples to draw.\n",
    "\n",
    "    Returns:\n",
    "        jnp.ndarray: Loss value.\n",
    "    \"\"\"\n",
    "    eps = jax.random.normal(jax.random.PRNGKey(0), (num_samples,))\n",
    "    z = param[0] + param[1] * eps\n",
    "    elbo_sample = log_p(z) - log_q(z, param[0], param[1])\n",
    "    return -jnp.mean(elbo_sample)\n",
    "\n",
    "\n",
    "params = gradient_descent_optimization(\n",
    "    loss_function=loss, lr=0.01, n_iter=1000, initial_guess=np.array([0.0, 10.0])\n",
    ")\n",
    "\n",
    "mu, sigma = params[0], params[1]"
   ]
  },
  {
   "cell_type": "code",
   "execution_count": null,
   "metadata": {},
   "outputs": [],
   "source": []
  }
 ],
 "metadata": {
  "kernelspec": {
   "display_name": ".venv",
   "language": "python",
   "name": "python3"
  },
  "language_info": {
   "codemirror_mode": {
    "name": "ipython",
    "version": 3
   },
   "file_extension": ".py",
   "mimetype": "text/x-python",
   "name": "python",
   "nbconvert_exporter": "python",
   "pygments_lexer": "ipython3",
   "version": "3.12.8"
  }
 },
 "nbformat": 4,
 "nbformat_minor": 2
}
