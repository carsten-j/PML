{
 "cells": [
  {
   "cell_type": "code",
   "execution_count": 1,
   "metadata": {},
   "outputs": [],
   "source": [
    "import mpmath\n",
    "import numpy as np\n",
    "from scipy import integrate"
   ]
  },
  {
   "cell_type": "code",
   "execution_count": 2,
   "metadata": {},
   "outputs": [],
   "source": [
    "def p(x: np.ndarray) -> np.ndarray:\n",
    "    \"\"\"\n",
    "    Compute the unnormalized target density function p(x).\n",
    "\n",
    "    Parameters:\n",
    "    x (np.ndarray): Input array of values.\n",
    "\n",
    "    Returns:\n",
    "    np.ndarray: Output array of the same shape as x, containing the computed density values.\n",
    "    \"\"\"\n",
    "    px = (\n",
    "        np.exp(-(x**2) / 2)\n",
    "        * (np.sin(x) ** 2 + 3 * np.cos(x) ** 2 * np.sin(7 * x) ** 2 + 1)\n",
    "        * x**2\n",
    "    )\n",
    "\n",
    "    return px"
   ]
  },
  {
   "cell_type": "code",
   "execution_count": 3,
   "metadata": {},
   "outputs": [
    {
     "name": "stdout",
     "output_type": "stream",
     "text": [
      "Integral result with SciPy: 0.9147834775810756\n"
     ]
    }
   ],
   "source": [
    "result, error = integrate.quad(p, -3, 3, epsabs=1e-12, epsrel=1e-12)\n",
    "\n",
    "print(\"Integral result with SciPy:\", result / 5.709958615727445)"
   ]
  },
  {
   "cell_type": "code",
   "execution_count": 4,
   "metadata": {},
   "outputs": [],
   "source": [
    "# Set the desired precision (e.g., 50 decimal digits)\n",
    "mpmath.mp.dps = 50"
   ]
  },
  {
   "cell_type": "code",
   "execution_count": 5,
   "metadata": {},
   "outputs": [],
   "source": [
    "def pp(x):\n",
    "    \"\"\"\n",
    "    Compute the unnormalized target density function p(x).\n",
    "\n",
    "    Parameters:\n",
    "    x (np.ndarray): Input array of values.\n",
    "\n",
    "    Returns:\n",
    "    np.ndarray: Output array of the same shape as x, containing the computed density values.\n",
    "    \"\"\"\n",
    "    px = (\n",
    "        mpmath.exp(-(x**2) / 2)\n",
    "        * (mpmath.sin(x) ** 2 + 3 * mpmath.cos(x) ** 2 * mpmath.sin(7 * x) ** 2 + 1)\n",
    "        * x**2\n",
    "    )\n",
    "\n",
    "    return px"
   ]
  },
  {
   "cell_type": "code",
   "execution_count": 6,
   "metadata": {},
   "outputs": [
    {
     "name": "stdout",
     "output_type": "stream",
     "text": [
      "Integral result with high precision using mpmath: 0.91478347758107576161051385508802082059690549900262\n"
     ]
    }
   ],
   "source": [
    "a = -3\n",
    "b = 3\n",
    "result = mpmath.quad(pp, [a, b])\n",
    "\n",
    "print(\n",
    "    \"Integral result with high precision using mpmath:\",\n",
    "    result / 5.7099586157274450417806411484518546493347570784812,\n",
    ")"
   ]
  },
  {
   "cell_type": "code",
   "execution_count": 7,
   "metadata": {},
   "outputs": [
    {
     "name": "stdout",
     "output_type": "stream",
     "text": [
      "Author: Carsten Jørgensen\n",
      "\n",
      "Email: carstenj@gmail.com\n",
      "\n",
      "Python implementation: CPython\n",
      "Python version       : 3.12.4\n",
      "IPython version      : 8.25.0\n",
      "\n",
      "Compiler    : GCC 11.2.0\n",
      "OS          : Linux\n",
      "Release     : 5.15.153.1-microsoft-standard-WSL2\n",
      "Machine     : x86_64\n",
      "Processor   : x86_64\n",
      "CPU cores   : 22\n",
      "Architecture: 64bit\n",
      "\n",
      "numpy : 1.26.4\n",
      "scipy : 1.12.0\n",
      "mpmath: 1.3.0\n",
      "\n"
     ]
    }
   ],
   "source": [
    "# Python package versions used\n",
    "%load_ext watermark\n",
    "%watermark --a \"Carsten Jørgensen\"\n",
    "%watermark --e \"carstenj@gmail.com\"\n",
    "%watermark -m -v -i -iv"
   ]
  }
 ],
 "metadata": {
  "kernelspec": {
   "display_name": "pml",
   "language": "python",
   "name": "python3"
  },
  "language_info": {
   "codemirror_mode": {
    "name": "ipython",
    "version": 3
   },
   "file_extension": ".py",
   "mimetype": "text/x-python",
   "name": "python",
   "nbconvert_exporter": "python",
   "pygments_lexer": "ipython3",
   "version": "3.12.4"
  }
 },
 "nbformat": 4,
 "nbformat_minor": 2
}
