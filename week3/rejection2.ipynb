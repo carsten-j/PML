{
 "cells": [
  {
   "cell_type": "code",
   "execution_count": null,
   "metadata": {},
   "outputs": [],
   "source": [
    "from typing import Callable, Tuple\n",
    "\n",
    "import matplotlib.pyplot as plt\n",
    "import numpy as np\n",
    "import pandas as pd\n",
    "import scipy.stats as stats\n",
    "from scipy.stats import rv_continuous"
   ]
  },
  {
   "cell_type": "code",
   "execution_count": null,
   "metadata": {},
   "outputs": [],
   "source": [
    "np.random.seed(42)\n",
    "save_fig = False"
   ]
  },
  {
   "cell_type": "code",
   "execution_count": null,
   "metadata": {},
   "outputs": [],
   "source": [
    "domain = (-3, 3)"
   ]
  },
  {
   "cell_type": "code",
   "execution_count": null,
   "metadata": {},
   "outputs": [],
   "source": [
    "def p(x: np.ndarray) -> np.ndarray:\n",
    "    \"\"\"\n",
    "    Compute the unnormalized target density function p(x).\n",
    "\n",
    "    Parameters:\n",
    "    x (np.ndarray): Input array of values.\n",
    "\n",
    "    Returns:\n",
    "    np.ndarray: Output array of the same shape as x, containing the computed density values.\n",
    "    \"\"\"\n",
    "    px = np.exp(-(x**2) / 2) * (\n",
    "        np.sin(x) ** 2 + 3 * np.cos(x) ** 2 * np.sin(7 * x) ** 2 + 1\n",
    "    )\n",
    "    # Set p(x) = 0 outside the interval [-3, 3]\n",
    "    px = np.where(np.abs(x) <= 3, px, 0.0)\n",
    "    return px\n"
   ]
  },
  {
   "cell_type": "code",
   "execution_count": null,
   "metadata": {},
   "outputs": [],
   "source": [
    "def compute_scaling_factor(\n",
    "    p: Callable[[np.ndarray], np.ndarray],\n",
    "    q: rv_continuous,\n",
    "    domain: Tuple[float, float],\n",
    "    print_output: bool = False,\n",
    "    over_estimate: float = None,\n",
    ") -> float:\n",
    "    \"\"\"\n",
    "    Compute the scaling factor used in rejection sampling.\n",
    "\n",
    "    Parameters:\n",
    "    p (Callable[[np.ndarray], np.ndarray]): target density function. could be unnormalized\n",
    "    q (rv_continuous): Proposal distribution from scipy.stats.\n",
    "    print_output (bool): Whether to print the computed scaling factor.\n",
    "    over_estimate (float): A factor to overestimate the scaling factor.\n",
    "\n",
    "    Returns:\n",
    "    float: The computed scaling factor.\n",
    "    \"\"\"\n",
    "\n",
    "    domain_min, domain_max = domain\n",
    "    x = np.linspace(domain_min, domain_max, 1000)\n",
    "\n",
    "    # Evaluate p(x) and q(x) over x\n",
    "    p_values = p(x)\n",
    "    q_values = q.pdf(x)\n",
    "\n",
    "    ratio_pq = np.divide(\n",
    "        p_values, q_values, out=np.zeros_like(p_values), where=q_values != 0\n",
    "    )\n",
    "\n",
    "    M_estimate = np.max(ratio_pq)\n",
    "    M = M_estimate\n",
    "\n",
    "    if over_estimate:\n",
    "        M = M * over_estimate\n",
    "\n",
    "    if print_output:\n",
    "        print(f\"Estimated scaling constant M: {M}\")\n",
    "\n",
    "    return M\n"
   ]
  },
  {
   "cell_type": "code",
   "execution_count": null,
   "metadata": {},
   "outputs": [],
   "source": [
    "def plot_target_vs_proposal_distribution(\n",
    "    p: Callable[[np.ndarray], np.ndarray],\n",
    "    q: rv_continuous,\n",
    "    domain: Tuple[float, float],\n",
    "    name: str,\n",
    "):\n",
    "    \"\"\"\n",
    "    Plots the target density function p(x) and the proposal density q(x) for visualization.\n",
    "\n",
    "    Parameters:\n",
    "    p (Callable[[np.ndarray], np.ndarray]): target density function. could be unnormalized\n",
    "    q (rv_continuous): Proposal distribution from scipy.stats.\n",
    "    name (str): Name of the proposal distribution. Used for printing the legend.\n",
    "    \"\"\"\n",
    "\n",
    "    # Generate x-values over which to evaluate the functions\n",
    "    domain_min, domain_max = domain\n",
    "    x = np.linspace(domain_min - 3, domain_max + 3, 1000)\n",
    "\n",
    "    # Evaluate p(x) and q(x) over x\n",
    "    p_values = p(x)\n",
    "    q_values = q.pdf(x)\n",
    "\n",
    "    M = compute_scaling_factor(p, q, domain)\n",
    "\n",
    "    # Compute M * q(x)\n",
    "    Mq_values = M * q_values\n",
    "\n",
    "    # Plot the functions\n",
    "    plt.figure(figsize=(10, 6))\n",
    "    plt.plot(x, p_values, label=\"Unnormalized target density $p(x)$\", color=\"blue\")\n",
    "    plt.plot(\n",
    "        x,\n",
    "        q_values,\n",
    "        label=\"Normalized \" + name + \" proposal density $q(x)\",\n",
    "        color=\"red\",\n",
    "        linestyle=\"--\",\n",
    "    )\n",
    "    plt.plot(\n",
    "        x,\n",
    "        Mq_values,\n",
    "        label=\"Normalized Adjusted \"\n",
    "        + name\n",
    "        + \" proposal density $M q(x), M ={:.2f}\".format(M),\n",
    "        color=\"green\",\n",
    "        linestyle=\":\",\n",
    "    )\n",
    "\n",
    "    # Highlight the interval [-3, 3]\n",
    "    plt.axvline(x=domain_min, color=\"gray\", linestyle=\":\")\n",
    "    plt.axvline(x=domain_max, color=\"gray\", linestyle=\":\")\n",
    "    plt.fill_between(\n",
    "        x, 0, p_values, where=(np.abs(x) > domain_max), color=\"blue\", alpha=0.1\n",
    "    )\n",
    "    plt.fill_between(\n",
    "        x, 0, q_values, where=(np.abs(x) > domain_max), color=\"red\", alpha=0.1\n",
    "    )\n",
    "\n",
    "    plt.title(\"Comparison of target density $p(x)$ and proposal density $q(x)$\")\n",
    "    plt.xlabel(\"x\")\n",
    "    plt.ylabel(\"Density\")\n",
    "    plt.legend(loc=\"best\")\n",
    "    plt.ylim(0, 5)\n",
    "    plt.grid(False)\n",
    "\n",
    "    if save_fig:\n",
    "        plt.savefig(\"target_vs_proposal_\" + name + \".png\", dpi=600)\n",
    "\n",
    "    plt.show()"
   ]
  },
  {
   "cell_type": "code",
   "execution_count": null,
   "metadata": {},
   "outputs": [],
   "source": [
    "def rejection_sampling(\n",
    "    n_samples: int,\n",
    "    target_dist: Callable[[np.ndarray], np.ndarray],\n",
    "    proposal_dist: rv_continuous,\n",
    "    domain: Tuple[float, float],\n",
    "    batch_size: int = 100,\n",
    ") -> np.ndarray:\n",
    "    \"\"\"\n",
    "    Perform rejection sampling to generate samples from the target distribution.\n",
    "\n",
    "    Parameters:\n",
    "    n_samples (int): Number of samples to generate.\n",
    "    target_dist (Callable[[np.ndarray], np.ndarray]): Unnormalized target density function.\n",
    "    proposal_dist (rv_continuous): Proposal distribution from scipy.stats.\n",
    "\n",
    "    Returns:\n",
    "    np.ndarray: Array of generated samples with size (n_samples,).\n",
    "    float: Percentage of samples rejected.\n",
    "    \"\"\"\n",
    "    M = compute_scaling_factor(target_dist, proposal_dist, domain)\n",
    "\n",
    "    rejected = 0\n",
    "\n",
    "    samples = []\n",
    "    while len(samples) < n_samples:\n",
    "        # Sample x_candidate from the proposal distribution\n",
    "        x_candidate = proposal_dist.rvs(size=batch_size)\n",
    "\n",
    "        # Evaluate target_dist(x_candidate) and proposal_dist(x_candidate)\n",
    "        p_x_candidate = target_dist(x_candidate)\n",
    "        q_x_candidate = proposal_dist.pdf(x_candidate)\n",
    "\n",
    "        # Compute acceptance probability\n",
    "        acceptance_ratio = p_x_candidate / (M * q_x_candidate)\n",
    "\n",
    "        # Generate a uniform random number u ∈ [0, 1)\n",
    "        u = stats.uniform.rvs(size=batch_size)\n",
    "\n",
    "        # Accept or reject the candidate sample\n",
    "        accept = u < acceptance_ratio\n",
    "\n",
    "        if batch_size == 1:\n",
    "            if accept[0] == np.False_:\n",
    "                rejected += 1\n",
    "\n",
    "        accepted_x_batch = x_candidate[accept]\n",
    "\n",
    "        # if u < acceptance_ratio:\n",
    "        samples.extend(accepted_x_batch)\n",
    "\n",
    "    return np.array(samples[:n_samples]), rejected"
   ]
  },
  {
   "cell_type": "code",
   "execution_count": null,
   "metadata": {},
   "outputs": [],
   "source": [
    "def compute_expectation(p, q, domain, n_samples, batch_size=100, verbose=True):\n",
    "    samples, rejected = rejection_sampling(\n",
    "        n_samples, p, q, domain, batch_size=batch_size\n",
    "    )\n",
    "    E_x2 = np.mean(samples**2)\n",
    "    if verbose:\n",
    "        print(\n",
    "            f\"Estimated E[X^2] using rejection sampling: {E_x2:.4f} and samples: {n_samples}\"\n",
    "        )\n",
    "        print(f\"Number of rejected samples: {rejected}\")\n",
    "    return E_x2"
   ]
  },
  {
   "cell_type": "code",
   "execution_count": null,
   "metadata": {},
   "outputs": [],
   "source": [
    "n_samples = 100000"
   ]
  },
  {
   "cell_type": "code",
   "execution_count": null,
   "metadata": {},
   "outputs": [],
   "source": [
    "uniform = stats.uniform(loc=-3, scale=6)\n"
   ]
  },
  {
   "cell_type": "code",
   "execution_count": null,
   "metadata": {},
   "outputs": [],
   "source": [
    "plot_target_vs_proposal_distribution(p, uniform, domain, \"uniform\")"
   ]
  },
  {
   "cell_type": "code",
   "execution_count": null,
   "metadata": {},
   "outputs": [],
   "source": [
    "compute_expectation(p, uniform, domain, n_samples, batch_size=1, verbose=True)"
   ]
  },
  {
   "cell_type": "code",
   "execution_count": null,
   "metadata": {},
   "outputs": [],
   "source": [
    "gaussian = stats.norm(loc=0, scale=1)"
   ]
  },
  {
   "cell_type": "code",
   "execution_count": null,
   "metadata": {},
   "outputs": [],
   "source": [
    "plot_target_vs_proposal_distribution(p, gaussian, (-3, 3), \"gaussian\")"
   ]
  },
  {
   "cell_type": "code",
   "execution_count": null,
   "metadata": {},
   "outputs": [],
   "source": [
    "compute_expectation(p, gaussian, domain, n_samples, batch_size=1, verbose=True)"
   ]
  },
  {
   "cell_type": "code",
   "execution_count": null,
   "metadata": {},
   "outputs": [],
   "source": [
    "number_of_samples = [10, 100, 1000]\n",
    "proposal_distributions = [uniform, gaussian]\n",
    "trials = 100"
   ]
  },
  {
   "cell_type": "code",
   "execution_count": null,
   "metadata": {},
   "outputs": [],
   "source": [
    "# Initialize an empty list to collect the data\n",
    "data = []"
   ]
  },
  {
   "cell_type": "code",
   "execution_count": null,
   "metadata": {},
   "outputs": [],
   "source": [
    "for trial in range(trials):\n",
    "    for n_samples in number_of_samples:\n",
    "        for q in proposal_distributions:\n",
    "            estimator = compute_expectation(\n",
    "                p, q, domain, n_samples, batch_size=n_samples, verbose=False\n",
    "            )\n",
    "            # Create a string representation of q\n",
    "            q_repr = f\"rejection sampling {q.dist.name}\"\n",
    "            data.append(\n",
    "                {\n",
    "                    \"trial\": trial,\n",
    "                    \"samples\": n_samples,\n",
    "                    \"sampling method\": q_repr,\n",
    "                    \"estimator\": estimator,\n",
    "                }\n",
    "            )\n"
   ]
  },
  {
   "cell_type": "code",
   "execution_count": null,
   "metadata": {},
   "outputs": [],
   "source": [
    "def importance_sampling(\n",
    "    target_dist: Callable[[np.ndarray], np.ndarray],\n",
    "    proposal_dist: rv_continuous,\n",
    "    num_samples: int = 10000,\n",
    ") -> Tuple[np.ndarray, np.ndarray]:\n",
    "    \"\"\"\n",
    "    Perform importance sampling to estimate the expectation of a target distribution.\n",
    "\n",
    "    Parameters:\n",
    "    target_dist (Callable[[np.ndarray], np.ndarray]): The target distribution function that takes an array of samples and returns their densities.\n",
    "    proposal_dist (rv_continuous): The proposal distribution from which to sample.\n",
    "    num_samples (int, optional): The number of samples to draw from the proposal distribution. Default is 10000.\n",
    "\n",
    "    Returns:\n",
    "    tuple: A tuple containing:\n",
    "        - weights (np.ndarray): The normalized importance weights.\n",
    "        - samples (np.ndarray): The samples drawn from the proposal distribution.\n",
    "    \"\"\"\n",
    "    # Sample from the proposal distribution\n",
    "    samples = proposal_dist.rvs(size=num_samples)\n",
    "\n",
    "    # Compute the unnormalized target density for these samples\n",
    "    p_x = target_dist(samples)\n",
    "\n",
    "    # Compute the proposal density for these samples\n",
    "    q_x = proposal_dist.pdf(samples)\n",
    "\n",
    "    # Compute the self-normalized weights\n",
    "    weights = p_x / q_x\n",
    "    weights /= np.sum(weights)  # Normalize the weights\n",
    "\n",
    "    return weights, samples"
   ]
  },
  {
   "cell_type": "code",
   "execution_count": null,
   "metadata": {},
   "outputs": [],
   "source": [
    "# Calculate the expectation\n",
    "weights, samples = importance_sampling(p, gaussian)\n",
    "expectation = np.sum(weights * samples**2)\n",
    "print(\"Expected value of x^2:\", expectation)"
   ]
  },
  {
   "cell_type": "code",
   "execution_count": null,
   "metadata": {},
   "outputs": [],
   "source": [
    "for trial in range(trials):\n",
    "    for n_samples in number_of_samples:\n",
    "        weights, samples = importance_sampling(p, q, num_samples=n_samples)\n",
    "        estimator = np.sum(weights * samples**2)\n",
    "        # Create a string representation of q\n",
    "        q_repr = \"importance sampling norm\"\n",
    "        data.append(\n",
    "            {\n",
    "                \"trial\": trial,\n",
    "                \"samples\": n_samples,\n",
    "                \"sampling method\": q_repr,\n",
    "                \"estimator\": estimator,\n",
    "            }\n",
    "        )\n"
   ]
  },
  {
   "cell_type": "code",
   "execution_count": null,
   "metadata": {},
   "outputs": [],
   "source": [
    "# Create a DataFrame from the collected data\n",
    "df = pd.DataFrame(data)\n",
    "\n",
    "# Compute mean and standard deviation for each combination of n_samples and q\n",
    "grouped = df.groupby([\"samples\", \"sampling method\"])[\"estimator\"].agg([\"mean\", \"std\"])\n",
    "\n",
    "\n",
    "print(grouped)"
   ]
  },
  {
   "cell_type": "code",
   "execution_count": null,
   "metadata": {},
   "outputs": [],
   "source": [
    "print(grouped.to_latex())"
   ]
  },
  {
   "cell_type": "code",
   "execution_count": null,
   "metadata": {},
   "outputs": [],
   "source": [
    "x = np.linspace(-3, 3, 1000)\n",
    "px = p(x)\n",
    "fx = x**2\n",
    "qx = q.pdf(x)\n",
    "fig, ax = plt.subplots(1, 1, figsize=(10, 6))\n",
    "\n",
    "ax.plot(x, px, label=\"$p(x)$\", color=\"blue\")\n",
    "ax.plot(x, fx, label=\"$f(x)=x^2$\", color=\"green\")\n",
    "ax.plot(x, qx, label=\"$q(x)$\", color=\"red\", linestyle=\"--\")\n",
    "ax.set_title(\"Importance sampling using the Gaussian distribution\")\n",
    "plt.legend(loc=\"best\")\n",
    "if save_fig:\n",
    "    plt.savefig(\"importance_sampling.png\", dpi=600)\n",
    "plt.show()"
   ]
  },
  {
   "cell_type": "code",
   "execution_count": null,
   "metadata": {},
   "outputs": [],
   "source": [
    "mean_unstacked = grouped[\"mean\"].unstack(\"sampling method\")\n",
    "\n",
    "ax = mean_unstacked.plot(kind=\"line\", marker=\"o\")\n",
    "ax.set_xlabel(\"Number of samples\")\n",
    "ax.set_ylabel(\"Mean\")\n",
    "ax.set_title(\"Mean for Estimator vs number of samples for each sampling method\")\n",
    "plt.legend(title=\"sampling method\")\n",
    "if save_fig:\n",
    "    plt.savefig(\"mean_estimator.png\", dpi=600)\n",
    "plt.show()"
   ]
  },
  {
   "cell_type": "code",
   "execution_count": null,
   "metadata": {},
   "outputs": [],
   "source": [
    "std_unstacked = grouped[\"std\"].unstack(\"sampling method\")\n",
    "\n",
    "ax = std_unstacked.plot(kind=\"line\", marker=\"o\")\n",
    "ax.set_xlabel(\"Number of samples\")\n",
    "ax.set_ylabel(\"Standard deviation\")\n",
    "ax.set_title(\n",
    "    \"Standard Deviation for Estimator vs number of samples for each sampling method\"\n",
    ")\n",
    "plt.legend(title=\"sampling method\")\n",
    "if save_fig:\n",
    "    plt.savefig(\"std_estimator.png\", dpi=600)\n",
    "plt.show()"
   ]
  }
 ],
 "metadata": {
  "kernelspec": {
   "display_name": ".venv",
   "language": "python",
   "name": "python3"
  },
  "language_info": {
   "codemirror_mode": {
    "name": "ipython",
    "version": 3
   },
   "file_extension": ".py",
   "mimetype": "text/x-python",
   "name": "python",
   "nbconvert_exporter": "python",
   "pygments_lexer": "ipython3",
   "version": "3.12.6"
  }
 },
 "nbformat": 4,
 "nbformat_minor": 2
}
