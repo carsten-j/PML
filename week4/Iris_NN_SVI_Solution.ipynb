{
 "cells": [
  {
   "cell_type": "markdown",
   "metadata": {
    "id": "E1VDrlsykv-H"
   },
   "source": [
    "# Iris data set: inference with NN / SVI solution"
   ]
  },
  {
   "cell_type": "markdown",
   "metadata": {
    "id": "j-r-92fSGjjU"
   },
   "source": [
    "First, install the required Python packages on the fly on Colab."
   ]
  },
  {
   "cell_type": "markdown",
   "metadata": {
    "id": "EFtJgTgGGhKl"
   },
   "source": [
    "Import the required Python packages."
   ]
  },
  {
   "cell_type": "code",
   "execution_count": 5,
   "metadata": {
    "id": "Q4XNbXIfEF86"
   },
   "outputs": [],
   "source": [
    "import pyro\n",
    "import numpy\n",
    "import torch\n",
    "import sklearn\n",
    "import matplotlib.pyplot as plt\n",
    "from sklearn.datasets import load_iris\n",
    "from sklearn import model_selection\n",
    "import pyro.distributions as pdist\n",
    "import torch.distributions as tdist\n",
    "import torch.nn as tnn\n",
    "import pyro.nn as pnn\n",
    "import arviz"
   ]
  },
  {
   "cell_type": "markdown",
   "metadata": {
    "id": "sq-JwynsGnQM"
   },
   "source": [
    "Set some parameters for inference and make reproducible.\n",
    "\n"
   ]
  },
  {
   "cell_type": "code",
   "execution_count": 6,
   "metadata": {
    "id": "2UJmvt3aEKHc"
   },
   "outputs": [],
   "source": [
    "seed_value = 42  # Replace with your desired seed value\n",
    "torch.manual_seed(seed_value)\n",
    "pyro.set_rng_seed(seed_value)\n",
    "numpy.random.seed(seed_value)\n",
    "\n",
    "# MAP or diagonal normal?\n",
    "MAP = True\n",
    "if MAP:\n",
    "    MAXIT = 2000  # SVI iterations\n",
    "    REPORT = 200  # Plot ELBO each time after this amount of SVI iterations\n",
    "else:\n",
    "    MAXIT = 100000\n",
    "    REPORT = 1000\n",
    "\n",
    "# Number of samples used in prediction\n",
    "S = 500"
   ]
  },
  {
   "cell_type": "markdown",
   "metadata": {
    "id": "8c5o-ZELGsl3"
   },
   "source": [
    "Function to evaluate the accuracy of our trained model."
   ]
  },
  {
   "cell_type": "code",
   "execution_count": 7,
   "metadata": {
    "id": "vqYEZfKRENmM"
   },
   "outputs": [],
   "source": [
    "def accuracy(pred, data):\n",
    "    \"\"\"\n",
    "    Calculate accuracy of predicted labels (integers).\n",
    "\n",
    "    pred: predictions, tensor[sample_index, chain_index, data_index, logits]\n",
    "    data: actual data (digit), tensor[data_index]\n",
    "\n",
    "    Prediction is taken as most common predicted value.\n",
    "    Returns accuracy (#correct/#total).\n",
    "    \"\"\"\n",
    "    n = data.shape[0]\n",
    "    correct = 0\n",
    "    total = 0\n",
    "    for i in range(0, n):\n",
    "        # Get most common prediction value from logits\n",
    "        pred_i = int(torch.argmax(torch.sum(pred[:, 0, i, :], 0)))\n",
    "        # Compare prediction with data\n",
    "        if int(data[i]) == int(pred_i):\n",
    "            correct += 1.0\n",
    "        total += 1.0\n",
    "    # Return fractional accuracy\n",
    "    return correct / total"
   ]
  },
  {
   "cell_type": "markdown",
   "metadata": {
    "id": "EcC99pQAGQz1"
   },
   "source": [
    "Load the [iris flower data set](https://en.wikipedia.org/wiki/Iris_flower_data_set) set from [scikit-learn](https://sklearn.org/)."
   ]
  },
  {
   "cell_type": "code",
   "execution_count": 8,
   "metadata": {
    "colab": {
     "base_uri": "https://localhost:8080/"
    },
    "id": "jlftJLaLEOXc",
    "outputId": "08a08f32-5141-4a5f-f5b6-69b48ad44588"
   },
   "outputs": [
    {
     "name": "stdout",
     "output_type": "stream",
     "text": [
      "Data set / test set sizes: 100, 50.\n"
     ]
    }
   ],
   "source": [
    "# Iris data set\n",
    "Dx = 4  # Input vector dim\n",
    "Dy = 3  # Number of labels\n",
    "\n",
    "iris = sklearn.datasets.load_iris()\n",
    "x_all = torch.tensor(iris.data, dtype=torch.float)  # Input vector (4D)\n",
    "y_all = torch.tensor(iris.target, dtype=torch.int)  # Label(3 classes)\n",
    "\n",
    "# Make training and test set\n",
    "x, x_test, y, y_test = sklearn.model_selection.train_test_split(\n",
    "    x_all, y_all, test_size=0.33, random_state=42\n",
    ")\n",
    "\n",
    "print(\"Data set / test set sizes: %i, %i.\" % (x.shape[0], x_test.shape[0]))"
   ]
  },
  {
   "cell_type": "markdown",
   "metadata": {
    "id": "DCnoKMBxG9sH"
   },
   "source": [
    "The probabilistic model, implemented as a callable class. We could also simply use a function.\n"
   ]
  },
  {
   "cell_type": "code",
   "execution_count": 9,
   "metadata": {
    "id": "MQ0QoZ44xpVt"
   },
   "outputs": [],
   "source": [
    "class Model:\n",
    "    def __init__(self, x_dim=4, y_dim=3, h_dim=5):\n",
    "        self.x_dim = x_dim\n",
    "        self.y_dim = y_dim\n",
    "        self.h_dim = h_dim\n",
    "\n",
    "    def __call__(self, x, y=None):\n",
    "        \"\"\"\n",
    "        We need None for predictive\n",
    "        \"\"\"\n",
    "        x_dim = self.x_dim\n",
    "        y_dim = self.y_dim\n",
    "        h_dim = self.h_dim\n",
    "        # Number of observations\n",
    "        n = x.shape[0]\n",
    "        # standard deviation of Normals\n",
    "        sd = 1  # EXERCISE: 100->1\n",
    "        # Layer 1\n",
    "        w1 = pyro.sample(\"w1\", pdist.Normal(0, sd).expand([x_dim, h_dim]).to_event(2))\n",
    "        b1 = pyro.sample(\"b1\", pdist.Normal(0, sd).expand([h_dim]).to_event(1))\n",
    "        # Layer 2 # EXERCISE: added layer\n",
    "        w2 = pyro.sample(\"w2\", pdist.Normal(0, sd).expand([h_dim, h_dim]).to_event(2))\n",
    "        b2 = pyro.sample(\"b2\", pdist.Normal(0, sd).expand([h_dim]).to_event(1))\n",
    "        # Layer 3\n",
    "        w3 = pyro.sample(\"w3\", pdist.Normal(0, sd).expand([h_dim, y_dim]).to_event(2))\n",
    "        b3 = pyro.sample(\"b3\", pdist.Normal(0, sd).expand([y_dim]).to_event(1))\n",
    "        # NN\n",
    "        h1 = torch.tanh((x @ w1) + b1)\n",
    "        h2 = torch.tanh((h1 @ w2) + b2)  # EXERCISE: added layer\n",
    "        logits = h2 @ w3 + b3\n",
    "        # Save deterministc variable (logits) in trace\n",
    "        pyro.deterministic(\"logits\", logits)\n",
    "        # Categorical likelihood\n",
    "        with pyro.plate(\"labels\", n):\n",
    "            obs = pyro.sample(\"obs\", pdist.Categorical(logits=logits), obs=y)"
   ]
  },
  {
   "cell_type": "markdown",
   "metadata": {
    "id": "3Bvv6iO6HJXd"
   },
   "source": [
    "Make the Model and the Guide objects, and optimize the ELBO.  "
   ]
  },
  {
   "cell_type": "code",
   "execution_count": 10,
   "metadata": {
    "colab": {
     "base_uri": "https://localhost:8080/"
    },
    "id": "I5ZPg06YUbju",
    "outputId": "67a98589-420a-442c-cf94-b5b0fe222f8b"
   },
   "outputs": [
    {
     "name": "stdout",
     "output_type": "stream",
     "text": [
      "[Iteration 0000] loss: 188.0556\n",
      "[Iteration 0200] loss: 88.5218\n",
      "[Iteration 0400] loss: 87.6917\n",
      "[Iteration 0600] loss: 87.5620\n",
      "[Iteration 0800] loss: 87.5438\n",
      "[Iteration 1000] loss: 87.5415\n",
      "[Iteration 1200] loss: 87.5412\n",
      "[Iteration 1400] loss: 87.5410\n",
      "[Iteration 1600] loss: 87.5411\n",
      "[Iteration 1800] loss: 87.5501\n"
     ]
    }
   ],
   "source": [
    "# Instantiate the Model object\n",
    "model = Model()\n",
    "\n",
    "if MAP:\n",
    "    # MAP estimate of model parameter (here SVI boild down to simple gradient descent)\n",
    "    guide = pyro.infer.autoguide.AutoDelta(model)\n",
    "else:\n",
    "    # Variational estimate of model parameters using diagonal normal (SVI)\n",
    "    guide = pyro.infer.autoguide.AutoDiagonalNormal(model)\n",
    "\n",
    "# Optimizer\n",
    "adam = pyro.optim.Adam({\"lr\": 0.01})\n",
    "# SVI\n",
    "svi = pyro.infer.SVI(model, guide, adam, loss=pyro.infer.Trace_ELBO())\n",
    "\n",
    "# Clear any previously used parameters\n",
    "pyro.clear_param_store()\n",
    "\n",
    "# Optimize the ELBO\n",
    "elbo = []\n",
    "for j in range(0, MAXIT):\n",
    "    loss = svi.step(x, y)\n",
    "    elbo.append(loss)\n",
    "    if j % REPORT == 0:\n",
    "        print(\"[Iteration %04d] loss: %.4f\" % (j, loss))\n"
   ]
  },
  {
   "cell_type": "code",
   "execution_count": 11,
   "metadata": {
    "colab": {
     "base_uri": "https://localhost:8080/",
     "height": 467
    },
    "id": "aQVKK50K8fT5",
    "outputId": "bef12a44-28d4-462f-c1c0-bb8eca95dd9e"
   },
   "outputs": [
    {
     "data": {
      "text/plain": [
       "[<matplotlib.lines.Line2D at 0x14b204e00>]"
      ]
     },
     "execution_count": 11,
     "metadata": {},
     "output_type": "execute_result"
    },
    {
     "data": {
      "image/png": "[encoded data removed]",
      "text/plain": [
       "<Figure size 640x480 with 1 Axes>"
      ]
     },
     "metadata": {},
     "output_type": "display_data"
    }
   ],
   "source": [
    "# ELBO vs. iteration plot\n",
    "plt.xlabel(\"Iteration\")\n",
    "plt.ylabel(\"- ELBO\")\n",
    "plt.plot(elbo)"
   ]
  },
  {
   "cell_type": "markdown",
   "metadata": {
    "id": "2oDsCq97JJvg"
   },
   "source": [
    "Print the estimated parameters."
   ]
  },
  {
   "cell_type": "code",
   "execution_count": 12,
   "metadata": {
    "colab": {
     "base_uri": "https://localhost:8080/"
    },
    "id": "su29C8djUc0q",
    "outputId": "7c79bdc0-5323-4abe-9475-14c870f843eb"
   },
   "outputs": [
    {
     "name": "stdout",
     "output_type": "stream",
     "text": [
      "AutoDelta.w1 Parameter containing:\n",
      "tensor([[-0.2763,  0.2768,  0.1315, -0.0905, -0.0906],\n",
      "        [-0.5051,  0.5060,  0.2953, -0.3772, -0.3774],\n",
      "        [ 0.5029, -0.5037, -0.3144,  0.6118,  0.6120],\n",
      "        [ 0.8445, -0.8458, -0.4532,  0.2644,  0.2644]], requires_grad=True)\n",
      "AutoDelta.b1 Parameter containing:\n",
      "tensor([-0.6339,  0.6350,  0.2959, -0.0600, -0.0600], requires_grad=True)\n",
      "AutoDelta.w2 Parameter containing:\n",
      "tensor([[ 0.1396,  0.8130, -0.1392, -0.8126,  0.8131],\n",
      "        [-0.1390, -0.8142,  0.1387,  0.8140, -0.8143],\n",
      "        [-0.3348, -0.4405,  0.3372,  0.4395, -0.4399],\n",
      "        [ 0.7147, -0.0385, -0.7145,  0.0384, -0.0385],\n",
      "        [ 0.7153, -0.0386, -0.7147,  0.0385, -0.0386]], requires_grad=True)\n",
      "AutoDelta.b2 Parameter containing:\n",
      "tensor([ 0.1219, -0.1284, -0.1222,  0.1283, -0.1284], requires_grad=True)\n",
      "AutoDelta.w3 Parameter containing:\n",
      "tensor([[-1.3203,  0.9797,  0.3405],\n",
      "        [-0.4262, -0.7263,  1.1525],\n",
      "        [ 1.3203, -0.9798, -0.3406],\n",
      "        [ 0.4264,  0.7256, -1.1520],\n",
      "        [-0.4263, -0.7262,  1.1525]], requires_grad=True)\n",
      "AutoDelta.b3 Parameter containing:\n",
      "tensor([ 0.1011, -0.3546,  0.2535], requires_grad=True)\n"
     ]
    }
   ],
   "source": [
    "for name, value in pyro.get_param_store().items():\n",
    "    print(name, pyro.param(name))"
   ]
  },
  {
   "cell_type": "markdown",
   "metadata": {
    "id": "e6S-GbqSH5IZ"
   },
   "source": [
    "Get the [posterior predictive distribution](https://en.wikipedia.org/wiki/Posterior_predictive_distribution) by sampling the model's parameters from the Guide object and applying the model to the test set."
   ]
  },
  {
   "cell_type": "markdown",
   "metadata": {
    "id": "3gJ72XrxKzVs"
   },
   "source": []
  },
  {
   "cell_type": "code",
   "execution_count": 13,
   "metadata": {
    "id": "ZjUqVdxtIN2s"
   },
   "outputs": [],
   "source": [
    "guide.requires_grad_(False)\n",
    "\n",
    "posterior_predictive = pyro.infer.Predictive(\n",
    "    model, guide=guide, num_samples=S, return_sites=[\"logits\"]\n",
    ")(x_test, None)"
   ]
  },
  {
   "cell_type": "markdown",
   "metadata": {
    "id": "54Ky9FPCIC6c"
   },
   "source": [
    "Evaluate the accuracy of the model on the test set.\n"
   ]
  },
  {
   "cell_type": "code",
   "execution_count": 14,
   "metadata": {
    "colab": {
     "base_uri": "https://localhost:8080/"
    },
    "id": "PbCNSfFzUgDB",
    "outputId": "5fe59df5-1280-4fa1-a547-5e1d4873259a"
   },
   "outputs": [
    {
     "name": "stdout",
     "output_type": "stream",
     "text": [
      "Shape of posterior preditive for y (logits): torch.Size([500, 1, 50, 3])\n",
      "Success: 0.98\n"
     ]
    }
   ],
   "source": [
    "# Print accuracy\n",
    "logits = posterior_predictive[\"logits\"]\n",
    "print(\"Shape of posterior preditive for y (logits):\", logits.shape)\n",
    "print(\"Success: %.2f\" % accuracy(logits, y_test))"
   ]
  }
 ],
 "metadata": {
  "colab": {
   "provenance": []
  },
  "kernelspec": {
   "display_name": ".venv",
   "language": "python",
   "name": "python3"
  },
  "language_info": {
   "codemirror_mode": {
    "name": "ipython",
    "version": 3
   },
   "file_extension": ".py",
   "mimetype": "text/x-python",
   "name": "python",
   "nbconvert_exporter": "python",
   "pygments_lexer": "ipython3",
   "version": "3.12.6"
  }
 },
 "nbformat": 4,
 "nbformat_minor": 0
}
