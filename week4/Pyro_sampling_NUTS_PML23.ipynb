{
 "cells": [
  {
   "cell_type": "code",
   "execution_count": 32,
   "metadata": {
    "id": "OgyIY4sQP3HO"
   },
   "outputs": [],
   "source": [
    "import pyro\n",
    "import pyro.distributions as pdist\n",
    "import torch\n",
    "\n",
    "# import arviz"
   ]
  },
  {
   "cell_type": "code",
   "execution_count": null,
   "metadata": {
    "id": "WNZIrtQjQH9J"
   },
   "outputs": [],
   "source": [
    "from torch.distributions import constraints\n",
    "\n",
    "\n",
    "class MyDensity(pdist.TorchDistribution):\n",
    "    # The integration interval\n",
    "    support = constraints.interval(torch.tensor(-3), torch.tensor(3))\n",
    "    arg_constraints = {\"start\": support}\n",
    "\n",
    "    def __init__(self, start=torch.tensor(0.0)):\n",
    "        self.start = start\n",
    "        super(pdist.TorchDistribution, self).__init__()\n",
    "\n",
    "    def sample(self, sample_shape=torch.Size()):\n",
    "        return self.start\n",
    "\n",
    "    def log_prob(self, x):\n",
    "        # Return log of the (unnormalized) density\n",
    "        # return torch.exp(-x**2/2) * ((torch.sin(x))**2 + 3 * (torch.cos(x))**2 * (torch.sin(7 * x))**2 + 1)\n",
    "        return -(x**2) / 2 + torch.log(\n",
    "            (\n",
    "                (torch.sin(x)) ** 2\n",
    "                + 3 * (torch.cos(x)) ** 2 * (torch.sin(7 * x)) ** 2\n",
    "                + 1\n",
    "            )\n",
    "        )"
   ]
  },
  {
   "cell_type": "code",
   "execution_count": 34,
   "metadata": {
    "id": "DajD-BVQQbtO"
   },
   "outputs": [],
   "source": [
    "# Specify the model, which in our case is just our MyDensity distribution\n",
    "def model():\n",
    "    x = pyro.sample(\"x\", MyDensity())"
   ]
  },
  {
   "cell_type": "code",
   "execution_count": 35,
   "metadata": {
    "id": "B8J_f9oXQhIR"
   },
   "outputs": [
    {
     "name": "stderr",
     "output_type": "stream",
     "text": [
      "Sample: 100%|██████████| 10500/10500 [00:18, 576.27it/s, step size=1.93e-01, acc. prob=0.734]\n"
     ]
    }
   ],
   "source": [
    "# Run HMC / NUTS\n",
    "# Run HMC / NUTS\n",
    "# Initial parameters for each chain\n",
    "# initial_params = {\n",
    "#     \"x\": torch.tensor([-2.0, 2.0, -1.0, 1.0])  # Shape [num_chains]\n",
    "# }\n",
    "\n",
    "nuts_kernel = pyro.infer.NUTS(model)\n",
    "mcmc = pyro.infer.MCMC(\n",
    "    nuts_kernel,\n",
    "    num_samples=10000,\n",
    "    num_chains=1,\n",
    "    warmup_steps=500,\n",
    "    # initial_params=initial_params,\n",
    ")\n",
    "mcmc.run()"
   ]
  },
  {
   "cell_type": "code",
   "execution_count": 25,
   "metadata": {
    "id": "WnMdA0BXQtld"
   },
   "outputs": [
    {
     "name": "stdout",
     "output_type": "stream",
     "text": [
      "0.8856394290924072\n"
     ]
    }
   ],
   "source": [
    "# Get the samples\n",
    "samples = mcmc.get_samples()[\"x\"]\n",
    "\n",
    "# Calculate E(x^2)\n",
    "print(torch.mean(samples**2).item())"
   ]
  },
  {
   "cell_type": "code",
   "execution_count": null,
   "metadata": {
    "id": "6TSB51sLQ4eb"
   },
   "outputs": [],
   "source": [
    "# TODO use arviz to summarize and investigate: plot\n",
    "data = arviz.from_pyro(mcmc)\n",
    "\n",
    "summary = None"
   ]
  },
  {
   "cell_type": "code",
   "execution_count": null,
   "metadata": {
    "id": "H4Igci_SRLD3"
   },
   "outputs": [],
   "source": [
    "# HMC / NUTS\n",
    "def HMC(n_samples):\n",
    "    # Run HMC / NUTS\n",
    "    nuts_kernel = None\n",
    "    mcmc = None\n",
    "    # Do something with the mcmc object here ...\n",
    "\n",
    "    # TODO Get the samples\n",
    "    samples = None\n",
    "\n",
    "    # TODO: Calculate E(x^2)\n",
    "    expected_val = None\n",
    "    return expected_val"
   ]
  },
  {
   "cell_type": "code",
   "execution_count": null,
   "metadata": {
    "id": "Q4Dl2FmrRuWZ"
   },
   "outputs": [],
   "source": [
    "# TODO make figures w.r.t. different sample sizes, samplers, etc."
   ]
  }
 ],
 "metadata": {
  "colab": {
   "provenance": []
  },
  "kernelspec": {
   "display_name": ".venv",
   "language": "python",
   "name": "python3"
  },
  "language_info": {
   "codemirror_mode": {
    "name": "ipython",
    "version": 3
   },
   "file_extension": ".py",
   "mimetype": "text/x-python",
   "name": "python",
   "nbconvert_exporter": "python",
   "pygments_lexer": "ipython3",
   "version": "3.12.6"
  }
 },
 "nbformat": 4,
 "nbformat_minor": 0
}
