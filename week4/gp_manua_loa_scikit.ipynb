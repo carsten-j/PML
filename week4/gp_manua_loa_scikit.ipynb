{
 "cells": [
  {
   "cell_type": "code",
   "execution_count": 1,
   "id": "initial_id",
   "metadata": {
    "ExecuteTime": {
     "end_time": "2024-12-12T17:21:03.607919Z",
     "start_time": "2024-12-12T17:21:03.605972Z"
    },
    "collapsed": true
   },
   "outputs": [],
   "source": [
    "import matplotlib.pyplot as plt\n",
    "import numpy as np\n",
    "from sklearn.gaussian_process import GaussianProcessRegressor\n",
    "from sklearn.gaussian_process.kernels import RBF, Hyperparameter, Kernel, WhiteKernel\n"
   ]
  },
  {
   "cell_type": "code",
   "execution_count": 2,
   "id": "66eec411",
   "metadata": {},
   "outputs": [],
   "source": [
    "def plot_co2_predictions(\n",
    "    ax, title, X, y_raw, y_mean, y_std, X_predict, y_predict, prediction_mean_gp, var_gp\n",
    "):\n",
    "    ax.plot(X + 1958, y_raw, color=\"blue\", label=\"Training data\")\n",
    "    ax.plot(X_predict + 1958, y_predict, color=\"red\", label=\"Test data\")\n",
    "    yout_m = prediction_mean_gp * y_std + y_mean\n",
    "    yout_v = var_gp * y_std**2\n",
    "    ax.plot(X_predict + 1958, yout_m, color=\"black\", label=\"GP mean prediction\")\n",
    "    ax.plot(X_predict + 1958, yout_m + 1.96 * yout_v**0.5, color=\"grey\")\n",
    "    ax.plot(X_predict + 1958, yout_m - 1.96 * yout_v**0.5, color=\"grey\")\n",
    "    ax.fill_between(\n",
    "        X_predict.reshape(-1) + 1958,\n",
    "        yout_m - 1.96 * np.sqrt(yout_v),\n",
    "        yout_m + 1.96 * np.sqrt(yout_v),\n",
    "        color=\"grey\",\n",
    "        alpha=0.5,\n",
    "        label=\"GP uncertainty\",\n",
    "    )\n",
    "    ax.set_xlabel(\"Year\")\n",
    "    ax.set_ylabel(\"CO2(ppm)\")\n",
    "    ax.legend()\n",
    "    ax.set_title(title)\n",
    "\n",
    "    return ax"
   ]
  },
  {
   "cell_type": "code",
   "execution_count": 3,
   "id": "1e0dcadcb1119f29",
   "metadata": {
    "ExecuteTime": {
     "end_time": "2024-12-12T17:21:05.597266Z",
     "start_time": "2024-12-12T17:21:05.592787Z"
    }
   },
   "outputs": [],
   "source": [
    "# load and normalize Mauna Loa data\n",
    "data = np.genfromtxt(\"./data/co2_mm_mlo.csv\", delimiter=\",\")"
   ]
  },
  {
   "cell_type": "code",
   "execution_count": 4,
   "id": "ede7478746273828",
   "metadata": {
    "ExecuteTime": {
     "end_time": "2024-12-12T17:21:07.208131Z",
     "start_time": "2024-12-12T17:21:07.205929Z"
    }
   },
   "outputs": [],
   "source": [
    "# 10 years of data for learning\n",
    "X = data[:120, 2] - 1958\n",
    "X = X.reshape(-1, 1)\n",
    "y_raw = data[:120, 3]\n",
    "y_mean = np.mean(y_raw)\n",
    "y_std = np.sqrt(np.var(y_raw))\n",
    "y = (y_raw - y_mean) / y_std\n",
    "# the next 5 years for prediction\n",
    "X_predict = data[120:180, 2] - 1958\n",
    "X_predict = X_predict.reshape(-1, 1)\n",
    "y_predict = data[120:180, 3]"
   ]
  },
  {
   "cell_type": "markdown",
   "id": "625a2905",
   "metadata": {},
   "source": [
    "## Gaussian kernel"
   ]
  },
  {
   "cell_type": "code",
   "execution_count": 5,
   "id": "db7a0b68",
   "metadata": {},
   "outputs": [],
   "source": [
    "kernel = 1.0 * RBF(\n",
    "    length_scale=np.sqrt(1 / 4), length_scale_bounds=\"fixed\"\n",
    ") + WhiteKernel(noise_level=1.01, noise_level_bounds=\"fixed\")"
   ]
  },
  {
   "cell_type": "code",
   "execution_count": null,
   "id": "6f9b0eba",
   "metadata": {},
   "outputs": [],
   "source": [
    "gpc = GaussianProcessRegressor(kernel=kernel, random_state=0).fit(X, y)\n",
    "gpc.kernel_"
   ]
  },
  {
   "cell_type": "code",
   "execution_count": null,
   "id": "71e28aa1",
   "metadata": {},
   "outputs": [],
   "source": [
    "gpc.kernel"
   ]
  },
  {
   "cell_type": "code",
   "execution_count": 8,
   "id": "9fb37279",
   "metadata": {},
   "outputs": [],
   "source": [
    "prediction_mean_gp, var_gp = gpc.predict(X_predict, return_std=True)"
   ]
  },
  {
   "cell_type": "markdown",
   "id": "c5ed5924",
   "metadata": {},
   "source": [
    "## Special kernel implemented as a Scikit kernel"
   ]
  },
  {
   "cell_type": "code",
   "execution_count": 9,
   "id": "141c2482",
   "metadata": {},
   "outputs": [],
   "source": [
    "class SpecialKernel(Kernel):\n",
    "    \"\"\"Custom kernel corresponding to the special_kernel function, with support for fixing hyperparameters.\"\"\"\n",
    "\n",
    "    def __init__(self, a=1.0, b=1.0, a_bounds=(1e-5, 1e5), b_bounds=(1e-5, 1e5)):\n",
    "        self.a = a\n",
    "        self.b = b\n",
    "        self.a_bounds = a_bounds\n",
    "        self.b_bounds = b_bounds\n",
    "\n",
    "        # Define hyperparameters for optimization\n",
    "        self.hyperparameter_a = Hyperparameter(\"a\", \"numeric\", self.a_bounds)\n",
    "        self.hyperparameter_b = Hyperparameter(\"b\", \"numeric\", self.b_bounds)\n",
    "\n",
    "    def __call__(self, X, Y=None, eval_gradient=False):\n",
    "        X = np.atleast_2d(X)\n",
    "        if Y is None:\n",
    "            Y = X\n",
    "        else:\n",
    "            Y = np.atleast_2d(Y)\n",
    "\n",
    "        K = (1 + X @ Y.T) ** 2 + self.a * np.multiply.outer(\n",
    "            np.sin(2 * np.pi * X.reshape(-1) + self.b),\n",
    "            np.sin(2 * np.pi * Y.reshape(-1) + self.b),\n",
    "        )\n",
    "\n",
    "        if eval_gradient:\n",
    "            # Initialize an empty list for K_gradients\n",
    "            K_gradients = []\n",
    "\n",
    "            # Compute the gradient w.r.t a if it's not fixed\n",
    "            if self.hyperparameter_a.fixed:\n",
    "                pass  # Do not compute gradient for fixed hyperparameter\n",
    "            else:\n",
    "                K_gradient_a = np.multiply.outer(\n",
    "                    np.sin(2 * np.pi * X.reshape(-1) + self.b),\n",
    "                    np.sin(2 * np.pi * Y.reshape(-1) + self.b),\n",
    "                )\n",
    "                K_gradients.append(K_gradient_a[..., np.newaxis])\n",
    "\n",
    "            # Compute the gradient w.r.t b if it's not fixed\n",
    "            if self.hyperparameter_b.fixed:\n",
    "                pass  # Do not compute gradient for fixed hyperparameter\n",
    "            else:\n",
    "                sin_X_b = np.sin(2 * np.pi * X.reshape(-1) + self.b)\n",
    "                sin_Y_b = np.sin(2 * np.pi * Y.reshape(-1) + self.b)\n",
    "                cos_X_b = np.cos(2 * np.pi * X.reshape(-1) + self.b)\n",
    "                cos_Y_b = np.cos(2 * np.pi * Y.reshape(-1) + self.b)\n",
    "\n",
    "                K_gradient_b = self.a * (\n",
    "                    np.multiply.outer(cos_X_b, sin_Y_b)\n",
    "                    + np.multiply.outer(sin_X_b, cos_Y_b)\n",
    "                )\n",
    "                K_gradients.append(K_gradient_b[..., np.newaxis])\n",
    "\n",
    "            if K_gradients:\n",
    "                K_gradient = np.concatenate(K_gradients, axis=2)\n",
    "            else:\n",
    "                # If no gradients are computed (all hyperparameters are fixed)\n",
    "                K_gradient = np.zeros(K.shape + (0,))\n",
    "\n",
    "            return K, K_gradient\n",
    "        else:\n",
    "            return K\n",
    "\n",
    "    def diag(self, X):\n",
    "        X = np.atleast_2d(X)\n",
    "        K_diag = (1 + np.sum(X * X, axis=1)) ** 2 + self.a * (\n",
    "            np.sin(2 * np.pi * X.reshape(-1) + self.b) ** 2\n",
    "        )\n",
    "        return K_diag\n",
    "\n",
    "    def is_stationary(self):\n",
    "        return False\n",
    "\n",
    "    def __repr__(self):\n",
    "        return f\"{self.__class__.__name__}(a={self.a}, b={self.b})\"\n",
    "\n",
    "    def get_params(self, deep=True):\n",
    "        return {\n",
    "            \"a\": self.a,\n",
    "            \"b\": self.b,\n",
    "            \"a_bounds\": self.a_bounds,\n",
    "            \"b_bounds\": self.b_bounds,\n",
    "        }\n",
    "\n",
    "    def set_params(self, **params):\n",
    "        if \"a\" in params:\n",
    "            self.a = params[\"a\"]\n",
    "        if \"b\" in params:\n",
    "            self.b = params[\"b\"]\n",
    "        if \"a_bounds\" in params:\n",
    "            self.a_bounds = params[\"a_bounds\"]\n",
    "            # Update hyperparameter definition\n",
    "            self.hyperparameter_a = Hyperparameter(\"a\", \"numeric\", self.a_bounds)\n",
    "        if \"b_bounds\" in params:\n",
    "            self.b_bounds = params[\"b_bounds\"]\n",
    "            # Update hyperparameter definition\n",
    "            self.hyperparameter_b = Hyperparameter(\"b\", \"numeric\", self.b_bounds)\n",
    "        return self"
   ]
  },
  {
   "cell_type": "code",
   "execution_count": 10,
   "id": "d5e6e996",
   "metadata": {},
   "outputs": [],
   "source": [
    "kernel2 = SpecialKernel(a=2.0, b=8.00) + WhiteKernel(noise_level=1.01)"
   ]
  },
  {
   "cell_type": "code",
   "execution_count": null,
   "id": "be016880",
   "metadata": {},
   "outputs": [],
   "source": [
    "gpc2 = GaussianProcessRegressor(kernel=kernel2, random_state=0).fit(X, y)\n",
    "gpc2.kernel_"
   ]
  },
  {
   "cell_type": "code",
   "execution_count": 12,
   "id": "75558827",
   "metadata": {},
   "outputs": [],
   "source": [
    "prediction_mean_special_kernel, var_special_kernel = gpc2.predict(\n",
    "    X_predict, return_std=True\n",
    ")"
   ]
  },
  {
   "cell_type": "code",
   "execution_count": null,
   "id": "1c785857",
   "metadata": {},
   "outputs": [],
   "source": [
    "fig, axes = plt.subplots(\n",
    "    ncols=1, nrows=2, sharex=True, sharey=True, dpi=600, figsize=(8, 7)\n",
    ")\n",
    "\n",
    "plot_co2_predictions(\n",
    "    axes[0],\n",
    "    \"Predction of CO2 concentration for \\n1968-73 using a GP with Gaussian kernel\",\n",
    "    X,\n",
    "    y_raw,\n",
    "    y_mean,\n",
    "    y_std,\n",
    "    X_predict,\n",
    "    y_predict,\n",
    "    prediction_mean_gp,\n",
    "    var_gp,\n",
    ")\n",
    "\n",
    "plot_co2_predictions(\n",
    "    axes[1],\n",
    "    \"Predction of CO2 concentration for \\n1968-73 using a GP with Special kernel\",\n",
    "    X,\n",
    "    y_raw,\n",
    "    y_mean,\n",
    "    y_std,\n",
    "    X_predict,\n",
    "    y_predict,\n",
    "    prediction_mean_special_kernel,\n",
    "    var_special_kernel,\n",
    ")\n",
    "\n",
    "plt.tight_layout()\n",
    "plt.show()\n"
   ]
  }
 ],
 "metadata": {
  "kernelspec": {
   "display_name": ".venv",
   "language": "python",
   "name": "python3"
  },
  "language_info": {
   "codemirror_mode": {
    "name": "ipython",
    "version": 3
   },
   "file_extension": ".py",
   "mimetype": "text/x-python",
   "name": "python",
   "nbconvert_exporter": "python",
   "pygments_lexer": "ipython3",
   "version": "3.12.6"
  }
 },
 "nbformat": 4,
 "nbformat_minor": 5
}
